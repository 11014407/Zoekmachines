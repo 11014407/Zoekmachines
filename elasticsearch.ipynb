{
 "cells": [
  {
   "cell_type": "markdown",
   "metadata": {
    "slideshow": {
     "slide_type": "slide"
    }
   },
   "source": [
    "# ElasticSearch\n",
    "\n",
    "* Literature: <https://www.elastic.co/guide/en/elasticsearch/guide/current/index.html>\n",
    "* In this notebook we follow the steps in this guide\n",
    "* Java JDK 8 is strongly recommended, so you may need to upgrade your Java\n",
    "    (on my mac with java 1.6 elasticsearch did not work)"
   ]
  },
  {
   "cell_type": "code",
   "execution_count": 5,
   "metadata": {
    "collapsed": false
   },
   "outputs": [
    {
     "name": "stdout",
     "output_type": "stream",
     "text": [
      "java version \"1.8.0_191\"\r\n",
      "Java(TM) SE Runtime Environment (build 1.8.0_191-b12)\r\n",
      "Java HotSpot(TM) Server VM (build 25.191-b12, mixed mode)\r\n"
     ]
    }
   ],
   "source": [
    "! java -version"
   ]
  },
  {
   "cell_type": "markdown",
   "metadata": {},
   "source": []
  },
  {
   "cell_type": "code",
   "execution_count": 6,
   "metadata": {
    "collapsed": false
   },
   "outputs": [
    {
     "name": "stdout",
     "output_type": "stream",
     "text": [
      "  % Total    % Received % Xferd  Average Speed   Time    Time     Time  Current\n",
      "                                 Dload  Upload   Total   Spent    Left  Speed\n",
      "100 30.3M  100 30.3M    0     0  1926k      0  0:00:16  0:00:16 --:--:-- 2055k\n",
      "Archive:  elasticsearch-1.7.1.zip\n",
      "replace elasticsearch-1.7.1/config/elasticsearch.yml? [y]es, [n]o, [A]ll, [N]one, [r]ename: ^C\n"
     ]
    }
   ],
   "source": [
    "# download elastic search\n",
    "# https://www.elastic.co/guide/en/elasticsearch/guide/current/_installing_elasticsearch.html\n",
    "\n",
    "! curl -L -O https://download.elastic.co/elasticsearch/elasticsearch/elasticsearch-1.7.1.zip\n",
    "! unzip    elasticsearch-1.7.1.zip\n"
   ]
  },
  {
   "cell_type": "code",
   "execution_count": 7,
   "metadata": {
    "collapsed": false
   },
   "outputs": [
    {
     "name": "stdout",
     "output_type": "stream",
     "text": [
      "/home/student/Documents/Zoekmachines/elasticsearch-1.7.1\n",
      "total 8024\n",
      "drwxr-xr-x 2 student student    4096 Jul 29  2015 bin\n",
      "drwxr-xr-x 2 student student    4096 Jul 29  2015 config\n",
      "drwxrwxr-x 3 student student    4096 Oct 25 12:28 data\n",
      "-rw-rw-r-- 1 student student 6781468 Oct 28 23:57 elasticsearch.ipynb\n",
      "drwxrwxr-x 5 student student 1380352 Oct 26 13:35 KVR\n",
      "drwxr-xr-x 3 student student    4096 Jul 29  2015 lib\n",
      "-rw-rw-r-- 1 student student   11358 Mar 23  2015 LICENSE.txt\n",
      "drwxrwxr-x 2 student student    4096 Oct 28 15:08 logs\n",
      "-rw-rw-r-- 1 student student     150 Jun  9  2015 NOTICE.txt\n",
      "drwxrwxr-x 3 student student    4096 Oct 25 12:27 plugins\n",
      "-rw-rw-r-- 1 student student    8700 Jun  9  2015 README.textile\n",
      "^C\n"
     ]
    }
   ],
   "source": [
    "! rm elasticsearch-1.7.1.zip\n",
    "% cd elasticsearch-1.7.1\n",
    "!ls -l"
   ]
  },
  {
   "cell_type": "code",
   "execution_count": 8,
   "metadata": {
    "collapsed": false,
    "scrolled": true
   },
   "outputs": [
    {
     "name": "stdout",
     "output_type": "stream",
     "text": [
      "-> Installing elasticsearch/marvel/latest...\r\n",
      "Failed to install elasticsearch/marvel/latest, reason: plugin directory /home/student/Documents/Zoekmachines/elasticsearch-1.7.1/plugins/marvel already exists. To update the plugin, uninstall it first using --remove elasticsearch/marvel/latest command\r\n"
     ]
    }
   ],
   "source": [
    "# installing marvel\n",
    "! ./bin/plugin -i elasticsearch/marvel/latest\n",
    "! echo 'marvel.agent.enabled: false' >> ./config/elasticsearch.yml"
   ]
  },
  {
   "cell_type": "code",
   "execution_count": 9,
   "metadata": {
    "collapsed": false
   },
   "outputs": [],
   "source": [
    "# running eleastic search\n",
    "# https://www.elastic.co/guide/en/elasticsearch/guide/current/running-elasticsearch.html\n",
    "# In a notebook you should add the -d option otherwise you cannot run other cells\n",
    "\n",
    "!./bin/elasticsearch -d"
   ]
  },
  {
   "cell_type": "code",
   "execution_count": 10,
   "metadata": {
    "collapsed": false
   },
   "outputs": [
    {
     "name": "stdout",
     "output_type": "stream",
     "text": [
      "{\r\n",
      "  \"status\" : 200,\r\n",
      "  \"name\" : \"Deadpool\",\r\n",
      "  \"cluster_name\" : \"elasticsearch\",\r\n",
      "  \"version\" : {\r\n",
      "    \"number\" : \"1.7.1\",\r\n",
      "    \"build_hash\" : \"b88f43fc40b0bcd7f173a1f9ee2e97816de80b19\",\r\n",
      "    \"build_timestamp\" : \"2015-07-29T09:54:16Z\",\r\n",
      "    \"build_snapshot\" : false,\r\n",
      "    \"lucene_version\" : \"4.10.4\"\r\n",
      "  },\r\n",
      "  \"tagline\" : \"You Know, for Search\"\r\n",
      "}\r\n"
     ]
    }
   ],
   "source": [
    "!curl 'http://localhost:9200/?pretty'"
   ]
  },
  {
   "cell_type": "markdown",
   "metadata": {},
   "source": [
    "## Shutting down\n",
    "* <https://www.elastic.co/guide/en/elasticsearch/reference/current/cluster-nodes-shutdown.html>"
   ]
  },
  {
   "cell_type": "code",
   "execution_count": 11,
   "metadata": {
    "collapsed": false
   },
   "outputs": [
    {
     "name": "stdout",
     "output_type": "stream",
     "text": [
      "{\"cluster_name\":\"elasticsearch\",\"nodes\":{\"M9Bpdj9yRtu7wXJ7_oH6dA\":{\"name\":\"Crazy Eight\"},\"E7t3dQmhQVWo1wo2yRzEOA\":{\"name\":\"Deadpool\"}}}"
     ]
    }
   ],
   "source": [
    "!  curl -XPOST 'http://localhost:9200/_shutdown'"
   ]
  },
  {
   "cell_type": "code",
   "execution_count": 12,
   "metadata": {
    "collapsed": false
   },
   "outputs": [
    {
     "name": "stdout",
     "output_type": "stream",
     "text": [
      "{\r\n",
      "  \"status\" : 200,\r\n",
      "  \"name\" : \"Deadpool\",\r\n",
      "  \"cluster_name\" : \"elasticsearch\",\r\n",
      "  \"version\" : {\r\n",
      "    \"number\" : \"1.7.1\",\r\n",
      "    \"build_hash\" : \"b88f43fc40b0bcd7f173a1f9ee2e97816de80b19\",\r\n",
      "    \"build_timestamp\" : \"2015-07-29T09:54:16Z\",\r\n",
      "    \"build_snapshot\" : false,\r\n",
      "    \"lucene_version\" : \"4.10.4\"\r\n",
      "  },\r\n",
      "  \"tagline\" : \"You Know, for Search\"\r\n",
      "}\r\n"
     ]
    }
   ],
   "source": [
    "# Check whether it worked\n",
    "!curl 'http://localhost:9200/?pretty'"
   ]
  },
  {
   "cell_type": "markdown",
   "metadata": {},
   "source": [
    "# We start elastic search again\n",
    "* Now just follow the guide and learn\n",
    "* Instead of using the sense plugin or curl, you can talk to elastic search using the python API"
   ]
  },
  {
   "cell_type": "code",
   "execution_count": 13,
   "metadata": {
    "collapsed": true
   },
   "outputs": [],
   "source": [
    "!./bin/elasticsearch -d"
   ]
  },
  {
   "cell_type": "markdown",
   "metadata": {},
   "source": [
    "# Using the Python elastic search api\n",
    "\n",
    "* Documentation: <https://elasticsearch-py.readthedocs.org/en/master/>"
   ]
  },
  {
   "cell_type": "code",
   "execution_count": 14,
   "metadata": {
    "collapsed": false
   },
   "outputs": [
    {
     "data": {
      "text/plain": [
       "{'_shards': {'failed': 0, 'successful': 10, 'total': 10},\n",
       " 'hits': {'hits': [{'_id': '35',\n",
       "    '_index': 'kamervragen',\n",
       "    '_score': 1.0,\n",
       "    '_source': {'Afkomstig van': '2990001720',\n",
       "     'Bestand': '15Kb',\n",
       "     'Bibliografische_omschrijving': 'Vragen van het lid Wijn (CDA) aan de staatssecretaris van Justitie over de verplichte terugkeer van een Surinaams meisje. (Ingezonden 27 oktober 1999); Antwoord',\n",
       "     'Datum_indiening': '1999-11-02',\n",
       "     'Datum_reaktie': '\\n',\n",
       "     'Indiener': 'Justitie',\n",
       "     'Inhoud': 'Vragen naar aanleiding van de uitzending van het televisieprogramma Netwerk van 24 oktober 1999 over de mogelijke uitzetting van een Surinaams meisje dat op dit moment bij haar vader in Nederland verblijft.',\n",
       "     'Partij vertegenwoordiger': '<persoon partij=\"CDA\">Wijn</persoon>',\n",
       "     'Permalink': '\\nhttp://www.geencommentaar.nl/parlando/index.php?action=doc&filename=KVR10485\\n',\n",
       "     'Rubriek': 'Staats- en bestuursrecht (Vreemdelingenrecht) Welzijn (Jeugdigen) Welzijn (Vreemdelingen en asielzoekers)',\n",
       "     'Trefwoorden': 'Jeugdigen Suriname Vreemdelingen',\n",
       "     'Vindplaats': 'Kamervragen met antwoord 1999-2000, nr. 211, Tweede Kamer',\n",
       "     'antwoord 1': '[Ja',\n",
       "     'antwoord 2': 'Ja, in eerste aanleg en bezwaar is vastgesteld dat de betrokkene niet feitelijk behoort tot het gezin van de vader en haar in verband hiermee een verblijfsvergunning is geweigerd. Dit oordeel is door de rechter in beroep bevestigd',\n",
       "     'antwoord 3': 'Ja',\n",
       "     'antwoord 4': 'In de procedure is de mishandeling namens betrokkene aangevoerd maar niet onderbouwd. De rechter heeft in dit verband opgemerkt dat de gestelde mishandeling door de stiefvader, noch de daardoor veroorzaakte problemen, ten tijde van de beschikking in bezwaar nader waren geconcretiseerd. Ook nadien is zulks niet geschied. Aan de beantwoording van vraag 5 kom ik derhalve niet toe',\n",
       "     'antwoord 5': 'In het algemeen ben ik van oordeel dat er een verantwoordelijkheid ligt bij de overheid om rekening te houden met de bijzondere positie van minderjarigen. Daarin voorziet ook het Nederlandse vreemdelingenbeleid. Terzake van aanvragen van minderjarigen wordt immers ook getoetst aan internationale regelgeving zoals artikel 8 van het Europees Verdrag inzake de Rechten van de Mens (family life)',\n",
       "     'antwoord 6': 'De tweede verblijfsaanvraag om verlening van een vergunning tot verblijf voor medische behandeling is, geheel overeenkomstig de vigerende regelgeving, wegens het ontbreken van een geldige machtiging tot voorlopig verblijf buiten behandeling gesteld. Eerst vorige week is een medische rapportage, die pas op 29 oktober 1999 door een psychiater is opgesteld, overgelegd. In deze rapportage wordt gesteld dat betrokkene psychiatrische behandeling behoeft. Gelet op deze zeer recent ontvangen informatie, over het bestaan waarvan ik door niemand die de belangen van de betrokkene behartigde tevoren ben geÃ¯nformeerd, heb ik besloten dat betrokkene een nieuwe aanvraag om verlening van een vergunning tot verblijf, mag indienen en dat zij wordt vrijgesteld van het MVV-vereiste op grond van de vrijstelling Â«medisch noodzakelijke zorgÂ». Eerst nadat het Bureau Medische Advisering bij het ministerie een advies heeft uitgebracht, zal een beslissing worden genomen over de verblijfsaanvraag. Betrokkene mag overigens deze beslissing in Nederland afwachten. Ik teken hierbij aan dat zonder dit nieuwe feit een dergelijk besluit niet genomen had kunnen worden. ]',\n",
       "     'vraag 1': 'Hebt u kennisgenomen van de uitzending van Netwerk van zondag 24 oktober jl. over de mogelijke uitzetting van een Surinaams meisje dat op dit moment bij haar vader in Nederland verblijft? ',\n",
       "     'vraag 2': 'Is er besloten dat zij niet in aanmerking komt voor gezinshereniging? ',\n",
       "     'vraag 3': 'Is het waar dat de in Nederland wonende vader de voogdij over het meisje heeft en dat deze beslissing van een Surinaamse rechtbank in Nederland wordt erkend? ',\n",
       "     'vraag 4': 'Is bij u bekend dat het meisje aangeeft door haar stiefvader in Suriname te zijn mishandeld, terwijl zij naar hem zal moeten terugkeren? ',\n",
       "     'vraag 5': 'Deelt u de mening dat er daarmee voor haar in Suriname geen toekomst is weggelegd? ',\n",
       "     'vraag 6': 'Deelt u de mening dat de overheid waar het kinderen betreft een veilige en zorgzame thuissituatie moet kunnen bevorderen? ',\n",
       "     'vraag 7': 'Bent u bereid deze zaak in overweging te nemen vanuit de bij u berustende discretionaire bevoegdheid? '},\n",
       "    '_type': 'kamervraag'},\n",
       "   {'_id': '59',\n",
       "    '_index': 'kamervragen',\n",
       "    '_score': 1.0,\n",
       "    '_source': {'Afkomstig van': '2989918290',\n",
       "     'Bestand': '17Kb',\n",
       "     'Bibliografische_omschrijving': 'Vragen van het lid Kant aan de minister van Volksgezondheid, Welzijn en Sport over foliumzuur. (Ingezonden 14 september 1999); Antwoord',\n",
       "     'Datum_indiening': '1999-10-21',\n",
       "     'Datum_reaktie': '\\n',\n",
       "     'Indiener': 'Volksgezondheid, Welzijn en Sport',\n",
       "     'Inhoud': 'Vragen over het plaatsen van foliumzuur op de lijst van zelfzorgmiddelen die niet meer automatisch worden vergoed en het mogelijke gevolg hiervan dat vooral vrouwen met een lage sociaal-economische status geen foliumzuur meer zullen gaan slikken. Deze vragen dienen ter aanvulling op eerdere vragen van het lid Hermann, ingezonden 9 september 1999 (2989918080).',\n",
       "     'Partij vertegenwoordiger': '<persoon partij=\"SP\">Kant</persoon>',\n",
       "     'Permalink': '\\nhttp://www.geencommentaar.nl/parlando/index.php?action=doc&filename=KVR10425\\n',\n",
       "     'Rubriek': 'Gezondheidszorg (Geneesmiddelen) Gezondheidszorg (Zorgverzekeringen)',\n",
       "     'Trefwoorden': 'Geneesmiddelen Ziekenfondsverzekering Zwangerschap',\n",
       "     'Vindplaats': 'Kamervragen met antwoord 1999-2000, nr. 155, Tweede Kamer',\n",
       "     'antwoord 1': '[Ja',\n",
       "     'antwoord 2': 'Ja',\n",
       "     'antwoord 3': 'Foliumzuur blijft vergoed wanneer het wordt voorgeschreven ter voorkoming van neuraalbuisdefecten, met uitzondering van de eerste 15 dagen. De arts moet hiertoe op het recept de vermelding Â«c.g.Â» (chronisch gebruik) aangeven. Foliumzuur valt onder de regeling die bepaalt dat vanaf 1 september een aantal zelfzorggeneesmiddelen uitsluitend wordt vergoed wanneer sprake is van chronisch gebruik, dat wil zeggen bij gebruik van meer dan drie maanden per jaar. Een en ander wil zeggen dat slechts de kosten van de eerste 15 dagen voor rekening van de vrouw met kinderwens komen, hetgeen neerkomt op een bedrag van enkele guldens (ongeveer f 3,00). Daar dit bedrag mijns inziens geen financiÃ«le drempel opwerpt, ben ik niet van mening dat deze maatregel in contrast staat met de foliumzuurcampagne',\n",
       "     'antwoord 4': 'Doel van de landelijke campagne was de bekendheid van het onderwerp te vergroten bij intermediairen en bij vrouwen met een zwangerschapswens en het onderwerp te integreren in de reguliere voorlichting rondom zwangerschap. Hierbij is de campagne zodanig vorm gegeven dat deze ook groepen met een lage sociaal-economische status zou bereiken. Naast de landelijke campagne is er een regionaal/lokale campagne gevoerd door 2 GGD-en met daarin onder meer in het bijzonder aandacht voor vrouwen met een lage sociaal-economische status omdat deze in het algemeen moeilijker zijn te bereiken en omdat uit vooronderzoek was gebleken dat zij minder bekend zijn met het advies',\n",
       "     'antwoord 5': 'Ja',\n",
       "     'antwoord 6': 'lk ben niet bekend met het onderzoek waaruit deze gegevens zijn voortgekomen. Het verschil tussen deze groepen vrouwen kan mogelijk worden verklaard met de geringere bekendheid van lager opgeleide vrouwen met het preventieve gebruik van foliumzuur; bij deze vrouwen zal de arts het gebruik dus vaker initiÃ«ren. Daar foliumzuur â€“ met uitzondering van het eerste recept voor maximaal 15 dagen â€“ vergoed blijft, voorzie ik geen financiÃ«le problemen ten aanzien van deze groep vrouwen',\n",
       "     'antwoord 7': 'Ik onderschrijf deze stelling niet, aangezien mijns inziens het lage bedrag dat gemoeid is met het eerste recept voor maximaal 15 dagen door vrouwen uit alle sociaal-economische geledingen van de bevolking opgebracht kan worden',\n",
       "     'antwoord 8': 'Het bestrijden van sociaal-economische gezondheidsverschillen blijft een van de speerpunten van mijn beleid gericht op preventie. Dit betekent onder meer dat groepen met een lage sociaal-economische status bijzondere aandacht krijgen in de diverse onderdelen van mijn beleid, in het bijzonder waar het de diverse aspecten van de leefstijl betreft. In dit licht zie ik het opwerpen van een geringe financiÃ«le drempel niet als een verkeerd signaal',\n",
       "     'antwoord 9': 'De Â«15 dagen-regelingÂ» geldt voor alle zelfzorggeneesmiddelen die bij chronisch gebruik vergoed blijven. De regeling is bedoeld om te voorkomen dat een zelfzorggeneesmiddel al te lichtvaardig chronisch wordt voorgeschreven. Het merendeel van deze geneesmiddelen kent namelijk naast een chronische indicatie ook een indicatie waarbij kortdurend gebruik aangewezen is. Foliumzuur is een van de weinige geneesmiddelen uit deze groep die uitsluitend een chronische indicatie kennen, waardoor het ongepast chronisch voorschrijven niet zal voorkomen. Echter, gezien het lage bedrag dat met het eerste recept gemoeid is, zie ik geen reden een uitzondering te maken voor foliumzuur. ]',\n",
       "     'vraag 1': 'Herinnert u zich mijn eerdere vragen over het belang van een drempelloze toegankelijkheid van preventieve middelen zoals foliumzuur? ',\n",
       "     'vraag 2': 'Hebt u inmiddels kennis genomen van de mening van prof. De Jong-Van den Berg van de Rijks Universiteit Groningen en drs. De Walle van EUROCAT dat foliumzuur automatisch vergoed dient te blijven? ',\n",
       "     'vraag 3': 'Wat is uw reactie op hun uitspraak dat het plaatsen van foliumzuur op de lijst van zelfzorgmiddelen die niet meer automatisch worden vergoed in schril contrast staat met de succesvolle foliumzuurcampagne geÃ¯nitieerd door de vorige Paarse coalitie? ',\n",
       "     'vraag 4': 'Is het u bekend dat in deze campagne extra aandacht is besteed aan vrouwen met een lage sociaal-economische status omdat uit onderzoek is gebleken dat neuraalbuisdefecten relatief vaker voorkomen bij deze groep vrouwen? ',\n",
       "     'vraag 5': 'Is het u bekend dat het gebruik van foliumzuur onder lager opgeleide vrouwen in de aanbevolen periode beduidend lager is dan onder hoger opgeleide vrouwen namelijk 29% tegen 45%? ',\n",
       "     'vraag 6': 'Is het u bovendien bekend dat lager opgeleide vrouwen foliumzuur veel vaker op recept krijgen dan hoger opgeleide vrouwen namelijk 50% tegen 19%? ',\n",
       "     'vraag 7': 'Onderschrijft u de stelling van genoemde deskundigen dat het effect van het niet meer automatisch vergoeden van foliumzuur kan zijn dat minder vrouwen en dan vooral vrouwen met een lage sociaal-economische status, foliumzuur gaan slikken? ',\n",
       "     'vraag 8': 'Bent u van mening dat aangezien de bestrijding van sociaal-economische gezondheidsverschillen een van de prioriteiten van uw beleid is, het gebruik van preventieve zorg met name onder de groep mensen met een lage sociaal-economische status gestimuleerd dient te worden? Zo ja, is het invoeren van een financiÃ«le drempel, hoe gering dan ook, hierbij dan niet het verkeerde signaal? ',\n",
       "     'vraag 9': 'Bent u bereid uw beleid bij te stellen en foliumzuur weer geheel te vergoeden? Zo nee, kunt u uitleggen hoe de bedoeling van de maatregel namelijk Â«ertoe bijdragen dat niet te lichtvaardig wordt besloten tot een chronische indicatie op receptÂ» van toepassing is op dit middel? '},\n",
       "    '_type': 'kamervraag'},\n",
       "   {'_id': '97',\n",
       "    '_index': 'kamervragen',\n",
       "    '_score': 1.0,\n",
       "    '_source': {'Afkomstig van': 'Sociale Zaken en Werkgelegenheid',\n",
       "     'Bestand': '17Kb',\n",
       "     'Bibliografische_omschrijving': 'Vreeman (PvdA) over de invoering van TZ/ARBO (Ingezonden 20 december 1994); Antwoord',\n",
       "     'Datum_indiening': '1994-12-20',\n",
       "     'Datum_reaktie': '1995-01-27',\n",
       "     'Indiener': '<persoon partij=\"PvdA\">Vreeman</persoon>',\n",
       "     'Inhoud': 'Vragen betreffen ervaringen met invoering TZ/ARBO in industriÃ«le bedrijven, ontduiking verplichting voorlichtings- en onderrichtsplan Arbowet, privacy-aspecten, procedurevoorschriften en de beroepsmogelijkheden van de OR.',\n",
       "     'Partij vertegenwoordiger': '\\n',\n",
       "     'Permalink': '\\nhttp://www.geencommentaar.nl/parlando/index.php?action=doc&filename=KVR1042\\n',\n",
       "     'Rubriek': 'Volkshuisvesting (Woonruimteverdeling) Bedrijfsleven en industrie (Ondernemingen) Arbeid (Arbeidsomstandigheden)',\n",
       "     'Trefwoorden': 'Privacy Arbeidsomstandigheden Ondernemingsraden Werkgevers Ziekteverzuim',\n",
       "     'Vindplaats': 'Kamervragen met antwoord 1994-1995, nr. 411, Tweede Kamer',\n",
       "     'antwoord 1': '[Ja',\n",
       "     'antwoord 2': 'Anders dan de vraagstelling suggereert, bestaat er geen wettelijke verplichting tot het hebben van een voorlichtings- en onderrichtsplan. Wel is de werkgever op grond van artikel 6 van de Arbeidsomstandighedenwet verplicht om voorlichting en onderricht te verstrekken. De inspectiedienst SZW controleert actief of deze verplichting door de werkgever wordt nageleefd. Zo zijn in 1993 door deze dienst op dit terrein 1220 afspraken gemaakt met bedrijven en 61 waarschuwingen gegeven. Voorts is 2 maal het werk stilgelegd omdat door onvoldoende onderricht een acuut gevaarlijke situatie ontstond',\n",
       "     'antwoord 3': 'De Wet op de persoonsregistraties â€“ waarop waarschijnlijk wordt gedoeld als wordt gevraagd naar de eventuele strijdigheid met de wet op de privacy â€“ bevat regels voor het vastleggen van gegevens in persoonsregistraties. Uitgangspunt is dat de persoon van wie gegevens worden geregistreerd weet welke gegevens noodzakelijk voor welk doel worden geregistreerd. Het recht op privacy houdt bij registratie in dat een ieder vrij is te bepalen welke gegevens van hem worden verwerkt, tenzij een wet daartoe verplicht. Het melden van de ziekte van de werknemer bij de directe chef â€“ een procedure die overigens niet wettelijk is voorgeschreven en die evenmin wordt bestreken door de Wet op de persoonsregistraties â€“ heeft als oogmerk dat de leidinggevende aldus direct wordt geconfronteerd met de ziekte en waar mogelijk de relatie kan leggen tussen de oorzaak van de ziekte, de arbeidsomstandigheden en het gevoerde ziekteverzuimbeleid. Dat bij een ziektemelding privacy-aspecten aan de orde zijn, is steeds onderkend. Tegenover de wettelijke opdracht van de werkgever om een goed ziekteverzuimbeleid te voeren staat het grondwettelijk recht van de werknemer van de eerbiediging van diens persoonlijke levenssfeer. Arbodiensten vervullen daarbij een cruciale rol. De zieke werknemer kan met de aldaar werkzame arts, vanwege diens geheimhoudingsplicht, in alle vertrouwelijkheid de aard van zijn ziekte bespreken. De arbodienst kan vervolgens bij de werkgever de eventuele relatie tussen de ziekte en de arbeidsomstandigheden aan de orde stellen, zonder dat daarbij de persoonlijke gegevens van de werknemer onderwerp van bespreking zijn. Als de werknemer daar geen bezwaar tegen heeft, kan de arbodienst daarbij persoonlijke gegevens aan de orde stellen. En uiteraard kan de werknemer zelf, los van de relatie met de arbodienst, steeds alle informatie over zijn ziekte bij de werkgever bekend maken. In een aantal gevallen is de werknemer daar zelf ook het meest bij gediend, denk bijvoorbeeld aan een werknemer die last heeft van allergieeÂ¨n voor bepaalde stoffen of produkten bij diens werkgever. Het doen van die mededeling aan de werkgever kan leiden tot een reactie van de werkgever die de oorzaak van de ziekte onmiddellijk wegneemt. De bescherming van de persoonlijke levenssfeer van de werknemer zal dan ook met name spelen indien sprake is van ziekten of aandoeningen die buiten de sfeer van het werk liggen en die een zeer gevoelig karakter kunnen hebben, zoals het lijden aan een terminale ziekte. De procedure, dat de werknemer zich bij zijn chef moet ziekmelden en daarbij uitleg moet geven over zijn ziekte betekent derhalve niet dat de werknemer daarmee verplicht wordt alles over zijn ziekte te melden. Diens privacy wordt in die zin dan ook niet aangetast. Dat een dergelijke procedure wordt gevolgd vloeit logisch voort uit de verantwoordelijkheidsverdeling tussen werkgever en werknemers. Ik ben derhalve niet van plan ten aanzien van dit onderwerp maatregelen te treffen',\n",
       "     'antwoord 4': 'Op dit moment is in de Ziektewet een procedure voor een second opinion voor zowel werknemer als werkgever geregeld. Wanneer twijfel is bij deze partijen of er sprake is van ziekte kan bij de bedrijfsvereniging een second opinion worden gevraagd. Bij uitvoering van het voornemen tot privatisering van de Ziektewet is het mijn bedoeling om opnieuw een procedure voor second opinion in de wet vast te leggen',\n",
       "     'antwoord 5': 'I-SZW (voorheen de Arbeidsinspectie) kan een aanwijzing geven met betrekking tot de inhoud en organisatie van de deskundige ondersteuning van de werkgever door de arbodienst en aldus aangeven hoe de Arbeidsomstandighedenwet op een goede manier wordt uitgevoerd. Artikel 27, derde lid, van de Wet op de ondernemingsraden bepaalt onder meer dat de ondernemingsraad geen instemmingsrecht heeft indien door de Arbeidsinspectie (in casu I-SZW) een aanwijzing kan worden gegeven. Indien de inhoud van het contract met de arbodienst naar het oordeel van de ondernemingsraad niet overeenstemt met de wettelijke normen, of indien daarover geen overleg is gevoerd, betekent dat dat de ondernemingsraad de I-SZW kan inschakelen en formeel kan verzoeken om een aanwijzing te geven. De beroepsmogelijkheden van de ondernemingsraad ten aanzien van de op dat verzoek volgende beslissing van de I-SZW zijn: bezwaar bij de minister van Sociale Zaken en Werkgelegenheid, beroep bij de arrondissementsrechtbank (sector bestuursrecht) en beroep in laatste instantie bij de Afdeling bestuursrechtspraak van de Raad van State. Op deze beroepsmogelijkheid ten aanzien van de inhoud van het contract met de arbodienst is een uitzondering gemaakt. In de wet is de mogelijkheid van de Arbeidsinspectie (I-SZW) om een aanwijzing te geven ten aanzien van de inhoud van het ziekteverzuimbeleid uitdrukkelijk uitgezonderd aangezien de inhoud van het ziekteverzuimbeleid wordt beschouwd als een verantwoordelijkheid van werkgever en werknemers. Nu I-SZW ten aanzien van dat onderwerp geen aanwijzing kan geven, betekent dat dat de ondernemingsraad instemmingsrecht heeft ten aanzien van de inhoud van het ziekteverzuimbeleid, en hetgeen daaromtrent is bepaald in het contract met de arbodienst. Het beroep ten aanzien van dat onderwerp volgt dan de weg van de bemiddeling door de bedrijfscommissie, beroep bij achtereenvolgens kantonrechter, arrondissementsrechtbank en Hoge Raad. Waar het gaat om verplichtingen die in overleg tussen werkgever en werknemer hun uitwerking moeten vinden wordt door I-SZW een terughoudend uitvoeringsbeleid gevolgd, hetgeen wil zeggen dat niet actief wordt toegezien op de naleving van deze voorschriften. Deze terughoudende positie is ten aanzien van de invulling van het ziekteverzuimbeleid (artikel 4a, van de Arbeidsomstandighedenwet) geformaliseerd. ]',\n",
       "     'vraag 1': 'Kent u de resultaten van de enqueË†te over de ervaringen met de invoering van TZ/ARBO, gedaan in 80 industrieÂ¨le bedrijven voor de Industriebond FNV, district Utrecht en â€™t Gooi, in het district Utrecht? ',\n",
       "     'vraag 2': 'Wat bent u van plan te doen aan de massale ontduiking van artikel 6 van de Arbowet (de verplichting tot het hebben van een voorlichtings- en onderrichtsplan? ',\n",
       "     'vraag 3': 'Is de procedure (melding bij en tekst en uitleg aan directe chef) die in veel gevallen gevolgd wordt bij ziekmelding niet in strijd met de wet op de privacy? Zo ja, wat bent u voornemens daaraan te doen? Zo neen, bent u desalniettemin van plan maatregelen te treffen? ',\n",
       "     'vraag 4': 'Zal er een procedure bij verschil van mening of zgn. second opinion bij ziekte vastgelegd worden in de Arbowet of Ziektewet? Zo ja, hoe? Zo neen, waarom niet? ',\n",
       "     'vraag 5': 'Wat zijn de beroepsmogelijkheden voor de Ondernemingsraad indien deze geen instemmingsmogelijkheid heeft gekregen inzake het contract met de ARBO-dienst? Wat is daarbij de gedragsregel van de Arbeidsinspectie (Dienst I-SZW)? '},\n",
       "    '_type': 'kamervraag'},\n",
       "   {'_id': '124',\n",
       "    '_index': 'kamervragen',\n",
       "    '_score': 1.0,\n",
       "    '_source': {'Afkomstig van': '2000109940',\n",
       "     'Bestand': '14Kb',\n",
       "     'Bibliografische_omschrijving': 'Vragen van het lid Van Dijke (ChristenUnie) aan de staatssecretaris van FinanciÃ«n over het verhoogd politie- en douanetoezicht. (Ingezonden 25 april 2001); Antwoord',\n",
       "     'Datum_indiening': '2001-05-18',\n",
       "     'Datum_reaktie': '\\n',\n",
       "     'Indiener': 'FinanciÃ«n (FIN)',\n",
       "     'Inhoud': 'Vragen over een toename van gesignaleerde overtredingen zoals wapenbezit en drugstransporten aan de Belgisch-Nederlandse grens, door een verhoogd toezicht in verband met de MKZ-crisis.',\n",
       "     'Partij vertegenwoordiger': '<persoon partij=\"ChristenUnie\">Van Dijke</persoon>',\n",
       "     'Permalink': '\\nhttp://www.geencommentaar.nl/parlando/index.php?action=doc&filename=KVR13704\\n',\n",
       "     'Rubriek': 'Criminaliteit en openbare orde (Criminaliteitsbestrijding en -preventie) Criminaliteit en openbare orde (Drugsbestrijding) Handel en economie (Douane) Veeteelt (Veeziekten)',\n",
       "     'Trefwoorden': 'BelgiÃ« Douane Drugsbestrijding Mond- en klauwzeer Wapens',\n",
       "     'Vindplaats': 'Kamervragen met antwoord 2000-2001, nr. 1210, Tweede Kamer',\n",
       "     'antwoord 1': '[Ja',\n",
       "     'antwoord 2': 'De Douane heeft geen toename geconstateerd van strafbare feiten zoals verboden wapenbezit en drugstransporten. Wel heeft de Douane vele duizenden kiloâ€™s aan producten ingenomen die vanwege de mond- en klauwzeercrisis niet mochten worden in- of uitgevoerd',\n",
       "     'antwoord 3': 'In de wegberm heeft de Douane (gegevens periode 31 maartâ€“3 mei) op verschillende plaatsen in totaal ruim 10 kilo softdrugs aangetroffen waarvan moet worden aangenomen dat deze door de bezitters daarvan bij het naderen van controleposten bij de Nederlands-Belgische grens zijn weggegooid. Voorzover mij bekend zijn door de politie evenmin grote hoeveelheden drugs in de wegberm aangetroffen',\n",
       "     'antwoord 4': 'Tussen de Nederlandse Douane en de Belgische Federale politie, die in dit verband de Belgische Douane aanstuurt, is afstemming geweest over werkzaamheden die verband houden met de bestrijding van de mond- en klauwzeercrisis. Deze afstemming moet worden gezien in het licht van de bijzondere situatie. Daarbij is geen specifieke aandacht besteed aan eventuele drugsvangsten gedurende de mond- en klauwzeercontroles aan de binnengrens. Gelet op de hiervoor genoemde geringe hoeveelheid aangetroffen softdrugs was hiertoe ook geen aanleiding',\n",
       "     'antwoord 5': 'De primaire taak van de Nederlandse Douane is de bewaking van de buitengrens van de Europese Unie. Daarnaast voert de Douane in het kader van het Mobiel Toezicht Goederen steekproefsgewijs (accijns)controles elders in Nederland uit, waarbij het accent ligt in de grensstreken. In uitzonderingsgevallen kan de Douane tijdelijk een bijdrage leveren aan de bestrijding van calamiteiten die buiten zijn dagelijks werkterrein liggen. Bij de MKZ-crisis heeft de Douane controles uitgevoerd aan de binnengrens om verboden invoer en uitvoer van dieren en dierproducten tegen te gaan. Zodra de MKZ-crisis bedwongen is, zal de Douane de aandacht weer volledig op zijn primaire taken richten. Een intensivering van de controles aan de binnengrens van de Europese Unie behoort hier niet toe. De Douane maakt geen deel uit van het A-team op de A-16, aangezien dit team zich specifiek richt op controles in het binnenland. ]',\n",
       "     'vraag 1': 'Is het u bekend dat er als gevolg van de MKZ-crisis aan de Belgische zijde van de Belgisch-Nederlandse grens een verhoogd politie- en douanetoezicht is? ',\n",
       "     'vraag 2': 'Is het u bekend of er als gevolg van deze verscherpte controles sprake is van een toename van gesignaleerde overtredingen, bijvoorbeeld verboden wapenbezit of drugstransporten? ',\n",
       "     'vraag 3': 'Kunt u meedelen hoeveel drugs Nederlandse douanemensen hebben aangetroffen (bijvoorbeeld in wegbermen) waarvan moet worden aangenomen dat runners deze hebben weggegooid bij het naderen van controleposten in verband met MKZ? ',\n",
       "     'vraag 4': 'Hebben Belgische autoriteiten reeds contact met Nederland opgenomen in verband met de meer dan gemiddelde scores van douane en politie ten aanzien van xtc en harddrugs en indien dat niet het geval is, bent u dan bereid zelf dit contact te leggen om helder te krijgen of er sprake is van een toename van gesignaleerde overtredingen? ',\n",
       "     'vraag 5': 'Welke beleidsconclusies trekt u uit de bevindingen uit vraag 4? Zal dit bijvoorbeeld leiden tot verscherpte controles op drugsrunners aan de Belgisch-Nederlandse grens? Kunt u tevens meedelen of dit tot personele versterking van de douane moet leiden (bovenop de reeds toegezegde versterking), dan wel het nieuw gevormde A-team op de A-16? '},\n",
       "    '_type': 'kamervraag'},\n",
       "   {'_id': '131',\n",
       "    '_index': 'kamervragen',\n",
       "    '_score': 1.0,\n",
       "    '_source': {'Afkomstig van': '2010214740',\n",
       "     'Bestand': '14Kb',\n",
       "     'Bibliografische_omschrijving': 'Vragen van het lid Crone (PvdA) aan de minister-president en de minister van Economische Zaken over illegale prijsafspraken in de CD-branche. (Ingezonden 2 september 2002); Antwoord',\n",
       "     'Datum_indiening': '2002-09-23',\n",
       "     'Datum_reaktie': '\\n',\n",
       "     'Indiener': 'Algemene Zaken (AZ)',\n",
       "     'Inhoud': 'Vragen over het meewegen van de factor integriteit bij de kabinetsformatie, in verband met de vroegere werkzaamheden van minister Heinsbroek (EZ) als topman van Arcade Music Company, dat betrokken zou zijn geweest bij illegale prijsafspraken in de CD-branche.',\n",
       "     'Partij vertegenwoordiger': '<persoon partij=\"PvdA\">Crone</persoon>',\n",
       "     'Permalink': '\\nhttp://www.geencommentaar.nl/parlando/index.php?action=doc&filename=KVR16323\\n',\n",
       "     'Rubriek': 'Bedrijfsleven en industrie (Industrie) Handel en economie (Mededinging) Staats- en bestuursrecht (Regering)',\n",
       "     'Trefwoorden': 'Industrie Kabinetsformatie Mededinging Ministers Muziek',\n",
       "     'Vindplaats': 'Kamervragen met antwoord 2002-2003, nr. 37, Tweede Kamer',\n",
       "     'antwoord 1': '[Tijdens de kabinetsformatie wordt ondermeer van iedere kandidaatbewindspersoon nagegaan of hij/zij vermeld staat in het justitioneel documentatieregister. Daarmee bestaat inzage in eventuele strafrechtelijke veroordelingen, transacties of sepots ten aanzien van de betrokkene. (Uiteraard binnen de tijdsgrenzen zoals bepaald in de Wet op de JustitiÃ«le Documentatie). In het gesprek van de formateur met kandidaatsbewindspersonen wordt aan het slot de algemene vraag gesteld of er overigens gegevens met betrekking tot de kandidaat zijn die bij eventueel bekend worden hem/haar, danwel het kabinet in een gecompliceerde positie zouden kunnen brengen. Hiermee bestaat â€“ met inachtneming van ieders verantwoordelijkheid â€“ een sluitend stelsel',\n",
       "     'antwoord 2': 'Bedrijven dienen de wettelijke verplichte archivering na te leven om zich te kunnen verantwoorden. Informatievoorziening aan de samenleving over het ondernemershandelen, breder dan waartoe de wet verplicht, is echter van toenemend belang. Bedrijven dienen telkens zelf af te wegen welke, in eerste instantie bedrijfsinterne, informatie daartoe bewaard dient te blijven of welke interne gedragscode ze daarvoor opstellen. De beslissing daarover ligt bij de bedrijven zelf. ]',\n",
       "     'vraag 1': 'Wordt tijdens de formatie aan een beoogd bewindspersoon gevraagd of hij/zij direct of indirect (bijvoorbeeld als verantwoordelijk directeur) betrokken is of is geweest bij enig strafrechtelijk of ander onderzoek van opsporingsautoriteiten en/of enige veroordeling of schikking, met name op beleidsterreinen waar betrokkene beleidsverantwoordelijkheden zal gaan dragen? ',\n",
       "     'vraag 2': 'Zo ja, deelt u dan de mening dat het, gelet op de door u zo sterk benadrukte geloofwaardigheid van de politiek, een onderdeel van de beoordeling van de politieke geschiktheid van een bewindspersoon moet zijn of betrokkene nog wel overtuigend kan opereren ten opzichte van burgers of bedrijven? Zullen burgers anders niet snel een bewindspersoon een bepaald gedrag kunnen tegenwerpen? Kan een bewindspersoon zelf keihard aanpakken wat hij/zij zelf deed? ',\n",
       "     'vraag 3': 'Zo nee, welke redenen zijn er om dergelijke vragen in het vervolg geen onderdeel te laten uitmaken van de gesprekken tijdens formatie? ',\n",
       "     'vraag 4': 'Vindt u het juist dat een bedrijf systematisch notulen en verslagleggingen van vergaderingen vernietigt omdat van de bedrijfsstrategie zo weinig mogelijk op papier mag komen? Of is de opvatting van het kabinet dat bedrijven niet alleen moeten volstaan met de strikt wettelijk verplichte archivering, maar dat van bedrijven in de verantwoordelijke samenleving mag worden verwacht dat zij meer bewaren, zodat zij zich in veel bredere zin kunnen en willen verantwoorden tegenover maatschappelijke actoren en niet alleen de overheid (een rechtsgemeenschap is een waardengemeenschap)? '},\n",
       "    '_type': 'kamervraag'},\n",
       "   {'_id': '136',\n",
       "    '_index': 'kamervragen',\n",
       "    '_score': 1.0,\n",
       "    '_source': {'Afkomstig van': 'Defensie (DEF)',\n",
       "     'Bestand': '13Kb',\n",
       "     'Bibliografische_omschrijving': 'Vragen van het lid Albayrak (PvdA) aan de minister van Defensie over de voorgenomen verhuizing van de Marine Luchtvaartdienst. (Ingezonden 15 oktober 2002); Antwoord',\n",
       "     'Datum_indiening': '2002-10-15',\n",
       "     'Datum_reaktie': '2002-11-05',\n",
       "     'Indiener': '<persoon partij=\"PvdA\">Albayrak</persoon>',\n",
       "     'Inhoud': 'Veiligheidsbeleid en defensie (Marine) Verkeer, vervoer en waterstaat (Luchtvaartterreinen)',\n",
       "     'Partij vertegenwoordiger': '\\n',\n",
       "     'Permalink': '\\nhttp://www.geencommentaar.nl/parlando/index.php?action=doc&filename=KVR16610\\n',\n",
       "     'Rubriek': 'Marine Militaire luchthavens',\n",
       "     'Trefwoorden': 'Kamervragen met antwoord 2002-2003, nr. 294, Tweede Kamer',\n",
       "     'Vindplaats': '2020301730',\n",
       "     'antwoord 1': '[De besluitvorming rond het al dan niet sluiten van het Marine Vliegkamp Valkenburg (MVKV) vindt plaats in het kader van de vijfde Nota Ruimtelijke Ordening. Zoals de Staatssecretaris van Defensie in zijn brief van 30 september jl. (nr. 28114 2) heeft gemeld, wordt deze nota momenteel door het kabinet heroverwogen',\n",
       "     'antwoord 2': 'De eventuele verhuizing van de Orion maritieme patrouillevliegtuigen naar MVK De Kooy en het opsplitsen van de geluidszone van het MVK De Kooy in een militaire en een civiele geluidsruimte zijn twee trajecten die los van elkaar staan. De opsplitsing van de militaire en civiele geluidsruimte wordt geregeld in de nieuwe Wet Luchtvaart. De huidige geluidszone (vastgesteld in 1992) zal dan onder te verdelen zijn in een militaire en een civiele geluidsruimte. Indien de Orion maritieme patrouillevliegtuigen op MVK De Kooy worden gestationeerd, zal een PKB-procedure moeten worden doorlopen en zal de aanwijzing van het luchtvaartterrein moeten worden gewijzigd. Bij een dergelijke wijziging zal een nieuwe geluidszone moeten worden vastgesteld, rekening houdend met de extra invoergegevens voortvloeiend uit een nieuwe belegging. De nieuwe geluidszone zal dan bestaan uit de totale militaire vliegbehoefte (marinehelikopters, Orion patrouillevliegtuigen, bondgenootschappelijk gebruik, etc.) plus de civiele behoefte. Wat de civiele behoefte is, zal duidelijk worden in de PKB-discussie. ]',\n",
       "     'vraag 1': 'Wat is de stand van zaken met betrekking tot de voorgenomen verhuizing van de Marine Luchtvaartdienst naar het marinevliegkamp De Kooy (MVK de Kooy)? ',\n",
       "     'vraag 2': 'Wordt bij dit verhuisproject rekening gehouden met een eventuele toekomstige opsplitsing van de geluidszone van het MVK De Kooy in een militair en een civiel gedeelte? ',\n",
       "     'vraag 3': 'Zal de huidige geluidszone van het MVK De Kooy, zoals vastgesteld in 1992, als uitgangspunt dienen bij een dergelijke opsplitsing van de geluidszone, met dien verstande dat daarmee de maximum grens is aangegeven voor de som van de militaire en de civiele geluidszone? '},\n",
       "    '_type': 'kamervraag'},\n",
       "   {'_id': '148',\n",
       "    '_index': 'kamervragen',\n",
       "    '_score': 1.0,\n",
       "    '_source': {'Afkomstig van': '2010208250',\n",
       "     'Bestand': '18Kb',\n",
       "     'Bibliografische_omschrijving': 'Vragen van het lid Van der Steenhoven (GroenLinks) aan de ministers van Volkshuisvesting, Ruimtelijke Ordening en Milieubeheer en van Binnenlandse Zaken en Koninkrijksrelaties over overlast veroorzaakt door asbest van een voormalige steenfabriek. (Ingezonden 21 maart 2002); Antwoord',\n",
       "     'Datum_indiening': '2002-06-28',\n",
       "     'Datum_reaktie': '\\n',\n",
       "     'Indiener': 'Volkshuisvesting, Ruimtelijke Ordening en Milieubeheer (VROM)',\n",
       "     'Inhoud': 'Vragen over een oude vervallen steenfabriek in de gemeente Rucphen, die ernstige overlast geeft aan omwonenden, omdat al bij geringe wind asbestdeeltjes vanaf het fabrieksterrein in hun tuinen en huizen waaien.',\n",
       "     'Partij vertegenwoordiger': '<persoon partij=\"GroenLinks\">Van der Steenhoven</persoon>',\n",
       "     'Permalink': '\\nhttp://www.geencommentaar.nl/parlando/index.php?action=doc&filename=KVR15894\\n',\n",
       "     'Rubriek': 'Milieu (Gevaarlijke stoffen)',\n",
       "     'Trefwoorden': 'Gevaarlijke stoffen',\n",
       "     'Vindplaats': 'Kamervragen met antwoord 2001-2002, nr. 1346, Tweede Kamer',\n",
       "     'antwoord 1': '[Ja. Ten aanzien van de overlast heb ik TNO opdracht gegeven om onderzoek te verrichten naar het mogelijke asbestblootstellingsrisico voor bewoners van aangrenzende woningen of voor personen die zich op of rond het fabrieksterrein begeven. Uit de voorlopige bevindingen van TNO blijkt dat het zeer onwaarschijnlijk is dat er onder de huidige omstandigheden op of aan de rand van het terrein ter hoogte van de eerste bebouwing (afstand circa 70 meter) asbestconcentraties in de lucht kunnen ontstaan die het Verwaarloosbaar Risiconiveau overschrijden of zelfs maar benaderen. Wel blijkt dat de situatie op het terrein op wat langere termijn als een potentieel risico moet worden beschouwd, omdat er een kans op nieuwe beschadigingen en vandalisme bestaat en een voortdurende erosie van de reeds verweerde platen op den duur tot secundaire emissie kan leiden van zowel verharde oppervlakken als van de aan het gebouw grenzende bodem (zie tevens het antwoord op vraag 2)',\n",
       "     'antwoord 2': 'Bij brief van 12 maart 1999 heeft de Regionale Milieudienst van het Streekgewest Westelijk Noord-Brabant (RMD) de gemeente Rucphen rapport uitgebracht over de resultaten van het door haar uitgevoerde asbestonderzoek bij de voormalige steenfabriek Â«De Lange SchouwÂ». Zij adviseert de gemeente dat, Â«ondanks het feit dat het niet noodzakelijk is om het asbest te saneren, het de voorkeur verdient dat het asbesthoudende materiaal wordt verwijderdÂ». Daarnaast adviseert zij het betreden van de steenfabriek door derden niet meer mogelijk te maken, en in perioden van storm inspecties uit te voeren of op het terrein geen asbest terecht is gekomen, en zo ja, dit door een ter zake deskundig bureau te doen verwijderen. Bij brief van 6 april 1999 wordt als aanvulling op dit advies door de Gezondheidsdienst van het Streekgewest Westelijk Noord-Brabant (GGD) het volgende gezondheidskundig advies uitgebracht. Op grond van onderzoek ter plaatse concludeert de GGD dat er gevaar is voor de veiligheid van de omwonenden en passerende mensen (fietspad voor schoolkinderen) door loskomende en verwaaiende platen isolatie-materiaal en asbest. Er is tevens Â«een toegenomen belasting van het milieu met asbestvezels door loszittende en verpulverende asbest-platen en de stukken asbest verspreid over het terrein met een toegenomen (vermijdbaar) risico voor de volksgezondheidÂ». Zij adviseert de gemeente tenslotte Â«om de platen op deskundige wijze te laten verwijderen teneinde verder vrijkomen en verspreiding van asbest (vezels) te voorkomen en zo het risico op termijn voor de volksgezondheid tegen te gaanÂ». Bij brief van 30 augustus 2000 concludeert de RMD dat de situatie ter plaatse aanmerkelijk is verbeterd. Actiepunten die direct aandacht behoeven zijn naar haar mening niet aanwezig. Bij brief van 15 september 2000 meldt de RMD dat uit de bestudering van enkele recente luchtfotoâ€™s blijkt dat Â«het dak toch wat minder gaaf is als (wellicht) in de eerdere brief wordt gesuggereerd. Dit betekent overigens niet dat direct maatregelen moeten worden ondernomen; de staat van het dak is een aandachtspuntÂ». In een brief van 22 december 2000 aan de Inspectie MilieuhygiÃ«ne verwoordt de RMD haar mening over de staat van het dak als Â«minder rooskleurig, dan eerder beschrevenÂ». Â«Doordat het dak geen geheel meer vormt, heeft de wind vrij spel op de asbesthoudende platen en als gevolg daarvan is een permanente bron aanwezig voor de verspreiding van asbest naar de omgevingÂ», aldus de RMD',\n",
       "     'antwoord 3': 'De gemeente Rucphen heeft direct na ontvangst van de rapporten van de RMD en GGD stappen ondernomen om aan de ongewenste situatie bij de voormalige steenfabriek een einde te maken. Bij brief van 20 april 1999 stelt de gemeente de toenmalige eigenaar van de fabriek op de hoogte van de bevindingen van de RMD en GGD en deelt hem mee, dat zij voornemens is hem aan te schrijven op voet van artikel 17 en 20 van de Woningwet om de verspreid liggende kleine stukken asbest en de op het dak en wanden aanwezige asbestplaten op deskundige wijze te laten verwijderen. Alvorens tot formele aanschrijving over te gaan wordt de eigenaar in de gelegenheid gesteld zijn zienswijze kenbaar te maken. Zie verder het antwoord op vraag 4',\n",
       "     'antwoord 4': 'Ja. Na de zienswijze van de eigenaar volgt op 18 augustus 1999 de aanschrijving onder aanzegging van bestuursdwang. Hiertegen wordt door de eigenaar op 27 september 1999 bezwaar aangetekend. In haar beslissing op bezwaar van 7 januari 2000 wordt het bezwaar van de eigenaar deels gegrond, deel ongegrond verklaard. Gegrond, waar het de aanschrijving en aanzegging van bestuursdwang betreft ingevolge artikel 17 van de Woningwet inzake het verwijderen van de op en aan het gebouw bevestigde asbestplaten; ongegrond, waar het de aanschrijving en aanzegging van bestuursdwang betreft ingevolge artikel 20 van de Woningwet inzake het verwijderen van de op het terrein aanwezige losgeraakte stukken asbesthoudend materiaal. Tegen de beslissing op bezwaar is noch door de eigenaar noch door de omwonenden beroep aangetekend bij de bestuursrechter',\n",
       "     'antwoord 5': 'Zoals uit de beantwoording van vraag 4 blijkt heeft de Raad van State zich niet over deze zaak uitgesproken. De in de brief van de Minister van Binnenlandse Zaken en Koninkrijksrelaties van 12 februari 2002 (in uw vraag is een onjuiste datum weergegeven) gememoreerde uitspraak van de Raad van State berust op een miscommunicatie tussen het Ministerie van Binnenlandse Zaken en Koninkrijksrelaties en het Ministerie van Volkshuisvesting, Ruimtelijke Ordening en Milieubeheer. Voor het overige is de brief juist, met name waar het de conclusie betreft dat het aan het gebouw vastzittende asbest niet behoeft te worden verwijderd. Dit is de beslissing van het gemeentebestuur van Rucphen op het bezwaarschrift van de eigenaar van de steenfabriek tegen de verwijdering van het asbest. Bij de beantwoording van vraag 4 ben ik hierop ingegaan',\n",
       "     'antwoord 6': 'Neen. Gezien de hiervoor vermelde acties van de gemeente alsmede het na de aanschrijving actief (laten) controleren van de situatie ter plaatse, het inlichten van de nieuwe eigenaar over de staat van het gebouw en het aankondigen van aanschrijving onder aanzegging van bestuursdwang, indien als gevolg van weersinvloeden losgeraakte delen van de asbesthoudende golfplaten niet worden opgeruimd, ben ik van mening dat de gemeente haar verantwoordelijkheden kent en daar binnen het kader van de wettelijke mogelijkheden naar heeft gehandeld',\n",
       "     'antwoord 7': 'Ja, ik ben van plan om gebruik te maken van mijn bevoegdheid om op grond van artikel 40 van de Wet milieugevaarlijke stoffen alle maatregelen te nemen die ik noodzakelijk acht met het oog op de bescherming van mens en milieu. Ik vind dat er, met betrekking tot de gevaarlijke stof asbest in de dakbedekking, sprake is van een onduldbaar gevaar voor mens en milieu. Daarom zal ik op korte termijn ervoor zorgen dat de eigenaar nog een maand de kans krijgt om zelf de betreffende asbestbevattende golfplaten te verwijderen. Indien de eigenaar dit niet doet, zal ik zelf een aannemer opdracht geven om dit te doen, waarna de kosten op de overtreder zullen worden verhaald. ]',\n",
       "     'vraag 1': 'Bent u ervan op de hoogte dat in de gemeente Rucphen een oude vervallen steenfabriek staat, genaamd Â«De Lange SchouwÂ», die ernstige overlast geeft aan omwonenden, omdat al bij geringe wind asbestdeeltjes vanaf het fabrieksterrein in hun tuinen en huizen waaien, zodanig dat zij ramen en deuren voortdurend gesloten moeten houden? ',\n",
       "     'vraag 2': 'Is het waar dat er rapporten zijn van de GGD Zuidwest Brabant over de gezondheidsrisicoâ€™s die deze voormalige steenfabriek veroorzaakt? Zo ja, bent u op de hoogte van de inhoud van deze rapporten? Zo ja, wat zijn de gezondheidsrisicoâ€™s die deze rapporten aangeven? ',\n",
       "     'vraag 3': 'Is u bekend of er naar aanleiding van deze GGD-rapporten stappen zijn ondernomen door de gemeente om de gezondheidsrisicoâ€™s te verminderen? Zo ja, wat zijn deze stappen geweest? ',\n",
       "     'vraag 4': 'Is u bekend dat de gemeente Rucphen op 18 augustus 1999 de toenmalige eigenaar van de steenfabriek heeft aangeschreven, onder aanzegging van bestuursdwang, om asbestgolfplaten op het dak en wanden en op het terrein liggende kleine stukken asbest te verwijderen en dat de eigenaar hierop een bezwaarschrift heeft ingediend? Is u bekend welke beslissing de gemeente hierop heeft genomen? Zo ja, wat is deze beslissing geweest? ',\n",
       "     'vraag 5': 'Is het waar dat de Raad van State heeft gelast dat de asbest van de steenfabriek wordt opgeruimd? Zo nee, op basis van welke informatie heeft de minister van Binnenlandse Zaken en Koninkrijksrelaties in een brief gedateerd 12 februari 2002 aan de omwonenden gemeld dat de Raad van State een uitspraak heeft gedaan over opruiming? ',\n",
       "     'vraag 6': 'Vindt u dat de gemeente Rucphen gefaald heeft in haar taak om gezondheidsrisicoâ€™s met gevaarlijke stoffen te voorkomen? ',\n",
       "     'vraag 7': 'Bent u bereid om onmiddellijk een einde te maken aan deze voor de volksgezondheid gevaarlijke situatie? '},\n",
       "    '_type': 'kamervraag'},\n",
       "   {'_id': '150',\n",
       "    '_index': 'kamervragen',\n",
       "    '_score': 1.0,\n",
       "    '_source': {'Afkomstig van': '2000108660',\n",
       "     'Bestand': '24Kb',\n",
       "     'Bibliografische_omschrijving': 'Vragen van het lid Bakker (D66) aan de minister van Justitie en voor Grote Steden- en Integratiebeleid en de staatssecretaris van Verkeer en Waterstaat over aftapvoorzieningen bij Internetproviders. (Ingezonden 28 maart 2001); Antwoord',\n",
       "     'Datum_indiening': '2001-05-10',\n",
       "     'Datum_reaktie': '\\n',\n",
       "     'Indiener': 'Verkeer en Waterstaat (VW)',\n",
       "     'Inhoud': 'Vragen over de haalbaarheid van de gestelde datum waarop structurele aftapvoorzieningen bij internetproviders in werking moeten zijn (15 april 2001).',\n",
       "     'Partij vertegenwoordiger': '<persoon partij=\"D66\">Bakker</persoon>',\n",
       "     'Permalink': '\\nhttp://www.geencommentaar.nl/parlando/index.php?action=doc&filename=KVR13645\\n',\n",
       "     'Rubriek': 'Communicatie, media en informatievoorziening (Telecommunicatie) Strafrecht en strafprocesrecht (Opsporingsonderzoek)',\n",
       "     'Trefwoorden': 'Computernetwerken Opsporingen Telecommunicatie',\n",
       "     'Vindplaats': 'Kamervragen met antwoord 2000-2001, nr. 1155, Tweede Kamer',\n",
       "     'antwoord 1': '[Alvorens concreet in te gaan op de verschillende vragen van de heer Bakker acht ik het noodzakelijk om allereerst het blijkbaar breed levende misverstand rondom de datum van 15 april 2001, namelijk dat tot die datum voor alle ISPâ€™s ontheffing zou zijn verleend van de aftapbaarheidsverplichting ex artikel 13.1, eerste lid, van de Telecommunicatiewet (Tw), weg te nemen. Er is namelijk geen sprake van een algemene ontheffing voor alle ISPâ€™s tot die datum; slechts die (individuele) ISPâ€™s die op basis van de Beleidsregels ontheffingverlening aftapbaarheid internetdiensten 2000 een ontheffing hebben aangevraagd, hebben tot 15 april 2001 deze ontheffing verkregen. Het gaat daarbij om 33 ISPâ€™s. Ik moet hieruit afleiden dat blijkbaar een meerderheid van de ISPâ€™s het niet nodig vond om een ontheffing aan te vragen. Het ontheffingsbeleid dat tot 15 april 2001 werd gevoerd, vindt zijn oorsprong in de parlementaire behandeling van het voorstel voor een Telecommunicatiewet en de bij die gelegenheid aangenomen motie van het Tweede Kamerlid Kamp, waarbij â€“ kort gezegd â€“ voor een aanvullend uitstel van de verplichtingen van artikel 13.1 Tw voor aanbieders van internetdiensten werd gepleit. Deze motie is door de Tweede Kamer aanvaard en door mij uitgevoerd. Ik acht het in dit kader aangewezen om op te merken dat de mogelijkheid om ontheffing te verlenen aan individuele ISPâ€™s tot tweemaal toe is geboden (de eerste keer tot 15 augustus 2000; daarna nogmaals aangeboden tot 15 april 2001). Deze ontheffingsmogelijkheid kwam bovendien bovenop het reeds in artikel 20.13 van de Tw voor alle aanbieders van openbare telecommunicatienetwerken en -diensten voorziene uitstel van 9 maanden van de toepasselijkheid van artikel 13.1 Tw voorzover hun netwerken en diensten op de datum van inwerkingtreding van de Telecommunicatienet (in casu 15 december 1998) nog niet aftapbaar waren. Ik moet dan ook vaststellen dat voor de ISPâ€™s, die gebruik hebben gemaakt van de tot tweemaal toe geboden ontheffingsmogelijkheid, bijna tweeÃ«nhalf jaar uitstel van de aftapbaarheidsverplichting is verleend. Dat acht ik zeer ruim en een verdere verlenging van de ontheffingsmogelijkheid wordt door mij dan ook niet overwogen. We dienen immers niet uit het oog te verliezen waarom de aftapbaarheidsverplichting â€“ en Ã¼berhaupt de verplichtingen uit hoofdstuk 13 van de Telecommunicatiewet â€“ zijn gesteld: namelijk het waarborgen dat in het kader van strafvordering en veiligheid van de staat telecommunicatie â€“ dus ook internetverkeer â€“ kan worden afgetapt. Ik roep in herinnering dat de commissie Kalsbeek in haar rapport Â«Opsporing in uitvoeringÂ» (kamerstukken II 1998/99, 26 269, nrs. 4â€“5) in aanbeveling 11 er op heeft aangedrongen dat internet zo spoedig mogelijk aftapbaar zou moeten zijn. Deze aanbeveling is kamerbreed aangenomen. Gelet op de spectaculaire ontwikkeling van internet en de rol die deze kan spelen bij criminele en de veiligheid van de staat bedreigende activiteiten, is een verder uitstel niet wenselijk. De rechterlijke macht, onderscheidenlijk de BVD, moet er vanuit kunnen gaan dat de binnen het wettelijk kader door de rechter afgegeven machtigingen, onderscheidenlijk door de bevoegde ministers afgegeven lasten, worden nageleefd. Hiermee kom ik op de vragen die betrekking hebben op de (beschikbaarheid) van de technische en functionele specificaties met betrekking tot het aftappen van internet. Na de inwerkingtreding van de Telecommunicatiewet en indachtig de motie Kamp, is vanaf begin 1999 door vertegenwoordigers van de ministeries van Verkeer en Waterstaat, van Justitie en van Binnenlandse Zaken en Koninkrijksrelaties in goede samenwerking met vertegenwoordigers van de ISPâ€™s, in het bijzonder van de NLIP (de brancheorganisatie, waarbij bijna zestig ISPâ€™s zijn aangesloten die gezamenlijk 80 tot 85% van de markt bestrijken) , gewerkt aan het opstellen van de genoemde specificaties. Dit geschiedde binnen het verband van een speciaal daarvoor opgerichte werkgroep, te weten de Werkgroep Aftappen Internet (WAI), die regelmatig verantwoording omtrent haar werkzaamheden aflegde in het Deelorgaan Aftappen van het Overlegorgaan Post en Telecommunicatie (DAF-OPT). Met de betrokkenheid van de NLIP bij de werkzaamheden van de WAI lijkt mij dat gesproken kan worden van een brede vertegenwoordiging van de betrokken marktpartijen; bovendien onderhield de NLIP naar haar zeggen nauwe contacten met leveranciers van apparatuur. De bedoeling was dat de werkzaamheden van de WAI, in casu het opstellen van de genoemde specificaties, ruim voor 15 augustus 2000 zouden zijn afgerond. Overheid en ISPâ€™s zouden aldus voldoende tijd hebben om de regelgeving aan te passen en de voorzieningen te implementeren. In april 2000 bleek de gestelde termijn niet haalbaar, hetgeen voor mij aanleiding vormde om een aanvullende ontheffingsmogelijkheid van de aftapbaarheidsverplichting voor individuele ISPâ€™s vanaf 15 augustus te bieden. Deze mogelijkheid is gerealiseerd met de totstandkoming van de Beleidsregels ontheffingsverlening aftapbaarheid internetdiensten 2000, die â€“ na behandeling in het DAF-OPT â€“ uiteindelijk op 11 juli 2000 in de Staatscourant zijn gepubliceerd. Daarbij is gekozen voor een ontheffingstermijn van 8 maanden; deze termijn was enerzijds gerelateerd aan de tijd die nodig zou zijn om (voorzover noodzakelijk) nadere wettelijke regels te stellen met betrekking tot de aftapbaarheid van internet en anderzijds de tijd die nodig werd geacht om tot implementatie van de specificaties over te gaan. Nog voor het tijdstip van publicatie van de beleidsregels â€“ namelijk in juni 2000 â€“ zijn de specificaties door de WAI afgerond en aan het DAF-OPT voorgelegd. In het DAF-OPT zijn de specificaties vervolgens aan de orde gesteld; in de vergadering van het DAF-OPT van 31 oktober 2000 is tenslotte door het ministerie van Verkeer en Waterstaat geconcludeerd dat de specificaties vaststonden. Vanaf die datum waren de definitieve specificaties beschikbaar, dat geldt zeker voor de leden van de NLIP (die overigens al ruim voor dat tijdstip ten behoeve van de Algemene Ledenvergadering van de NLIP op 18 april 2000 over de concept-specificaties beschikten) en de andere in het DAF-OPT vertegenwoordigde partijen. Bovendien stel ik vast dat de NLIP reeds in september 2000 is begonnen met het benaderen van leveranciers . Ik acht het gelet hierop dan ook enigszins merkwaardig dat het NLIP en het Nationaal Aftapoverleg (NAO) pas in februari van dit jaar aandacht hebben gevraagd voor de problemen die (sommige) leveranciers ter zake van de specificaties blijkbaar hadden. Gelet op het voorgaande lijkt het mij dat in algemene zin dan ook kan worden gesteld dat â€“ uitgaande van 31 oktober 2000 â€“ aan de termijn van zes tot negen maanden, die in het DAF-OPT is afgesproken, wordt voldaan. Dat pas in januari 2001 in de Staatscourant en de Automatiseringsgids een nadere mededeling is gekomen, dat de specificaties bij DGTP opvraagbaar waren, doet mijns inziens daarin niets af. Ook de benodigde concept-regelgeving, te weten een wijziging van het Besluit aftappen openbare telecommunicatienetwerken en openbare telecommunicatiediensten alsmede een (nieuwe) Regeling aftappen openbare telecommunicatienetwerken en openbare telecommunicatiediensten, waarbij eveneens van de in juni 2000 aan het DAF-OPT voorgelegde specificaties is uitgegaan, is in de hiervoor beschreven periode enkele keren in het DAF-OPT aan de orde gesteld. Beide regelingen zijn thans â€“ nu de stand-stillperiode in het kader van de notificatieprocedure per 4 april 2001 is afgelopen en de reactie van de Europese Commissie geen verlenging van deze termijn met zich meebrengt â€“ gereed voor vaststelling. Inwerkingtreding van beide regelingen is dan ook op zeer korte termijn voorzien. Inmiddels moet ik vaststellen dat ook aan de tweede voorwaarde die in het DAF-OPT is gesteld, namelijk dat er minimaal twee leveranciers op de markt zouden moeten opereren, wordt voldaan. Deze leveranciers â€“ zo is bij navraag gebleken â€“ stellen dat zij hun apparatuur aan de hand van de vastgestelde WAI-specificaties hebben gebouwd. Ik heb begrepen dat tevens ook al verschillende ISPâ€™s vergevorderd zijn met het aftapbaar maken van hun apparatuur; bij een enkeling wordt deze reeds getest. Ook de voorzieningen aan overheidszijde die nodig zijn om de getapte gegevens in ontvangst te nemen, waarbij eveneens van de WAI-specificaties is uitgegaan, zijn tijdig geÃ¯mplementeerd. Gelet op het voorgaande en de in geding zijnde belangen voor zowel opsporing als staatsveiligheid, zag ik geen aanleiding om met betrekking tot die ISPâ€™s â€“ 33 in totaal â€“ die een ontheffing van de aftapbaarheidsverplichting tot 15 april 2001 hadden, tot een verder uitstel te komen. Gezien de onbekendheid met het aftappen van internet is tot op heden door de overheid zeer terughoudend opgetreden ten aanzien van aanbieders van internet die niet aftapbaar waren en geen ontheffing hadden gevraagd en verkregen. In mijn brief aan het zogeheten Nationaal Aftapoverleg ISPâ€™s (NAO), waarvan het secretariaat door de NLIP wordt gevoerd, heb ik aangegeven dat ik â€“ waar het gaat om de handhaving van de dan voor alle ISPâ€™s geldende aftapbaarheidsverplichting â€“ ook na 15 april 2001 de nodige coulance zal betrachten, indien zich â€“ als gevolg van de implementatie van de specificaties â€“ eventuele Â«kinderziektesÂ» voordoen in de aftapsystemen van de ISPâ€™s. De betrokken aanbieder dient hierover echter wel met de tot aftappen bevoegde autoriteit in contact te treden, teneinde aan te geven welke problemen zich voordoen en hoe hiermee kan worden omgegaan',\n",
       "     'antwoord 2': 'Het percentage 1 is genoemd tijdens de behandeling van het beleidsvoornemen bevoegd aftappen telecommunicatie (kamerstukken II 1995/96, 24 679) in het Algemeen overleg van 14 mei 1996 van de ministers van Verkeer en Waterstaat en van Justitie met de Vaste Commissies voor Verkeer en Waterstaat en voor Justitie. Tijdens dat overleg stelde de minister van Justitie dat het aanbrengen van aftapvoorzieningen in telecommunicatiesystemen circa 1% van de totale investeringskosten in nieuwe telecommunicatienetwerken of diensten zou bedragen. Het percentage was gebaseerd op onderzoek uitgevoerd door FEL/TNO en had geen betrekking op inbouwen van voorzieningen in bestaande netwerken of diensten. In reactie op het amendement Roethof/Stellingwerf (kamerstukken II 1997/98, 25 533, nr. 73) op het voorstel voor de Telecommunicatiewet is 1% ook slechts genoemd als indicatie voor de investeringskosten in nieuwe netwerken, niet als absoluut maximum voor elke soort investering in aftapvoorzieningen. Voor wat betreft de investeringen die ISPâ€™s moeten doen teneinde aftapbaar te zijn is door de ISPâ€™s tot nu toe alleen aangegeven dat de kosten tussen de anderhalve ton en enkele miljoenen zouden liggen, zonder dat deze bedragen op enigerlei wijze door de ISPâ€™s zijn onderbouwd. Tijdens de besprekingen in de WAI is voorts, op aandringen van het NLIP, van overheidswege ingestemd met de optie voor kleine ISPâ€™s om in pool-verband gezamenlijk over aftapmiddelen te beschikken. Dit biedt de mogelijkheid de kosten van de aftapvoorzieningen over meerdere ISPâ€™s te spreiden. Een dergelijke oplossing achten de bevoegde autoriteiten aanvaardbaar zolang de aftapvoorzieningen maar onverwijld bij de aanbieder in zijn netwerk of dienst kunnen worden ingeschakeld. Netwerk en dienst moeten dus op aansluiting van de aftapmiddelen zijn voorbereid. Voorts dient te worden opgemerkt, dat het hier niet gaat om een nieuwe verplichting, maar om de effectuering van een reeds sinds de inwerkingtreding van de Telecommunicatiewet, nu ruim twee jaar geleden, bestaande verplichting. Dit hadden bestaande en nieuwe ISPâ€™s kunnen en behoren te weten. Zij hadden zich dan ook in financieel opzicht kunnen voorbereiden op de te plegen investeringen. Dat door de te plegen investeringen voor aftapvoorzieningen internet providers ter sluiting zouden zijn veroordeeld, acht ik â€“ mede in het licht van de mogelijkheid tot het gezamenlijk aanschaffen van dergelijke voorzieningen in pool-verband waarmee de kosten over verschillende ISPâ€™s kunnen worden verspreid â€“ een conclusie die tot op heden op geen enkele betrouwbare en verifieerbare wijze is onderbouwd',\n",
       "     'antwoord 3': 'In diverse andere lidstaten van de Europese Unie zijn de verplichtingen ten aanzien van de aftapbaarheid van telecommunicatie zowel van toepassing op de aanbieders van traditionele telecommunicatienetwerken en -diensten als op de aanbieders van Internet. De landen waar dit nog niet het geval is, zijn bezig met het voorbereiden van deze verplichting. Deze landen geven aan dat dit niet te maken heeft met het ontbreken van een ETSI-standaard. Er moet ook worden gewaakt voor een al te optimistische voorstelling van een ETSI-standaard. De historie leert dat een dergelijke standaard lange tijd nodig heeft om tot stand te komen, veel opties en uitzonderingsmogelijkheden bevat en, bij kwade wil van een deel van de partijen, al snel weer kan worden gewijzigd. Het wachten op een Europese standaard zal dan ook leiden tot langdurig uitstel van de implementatie van aftapvoorzieningen bij ISPâ€™s in Nederland, zonder zicht op een stabiel en aan de eisen voldoend resultaat, en is daarom gezien de belangen van de opsporings- en veiligheidsdiensten onaanvaardbaar. Voorts dient te worden opgemerkt, dat juist het NLIP zelf lange tijd in de WAI het voornemen van de overheid om de ETSI te benaderen voor het opstellen van specificaties, heeft tegengehouden. In de eerdergenoemde brief aan het NAO heb ik overigens reeds aangegeven, dat, indien een Europese standaard inderdaad tot ontwikkeling komt, te zijner tijd zal worden bezien op welke wijze daarmee wordt omgegaan, rekening houdend met de belangen van alle partijen',\n",
       "     'antwoord 4': 'De kritiek van het NLIP is in mijn ogen onterecht. Na ontvangst van de voornoemde brief van het NAO is verschillende malen binnen een zeer kort tijdsbestek, op het daartoe geschikte niveau overleg gevoerd over de specificaties. Voorts is voor overleg tussen de overheid en de marktpartijen op het gebied van telecommunicatie al enkele jaren geleden bij het ministerie van Verkeer en Waterstaat een speciaal Overlegorgaan Post en Telecommunicatie (OPT) ingesteld onder onafhankelijk voorzitterschap. Voor specifieke aangelegenheden die de implementatie van de aftapverplichtingen aangaan, is er een apart deelorgaan van het OPT ingesteld, te weten het Deelorgaan Aftappen (DAF). In dit gremium zijn alle relevante beleidsvoornemens aan de orde geweest, in casu zowel de specificaties als de regelgeving. Tijdens de vergadering van het OPT-DAF, gehouden op 6 maart 2001, is nogmaals duidelijk afgesproken dat alle zaken die betrekking hebben op het implementeren van de aftapverplichtingen, in dit orgaan dienen plaats te vinden. Het NLIP, dat lid is van zowel OPT als van OPT-DAF, behoort dit te weten. Het zou tegen deze afspraak ingaan om alsnog een afzonderlijk overleg te beginnen, op welk niveau ook. Wel bestaat bij mij en mijn departement de bereidheid, zoals die er in het voorgaande ook steeds is geweest, om in de daartoe bestemde gremia overleg te voeren met de marktpartijen. ]',\n",
       "     'vraag 1': 'Blijft u bij uw (in het overleg met de sector ingenomen) standpunt dat structurele aftapvoorzieningen bij Internetproviders in werking moeten zijn op 15 april aanstaande, ondanks het feit dat vrijwel alle betrokkenen, daarin begrepen de leveranciers van de benodigde apparatuur, zeggen dat dat niet haalbaar is (onder andere maar niet alleen vanwege het zeer laat beschikbaar komen van de nodige specificaties)? ',\n",
       "     'vraag 2': 'Blijft u bij uw (in het overleg met de sector ingenomen) standpunt dat structurele aftapvoorzieningen bij Internetproviders in werking moeten zijn op 15 april aanstaande, ondanks het feit dat in het officiÃ«le overlegorgaan hiervoor (Overlegorgaan Post en Telecommunicatie (OPT) en Deelorgaan Aftappen (DAF)) is afgesproken dat de verplichting pas in zou gaan 6 Ã\\xa0 9 maanden na het publiceren van de betreffende specificaties en in ieder geval ook pas als er minimaal twee leveranciers van apparatuur op de markt zouden opereren? ',\n",
       "     'vraag 3': 'Blijft u bij uw standpunt, zoals destijds bij de behandeling van de Telecomwet, desgevraagd, aan de Kamer medegedeeld, dat binnen de diverse thans voorgestelde lagere regelgevingen de investeringsverplichtingen voor de industrie blijven binnen de 1% van de totale investeringskosten? ',\n",
       "     'vraag 4': 'Blijft u bij uw (in het overleg met de sector ingenomen) standpunt dat structurele aftapvoorzieningen bij Internetproviders in werking moeten zijn op 15 april aanstaande, ondanks het feit dat diverse malen duidelijk is gemaakt dat dat, onder andere door de veel hoger uitvallende kosten, diverse internetproviders tot sluiting zal veroordelen? ',\n",
       "     'vraag 5': 'Blijft u bij uw (in het overleg met de sector ingenomen) standpunt dat structurele aftapvoorzieningen bij Internetproviders in werking moeten zijn op 15 april aanstaande, ondanks het feit dat in Europa de Europese standaard voor de wijze waarop de aftapgegevens aan de behoeftestellende instanties dienen te worden aangeleverd (de ETSI-standaard) nog niet gereed is en andere lidstaten de totstandkoming van deze standaard afwachten? ',\n",
       "     'vraag 6': 'Wat is uw reactie op de opmerkingen van de NLIP richting de overheid dat overleg op voldoende hoog niveau (gezien de complexiteit en de importantie van de problemen) steeds wordt geweigerd? Bent u bereid dit overleg alsnog op zo kort mogelijke termijn te entameren? '},\n",
       "    '_type': 'kamervraag'},\n",
       "   {'_id': '85',\n",
       "    '_index': 'kamervragen',\n",
       "    '_score': 1.0,\n",
       "    '_source': {'Afkomstig van': 'Onderwijs, Cultuur en Wetenschappen',\n",
       "     'Bestand': '154Kb',\n",
       "     'Bibliografische_omschrijving': 'Aanvullende vragen van het lid Rabbae (GroenLinks) over onderzoeksgegevens omtrent het ziekteverzuim. (Ingezonden 21 juni 1995); Antwoord',\n",
       "     'Datum_indiening': '1995-06-21',\n",
       "     'Datum_reaktie': '1995-07-06',\n",
       "     'Indiener': '<persoon partij=\"GroenLinks\">Rabbae</persoon>',\n",
       "     'Inhoud': 'Met notitie over onderzoeksresultaten inzake ziekteverzuim van onderwijsgevenden het basis- en speciaal onderwijs, naar aanleiding van een aantal Kamervragen over dit onderwerp.',\n",
       "     'Partij vertegenwoordiger': '\\n',\n",
       "     'Permalink': '\\nhttp://www.geencommentaar.nl/parlando/index.php?action=doc&filename=KVR1647\\n',\n",
       "     'Rubriek': 'Basisonderwijs (Onderwijspersoneel) Sociale zekerheid (Arbeidsongeschiktheidsvoorzieningen (Ziektewet, WAO, AAW, IOAW, IOAZ)) Speciaal onderwijs (Onderwijspersoneel)',\n",
       "     'Trefwoorden': 'Basisonderwijs Onderwijsgevenden Speciaal onderwijs Ziekteverzuim',\n",
       "     'Vindplaats': 'Kamervragen met antwoord 1994-1995, nr. 998, Tweede Kamer',\n",
       "     'antwoord 1': '[Ik ben inderdaad voornemens het ziekteverzuimonderzoek met ingang van het schooljaar 1995/1996 niet langer door het LISWO te laten uitvoeren. De argumenten daarvoor zijn gebaseerd op een zorgvuldige beoordeling van de offertes van het LISWO en de combinatie NIA/B&amp;A. Die beoordeling leidt tot een voorkeur voor de offerte van NIA/B&amp;A. Overigens wijs ik er op dat Professor Leune in een, op verzoek van het bestuur van de Stichting Vervangingsfonds en mij opgestelde beoordeling van beide offertes, tot een zelfde conclusie komt',\n",
       "     'antwoord 2': 'De offerte van NIA/B&amp;A is in vergelijking met die van het LISWO inderdaad duurder, maar biedt mijns inziens een betere prijs-kwaliteit verhouding. Bovendien voorziet de offerte van NIA/B&amp;A erin dat de prijs van het onderzoek na twee jaar daalt en in het derde jaar naar een niveau dat lager ligt dan het prijsniveau van het LISWO',\n",
       "     'antwoord 3': 'Samen met het Vervangingsfonds heb ik een Programma van Eisen opgesteld op basis waarvan LISWO, NIA en B&amp;A-Groep een offerte hebben uitgebracht',\n",
       "     'antwoord 4': 'Tot en met het schooljaar 1993/1994 ben ik als enige opdrachtgever opgetreden voor het ziekteverzuimonderzoek. In september 1994 zijn, op mijn initiatief, het bestuur van de Stichting het Vervangingsfonds en ik tot de conclusie gekomen, dat, juist vanwege het grote belang van een zo betrouwbaar mogelijk ziekteverzuimpercentage voor het fonds en voor de Rijksbegroting, met ingang van het schooljaar 1994/1995 gezamenlijke opdrachtverlening gewenst is. Daarbij zouden Vervangingsfonds en ik als gelijkwaardige partners optreden wat onder meer tot uiting komt in het op fifty-fifty basis financieren van de kosten van het onderzoek',\n",
       "     'antwoord 5': 'Ja, die vraag is aan het LISWO door vertegenwoordigers van het Vervangingsfonds samen met mijn ambtenaren, zo gesteld, mondeling en schriftelijk. In de mondelinge toelichting bij deze voorwaarde om het onderzoek door het LISWO te laten uitvoeren, is nadrukkelijk aangegeven dat zoâ€™n doorlevering van bestanden slechts onder strikte voorwaarden dient plaats te vinden en uiteraard pas nadat de oorspronkelijke onderzoeksopdracht door het LISWO is afgerond en door beide opdrachtgevers geaccordeerd. (Zie ook paragraaf 3 van de bijgevoegde toelichting)',\n",
       "     'antwoord 6': 'Op grond van een standaardcontract dat ik bij opdrachtverlening van beleidsonderzoek met onderzoekinstituten gewend ben af te sluiten. Onderdeel van deze handelwijze is het opstellen van een privacy-reglement dat past binnen het kader van de Wet Persoonsregistraties (WPR). Essentieel voor deze procedure is dat de respondenten (in dit geval schoolbesturen) van te voren op de hoogte worden gesteld van doel en gebruik van de door hen te leveren informatie. Aldus is het voor de respondenten mogelijk aan te geven geen medewerking aan het onderzoek te verstrekken. Bij privacygevoelig onderzoek, en daar gaat het hier om, wordt ter maximale bescherming met een zogenaamde positieve wilsbeschikking gewerkt. Tenslotte zijn de bestanden die aan een concurrerend bedrijf beschikbaar worden gesteld niet het eigendom van LISWO. Het gaat om bestanden die het LISWO in opdracht van, en tegen betaling door en ten behoeve van de opdrachtgever, aanlegt. Overigens verwijs ik u voor een uitvoeriger beschrijving van deze procedure, naar paragraaf 3 van de bijgevoegde toelichting',\n",
       "     'antwoord 7': 'De schets die in het bewuste artikel van het Schoolblad van 17 juni jl. wordt gegeven, is onjuist. Voor nadere informatie verwijs ik u naar de bijgevoegde notitie',\n",
       "     'antwoord 8': 'Uiteraard ben ik daartoe bereid. De bijgevoegde notitie geeft die opening van zaken. Een oordeel geven over een handelwijze die mij en mijn ambtenaren wordt toegedicht in een onjuist artikel, lijkt mij niet zinvol. Toelichting bij de antwoorden op de vragen van de leden der Tweede Kamer Lambrechts (D66) â€“ 2949508810, Van der Hoeven en Van der Camp (CDA) â€“ 2949508930 en Rabbae (GroenLinks) â€“ 2949509000 Inleiding Reeds vanaf het schooljaar 1975/1976 wordt er in opdracht van mijn ministerie jaarlijks onderzoek gedaan naar het ziekteverzuim in het onderwijs. Vanaf 1975 heeft het LISWO daartoe de opdracht. Met ingang van 1 augustus 1992 is het Vervangingsfonds voor het VO en PO ingevoerd. Doel daarvan was verevening van het risico van (ziekte)vervanging per school. Bij de totstandkoming van de Stichting Vervangingsfonds is overeengekomen dat de voeding van het fonds zou plaatsvinden (indirect) vanuit de rijksbegroting op basis van het voortschrijdend gemiddelde van de ziekteverzuimcijfers van de laatste twaalf jaren op basis van de methode van â€™exponential smoothingâ€™. Daartoe werden tot nu toe de ziekteverzuimcijfers gehanteerd die in opdracht van het departement door het LISWO werden gegenereerd. 1. Het ziekteverzuimonderzoek 1993/1994 De onderzoeksopdracht aan het LISWO voor het vaststellen van het ziekteverzuimpercentage voorziet in een oplevering van het concept-rapport in november van het schooljaar volgend op het schooljaar waarover wordt gerapporteerd. In november 1994 bleek het LISWO niet in staat te zijn aan haar verplichting tot levering van het concept-rapport â€™Ziekteverzuim in het onderwijs 1993/1994â€™ te voldoen. Pas in februari 1995, bijna drie maanden te laat, werd het concept-rapport opgeleverd. Bij de beoordeling van onderzoeksrapporten hanteer ik een aantal kwaliteitscriteria. Een daarvan is de aanwezigheid van een toets op de representativiteit van de uitkomsten van het onderzoek. Een dergelijke representativiteitstoets ontbrak in het in februari 1995 uitgebrachte concept-rapport van het LISWO. Hoewel ik van mening ben dat een dergelijke toets tot de standaardlevering behoort, bleek het LISWO pas bereid tot het uitvoeren van zoâ€™n toets, nadat ik een aanvullende opdracht daartoe verstrekt had. Als gevolg van de tijdsdruk die was ontstaan - de scholen dienden tijdig te kunnen beschikken over de juiste opslagpercentages heb ik begin maart 1995 moeten besluiten de ziekteverzuimpercentages zoals door het LISWO in concept gerapporteerd, te hanteren voor de voeding van het Vervangingsfonds. Middels een circulaire, gedateerd 30 maart 1995 en gepubliceerd in Uitleg nr. 12 van 12 april jl., zijn de scholen daarvan in kennis gesteld. Tijdens het bestuurlijk overleg, dat ik maandelijks met de stichting het Vervangingsfonds voer, is op 3 april jl. een en ander aan het Vervangingsfonds formeel medegedeeld. De door het LISWO inmiddels alsnog uitgevoerde representativiteitstoets wees uit dat op de achtergrondkenmerken urbanisatiegraad en denominatie de uitkomsten van het (steekproef-) onderzoek niet representatief voor de gehele populatie waren. Ik was met het LISWO van mening dat de eventuele gevolgen voor het ziekteverzuimpercentage zich slechts volledig betrouwbaar zouden laten achterhalen door middel van een multivariate analyse. Daartoe bleek het LISWO niet uit eigen beweging bereid. Ik heb het LISWO daartoe dan ook geen opdracht gegeven. Ik heb het LISWO wel verzocht een inschatting te geven van de gevolgen van het niet representatief zijn van de uitkomsten. Uit door het LISWO gemaakte univariate analyses bleek vervolgens, volgens het LISWO, dat die gevolgen waren te verwaarlozen. Echter, uit op mijn departement uitgevoerde univariate analyses kwam een ander beeld naar voren, dat wijst op een mogelijke overschatting van circa 0,5% van het ziekteverzuim in het basisonderwijs in 1993/1994. Deze analyses werden uitgevoerd op basis van door het LISWO schriftelijk aangeleverde onderzoeksbevindingen. De verschillen tussen de univariate LISWO analyse en de univariate OCenW analyse zijn te verklaren uit door het LISWO rekenkundig anders opgezette analyses, waarbij niet de mogelijke afwijking wordt berekend, maar waarbij de mogelijke afwijking zoveel als mogelijk wordt geminimaliseerd. Mijn bevindingen heb ik schriftelijk aan het LISWO laten weten waarbij ik mijn teleurstelling heb uitgesproken over het kwaliteitsniveau van de uitvoering van de aanvullende opdracht. Ter afronding van de opdracht aan het LISWO voor het vaststellen van het ziekteverzuimpercentage in het onderwijs 1993/1994 heb ik het LISWO verzocht aan het concept-rapport alleen een paragraaf toe te voegen waarin verslag wordt gedaan van de representativiteitstoetsing van de uitkomsten. Tot op heden is het LISWO daartoe niet bereid. 2. De offerte-procedure voor het Ziekteverzuimonderzoek 1994/1995 en volgende jaren Bij de totstandkoming van het Vervangingsfonds is overeengekomen dat de registratie van het ziekteverzuim op de scholen de verantwoordelijkheid zou moeten worden van het Vervangingsfonds en dat het Vervangingsfonds zelf de verzameling van die cijfers ter hand zou nemen (het Vervangingsfonds als collectie-organisatie voor de ZV cijfers). Met ingang van het schooljaar 1991/1992 dient iedere school een eigen ziekteverzuimregistratie te voeren. Toen reeds is het LISWO gemeld dat deze verplichte registratie op de scholen en verzameling van gegevens door het Vervangingsfonds, ingrijpende gevolgen zou hebben voor het ziekteverzuimonderzoek zoals dat tot op dat moment door LISWO traditioneel werd uitgevoerd. Essentie van het LISWO-onderzoek was nl. dat op een steekproef van scholen speciaal ten behoeve van het LISWO een afzonderlijke ziekteverzuimregistratie werd bijgehouden die gedurende het schooljaar door het LISWO werd verzameld op basis waarvan in november van het volgende schooljaar in concept aan mij, in mijn rol van opdrachtgever, werd gerapporteerd. Tot op heden is het Vervangingsfonds nog niet goed toegekomen aan haar gegevens verzamelende functie. Om die reden werd, tot en met het schooljaar 1993/1994 gebruik gemaakt van het door het LISWO, in mijn opdracht uitgevoerde onderzoek, zoals dat voorheen ook plaatsvond (nl. een steekproef van scholen met behulp van een ziekteverzuimregistratie speciaal ten behoeve van dit onderzoek). Begin 1994 bleek dat circa 70% van de scholen de verplichte ziekteverzuimregistratie uitvoert in de Afwezigheid-en-Vervanging-Registratie- module (AVR) van CASO (het salarisbetalingssysteem waarbij 99% van de scholen in het PO en het VO zijn aangesloten). (In AVR-CASO registrerende scholen kunnen geen deel uit maken van de LISWO-steekproef omdat scholen niet bereid zijn dubbel te registreren: in AVR-CASO en t.b.v. LISWO). Het LISWO meldde mij in het voorjaar van 1994 dit probleem. Een probleem omdat het aandeel van de scholen dat niet in AVR-CASO registreert te klein was geworden om een representatieve steekproef te trekken. Om voorgaande redenen heb ik mij vanaf het voorjaar van 1994 diepgaand bezonnen over het doel waartoe en de wijze waarop de ziekteverzuimgegevens van het personeel in het onderwijs de komende jaren zouden moeten worden vastgesteld. Daarbij heb ik het Vervangingsfonds, als belangrijkste gebruiker (naast mijn departement) van deze gegevens, maar ook diverse andere betrokken actoren geraadpleegd, waaronder CASO Informatiesystemen (bv. in haar functie van eigenaar van het registratie-medium waarmee het ziekteverzuim door inmiddels ruim driekwart van de scholen wordt geregistreerd) alsmede het LISWO. Een en ander heeft in oktober 1994 geresulteerd in een â€™Programma van Eisenâ€™ (PvE) voor een vernieuwd ziekteverzuimonderzoek, op basis waarvan drie onderzoeksinstituten is gevraagd een offerte uit te brengen: het LISWO van de Rijksuniversiteit te Leiden, het NIA, Nederlands Instituut voor Arbeidsomstandigheden te Amsterdam, en de B&amp;A Groep, Beleidsonderzoek &amp; -Advies te Den Haag. Het â€™Programma van Eisenâ€™ is door OC&amp;W tezamen met het Vervangingsfonds opgesteld opdat voor het eerst met ingang van het schooljaar 1994/1995 gezamenlijke opdrachtverlening door OC&amp;W en Vervangingsfonds zou kunnen plaatsvinden. Doel van deze gezamenlijke aanpak was te komen tot een zo betrouwbaar mogelijk ziekteverzuimcijfer waarover tussen OC&amp;W en Vervangingsfonds geen discussie meer zou hoeven te worden gevoerd. In het PvE werd onder andere voorgeschreven dat het vernieuwde ziekteverzuimonderzoek gebruik zou moeten maken van bestaande ziekteverzuimregistraties. Vervangingsfonds en OCenW achtten het nl. onaanvaardbaar dat scholen een dubbele registratie zouden moeten bijhouden t.b.v. een ziekteverzuimonderzoek. De offerte-procedure heeft met volledige instemming van het bestuur van het Vervangingsfonds plaatsgevonden. Medio december lagen er uiteindelijk, na verschillende rondes, twee offertes: van het LISWO en een â€“ inmiddels gezamenlijke â€“ offerte van NIA/B&amp;A. Na een zorgvuldige inhoudelijke beoordeling en afweging van risicoâ€™s werd door de ambtelijke vertegenwoordigers van het Vervangingsfonds en de vertegenwoordigers van mijn departement unaniem gekozen voor de NIA/B&amp;A offerte, op grond van een betere prijs-/kwaliteit-verhouding. Bij de beoordeling van de offertes werd een aantal randvoorwaarden en criteria gehanteerd. De twee belangrijkste: 1. De last voor de scholen dient tot een minimum te worden beperkt door de basisgegevens voor het onderzoek zo veel mogelijk â€™af te tappenâ€™ van bestaande registratiesystemen. De LISWO offerte hield hier op hoofdlijnen vast aan een door het LISWO eerder ontwikkelde methodiek uit de tijd dat CASO nog niet gebruikt werd voor de ziekteverzuimregistratie. LISWO ging onvoldoende in op de suggestie uit het PvE waarin werd gesteld gebruik te maken van Afwezigheid en Vervangingsregistratie module van CASO (AVR-CASO). NIA/B&amp;A namen het PvE op dit onderdeel volledig over en werkten dit verder uit. Als aanvulling voorzag NIA/B&amp;A in het verzamelen van verzuimgegevens bij een 5% steekproef onder personeelsleden. Doel hiervan was de betrouwbaarheid van de data te monitoren en te verbeteren. 2. Het onderzoek moet betrouwbare verzuimgegevens opleveren. Het LISWO besteedde veel aandacht aan de opschoning van de data, maar dit vond plaats in een voor de opdrachtgevers niet inzichtelijke manier. NIA/B&amp;A presenteerden een apart kwaliteitstraject waarbij activiteiten zouden plaatsvinden, gericht op bewaking en verbetering van de validiteit. De NIA/B&amp;A aanpak getuigde hier van een grotere mate van creativiteit. In zijn vergadering van 12 januari 1995 heeft het bestuur van het Vervangingsfonds uitgesproken wel bereid te zijn tot een gezamenlijke opdrachtverlening met het departement, echter uitsluitend aan het LISWO, en wel voor de komende 1 a` 2 jaar. De argumenten die door het bestuur van het Vervangingsfonds werden aangevoerd, hadden vooral betrekking op het bekende en vertrouwde LISWO versus de onzekerheid van de onbekendheid met het NIA/B&amp;A. (Uiteraard waren deze aspecten ook door mij en de voorbereidende ambtenaren van mijn departement en het Vervangingsfonds meegewogen, maar zij werden niet zwaar genoeg bevonden om het LISWO te verkiezen boven NIA/B&amp;A; zie hiervoor). De keuze van het bestuur van het Vervangingsfonds werd overigens mede ingegeven door de wens de voeding van het fonds op enige termijn niet langer te baseren op het ziekteverzuim, maar op de feitelijk gedeclareerde vervangingskosten. Naar mijn mening waren (en zijn) er geen argumenten om terug te komen op mijn oordeel over beide offertes. Dat betekende dat de NIA/B&amp;A-offerte mijn sterke voorkeur had (en heeft). Dit leidde tot een bestuurlijk gesprek met het Vervangingsfonds. Op 2 februari 1995 heb ik daarin voorgesteld Prof.dr. J.M.G. Leune om een advies in deze kwestie te vragen. Daarbij is door mij met het bestuur van het Vervangingsfonds overeengekomen dat het uit te bindend zou zijn. Bovendien heb ik mij bereid verklaard nader overleg te voeren met het Vervangingsfonds over verandering van de voedingssystematiek van het fonds in de toekomst. Op 7 maart jl. bracht Prof. Leune advies uit. Samengevat kwam dit op het volgende neer: a. Gelet op de nog slechts beperkt beschikbare tijd werd geadviseerd om voor het schooljaar 1994/1995 het LISWO opdracht te geven het onderzoek uit te voeren conform het PvE. b. Over de opzet van het ziekteverzuimonderzoek leek een nadere gedachtenbepaling wenselijk gegeven de door het bestuur van het Vervangingsfonds kenbaar gemaakte behoefte aan een hernieuwde discussie over de voedingssystematiek van het fonds. c. Mocht nu reeds een beslissing moeten worden genomen over het onderzoek voor 1995/1996 dan was opdrachtverlening aan NIA/B&amp;A goed verdedigbaar. 3. Het ziekteverzuimonderzoek 1994/1995, uit te voeren door het LISWO Terstond nadat Prof. Leune zijn advies had uitgebracht, traden mijn ambtenaren, samen met de ambtelijke vertegenwoordigers van het Vervangingsfonds, in overleg met het LISWO om op zo kort mogelijke termijn te komen tot een plan van aanpak voor de uitvoering van het ziekteverzuimonderzoek 1994/1995. De onderhandelingen met het LISWO over de opdrachtverlening 1994/1995 zijn tot op heden helaas echter nog niet afgerond. Het LISWO blijkt n.l. niet bereid in te gaan op mijn wensen met betrekking tot de eigendomsrechten van het onderzoeksmateriaal. Het is bij beleidsonderzoek zoals dat in mijn opdracht wordt uitgevoerd, gebruikelijk dat het eigendomsrecht van de verzamelde gegevens bij de opdrachtgever ligt. Ik citeer op dit punt het standaardcontract zoals dat door mij met vele onderzoeksinstituten (waaronder ook het LISWO, dat onlangs in het kader van een ander, in mijn opdracht uit te voeren, onderzoek wel bereid bleek deze standaardvoorwaarden te accepteren) pleegt te worden afgesloten: Artikel 6 1. De opdrachtgever krijgt het eigendom van de adviezen, rapporten en andere schriftelijke stukken alsmede databestanden of andere produkten die in het kader van de onderzoeksopdracht dienen te worden geleverd. De opdrachtgever krijgt het recht om deze adviezen, rapporten, databestanden en andere produkten te publiceren en te gebruiken. Modellen, methoden en technieken die speciaal in het kader van de onderzoeksopdracht worden ontwikkeld worden eveneens eigendom van de opdrachtgever. De opdrachtnemer is gerechtigd gebruik te maken van die modellen, methoden en technieken. 2. De opdrachtnemer dient ingevulde vragenlijsten en andere essentieÂ¨le onderzoeksgegevens â€“ ook bestanden voor geautomatiseerde verwerking â€“ gedurende twee jaar na beeÂ¨indiging van het project ordelijk te bewaren. Daarna kunnen databestanden worden overgedragen aan een openbaar archief met inachtneming van artikel 7. Overig materiaal dient na twee jaar te worden vernietigd tenzij de opdrachtgever voordien hiertegen bezwaar maakt. Doel van dit eigendomsrecht is om, zeker waarbij het om jaarlijks te herhalen onderzoek gaat, een eventuele monopolie-positie van een onderzoeksinstituut te voorkomen. Veelal is het noodzakelijk om bij jaarlijks terugkerend onderzoek de gegevens van het voorgaande jaar te betrekken. Het eigendomsrecht van de gegevens bij de opdrachtgever maakt het mogelijk dat door instituut A uitgevoerd onderzoek in jaar t, wordt voortgezet door instituut B in jaar t+1. Overigens krijgt de opdrachtgever niet fysiek de beschikking over tot op de persoon of instelling herleidbare gegevens. De opdrachtgever krijgt het recht doorlevering van de gegevens van instituut A naar B op te dragen. Zoâ€™n overdracht van gegevens, bijzondere omstandigheden daargelaten, kan niet plaatsvinden voordat de oorspronkelijke opdracht is afgerond. Het genoemde standaardcontract wordt zo nodig uitgebreid met een privacy-reglement dat binnen het kader van de Wet Persoonsregistraties (WPR) past. Essentieel onderdeel van zoâ€™n privacy-reglement is dat de respondenten van te voren op de hoogte worden gebracht van het doel van de verzameling en het mogelijk gebruik van de gegevens en dat hen de gelegenheid wordt geboden niet aan het onderzoek deel te nemen (principe van vrijwilligheid). Tenslotte zijn de bestanden die aan een concurrerend bedrijf beschikbaar worden gesteld, niet het â€™eigendomâ€™ van LISWO. Het gaat om bestanden die het LISWO in opdracht van, tegen betaling door en ten behoeve van de opdrachtgever aanlegt. Omdat met het LISWO tot op heden geen overeenstemming kan worden verkregen op dit punt, hebben het bestuur van het Vervangingsfonds en ik het LISWO nog geen formele onderzoeksopdracht m.b.t. het ziekteverzuimpercentage 1994/1995 kunnen verstrekken. 4. Verandering van de voedingssystematiek van het Vervangingsfonds Het door mij in februari jl. toegezegde gesprek over verandering van de voedingssystematiek van het Vervangingsfonds is thans in volle gang. Op de uitkomsten van dat gesprek kan ik niet vooruit lopen. Mocht de uitkomst van het overleg ertoe leiden dat de rol van het ziekteverzuimpercentage in de voeding van het Vervangingsfonds verandert, dan zal ik mij opnieuw bezinnen op het onderzoek. Dit mede in het licht van de andere functies die het onderzoek vervult in de beleidsvoorbereiding van mijn departement. Ministerie van Onderwijs, Cultuur en Wetenschappen Aan het LISWO t.a.v. drs. H. Tromp Zoetermeer, 11 april 1995 Hierbij deel ik u mede dat ik uw Concept-rapport â€™Populatie-onderzoek naar kenmerken van het onderwijzend personeel in het IPTO-bestand (CBS) in vergelijking tot de steekproeven van het LISWO in de schooljaren 1992/â€™93 en 1993/â€™94, alsmede een aanvulling daarop, â€™Globale herberekening van het verzuim (quick scan) in de steekproeven schooljaar 1992/â€™93 en resp. 1993/â€™94 op basis van de populatieverdeling op een aantal kenmerkenâ€™ in goede orde heb ontvangen. De bestudering van uw rapportages geeft aanleiding tot de volgende opmerkingen. Uw inleiding op pagina 1 en 2 van het eerste concept (â€™Populatie-onderzoek ..... enz.â€™) acht ik grotendeels buiten de orde van de gegeven opdracht. Om die reden zal ik commentaar bij deze paragraaf achterwege laten. In het vervolg van het eerste concept wordt op een weinig overzichtelijke wijze verslag gedaan van de representativiteitstoetsing van de LISWO steekproef aan IPTO. De door u getrokken conclusies zijn niet onderbouwd. Een duidelijke conclusie ten aanzien van de representativiteit wordt niet gegeven. In de op mijn verzoek in tweede instantie opgestelde onderbouwing (door u als â€™quick scanâ€™ geÄ±Â¨nterpreteerd) ontbreekt het eveneens aan een heldere en inzichtelijke presentatie van uw berekeningen. Voor zover daar wel zicht op wordt geboden, lijkt er sprake te zijn van een methdologische vergissing daar waar de berekende (?) effecten per kenmerk worden opgeteld en vervolgens door 4 worden gedeeld. Het aldus verkregen gemiddelde effect geeft geen indicatie over de gevolgen voor het ziekteverzuimpercentage van het gebrek aan representativiteit op personeelsniveau (= uitkomstenniveau) van de steekproef. Ik onderschrijf uw opmerking dat een zorgvuldige multivariate analyse de effecten nauwkeurig op het spoor kan brengen. Thans ontbreekt het echter aan de tijd om een dergelijke analyse te laten uitvoeren. Een bijkomende complicatie is dat een dergelijke analyse tenminste betrekking zou moeten hebben op alle voorgaande jaren die bij de voeding van het Vervangingsfonds zijn betrokken. Uit binnen OCenW gemaakte analyses op basis van ons ter beschikking staande gegevens uit IPTO en uw concept-rapport Ziekteverzuim 1993/1994, blijkt in elk geval dat de effecten vermoedelijk aanzienlijk zijn (voor het basisonderwijs lijkt de afwijking in de steekproef te wijzen op een overschatting van het ziekteverzuimpercentage van ca. 0,5% in 1993/1994). Een en ander overziend moet ik tot mijn spijt constateren dat het resultaat van de aanvullende opdracht die ik u heb verstrekt van een teleurstellend kwaliteitsniveau is. Voor de verdere afwikkeling van deze opdracht stel ik u het volgende voor: Het concept-verslag van uw werkzaamheden en uw â€™quick scanâ€™ worden door mij als interne werknotities beschouwd. Dat betekent dat ze niet in een afzonderlijk rapport kunnen worden gepubliceerd. Ten aanzien van het concept-rapport â€™Ziekteverzuim in het onderwijs 1993/1994â€™ acht ik het gewenst dat u een extra paragraaf toevoegt direct na paragraaf 2.3 over de representativiteit van de uitkomsten van de LISWO steekproef op basis van een vergelijking met IPTO 1993/1994. Ik geef u dringend in overweging niet alleen de cijfers in tabelvorm te presenteren, maar ook een grafische presentatie op te nemen (een voorbeeld van zoâ€™n grafische weergave is bijgevoegd). Ten aanzien van de te trekken conclusies lijkt het mij toereikend als u zich beperkt tot een toetsing, en bespreking daarvan, aan de in uw offerte gestelde betrouwbaarheidscriteria voor de steekproef op persoonsniveau (criterium a uit paragraaf 1.1). Een inschatting van de effecten van het gebrek aan representativiteit voor het ziekteverzuimpercentage kan wat OCenW betreft achterwege blijven. lk stem echter wel in met een formulering waarin wordt gesteld dat de gevolgen voor het ziekteverzuimpercentage alleen door middel van een multivariate analyse kunnen worden berekend, maar dat een dergelijke analyse geen deel uitmaakt van de opdracht. Tenslotte verzoek ik u het aldus bijgestelde rapport â€™ Ziekteverzuim in het onderwijs 1993/1994â€™ in vijfvoud als tweede concept uiterlijk 8 mei 1995 te willen aanleveren. Zo spoedig mogelijk daarna zal ik met u in overleg treden over de vaststelling van de definitieve versie en de door OCenW af te nemen oplage. De Minister van Onderwijs, Cultuur en Wetenschappen, namens deze, drs. R. van der Kooy (OnderzoekscooÂ¨rdinator directie AB) ]',\n",
       "     'vraag 1': 'Bent u voornemens, voor verder onderzoek inzake het ziekteverzuim geen gebruik meer te maken van het Liswo? Zo ja, wat zijn daarvoor de argumenten? ',\n",
       "     'vraag 2': 'Was de enige andere serieuze offerte, die van B&A/NIA, veel duurder dan de offerte van Liswo? ',\n",
       "     'vraag 3': 'Welke criteria worden gehanteerd bij de beoordeling van de offertes? Welke onderzoeksopdracht is precies voorgelegd? ',\n",
       "     'vraag 4': 'In hoeverre is de keuze voor een extern onderzoeksinstituut aan de minister van OCW? Welke rol heeft hierin de andere opdrachtgever, het bestuur van het Vervangingsfonds? ',\n",
       "     'vraag 5': 'Is aan Liswo gevraagd op ieder door de opdrachtgevers aan te geven moment een kopie van de bestanden te leveren aan een ander onderzoeksinstituut? ',\n",
       "     'vraag 6': 'Op grond van welke regeling kan een extern onderzoeksinstituut worden verplicht zijn bestanden af te staan aan een concurrerend bedrijf? In hoeverre wordt daarmee de privacy van scholen en werknemers geschaad? ',\n",
       "     'vraag 7': 'Hoe beoordeelt u de handelwijze, zoals beschreven in Het Schoolblad van 17 juni jongstleden? ',\n",
       "     'vraag 8': 'Bent u bereid volledig opening van zaken te geven, zowel over uw handelwijze ten opzichte van het Liswo en het bestuur van het Vergangingsfonds, als over de gegevens die u en dit instituut verdeeld houden? '},\n",
       "    '_type': 'kamervraag'},\n",
       "   {'_id': '92',\n",
       "    '_index': 'kamervragen',\n",
       "    '_score': 1.0,\n",
       "    '_source': {'Afkomstig van': '2000104350',\n",
       "     'Bestand': '13Kb',\n",
       "     'Bibliografische_omschrijving': 'Vragen van het lid Wagenaar (PvdA) aan de staatssecretaris van Binnenlandse Zaken en Koninkrijksrelaties over de brand in een cafÃ© in Volendam. (Ingezonden 3 januari 2001); Antwoord',\n",
       "     'Datum_indiening': '2001-01-19',\n",
       "     'Datum_reaktie': '\\n',\n",
       "     'Indiener': 'Binnenlandse Zaken en Koninkrijksrelaties (BZK)',\n",
       "     'Inhoud': 'Vragen naar de brandveiligheid en controles daarop in een cafÃ© in Volendam, waar brand uitbrak, en horecagelegenheden in het algemeen.',\n",
       "     'Partij vertegenwoordiger': '<persoon partij=\"PvdA\">Wagenaar</persoon>',\n",
       "     'Permalink': '\\nhttp://www.geencommentaar.nl/parlando/index.php?action=doc&filename=KVR12956\\n',\n",
       "     'Rubriek': 'Criminaliteit en openbare orde (Brandpreventie en brandbestrijding)',\n",
       "     'Trefwoorden': 'Branden',\n",
       "     'Vindplaats': 'Kamervragen met antwoord 2000-2001, nr. 549, Tweede Kamer',\n",
       "     'antwoord 1': '[Voor de beantwoording van deze vragen verwijs ik naar mijn brief van 4 januari jongstleden en naar de brief van 15 januari jongstleden van de Minister van Binnenlandse Zaken en Koninkrijksrelaties en mij aan uw Kamer, waarin de thans tot mijn beschikking staande informatie is opgenomen. \\n, De vraag naar de wenselijkheid respectievelijk toereikendheid van jaarlijkse controles op en brandoefeningen in horecagelegenheden wil ik beantwoorden na ommekomst van het door mij aangekondigde onafhankelijk en integraal onderzoek door de commissie onderzoek cafÃ© brand nieuwjaarsnacht 2001 en het onderzoek van het openbaar Ministerie. Een dergelijke aanpak moet passen in het totaal van de te nemen maatregelen. Het is van belang dat gemeenten hun wettelijke bevoegdheden ten aanzien van de brandveiligheid ten volle benutten',\n",
       "     'antwoord 2': 'Ja. Voor een nadere toelichting verwijs ik graag naar de eerdergenoemde brieven aan de Voorzitter van de Tweede Kamer. ]',\n",
       "     'vraag 1': 'Kunt u opheldering verschaffen over de oorzaak van de brand in een cafÃ© in Volendam op 1 januari? ',\n",
       "     'vraag 2': 'Hoe was de brandveiligheid van het pand en wat waren de staat en bruikbaarheid van de noodvoorzieningen? ',\n",
       "     'vraag 3': 'Wanneer heeft een laatste controle op brandveiligheid en noodvoorzieningen van het pand plaatsgevonden? ',\n",
       "     'vraag 4': 'Acht u het raadzaam om in horecagelegenheden waar veel mensen samenkomen, jaarlijkse brandveiligheidscontroles en brandoefeningen te houden? ',\n",
       "     'vraag 5': 'Bent u bereid om een onafhankelijk onderzoek in te stellen naar oorzaak, verloop en bestrijding van deze ramp? '},\n",
       "    '_type': 'kamervraag'}],\n",
       "  'max_score': 1.0,\n",
       "  'total': 1912},\n",
       " 'timed_out': False,\n",
       " 'took': 5}"
      ]
     },
     "execution_count": 14,
     "metadata": {},
     "output_type": "execute_result"
    }
   ],
   "source": [
    "import sys\n",
    "import json\n",
    "from elasticsearch import Elasticsearch\n",
    "\n",
    "HOST = 'http://localhost:9200/'\n",
    "es = Elasticsearch(hosts=[HOST])\n",
    "\n",
    "\n",
    "query={\n",
    "  \"query\": {\n",
    "    \"match_all\": {}\n",
    "  }\n",
    "}\n",
    "\n",
    "es.search(body=query)"
   ]
  },
  {
   "cell_type": "code",
   "execution_count": 15,
   "metadata": {
    "collapsed": false
   },
   "outputs": [
    {
     "data": {
      "text/plain": [
       "{'_shards': {'failed': 0, 'successful': 10, 'total': 10}, 'count': 1912}"
      ]
     },
     "execution_count": 15,
     "metadata": {},
     "output_type": "execute_result"
    }
   ],
   "source": [
    "# The example from https://www.elastic.co/guide/en/elasticsearch/guide/current/_talking_to_elasticsearch.html\n",
    "es.count(body=query)"
   ]
  },
  {
   "cell_type": "markdown",
   "metadata": {},
   "source": [
    "# Putting information in the DB\n",
    "\n",
    "* We follow <https://www.elastic.co/guide/en/elasticsearch/guide/current/_indexing_employee_documents.html>\n",
    "\n",
    "* Notice that the path /megacorp/employee/1 contains three pieces of information:\n",
    "    * megacorp: The index name\n",
    "    * employee: The type name\n",
    "    * 1 : The ID of this particular employee\n",
    "    \n",
    "* We use the `es.index` method "
   ]
  },
  {
   "cell_type": "code",
   "execution_count": 16,
   "metadata": {
    "collapsed": false
   },
   "outputs": [],
   "source": [
    "from collections import Counter,defaultdict\n",
    "from bs4 import BeautifulSoup\n",
    "import os\n",
    "import glob\n",
    "import nltk\n",
    "import math\n",
    "from __future__ import division\n",
    "\n",
    "\n",
    "#This handles all xml files and creates json files with the necessary information\n",
    "counter = 0\n",
    "for file in os.listdir():\n",
    "    counter = counter + 1\n",
    "    #write_file = open(\"data_file\"+str(counter)+\".json\", \"w\")\n",
    "    filename = os.fsdecode(file)\n",
    "    if filename.endswith(\".xml\"):\n",
    "        file = open(filename, 'r')\n",
    "        print(counter)\n",
    "        try:\n",
    "            soup = BeautifulSoup(file, 'lxml')\n",
    "            info = soup.findAll('item')\n",
    "            vraagen = soup.findAll('vraag')\n",
    "            print(vraagen)\n",
    "            antwoorden = soup.findAll('antwoord')\n",
    "            antwoorden = str(antwoorden)\n",
    "            antwoorden = re.sub('<[^>]+>', '', antwoorden)\n",
    "            data_list = []\n",
    "            for item in info:\n",
    "                for word in item:\n",
    "                    data_list.append(word)\n",
    "            data_list.remove('\\n')\n",
    "            data = {}\n",
    "            data ={\n",
    "                \"Document ID \" + data_list[len(data_list)-2]:{\n",
    "                    \"Bibliografische_omschrijving\" : str(data_list[0]),\n",
    "                    \"Bestand\":str(data_list[1]),\n",
    "                    \"Permalink\":str(data_list[2]),\n",
    "                    \"Inhoud\":str(data_list[3]),\n",
    "                    \"Rubriek\":str(data_list[4]),\n",
    "                    \"Trefwoorden\": str(data_list[5]),\n",
    "                    \"Vindplaats\" : str(data_list[6]),\n",
    "                    \"Afkomstig van\":str(data_list[7]),\n",
    "                    \"Indiener\":str(data_list[8]),\n",
    "                    \"Partij vertegenwoordiger\":str(data_list[9]),\n",
    "                    \"Datum_reaktie\":str(data_list[10]),\n",
    "                    \"Datum_indiening\": str(data_list[11])\n",
    "                }\n",
    "            }\n",
    "            vraag_lijst = []\n",
    "            for tag in vraagen:\n",
    "                for vraag in tag:\n",
    "                    vraag_lijst.append(vraag)\n",
    "            print(vraag_lijst)\n",
    "            for i in range(len(vraag_lijst)):\n",
    "                data[\"Document ID \" + data_list[len(data_list)-2]]['vraag '+str(i+1)] = vraag_lijst[i]\n",
    "            antwoord_lijst = []\n",
    "            antwoorden = antwoorden.split('. , ')\n",
    "            for antwoord in antwoorden:\n",
    "                antwoord_lijst.append(antwoord)\n",
    "            for j in range(len(antwoord_lijst)):\n",
    "                data[\"Document ID \" + data_list[len(data_list)-2]]['antwoord '+str(j+1)] = antwoord_lijst[j]\n",
    "            #json.dump(data, write_file)\n",
    "            file.close()\n",
    "            write_file.close()\n",
    "        except:\n",
    "            \"This file is faulty\""
   ]
  },
  {
   "cell_type": "code",
   "execution_count": 20,
   "metadata": {
    "collapsed": false
   },
   "outputs": [
    {
     "name": "stdout",
     "output_type": "stream",
     "text": [
      "[Errno 2] No such file or directory: 'KVR'\n",
      "/home/student/Documents/Zoekmachines/elasticsearch-1.7.1/KVR\n"
     ]
    }
   ],
   "source": []
  },
  {
   "cell_type": "code",
   "execution_count": 26,
   "metadata": {
    "collapsed": false
   },
   "outputs": [
    {
     "name": "stderr",
     "output_type": "stream",
     "text": [
      "PUT http://localhost:9200/kamervragen/kamervraag/1 [status:400 request:0.003s]\n",
      "PUT http://localhost:9200/kamervragen/kamervraag/10 [status:400 request:0.005s]\n"
     ]
    },
    {
     "name": "stdout",
     "output_type": "stream",
     "text": [
      "data_file1305.json\n",
      "failed\n",
      "data_file1621.json\n",
      "data_file1520.json\n",
      "data_file760.json\n",
      "data_file2645.json\n",
      "data_file1708.json\n",
      "data_file2814.json\n",
      "data_file1602.json\n",
      "data_file573.json\n",
      "data_file2314.json\n",
      "failed\n",
      "data_file494.json\n",
      "data_file1159.json\n",
      "data_file2176.json\n",
      "data_file2478.json\n",
      "data_file2008.json\n"
     ]
    },
    {
     "name": "stderr",
     "output_type": "stream",
     "text": [
      "PUT http://localhost:9200/kamervragen/kamervraag/18 [status:400 request:0.002s]\n",
      "PUT http://localhost:9200/kamervragen/kamervraag/19 [status:400 request:0.006s]\n",
      "PUT http://localhost:9200/kamervragen/kamervraag/22 [status:400 request:0.006s]\n"
     ]
    },
    {
     "name": "stdout",
     "output_type": "stream",
     "text": [
      "data_file1338.json\n",
      "data_file2474.json\n",
      "data_file1340.json\n",
      "failed\n",
      "data_file2769.json\n",
      "failed\n",
      "data_file2520.json\n",
      "data_file1237.json\n",
      "data_file621.json\n",
      "failed\n",
      "data_file1405.json\n",
      "data_file1132.json"
     ]
    },
    {
     "name": "stderr",
     "output_type": "stream",
     "text": [
      "PUT http://localhost:9200/kamervragen/kamervraag/26 [status:400 request:0.002s]\n",
      "PUT http://localhost:9200/kamervragen/kamervraag/35 [status:400 request:0.004s]\n",
      "PUT http://localhost:9200/kamervragen/kamervraag/36 [status:400 request:0.001s]\n",
      "PUT http://localhost:9200/kamervragen/kamervraag/38 [status:400 request:0.001s]\n",
      "PUT http://localhost:9200/kamervragen/kamervraag/43 [status:400 request:0.001s]\n",
      "PUT http://localhost:9200/kamervragen/kamervraag/44 [status:400 request:0.002s]\n",
      "PUT http://localhost:9200/kamervragen/kamervraag/45 [status:400 request:0.001s]\n",
      "PUT http://localhost:9200/kamervragen/kamervraag/49 [status:400 request:0.001s]\n"
     ]
    },
    {
     "name": "stdout",
     "output_type": "stream",
     "text": [
      "\n",
      "data_file926.json\n",
      "data_file2986.json\n",
      "failed\n",
      "data_file1227.json\n",
      "data_file1839.json\n",
      "data_file339.json\n",
      "data_file2835.json\n",
      "data_file1932.json\n",
      "data_file329.json\n",
      "data_file1462.json\n",
      "data_file2095.json\n",
      "data_file527.json\n",
      "failed\n",
      "data_file2546.json\n",
      "failed\n",
      "data_file1735.json\n",
      "data_file2120.json\n",
      "failed\n",
      "data_file2032.json\n",
      "data_file322.json\n",
      "data_file343.json\n",
      "data_file2264.json\n",
      "data_file595.json\n",
      "failed\n",
      "data_file631.json\n",
      "failed\n",
      "data_file1195.json\n",
      "failed\n",
      "data_file1093.json\n",
      "data_file64.json\n",
      "data_file1730.json\n",
      "data_file1488.json\n",
      "failed\n",
      "data_file2535.json\n",
      "data_file1007.json\n",
      "data_file1449.json\n",
      "data_file2343.json\n"
     ]
    },
    {
     "name": "stderr",
     "output_type": "stream",
     "text": [
      "PUT http://localhost:9200/kamervragen/kamervraag/57 [status:400 request:0.007s]\n",
      "PUT http://localhost:9200/kamervragen/kamervraag/59 [status:400 request:0.007s]\n",
      "PUT http://localhost:9200/kamervragen/kamervraag/62 [status:400 request:0.002s]\n"
     ]
    },
    {
     "name": "stdout",
     "output_type": "stream",
     "text": [
      "data_file550.json\n",
      "data_file1766.json\n",
      "data_file144.json\n",
      "data_file424.json\n",
      "failed\n",
      "data_file2486.json\n",
      "data_file349.json\n",
      "failed\n",
      "data_file1849.json\n",
      "data_file2635.json\n",
      "data_file1671.json\n"
     ]
    },
    {
     "name": "stderr",
     "output_type": "stream",
     "text": [
      "PUT http://localhost:9200/kamervragen/kamervraag/63 [status:400 request:0.007s]\n",
      "PUT http://localhost:9200/kamervragen/kamervraag/65 [status:400 request:0.002s]\n",
      "PUT http://localhost:9200/kamervragen/kamervraag/70 [status:400 request:0.001s]\n",
      "PUT http://localhost:9200/kamervragen/kamervraag/72 [status:400 request:0.004s]\n",
      "PUT http://localhost:9200/kamervragen/kamervraag/77 [status:400 request:0.005s]\n",
      "PUT http://localhost:9200/kamervragen/kamervraag/81 [status:400 request:0.004s]\n",
      "PUT http://localhost:9200/kamervragen/kamervraag/84 [status:400 request:0.001s]\n",
      "PUT http://localhost:9200/kamervragen/kamervraag/86 [status:400 request:0.001s]\n",
      "PUT http://localhost:9200/kamervragen/kamervraag/88 [status:400 request:0.006s]\n"
     ]
    },
    {
     "name": "stdout",
     "output_type": "stream",
     "text": [
      "failed\n",
      "data_file374.json\n",
      "failed\n",
      "data_file415.json\n",
      "data_file1723.json\n",
      "failed\n",
      "data_file1519.json\n",
      "data_file2627.json\n",
      "data_file2776.json\n",
      "data_file1572.json\n",
      "data_file483.json\n",
      "failed\n",
      "data_file1402.json\n",
      "data_file2050.json\n",
      "failed\n",
      "data_file2975.json\n",
      "data_file59.json\n",
      "data_file416.json\n",
      "data_file1459.json\n",
      "data_file1429.json\n",
      "failed\n",
      "data_file384.json\n",
      "data_file16.json\n",
      "data_file1871.json\n",
      "data_file1725.json\n",
      "failed\n",
      "data_file2742.json\n",
      "data_file1643.json\n",
      "data_file153.json\n",
      "failed\n",
      "data_file1467.json\n",
      "data_file1136.json\n",
      "failed\n",
      "data_file2610.json\n",
      "data_file326.json\n",
      "failed\n",
      "data_file2718.json\n"
     ]
    },
    {
     "name": "stderr",
     "output_type": "stream",
     "text": [
      "PUT http://localhost:9200/kamervragen/kamervraag/90 [status:400 request:0.006s]\n",
      "PUT http://localhost:9200/kamervragen/kamervraag/91 [status:400 request:0.006s]\n",
      "PUT http://localhost:9200/kamervragen/kamervraag/95 [status:400 request:0.002s]\n",
      "PUT http://localhost:9200/kamervragen/kamervraag/97 [status:400 request:0.001s]\n",
      "PUT http://localhost:9200/kamervragen/kamervraag/98 [status:400 request:0.003s]\n"
     ]
    },
    {
     "name": "stdout",
     "output_type": "stream",
     "text": [
      "data_file665.json\n",
      "failed\n",
      "data_file2501.json\n",
      "failed\n",
      "data_file627.json\n",
      "data_file1906.json\n",
      "data_file460.json\n",
      "data_file1963.json\n",
      "failed\n",
      "data_file718.json\n",
      "data_file683.json\n",
      "failed\n",
      "data_file128.json\n"
     ]
    },
    {
     "name": "stderr",
     "output_type": "stream",
     "text": [
      "PUT http://localhost:9200/kamervragen/kamervraag/100 [status:400 request:0.001s]\n",
      "PUT http://localhost:9200/kamervragen/kamervraag/102 [status:400 request:0.001s]\n",
      "PUT http://localhost:9200/kamervragen/kamervraag/103 [status:400 request:0.001s]\n",
      "PUT http://localhost:9200/kamervragen/kamervraag/104 [status:400 request:0.007s]\n",
      "PUT http://localhost:9200/kamervragen/kamervraag/105 [status:400 request:0.001s]\n",
      "PUT http://localhost:9200/kamervragen/kamervraag/106 [status:400 request:0.001s]\n",
      "PUT http://localhost:9200/kamervragen/kamervraag/107 [status:400 request:0.006s]\n",
      "PUT http://localhost:9200/kamervragen/kamervraag/110 [status:400 request:0.005s]\n",
      "PUT http://localhost:9200/kamervragen/kamervraag/111 [status:400 request:0.006s]\n",
      "PUT http://localhost:9200/kamervragen/kamervraag/112 [status:400 request:0.005s]\n",
      "PUT http://localhost:9200/kamervragen/kamervraag/113 [status:400 request:0.005s]\n",
      "PUT http://localhost:9200/kamervragen/kamervraag/116 [status:400 request:0.005s]\n"
     ]
    },
    {
     "name": "stdout",
     "output_type": "stream",
     "text": [
      "failed\n",
      "data_file1533.json\n",
      "data_file1479.json\n",
      "failed\n",
      "data_file1238.json\n",
      "data_file2302.json\n",
      "failed\n",
      "data_file439.json\n",
      "failed\n",
      "data_file2694.json\n",
      "failed\n",
      "data_file1204.json\n",
      "failed\n",
      "data_file921.json\n",
      "failed\n",
      "data_file2421.json\n",
      "failed\n",
      "data_file1887.json\n",
      "data_file242.json\n",
      "data_file2465.json\n",
      "failed\n",
      "data_file1332.json\n",
      "failed\n",
      "data_file896.json\n",
      "failed\n",
      "data_file2537.json\n",
      "failed\n",
      "data_file29.json\n",
      "data_file1644.json\n",
      "data_file2659.json\n",
      "failed\n",
      "data_file611.json\n",
      "data_file2653.json\n",
      "data_file1617.json\n",
      "data_file2443.json\n",
      "data_file1812.json\n",
      "data_file1931.json\n",
      "data_file434.json\n",
      "data_file810.json\n",
      "data_file2475.json\n",
      "data_file1330.json"
     ]
    },
    {
     "name": "stderr",
     "output_type": "stream",
     "text": [
      "PUT http://localhost:9200/kamervragen/kamervraag/129 [status:400 request:0.003s]\n",
      "PUT http://localhost:9200/kamervragen/kamervraag/137 [status:400 request:0.002s]\n",
      "PUT http://localhost:9200/kamervragen/kamervraag/138 [status:400 request:0.006s]\n",
      "PUT http://localhost:9200/kamervragen/kamervraag/141 [status:400 request:0.002s]\n",
      "PUT http://localhost:9200/kamervragen/kamervraag/142 [status:400 request:0.002s]\n"
     ]
    },
    {
     "name": "stdout",
     "output_type": "stream",
     "text": [
      "\n",
      "data_file1385.json\n",
      "data_file600.json\n",
      "data_file1120.json\n",
      "failed\n",
      "data_file2476.json\n",
      "data_file1431.json\n",
      "data_file336.json\n",
      "data_file2973.json\n",
      "data_file1618.json\n",
      "data_file567.json\n",
      "data_file1496.json\n",
      "data_file863.json\n",
      "failed\n",
      "data_file2218.json\n",
      "failed\n",
      "data_file1981.json\n",
      "data_file1404.json\n",
      "data_file1016.json\n",
      "failed\n",
      "data_file2425.json\n"
     ]
    },
    {
     "name": "stderr",
     "output_type": "stream",
     "text": [
      "PUT http://localhost:9200/kamervragen/kamervraag/143 [status:400 request:0.004s]\n",
      "PUT http://localhost:9200/kamervragen/kamervraag/145 [status:400 request:0.007s]\n"
     ]
    },
    {
     "name": "stdout",
     "output_type": "stream",
     "text": [
      "failed\n",
      "data_file777.json\n",
      "failed\n",
      "data_file1819.json\n",
      "data_file189.json\n",
      "failed\n",
      "data_file664.json\n",
      "data_file717.json\n",
      "data_file1328.json\n",
      "data_file962.json\n",
      "data_file794.json\n"
     ]
    },
    {
     "name": "stderr",
     "output_type": "stream",
     "text": [
      "PUT http://localhost:9200/kamervragen/kamervraag/156 [status:400 request:0.002s]\n",
      "PUT http://localhost:9200/kamervragen/kamervraag/160 [status:400 request:0.008s]\n",
      "PUT http://localhost:9200/kamervragen/kamervraag/162 [status:400 request:0.003s]\n",
      "PUT http://localhost:9200/kamervragen/kamervraag/164 [status:400 request:0.002s]\n",
      "PUT http://localhost:9200/kamervragen/kamervraag/165 [status:400 request:0.002s]\n",
      "PUT http://localhost:9200/kamervragen/kamervraag/166 [status:400 request:0.018s]\n"
     ]
    },
    {
     "name": "stdout",
     "output_type": "stream",
     "text": [
      "data_file472.json\n",
      "data_file512.json\n",
      "data_file990.json\n",
      "data_file1599.json\n",
      "data_file1891.json\n",
      "data_file742.json\n",
      "failed\n",
      "data_file971.json\n",
      "data_file958.json\n",
      "data_file1048.json\n",
      "data_file43.json\n",
      "failed\n",
      "data_file2909.json\n",
      "data_file207.json\n",
      "failed\n",
      "data_file1456.json\n",
      "data_file2567.json\n",
      "failed\n",
      "data_file720.json\n",
      "failed\n",
      "data_file617.json\n",
      "failed\n",
      "data_file955.json\n",
      "data_file1243.json\n"
     ]
    },
    {
     "name": "stderr",
     "output_type": "stream",
     "text": [
      "PUT http://localhost:9200/kamervragen/kamervraag/168 [status:400 request:0.010s]\n",
      "PUT http://localhost:9200/kamervragen/kamervraag/169 [status:400 request:0.010s]\n",
      "PUT http://localhost:9200/kamervragen/kamervraag/170 [status:400 request:0.004s]\n",
      "PUT http://localhost:9200/kamervragen/kamervraag/172 [status:400 request:0.005s]\n",
      "PUT http://localhost:9200/kamervragen/kamervraag/173 [status:400 request:0.012s]\n",
      "PUT http://localhost:9200/kamervragen/kamervraag/174 [status:400 request:0.007s]\n"
     ]
    },
    {
     "name": "stdout",
     "output_type": "stream",
     "text": [
      "failed\n",
      "data_file1339.json\n",
      "failed\n",
      "data_file1266.json\n",
      "failed\n",
      "data_file1654.json\n",
      "data_file2091.json\n",
      "failed\n",
      "data_file994.json\n",
      "failed\n",
      "data_file503.json\n",
      "failed\n",
      "data_file2641.json\n"
     ]
    },
    {
     "name": "stderr",
     "output_type": "stream",
     "text": [
      "PUT http://localhost:9200/kamervragen/kamervraag/178 [status:400 request:0.004s]\n",
      "PUT http://localhost:9200/kamervragen/kamervraag/180 [status:400 request:0.003s]\n",
      "PUT http://localhost:9200/kamervragen/kamervraag/183 [status:400 request:0.009s]\n",
      "PUT http://localhost:9200/kamervragen/kamervraag/184 [status:400 request:0.002s]\n",
      "PUT http://localhost:9200/kamervragen/kamervraag/187 [status:400 request:0.038s]\n",
      "PUT http://localhost:9200/kamervragen/kamervraag/188 [status:400 request:0.006s]\n",
      "PUT http://localhost:9200/kamervragen/kamervraag/189 [status:400 request:0.002s]"
     ]
    },
    {
     "name": "stdout",
     "output_type": "stream",
     "text": [
      "data_file1272.json\n",
      "data_file219.json\n",
      "data_file2291.json\n",
      "failed\n",
      "data_file438.json\n",
      "data_file2449.json\n",
      "failed\n",
      "data_file1869.json\n",
      "data_file360.json\n",
      "data_file2886.json\n",
      "failed\n",
      "data_file2382.json\n",
      "failed\n",
      "data_file690.json\n",
      "data_file2083.json\n",
      "data_file649.json\n",
      "failed\n",
      "data_file2188.json\n",
      "failed\n",
      "data_file1910.json\n"
     ]
    },
    {
     "name": "stderr",
     "output_type": "stream",
     "text": [
      "\n",
      "PUT http://localhost:9200/kamervragen/kamervraag/193 [status:400 request:0.014s]\n"
     ]
    },
    {
     "name": "stdout",
     "output_type": "stream",
     "text": [
      "failed\n",
      "data_file589.json\n",
      "data_file1106.json\n",
      "data_file632.json\n",
      "data_file2446.json\n",
      "failed\n",
      "data_file1147.json\n"
     ]
    },
    {
     "name": "stderr",
     "output_type": "stream",
     "text": [
      "PUT http://localhost:9200/kamervragen/kamervraag/196 [status:400 request:0.002s]\n",
      "PUT http://localhost:9200/kamervragen/kamervraag/198 [status:400 request:0.007s]\n",
      "PUT http://localhost:9200/kamervragen/kamervraag/199 [status:400 request:0.011s]\n",
      "PUT http://localhost:9200/kamervragen/kamervraag/202 [status:400 request:0.012s]\n",
      "PUT http://localhost:9200/kamervragen/kamervraag/203 [status:400 request:0.006s]\n",
      "PUT http://localhost:9200/kamervragen/kamervraag/205 [status:400 request:0.004s]\n",
      "PUT http://localhost:9200/kamervragen/kamervraag/209 [status:400 request:0.002s]\n",
      "PUT http://localhost:9200/kamervragen/kamervraag/210 [status:400 request:0.005s]\n"
     ]
    },
    {
     "name": "stdout",
     "output_type": "stream",
     "text": [
      "data_file66.json\n",
      "data_file1458.json\n",
      "failed\n",
      "data_file652.json\n",
      "data_file614.json\n",
      "failed\n",
      "data_file247.json\n",
      "failed\n",
      "data_file852.json\n",
      "data_file2728.json\n",
      "data_file2372.json\n",
      "failed\n",
      "data_file645.json\n",
      "failed\n",
      "data_file1770.json\n",
      "data_file2691.json\n",
      "failed\n",
      "data_file2296.json\n",
      "data_file2526.json\n",
      "data_file1262.json\n",
      "data_file104.json\n",
      "failed\n",
      "data_file2879.json\n",
      "failed\n",
      "data_file846.json\n"
     ]
    },
    {
     "name": "stderr",
     "output_type": "stream",
     "text": [
      "PUT http://localhost:9200/kamervragen/kamervraag/211 [status:400 request:0.002s]\n",
      "PUT http://localhost:9200/kamervragen/kamervraag/212 [status:400 request:0.008s]\n",
      "PUT http://localhost:9200/kamervragen/kamervraag/214 [status:400 request:0.007s]\n",
      "PUT http://localhost:9200/kamervragen/kamervraag/217 [status:400 request:0.003s]\n"
     ]
    },
    {
     "name": "stdout",
     "output_type": "stream",
     "text": [
      "failed\n",
      "data_file1107.json\n",
      "failed\n",
      "data_file1555.json\n",
      "data_file1354.json\n",
      "failed\n",
      "data_file590.json\n",
      "data_file1133.json\n",
      "data_file1296.json\n",
      "failed\n",
      "data_file2309.json\n"
     ]
    },
    {
     "name": "stderr",
     "output_type": "stream",
     "text": [
      "PUT http://localhost:9200/kamervragen/kamervraag/222 [status:400 request:0.002s]\n",
      "PUT http://localhost:9200/kamervragen/kamervraag/224 [status:400 request:0.003s]\n",
      "PUT http://localhost:9200/kamervragen/kamervraag/227 [status:400 request:0.002s]\n"
     ]
    },
    {
     "name": "stdout",
     "output_type": "stream",
     "text": [
      "data_file1244.json\n",
      "data_file1197.json\n",
      "data_file2209.json\n",
      "data_file844.json\n",
      "failed\n",
      "data_file1642.json\n",
      "data_file950.json\n",
      "failed\n",
      "data_file1139.json\n",
      "data_file1627.json\n",
      "data_file2518.json\n",
      "failed\n",
      "data_file1527.json\n",
      "data_file2326.json\n"
     ]
    },
    {
     "name": "stderr",
     "output_type": "stream",
     "text": [
      "PUT http://localhost:9200/kamervragen/kamervraag/231 [status:400 request:0.003s]\n"
     ]
    },
    {
     "name": "stdout",
     "output_type": "stream",
     "text": [
      "data_file2663.json\n",
      "data_file337.json\n",
      "failed\n",
      "data_file2887.json\n"
     ]
    },
    {
     "name": "stderr",
     "output_type": "stream",
     "text": [
      "PUT http://localhost:9200/kamervragen/kamervraag/234 [status:400 request:0.011s]\n",
      "PUT http://localhost:9200/kamervragen/kamervraag/235 [status:400 request:0.006s]\n",
      "PUT http://localhost:9200/kamervragen/kamervraag/236 [status:400 request:0.041s]\n",
      "PUT http://localhost:9200/kamervragen/kamervraag/237 [status:400 request:0.002s]\n",
      "PUT http://localhost:9200/kamervragen/kamervraag/238 [status:400 request:0.004s]\n"
     ]
    },
    {
     "name": "stdout",
     "output_type": "stream",
     "text": [
      "data_file1230.json\n",
      "data_file1214.json\n",
      "failed\n",
      "data_file1413.json\n",
      "failed\n",
      "data_file86.json\n",
      "failed\n",
      "data_file2052.json\n",
      "failed\n",
      "data_file2040.json\n",
      "failed\n",
      "data_file47.json\n",
      "data_file2330.json\n",
      "data_file963.json\n",
      "data_file646.json\n"
     ]
    },
    {
     "name": "stderr",
     "output_type": "stream",
     "text": [
      "PUT http://localhost:9200/kamervragen/kamervraag/243 [status:400 request:0.002s]\n",
      "PUT http://localhost:9200/kamervragen/kamervraag/244 [status:400 request:0.002s]\n",
      "PUT http://localhost:9200/kamervragen/kamervraag/245 [status:400 request:0.002s]\n",
      "PUT http://localhost:9200/kamervragen/kamervraag/246 [status:400 request:0.002s]\n"
     ]
    },
    {
     "name": "stdout",
     "output_type": "stream",
     "text": [
      "data_file2542.json\n",
      "failed\n",
      "data_file423.json\n",
      "failed\n",
      "data_file2134.json\n",
      "failed\n",
      "data_file2252.json\n",
      "failed\n",
      "data_file299.json\n",
      "data_file1311.json\n"
     ]
    },
    {
     "name": "stderr",
     "output_type": "stream",
     "text": [
      "PUT http://localhost:9200/kamervragen/kamervraag/248 [status:400 request:0.013s]\n",
      "PUT http://localhost:9200/kamervragen/kamervraag/249 [status:400 request:0.009s]\n",
      "PUT http://localhost:9200/kamervragen/kamervraag/252 [status:400 request:0.003s]\n",
      "PUT http://localhost:9200/kamervragen/kamervraag/253 [status:400 request:0.002s]\n",
      "PUT http://localhost:9200/kamervragen/kamervraag/258 [status:400 request:0.040s]\n",
      "PUT http://localhost:9200/kamervragen/kamervraag/260 [status:400 request:0.014s]\n",
      "PUT http://localhost:9200/kamervragen/kamervraag/261 [status:400 request:0.013s]\n"
     ]
    },
    {
     "name": "stdout",
     "output_type": "stream",
     "text": [
      "failed\n",
      "data_file2373.json\n",
      "failed\n",
      "data_file1377.json\n",
      "data_file1909.json\n",
      "data_file1865.json\n",
      "failed\n",
      "data_file1476.json\n",
      "failed\n",
      "data_file2194.json\n",
      "data_file1923.json\n",
      "data_file2283.json\n",
      "data_file1258.json\n",
      "data_file1021.json\n",
      "failed\n",
      "data_file2454.json\n",
      "data_file1051.json\n",
      "failed\n",
      "data_file732.json\n",
      "failed\n",
      "data_file2618.json\n",
      "data_file705.json\n",
      "data_file2357.json\n"
     ]
    },
    {
     "name": "stderr",
     "output_type": "stream",
     "text": [
      "PUT http://localhost:9200/kamervragen/kamervraag/275 [status:400 request:0.004s]\n",
      "PUT http://localhost:9200/kamervragen/kamervraag/276 [status:400 request:0.002s]\n"
     ]
    },
    {
     "name": "stdout",
     "output_type": "stream",
     "text": [
      "data_file1530.json\n",
      "data_file686.json\n",
      "data_file1684.json\n",
      "data_file1856.json\n",
      "data_file1399.json\n",
      "data_file1902.json\n",
      "data_file635.json\n",
      "data_file170.json\n",
      "data_file2727.json\n",
      "data_file736.json\n",
      "data_file2017.json\n",
      "failed\n",
      "data_file2754.json\n",
      "failed\n",
      "data_file1699.json\n",
      "data_file2144.json\n",
      "data_file1762.json\n",
      "data_file211.json\n"
     ]
    },
    {
     "name": "stderr",
     "output_type": "stream",
     "text": [
      "PUT http://localhost:9200/kamervragen/kamervraag/280 [status:400 request:0.026s]\n",
      "PUT http://localhost:9200/kamervragen/kamervraag/284 [status:400 request:0.004s]\n",
      "PUT http://localhost:9200/kamervragen/kamervraag/285 [status:400 request:0.011s]\n",
      "PUT http://localhost:9200/kamervragen/kamervraag/296 [status:400 request:0.001s]\n"
     ]
    },
    {
     "name": "stdout",
     "output_type": "stream",
     "text": [
      "failed\n",
      "data_file1917.json\n",
      "data_file997.json\n",
      "data_file2368.json\n",
      "data_file1516.json\n",
      "failed\n",
      "data_file1828.json\n",
      "failed\n",
      "data_file951.json\n",
      "data_file534.json\n",
      "data_file1414.json\n",
      "data_file688.json\n",
      "data_file1392.json\n",
      "data_file2110.json\n",
      "data_file240.json\n",
      "data_file2805.json\n",
      "data_file1773.json\n",
      "data_file1672.json\n",
      "data_file1782.json\n",
      "failed\n",
      "data_file188.json\n"
     ]
    },
    {
     "name": "stderr",
     "output_type": "stream",
     "text": [
      "PUT http://localhost:9200/kamervragen/kamervraag/298 [status:400 request:0.004s]\n",
      "PUT http://localhost:9200/kamervragen/kamervraag/301 [status:400 request:0.004s]\n",
      "PUT http://localhost:9200/kamervragen/kamervraag/302 [status:400 request:0.003s]\n",
      "PUT http://localhost:9200/kamervragen/kamervraag/304 [status:400 request:0.006s]\n",
      "PUT http://localhost:9200/kamervragen/kamervraag/310 [status:400 request:0.005s]\n",
      "PUT http://localhost:9200/kamervragen/kamervraag/313 [status:400 request:0.003s]\n",
      "PUT http://localhost:9200/kamervragen/kamervraag/317 [status:400 request:0.003s]\n",
      "PUT http://localhost:9200/kamervragen/kamervraag/321 [status:400 request:0.002s]\n"
     ]
    },
    {
     "name": "stdout",
     "output_type": "stream",
     "text": [
      "data_file1315.json\n",
      "failed\n",
      "data_file2433.json\n",
      "data_file2684.json\n",
      "data_file319.json\n",
      "failed\n",
      "data_file2175.json\n",
      "failed\n",
      "data_file1183.json\n",
      "data_file2682.json\n",
      "failed\n",
      "data_file607.json\n",
      "data_file1062.json\n",
      "data_file28.json\n",
      "data_file1169.json\n",
      "data_file331.json\n",
      "data_file58.json\n",
      "failed\n",
      "data_file2366.json\n",
      "data_file1638.json\n",
      "data_file2932.json\n",
      "failed\n",
      "data_file2890.json\n",
      "data_file1327.json\n",
      "data_file1115.json\n",
      "data_file2407.json\n",
      "failed\n",
      "data_file2143.json\n",
      "data_file1424.json\n",
      "data_file2580.json\n",
      "data_file593.json\n",
      "failed\n",
      "data_file1368.json\n",
      "data_file2026.json\n",
      "data_file2686.json"
     ]
    },
    {
     "name": "stderr",
     "output_type": "stream",
     "text": [
      "PUT http://localhost:9200/kamervragen/kamervraag/324 [status:400 request:0.002s]\n",
      "PUT http://localhost:9200/kamervragen/kamervraag/325 [status:400 request:0.003s]\n",
      "PUT http://localhost:9200/kamervragen/kamervraag/328 [status:400 request:0.006s]\n",
      "PUT http://localhost:9200/kamervragen/kamervraag/331 [status:400 request:0.003s]\n",
      "PUT http://localhost:9200/kamervragen/kamervraag/332 [status:400 request:0.011s]\n",
      "PUT http://localhost:9200/kamervragen/kamervraag/335 [status:400 request:0.002s]\n",
      "PUT http://localhost:9200/kamervragen/kamervraag/342 [status:400 request:0.010s]\n"
     ]
    },
    {
     "name": "stdout",
     "output_type": "stream",
     "text": [
      "\n",
      "failed\n",
      "data_file563.json\n",
      "failed\n",
      "data_file323.json\n",
      "data_file2954.json\n",
      "data_file1736.json\n",
      "failed\n",
      "data_file6.json\n",
      "data_file2966.json\n",
      "data_file50.json\n",
      "failed\n",
      "data_file129.json\n",
      "failed\n",
      "data_file612.json\n",
      "data_file1958.json\n",
      "data_file2908.json\n",
      "failed\n",
      "data_file2152.json\n",
      "data_file2529.json\n",
      "data_file819.json\n",
      "data_file602.json\n",
      "data_file197.json\n",
      "data_file1170.json\n",
      "data_file1212.json\n",
      "failed\n",
      "data_file1493.json\n",
      "data_file2999.json\n",
      "data_file381.json\n"
     ]
    },
    {
     "name": "stderr",
     "output_type": "stream",
     "text": [
      "PUT http://localhost:9200/kamervragen/kamervraag/346 [status:400 request:0.002s]\n",
      "PUT http://localhost:9200/kamervragen/kamervraag/347 [status:400 request:0.007s]\n",
      "PUT http://localhost:9200/kamervragen/kamervraag/352 [status:400 request:0.007s]\n"
     ]
    },
    {
     "name": "stdout",
     "output_type": "stream",
     "text": [
      "data_file2497.json\n",
      "failed\n",
      "data_file2577.json\n",
      "failed\n",
      "data_file1289.json\n",
      "data_file1517.json\n",
      "data_file231.json\n",
      "data_file752.json\n",
      "data_file1653.json\n",
      "failed\n",
      "data_file1971.json\n",
      "data_file1633.json\n"
     ]
    },
    {
     "name": "stderr",
     "output_type": "stream",
     "text": [
      "PUT http://localhost:9200/kamervragen/kamervraag/358 [status:400 request:0.002s]\n",
      "PUT http://localhost:9200/kamervragen/kamervraag/362 [status:400 request:0.002s]\n",
      "PUT http://localhost:9200/kamervragen/kamervraag/367 [status:400 request:0.010s]\n",
      "PUT http://localhost:9200/kamervragen/kamervraag/375 [status:400 request:0.001s]\n"
     ]
    },
    {
     "name": "stdout",
     "output_type": "stream",
     "text": [
      "data_file1978.json\n",
      "data_file333.json\n",
      "data_file2955.json\n",
      "data_file673.json\n",
      "failed\n",
      "data_file781.json\n",
      "data_file2167.json\n",
      "data_file30.json\n",
      "data_file444.json\n",
      "failed\n",
      "data_file2261.json\n",
      "data_file1067.json\n",
      "data_file919.json\n",
      "data_file305.json\n",
      "data_file1851.json\n",
      "failed\n",
      "data_file109.json\n",
      "data_file942.json\n",
      "data_file400.json\n",
      "data_file2611.json\n",
      "data_file508.json\n",
      "data_file13.json\n",
      "data_file740.json\n",
      "data_file1207.json\n",
      "failed\n",
      "data_file2411.json\n"
     ]
    },
    {
     "name": "stderr",
     "output_type": "stream",
     "text": [
      "PUT http://localhost:9200/kamervragen/kamervraag/377 [status:400 request:0.006s]\n",
      "PUT http://localhost:9200/kamervragen/kamervraag/378 [status:400 request:0.002s]\n",
      "PUT http://localhost:9200/kamervragen/kamervraag/385 [status:400 request:0.009s]\n",
      "PUT http://localhost:9200/kamervragen/kamervraag/387 [status:400 request:0.006s]\n",
      "PUT http://localhost:9200/kamervragen/kamervraag/389 [status:400 request:0.005s]\n",
      "PUT http://localhost:9200/kamervragen/kamervraag/390 [status:400 request:0.001s]\n",
      "PUT http://localhost:9200/kamervragen/kamervraag/391 [status:400 request:0.001s]\n",
      "PUT http://localhost:9200/kamervragen/kamervraag/395 [status:400 request:0.002s]\n",
      "PUT http://localhost:9200/kamervragen/kamervraag/396 [status:400 request:0.003s]\n",
      "PUT http://localhost:9200/kamervragen/kamervraag/398 [status:400 request:0.001s]\n",
      "PUT http://localhost:9200/kamervragen/kamervraag/399 [status:400 request:0.017s]\n",
      "PUT http://localhost:9200/kamervragen/kamervraag/401 [status:400 request:0.003s]\n",
      "PUT http://localhost:9200/kamervragen/kamervraag/403 [status:400 request:0.001s]\n",
      "PUT http://localhost:9200/kamervragen/kamervraag/406 [status:400 request:0.001s]\n",
      "PUT http://localhost:9200/kamervragen/kamervraag/410 [status:400 request:0.001s]\n",
      "PUT http://localhost:9200/kamervragen/kamervraag/411 [status:400 request:0.002s]\n",
      "PUT http://localhost:9200/kamervragen/kamervraag/412 [status:400 request:0.006s]\n",
      "PUT http://localhost:9200/kamervragen/kamervraag/413 [status:400 request:0.003s]\n",
      "PUT http://localhost:9200/kamervragen/kamervraag/414 [status:400 request:0.003s]\n"
     ]
    },
    {
     "name": "stdout",
     "output_type": "stream",
     "text": [
      "data_file648.json\n",
      "failed\n",
      "data_file1701.json\n",
      "failed\n",
      "data_file1973.json\n",
      "data_file2288.json\n",
      "data_file2953.json\n",
      "data_file729.json\n",
      "data_file79.json\n",
      "data_file2862.json\n",
      "data_file1409.json\n",
      "failed\n",
      "data_file2041.json\n",
      "data_file946.json\n",
      "failed\n",
      "data_file1027.json\n",
      "data_file2482.json\n",
      "failed\n",
      "data_file1594.json\n",
      "failed\n",
      "data_file2275.json\n",
      "failed\n",
      "data_file2111.json\n",
      "data_file196.json\n",
      "data_file2649.json\n",
      "data_file2722.json\n",
      "failed\n",
      "data_file1573.json\n",
      "failed\n",
      "data_file2836.json\n",
      "data_file1428.json\n",
      "failed\n",
      "data_file551.json\n",
      "failed\n",
      "data_file111.json\n",
      "data_file1607.json\n",
      "failed\n",
      "data_file2548.json\n",
      "data_file174.json\n",
      "failed\n",
      "data_file191.json\n",
      "data_file1525.json\n",
      "data_file2448.json\n",
      "failed\n",
      "data_file2709.json\n",
      "data_file1826.json\n",
      "data_file2171.json\n",
      "data_file1930.json\n",
      "failed\n",
      "data_file2888.json\n",
      "failed\n",
      "data_file1522.json\n",
      "failed\n",
      "data_file1681.json\n",
      "failed\n",
      "data_file2941.json\n",
      "failed\n",
      "data_file1426.json\n",
      "data_file2048.json\n"
     ]
    },
    {
     "name": "stderr",
     "output_type": "stream",
     "text": [
      "PUT http://localhost:9200/kamervragen/kamervraag/416 [status:400 request:0.005s]\n",
      "PUT http://localhost:9200/kamervragen/kamervraag/417 [status:400 request:0.002s]\n",
      "PUT http://localhost:9200/kamervragen/kamervraag/421 [status:400 request:0.009s]\n",
      "PUT http://localhost:9200/kamervragen/kamervraag/422 [status:400 request:0.002s]\n",
      "PUT http://localhost:9200/kamervragen/kamervraag/423 [status:400 request:0.009s]\n",
      "PUT http://localhost:9200/kamervragen/kamervraag/424 [status:400 request:0.002s]\n",
      "PUT http://localhost:9200/kamervragen/kamervraag/425 [status:400 request:0.001s]\n",
      "PUT http://localhost:9200/kamervragen/kamervraag/426 [status:400 request:0.001s]\n",
      "PUT http://localhost:9200/kamervragen/kamervraag/427 [status:400 request:0.005s]\n",
      "PUT http://localhost:9200/kamervragen/kamervraag/432 [status:400 request:0.002s]\n",
      "PUT http://localhost:9200/kamervragen/kamervraag/435 [status:400 request:0.002s]\n",
      "PUT http://localhost:9200/kamervragen/kamervraag/436 [status:400 request:0.002s]\n",
      "PUT http://localhost:9200/kamervragen/kamervraag/438 [status:400 request:0.001s]\n"
     ]
    },
    {
     "name": "stdout",
     "output_type": "stream",
     "text": [
      "failed\n",
      "data_file238.json\n",
      "failed\n",
      "data_file2204.json\n",
      "data_file1986.json\n",
      "data_file1913.json\n",
      "data_file1061.json\n",
      "failed\n",
      "data_file1565.json\n",
      "failed\n",
      "data_file44.json\n",
      "failed\n",
      "data_file2934.json\n",
      "failed\n",
      "data_file2125.json\n",
      "failed\n",
      "data_file2821.json\n",
      "failed\n",
      "data_file1217.json\n",
      "failed\n",
      "data_file2348.json\n",
      "data_file227.json\n",
      "data_file1967.json\n",
      "data_file1791.json\n",
      "data_file2811.json\n",
      "failed\n",
      "data_file2441.json\n",
      "data_file2788.json\n",
      "data_file2943.json\n",
      "failed\n",
      "data_file1381.json\n",
      "failed\n",
      "data_file2840.json\n",
      "data_file982.json\n",
      "failed\n",
      "data_file2702.json\n"
     ]
    },
    {
     "name": "stderr",
     "output_type": "stream",
     "text": [
      "PUT http://localhost:9200/kamervragen/kamervraag/440 [status:400 request:0.002s]\n",
      "PUT http://localhost:9200/kamervragen/kamervraag/443 [status:400 request:0.005s]\n",
      "PUT http://localhost:9200/kamervragen/kamervraag/446 [status:400 request:0.002s]\n",
      "PUT http://localhost:9200/kamervragen/kamervraag/451 [status:400 request:0.007s]\n",
      "PUT http://localhost:9200/kamervragen/kamervraag/454 [status:400 request:0.001s]\n",
      "PUT http://localhost:9200/kamervragen/kamervraag/455 [status:400 request:0.001s]\n",
      "PUT http://localhost:9200/kamervragen/kamervraag/456 [status:400 request:0.001s]\n",
      "PUT http://localhost:9200/kamervragen/kamervraag/460 [status:400 request:0.002s]\n"
     ]
    },
    {
     "name": "stdout",
     "output_type": "stream",
     "text": [
      "data_file429.json\n",
      "failed\n",
      "data_file1081.json\n",
      "data_file2108.json\n",
      "data_file1634.json\n",
      "failed\n",
      "data_file2001.json\n",
      "data_file2274.json\n",
      "data_file2265.json\n",
      "failed\n",
      "data_file2844.json\n",
      "data_file442.json\n",
      "data_file1447.json\n",
      "data_file989.json\n",
      "data_file2470.json\n",
      "failed\n",
      "data_file1461.json\n",
      "data_file1196.json\n",
      "data_file2829.json\n",
      "failed\n",
      "data_file988.json\n",
      "failed\n",
      "data_file2376.json\n",
      "failed\n",
      "data_file953.json\n",
      "data_file1201.json\n",
      "data_file1876.json\n",
      "data_file2687.json\n",
      "failed\n",
      "data_file1771.json\n"
     ]
    },
    {
     "name": "stderr",
     "output_type": "stream",
     "text": [
      "PUT http://localhost:9200/kamervragen/kamervraag/461 [status:400 request:0.029s]\n",
      "PUT http://localhost:9200/kamervragen/kamervraag/462 [status:400 request:0.002s]\n",
      "PUT http://localhost:9200/kamervragen/kamervraag/463 [status:400 request:0.007s]\n",
      "PUT http://localhost:9200/kamervragen/kamervraag/467 [status:400 request:0.002s]\n",
      "PUT http://localhost:9200/kamervragen/kamervraag/469 [status:400 request:0.003s]\n",
      "PUT http://localhost:9200/kamervragen/kamervraag/470 [status:400 request:0.008s]\n",
      "PUT http://localhost:9200/kamervragen/kamervraag/475 [status:400 request:0.001s]\n",
      "PUT http://localhost:9200/kamervragen/kamervraag/477 [status:400 request:0.002s]\n",
      "PUT http://localhost:9200/kamervragen/kamervraag/479 [status:400 request:0.012s]\n"
     ]
    },
    {
     "name": "stdout",
     "output_type": "stream",
     "text": [
      "failed\n",
      "data_file839.json\n",
      "failed\n",
      "data_file1083.json\n",
      "failed\n",
      "data_file140.json\n",
      "data_file1150.json\n",
      "data_file552.json\n",
      "data_file1145.json\n",
      "failed\n",
      "data_file177.json\n",
      "data_file750.json\n",
      "failed\n",
      "data_file355.json\n",
      "failed\n",
      "data_file2816.json\n",
      "data_file2259.json\n",
      "data_file1620.json\n",
      "data_file1419.json\n",
      "data_file904.json\n",
      "failed\n",
      "data_file1825.json\n",
      "data_file1117.json\n",
      "failed\n",
      "data_file1110.json\n",
      "data_file1209.json\n",
      "failed\n",
      "data_file653.json\n",
      "data_file1728.json\n"
     ]
    },
    {
     "name": "stderr",
     "output_type": "stream",
     "text": [
      "PUT http://localhost:9200/kamervragen/kamervraag/481 [status:400 request:0.013s]\n",
      "PUT http://localhost:9200/kamervragen/kamervraag/485 [status:400 request:0.008s]\n",
      "PUT http://localhost:9200/kamervragen/kamervraag/486 [status:400 request:0.002s]\n",
      "PUT http://localhost:9200/kamervragen/kamervraag/491 [status:400 request:0.009s]\n",
      "PUT http://localhost:9200/kamervragen/kamervraag/493 [status:400 request:0.016s]\n",
      "PUT http://localhost:9200/kamervragen/kamervraag/494 [status:400 request:0.011s]\n",
      "PUT http://localhost:9200/kamervragen/kamervraag/496 [status:400 request:0.008s]\n",
      "PUT http://localhost:9200/kamervragen/kamervraag/497 [status:400 request:0.006s]\n",
      "PUT http://localhost:9200/kamervragen/kamervraag/500 [status:400 request:0.008s]\n"
     ]
    },
    {
     "name": "stdout",
     "output_type": "stream",
     "text": [
      "failed\n",
      "data_file805.json\n",
      "data_file1820.json\n",
      "data_file894.json\n",
      "data_file658.json\n",
      "failed\n",
      "data_file304.json\n",
      "failed\n",
      "data_file2440.json\n",
      "data_file1841.json\n",
      "data_file1604.json\n",
      "data_file747.json\n",
      "data_file1125.json\n",
      "failed\n",
      "data_file1815.json\n",
      "data_file1270.json\n",
      "failed\n",
      "data_file95.json\n",
      "failed\n",
      "data_file519.json\n",
      "data_file2671.json\n",
      "failed\n",
      "data_file367.json\n",
      "failed\n",
      "data_file2061.json\n",
      "data_file159.json\n",
      "data_file2555.json\n",
      "failed\n",
      "data_file2119.json\n"
     ]
    },
    {
     "name": "stderr",
     "output_type": "stream",
     "text": [
      "PUT http://localhost:9200/kamervragen/kamervraag/503 [status:400 request:0.011s]\n",
      "PUT http://localhost:9200/kamervragen/kamervraag/506 [status:400 request:0.007s]\n",
      "PUT http://localhost:9200/kamervragen/kamervraag/509 [status:400 request:0.004s]\n",
      "PUT http://localhost:9200/kamervragen/kamervraag/513 [status:400 request:0.043s]\n",
      "PUT http://localhost:9200/kamervragen/kamervraag/514 [status:400 request:0.011s]\n",
      "PUT http://localhost:9200/kamervragen/kamervraag/515 [status:400 request:0.003s]\n"
     ]
    },
    {
     "name": "stdout",
     "output_type": "stream",
     "text": [
      "data_file2460.json\n",
      "data_file24.json\n",
      "failed\n",
      "data_file1811.json\n",
      "data_file2320.json\n",
      "data_file2333.json\n",
      "failed\n",
      "data_file1553.json\n",
      "data_file2286.json\n",
      "data_file186.json\n",
      "failed\n",
      "data_file1574.json\n",
      "data_file1881.json\n",
      "data_file2884.json\n",
      "data_file698.json\n",
      "failed\n",
      "data_file2863.json\n",
      "failed\n",
      "data_file397.json\n",
      "failed\n",
      "data_file1534.json\n"
     ]
    },
    {
     "name": "stderr",
     "output_type": "stream",
     "text": [
      "PUT http://localhost:9200/kamervragen/kamervraag/516 [status:400 request:0.008s]\n",
      "PUT http://localhost:9200/kamervragen/kamervraag/519 [status:400 request:0.009s]\n",
      "PUT http://localhost:9200/kamervragen/kamervraag/520 [status:400 request:0.006s]\n",
      "PUT http://localhost:9200/kamervragen/kamervraag/522 [status:400 request:0.014s]\n",
      "PUT http://localhost:9200/kamervragen/kamervraag/527 [status:400 request:0.009s]\n",
      "PUT http://localhost:9200/kamervragen/kamervraag/528 [status:400 request:0.016s]\n",
      "PUT http://localhost:9200/kamervragen/kamervraag/529 [status:400 request:0.002s]\n",
      "PUT http://localhost:9200/kamervragen/kamervraag/532 [status:400 request:0.003s]\n"
     ]
    },
    {
     "name": "stdout",
     "output_type": "stream",
     "text": [
      "failed\n",
      "data_file2221.json\n",
      "data_file2642.json\n",
      "data_file1667.json\n",
      "failed\n",
      "data_file2774.json\n",
      "failed\n",
      "data_file1475.json\n",
      "data_file290.json\n",
      "failed\n",
      "data_file1580.json\n",
      "data_file2034.json\n",
      "data_file1487.json\n",
      "data_file223.json\n",
      "data_file1692.json\n",
      "failed\n",
      "data_file944.json\n",
      "failed\n",
      "data_file991.json\n",
      "failed\n",
      "data_file2318.json\n",
      "data_file288.json\n",
      "data_file1710.json\n",
      "failed\n",
      "data_file1544.json\n",
      "data_file1064.json\n"
     ]
    },
    {
     "name": "stderr",
     "output_type": "stream",
     "text": [
      "PUT http://localhost:9200/kamervragen/kamervraag/534 [status:400 request:0.019s]\n",
      "PUT http://localhost:9200/kamervragen/kamervraag/535 [status:400 request:0.010s]\n",
      "PUT http://localhost:9200/kamervragen/kamervraag/537 [status:400 request:0.013s]\n",
      "PUT http://localhost:9200/kamervragen/kamervraag/538 [status:400 request:0.010s]\n",
      "PUT http://localhost:9200/kamervragen/kamervraag/542 [status:400 request:0.013s]\n",
      "PUT http://localhost:9200/kamervragen/kamervraag/546 [status:400 request:0.008s]\n",
      "PUT http://localhost:9200/kamervragen/kamervraag/547 [status:400 request:0.007s]\n",
      "PUT http://localhost:9200/kamervragen/kamervraag/549 [status:400 request:0.003s]\n"
     ]
    },
    {
     "name": "stdout",
     "output_type": "stream",
     "text": [
      "failed\n",
      "data_file107.json\n",
      "failed\n",
      "data_file1362.json\n",
      "data_file2705.json\n",
      "failed\n",
      "data_file426.json\n",
      "failed\n",
      "data_file2753.json\n",
      "data_file842.json\n",
      "data_file1034.json\n",
      "data_file933.json\n",
      "failed\n",
      "data_file2195.json\n",
      "data_file2724.json\n",
      "data_file125.json\n",
      "data_file102.json\n",
      "failed\n",
      "data_file801.json\n",
      "failed\n",
      "data_file893.json\n",
      "data_file2747.json\n",
      "failed\n",
      "data_file1734.json\n"
     ]
    },
    {
     "name": "stderr",
     "output_type": "stream",
     "text": [
      "PUT http://localhost:9200/kamervragen/kamervraag/564 [status:400 request:0.001s]\n",
      "PUT http://localhost:9200/kamervragen/kamervraag/565 [status:400 request:0.013s]\n",
      "PUT http://localhost:9200/kamervragen/kamervraag/574 [status:400 request:0.002s]\n"
     ]
    },
    {
     "name": "stdout",
     "output_type": "stream",
     "text": [
      "data_file808.json\n",
      "data_file2159.json\n",
      "data_file1206.json\n",
      "data_file401.json\n",
      "data_file1100.json\n",
      "data_file1678.json\n",
      "data_file2139.json\n",
      "data_file1393.json\n",
      "data_file2181.json\n",
      "data_file1831.json\n",
      "data_file1861.json\n",
      "data_file1074.json\n",
      "data_file918.json\n",
      "data_file1830.json\n",
      "failed\n",
      "data_file2644.json\n",
      "failed\n",
      "data_file199.json\n",
      "data_file1398.json\n",
      "data_file2010.json\n",
      "data_file1004.json\n",
      "data_file2339.json\n",
      "data_file1992.json\n",
      "data_file2699.json\n",
      "data_file2127.json\n",
      "data_file517.json\n",
      "failed\n",
      "data_file507.json\n"
     ]
    },
    {
     "name": "stderr",
     "output_type": "stream",
     "text": [
      "PUT http://localhost:9200/kamervragen/kamervraag/575 [status:400 request:0.060s]\n",
      "PUT http://localhost:9200/kamervragen/kamervraag/577 [status:400 request:0.001s]\n",
      "PUT http://localhost:9200/kamervragen/kamervraag/581 [status:400 request:0.006s]\n",
      "PUT http://localhost:9200/kamervragen/kamervraag/582 [status:400 request:0.004s]\n",
      "PUT http://localhost:9200/kamervragen/kamervraag/588 [status:400 request:0.002s]\n",
      "PUT http://localhost:9200/kamervragen/kamervraag/590 [status:400 request:0.005s]\n",
      "PUT http://localhost:9200/kamervragen/kamervraag/593 [status:400 request:0.011s]\n",
      "PUT http://localhost:9200/kamervragen/kamervraag/594 [status:400 request:0.005s]\n",
      "PUT http://localhost:9200/kamervragen/kamervraag/595 [status:400 request:0.012s]\n"
     ]
    },
    {
     "name": "stdout",
     "output_type": "stream",
     "text": [
      "failed\n",
      "data_file1818.json\n",
      "data_file1914.json\n",
      "failed\n",
      "data_file771.json\n",
      "data_file393.json\n",
      "data_file1319.json\n",
      "data_file1161.json\n",
      "failed\n",
      "data_file2114.json\n",
      "failed\n",
      "data_file2028.json\n",
      "data_file2117.json\n",
      "data_file1122.json\n",
      "data_file1927.json\n",
      "data_file1134.json\n",
      "data_file1570.json\n",
      "failed\n",
      "data_file1615.json\n",
      "data_file2401.json\n",
      "failed\n",
      "data_file2990.json\n",
      "data_file1579.json\n",
      "data_file2834.json\n",
      "failed\n",
      "data_file2945.json\n",
      "failed\n",
      "data_file142.json\n",
      "failed\n",
      "data_file2151.json\n",
      "data_file598.json\n"
     ]
    },
    {
     "name": "stderr",
     "output_type": "stream",
     "text": [
      "PUT http://localhost:9200/kamervragen/kamervraag/598 [status:400 request:0.012s]\n",
      "PUT http://localhost:9200/kamervragen/kamervraag/600 [status:400 request:0.009s]\n",
      "PUT http://localhost:9200/kamervragen/kamervraag/601 [status:400 request:0.013s]\n",
      "PUT http://localhost:9200/kamervragen/kamervraag/602 [status:400 request:0.001s]\n",
      "PUT http://localhost:9200/kamervragen/kamervraag/605 [status:400 request:0.003s]\n",
      "PUT http://localhost:9200/kamervragen/kamervraag/610 [status:400 request:0.002s]\n",
      "PUT http://localhost:9200/kamervragen/kamervraag/611 [status:400 request:0.005s]\n"
     ]
    },
    {
     "name": "stdout",
     "output_type": "stream",
     "text": [
      "data_file2100.json\n",
      "failed\n",
      "data_file769.json\n",
      "data_file2698.json\n",
      "failed\n",
      "data_file1491.json\n",
      "failed\n",
      "data_file213.json\n",
      "failed\n",
      "data_file1655.json\n",
      "data_file1536.json\n",
      "data_file803.json\n",
      "failed\n",
      "data_file696.json\n",
      "data_file2901.json\n",
      "data_file836.json\n",
      "data_file874.json\n",
      "data_file2860.json\n",
      "failed\n",
      "data_file1416.json\n",
      "failed\n",
      "data_file1838.json\n",
      "data_file2068.json\n",
      "data_file2137.json\n"
     ]
    },
    {
     "name": "stderr",
     "output_type": "stream",
     "text": [
      "PUT http://localhost:9200/kamervragen/kamervraag/615 [status:400 request:0.012s]\n",
      "PUT http://localhost:9200/kamervragen/kamervraag/617 [status:400 request:0.014s]\n",
      "PUT http://localhost:9200/kamervragen/kamervraag/619 [status:400 request:0.018s]\n"
     ]
    },
    {
     "name": "stdout",
     "output_type": "stream",
     "text": [
      "data_file2795.json\n",
      "failed\n",
      "data_file2681.json\n",
      "data_file960.json\n",
      "failed\n",
      "data_file2755.json\n",
      "data_file2668.json\n",
      "failed\n",
      "data_file710.json\n",
      "data_file1999.json\n",
      "data_file1179.json\n"
     ]
    },
    {
     "name": "stderr",
     "output_type": "stream",
     "text": [
      "PUT http://localhost:9200/kamervragen/kamervraag/623 [status:400 request:0.007s]\n",
      "PUT http://localhost:9200/kamervragen/kamervraag/624 [status:400 request:0.011s]\n",
      "PUT http://localhost:9200/kamervragen/kamervraag/625 [status:400 request:0.058s]\n",
      "PUT http://localhost:9200/kamervragen/kamervraag/627 [status:400 request:0.002s]\n"
     ]
    },
    {
     "name": "stdout",
     "output_type": "stream",
     "text": [
      "data_file1521.json\n",
      "failed\n",
      "data_file1508.json\n",
      "failed\n",
      "data_file1092.json\n",
      "failed\n",
      "data_file1187.json\n",
      "data_file1965.json\n",
      "failed\n",
      "data_file1639.json\n",
      "data_file2756.json\n",
      "data_file1055.json\n"
     ]
    },
    {
     "name": "stderr",
     "output_type": "stream",
     "text": [
      "PUT http://localhost:9200/kamervragen/kamervraag/632 [status:400 request:0.002s]\n",
      "PUT http://localhost:9200/kamervragen/kamervraag/633 [status:400 request:0.002s]\n",
      "PUT http://localhost:9200/kamervragen/kamervraag/639 [status:400 request:0.003s]\n"
     ]
    },
    {
     "name": "stdout",
     "output_type": "stream",
     "text": [
      "data_file681.json\n",
      "data_file141.json\n",
      "failed\n",
      "data_file1029.json\n",
      "failed\n",
      "data_file1694.json\n",
      "data_file1583.json\n",
      "data_file2329.json\n",
      "data_file1026.json\n",
      "data_file2240.json\n",
      "data_file633.json\n",
      "failed\n",
      "data_file1030.json\n",
      "data_file85.json\n",
      "data_file1128.json\n",
      "data_file2287.json\n"
     ]
    },
    {
     "name": "stderr",
     "output_type": "stream",
     "text": [
      "PUT http://localhost:9200/kamervragen/kamervraag/643 [status:400 request:0.037s]\n",
      "PUT http://localhost:9200/kamervragen/kamervraag/644 [status:400 request:0.002s]\n",
      "PUT http://localhost:9200/kamervragen/kamervraag/645 [status:400 request:0.002s]\n",
      "PUT http://localhost:9200/kamervragen/kamervraag/646 [status:400 request:0.004s]\n",
      "PUT http://localhost:9200/kamervragen/kamervraag/651 [status:400 request:0.001s]\n"
     ]
    },
    {
     "name": "stdout",
     "output_type": "stream",
     "text": [
      "failed\n",
      "data_file1099.json\n",
      "failed\n",
      "data_file650.json\n",
      "failed\n",
      "data_file480.json\n",
      "failed\n",
      "data_file707.json\n",
      "data_file2917.json\n",
      "data_file2042.json\n",
      "data_file195.json\n",
      "data_file2477.json\n",
      "failed\n",
      "data_file1105.json\n",
      "data_file2808.json\n"
     ]
    },
    {
     "name": "stderr",
     "output_type": "stream",
     "text": [
      "PUT http://localhost:9200/kamervragen/kamervraag/655 [status:400 request:0.003s]\n",
      "PUT http://localhost:9200/kamervragen/kamervraag/660 [status:400 request:0.012s]\n"
     ]
    },
    {
     "name": "stdout",
     "output_type": "stream",
     "text": [
      "data_file1513.json\n",
      "data_file2281.json\n",
      "failed\n",
      "data_file273.json\n",
      "data_file2184.json\n",
      "data_file293.json\n",
      "data_file453.json\n",
      "data_file2223.json\n",
      "failed\n",
      "data_file651.json\n"
     ]
    },
    {
     "name": "stderr",
     "output_type": "stream",
     "text": [
      "PUT http://localhost:9200/kamervragen/kamervraag/662 [status:400 request:0.004s]\n",
      "PUT http://localhost:9200/kamervragen/kamervraag/663 [status:400 request:0.002s]\n",
      "PUT http://localhost:9200/kamervragen/kamervraag/664 [status:400 request:0.007s]\n",
      "PUT http://localhost:9200/kamervragen/kamervraag/671 [status:400 request:0.002s]\n",
      "PUT http://localhost:9200/kamervragen/kamervraag/673 [status:400 request:0.001s]\n"
     ]
    },
    {
     "name": "stdout",
     "output_type": "stream",
     "text": [
      "data_file1056.json\n",
      "failed\n",
      "data_file1306.json\n",
      "failed\n",
      "data_file1840.json\n",
      "failed\n",
      "data_file81.json\n",
      "data_file711.json\n",
      "data_file1502.json\n",
      "data_file1165.json\n",
      "data_file2584.json\n",
      "data_file800.json\n",
      "data_file666.json\n",
      "failed\n",
      "data_file1373.json\n",
      "data_file328.json\n",
      "failed\n",
      "data_file568.json\n",
      "data_file334.json\n",
      "data_file1300.json\n"
     ]
    },
    {
     "name": "stderr",
     "output_type": "stream",
     "text": [
      "PUT http://localhost:9200/kamervragen/kamervraag/677 [status:400 request:0.011s]\n",
      "PUT http://localhost:9200/kamervragen/kamervraag/678 [status:400 request:0.010s]\n",
      "PUT http://localhost:9200/kamervragen/kamervraag/681 [status:400 request:0.002s]\n",
      "PUT http://localhost:9200/kamervragen/kamervraag/683 [status:400 request:0.002s]\n",
      "PUT http://localhost:9200/kamervragen/kamervraag/684 [status:400 request:0.002s]\n",
      "PUT http://localhost:9200/kamervragen/kamervraag/685 [status:400 request:0.001s]\n"
     ]
    },
    {
     "name": "stdout",
     "output_type": "stream",
     "text": [
      "data_file986.json\n",
      "failed\n",
      "data_file1312.json\n",
      "failed\n",
      "data_file1613.json\n",
      "data_file1382.json\n",
      "data_file655.json\n",
      "failed\n",
      "data_file2552.json\n",
      "data_file2809.json\n",
      "failed\n",
      "data_file2056.json\n",
      "failed\n",
      "data_file2168.json\n",
      "failed\n",
      "data_file714.json\n",
      "data_file1310.json\n",
      "data_file436.json\n",
      "data_file1482.json\n",
      "data_file2541.json\n"
     ]
    },
    {
     "name": "stderr",
     "output_type": "stream",
     "text": [
      "PUT http://localhost:9200/kamervragen/kamervraag/692 [status:400 request:0.002s]\n",
      "PUT http://localhost:9200/kamervragen/kamervraag/695 [status:400 request:0.009s]\n",
      "PUT http://localhost:9200/kamervragen/kamervraag/699 [status:400 request:0.001s]\n",
      "PUT http://localhost:9200/kamervragen/kamervraag/701 [status:400 request:0.002s]\n"
     ]
    },
    {
     "name": "stdout",
     "output_type": "stream",
     "text": [
      "data_file2596.json\n",
      "data_file1215.json\n",
      "failed\n",
      "data_file320.json\n",
      "data_file2736.json\n",
      "data_file2315.json\n",
      "failed\n",
      "data_file2981.json\n",
      "data_file1053.json\n",
      "data_file464.json\n",
      "data_file330.json\n",
      "failed\n",
      "data_file1047.json\n",
      "data_file421.json\n",
      "failed\n",
      "data_file533.json\n",
      "data_file2338.json\n",
      "data_file511.json\n"
     ]
    },
    {
     "name": "stderr",
     "output_type": "stream",
     "text": [
      "PUT http://localhost:9200/kamervragen/kamervraag/706 [status:400 request:0.005s]\n",
      "PUT http://localhost:9200/kamervragen/kamervraag/709 [status:400 request:0.007s]\n",
      "PUT http://localhost:9200/kamervragen/kamervraag/717 [status:400 request:0.001s]\n",
      "PUT http://localhost:9200/kamervragen/kamervraag/721 [status:400 request:0.003s]\n"
     ]
    },
    {
     "name": "stdout",
     "output_type": "stream",
     "text": [
      "data_file2600.json\n",
      "data_file1229.json\n",
      "failed\n",
      "data_file411.json\n",
      "data_file789.json\n",
      "data_file1222.json\n",
      "failed\n",
      "data_file1028.json\n",
      "data_file1320.json\n",
      "data_file1774.json\n",
      "data_file1709.json\n",
      "data_file2220.json\n",
      "data_file2575.json\n",
      "data_file168.json\n",
      "data_file2562.json\n",
      "failed\n",
      "data_file579.json\n",
      "data_file728.json\n",
      "data_file383.json\n",
      "data_file2033.json\n"
     ]
    },
    {
     "name": "stderr",
     "output_type": "stream",
     "text": [
      "PUT http://localhost:9200/kamervragen/kamervraag/723 [status:400 request:0.009s]\n",
      "PUT http://localhost:9200/kamervragen/kamervraag/728 [status:400 request:0.001s]\n",
      "PUT http://localhost:9200/kamervragen/kamervraag/729 [status:400 request:0.012s]\n",
      "PUT http://localhost:9200/kamervragen/kamervraag/730 [status:400 request:0.002s]\n",
      "PUT http://localhost:9200/kamervragen/kamervraag/732 [status:400 request:0.001s]\n"
     ]
    },
    {
     "name": "stdout",
     "output_type": "stream",
     "text": [
      "failed\n",
      "data_file764.json\n",
      "data_file2473.json\n",
      "failed\n",
      "data_file862.json\n",
      "data_file2553.json\n",
      "data_file1387.json\n",
      "data_file372.json\n",
      "data_file1192.json\n",
      "failed\n",
      "data_file984.json\n",
      "failed\n",
      "data_file798.json\n",
      "failed\n",
      "data_file1000.json\n",
      "data_file1991.json\n",
      "failed\n",
      "data_file1024.json\n",
      "data_file1933.json\n",
      "data_file117.json\n"
     ]
    },
    {
     "name": "stderr",
     "output_type": "stream",
     "text": [
      "PUT http://localhost:9200/kamervragen/kamervraag/736 [status:400 request:0.004s]\n",
      "PUT http://localhost:9200/kamervragen/kamervraag/737 [status:400 request:0.003s]\n",
      "PUT http://localhost:9200/kamervragen/kamervraag/738 [status:400 request:0.002s]\n",
      "PUT http://localhost:9200/kamervragen/kamervraag/739 [status:400 request:0.008s]\n",
      "PUT http://localhost:9200/kamervragen/kamervraag/741 [status:400 request:0.002s]\n",
      "PUT http://localhost:9200/kamervragen/kamervraag/742 [status:400 request:0.015s]\n",
      "PUT http://localhost:9200/kamervragen/kamervraag/748 [status:400 request:0.002s]\n",
      "PUT http://localhost:9200/kamervragen/kamervraag/754 [status:400 request:0.002s]\n",
      "PUT http://localhost:9200/kamervragen/kamervraag/755 [status:400 request:0.002s]\n"
     ]
    },
    {
     "name": "stdout",
     "output_type": "stream",
     "text": [
      "data_file1355.json\n",
      "failed\n",
      "data_file1168.json\n",
      "failed\n",
      "data_file1584.json\n",
      "failed\n",
      "data_file1498.json\n",
      "failed\n",
      "data_file369.json\n",
      "data_file748.json\n",
      "failed\n",
      "data_file1322.json\n",
      "failed\n",
      "data_file1070.json\n",
      "data_file2135.json\n",
      "data_file36.json\n",
      "data_file884.json\n",
      "data_file995.json\n",
      "data_file1433.json\n",
      "failed\n",
      "data_file1842.json\n",
      "data_file57.json\n",
      "data_file2561.json\n",
      "data_file1260.json\n",
      "data_file2307.json\n",
      "data_file1760.json\n",
      "failed\n",
      "data_file2299.json\n",
      "failed\n",
      "data_file618.json\n",
      "data_file11.json\n",
      "data_file1082.json"
     ]
    },
    {
     "name": "stderr",
     "output_type": "stream",
     "text": [
      "PUT http://localhost:9200/kamervragen/kamervraag/758 [status:400 request:0.002s]\n",
      "PUT http://localhost:9200/kamervragen/kamervraag/759 [status:400 request:0.003s]\n",
      "PUT http://localhost:9200/kamervragen/kamervraag/761 [status:400 request:0.004s]\n",
      "PUT http://localhost:9200/kamervragen/kamervraag/762 [status:400 request:0.002s]\n",
      "PUT http://localhost:9200/kamervragen/kamervraag/763 [status:400 request:0.002s]\n",
      "PUT http://localhost:9200/kamervragen/kamervraag/767 [status:400 request:0.002s]\n",
      "PUT http://localhost:9200/kamervragen/kamervraag/768 [status:400 request:0.001s]\n",
      "PUT http://localhost:9200/kamervragen/kamervraag/770 [status:400 request:0.002s]\n",
      "PUT http://localhost:9200/kamervragen/kamervraag/772 [status:400 request:0.002s]\n"
     ]
    },
    {
     "name": "stdout",
     "output_type": "stream",
     "text": [
      "\n",
      "failed\n",
      "data_file2609.json\n",
      "failed\n",
      "data_file1911.json\n",
      "data_file2429.json\n",
      "failed\n",
      "data_file2337.json\n",
      "failed\n",
      "data_file478.json\n",
      "failed\n",
      "data_file2451.json\n",
      "data_file2277.json\n",
      "data_file2304.json\n",
      "data_file1361.json\n",
      "failed\n",
      "data_file2993.json\n",
      "failed\n",
      "data_file1647.json\n",
      "data_file1423.json\n",
      "failed\n",
      "data_file345.json\n",
      "data_file192.json\n",
      "failed\n",
      "data_file2511.json\n"
     ]
    },
    {
     "name": "stderr",
     "output_type": "stream",
     "text": [
      "PUT http://localhost:9200/kamervragen/kamervraag/777 [status:400 request:0.002s]\n",
      "PUT http://localhost:9200/kamervragen/kamervraag/779 [status:400 request:0.002s]\n",
      "PUT http://localhost:9200/kamervragen/kamervraag/784 [status:400 request:0.003s]\n"
     ]
    },
    {
     "name": "stdout",
     "output_type": "stream",
     "text": [
      "data_file463.json\n",
      "data_file2089.json\n",
      "data_file206.json\n",
      "data_file286.json\n",
      "failed\n",
      "data_file1717.json\n",
      "data_file1211.json\n",
      "failed\n",
      "data_file1780.json\n",
      "data_file2573.json\n",
      "data_file2607.json\n",
      "data_file845.json\n",
      "data_file1073.json\n",
      "failed\n",
      "data_file1737.json\n",
      "data_file162.json\n",
      "data_file2402.json\n",
      "data_file2103.json\n",
      "data_file2880.json\n",
      "data_file1983.json"
     ]
    },
    {
     "name": "stderr",
     "output_type": "stream",
     "text": [
      "PUT http://localhost:9200/kamervragen/kamervraag/790 [status:400 request:0.008s]\n",
      "PUT http://localhost:9200/kamervragen/kamervraag/792 [status:400 request:0.003s]\n",
      "PUT http://localhost:9200/kamervragen/kamervraag/793 [status:400 request:0.005s]\n",
      "PUT http://localhost:9200/kamervragen/kamervraag/794 [status:400 request:0.003s]\n",
      "PUT http://localhost:9200/kamervragen/kamervraag/796 [status:400 request:0.002s]\n",
      "PUT http://localhost:9200/kamervragen/kamervraag/799 [status:400 request:0.008s]\n",
      "PUT http://localhost:9200/kamervragen/kamervraag/800 [status:400 request:0.002s]\n",
      "PUT http://localhost:9200/kamervragen/kamervraag/803 [status:400 request:0.001s]\n"
     ]
    },
    {
     "name": "stdout",
     "output_type": "stream",
     "text": [
      "\n",
      "failed\n",
      "data_file1369.json\n",
      "data_file246.json\n",
      "failed\n",
      "data_file900.json\n",
      "failed\n",
      "data_file1267.json\n",
      "failed\n",
      "data_file964.json\n",
      "data_file2405.json\n",
      "failed\n",
      "data_file2248.json\n",
      "data_file2677.json\n",
      "data_file1712.json\n",
      "failed\n",
      "data_file873.json\n",
      "failed\n",
      "data_file1592.json\n",
      "data_file2849.json\n",
      "data_file2606.json\n",
      "failed\n",
      "data_file1889.json\n",
      "data_file48.json\n"
     ]
    },
    {
     "name": "stderr",
     "output_type": "stream",
     "text": [
      "PUT http://localhost:9200/kamervragen/kamervraag/809 [status:400 request:0.006s]\n",
      "PUT http://localhost:9200/kamervragen/kamervraag/810 [status:400 request:0.001s]\n",
      "PUT http://localhost:9200/kamervragen/kamervraag/811 [status:400 request:0.006s]\n",
      "PUT http://localhost:9200/kamervragen/kamervraag/817 [status:400 request:0.011s]\n",
      "PUT http://localhost:9200/kamervragen/kamervraag/821 [status:400 request:0.001s]\n",
      "PUT http://localhost:9200/kamervragen/kamervraag/822 [status:400 request:0.008s]\n"
     ]
    },
    {
     "name": "stdout",
     "output_type": "stream",
     "text": [
      "data_file39.json\n",
      "data_file2978.json\n",
      "data_file2664.json\n",
      "data_file376.json\n",
      "failed\n",
      "data_file1298.json\n",
      "failed\n",
      "data_file1808.json\n",
      "failed\n",
      "data_file405.json\n",
      "data_file2998.json\n",
      "data_file154.json\n",
      "data_file922.json\n",
      "data_file2049.json\n",
      "data_file1184.json\n",
      "failed\n",
      "data_file570.json\n",
      "data_file659.json\n",
      "data_file1450.json\n",
      "data_file133.json\n",
      "failed\n",
      "data_file9.json\n",
      "failed\n",
      "data_file2370.json\n",
      "data_file746.json\n",
      "data_file2550.json\n"
     ]
    },
    {
     "name": "stderr",
     "output_type": "stream",
     "text": [
      "PUT http://localhost:9200/kamervragen/kamervraag/827 [status:400 request:0.001s]\n",
      "PUT http://localhost:9200/kamervragen/kamervraag/828 [status:400 request:0.001s]\n",
      "PUT http://localhost:9200/kamervragen/kamervraag/830 [status:400 request:0.009s]\n",
      "PUT http://localhost:9200/kamervragen/kamervraag/831 [status:400 request:0.002s]\n",
      "PUT http://localhost:9200/kamervragen/kamervraag/835 [status:400 request:0.002s]\n",
      "PUT http://localhost:9200/kamervragen/kamervraag/836 [status:400 request:0.006s]\n",
      "PUT http://localhost:9200/kamervragen/kamervraag/839 [status:400 request:0.003s]\n",
      "PUT http://localhost:9200/kamervragen/kamervraag/840 [status:400 request:0.013s]\n"
     ]
    },
    {
     "name": "stdout",
     "output_type": "stream",
     "text": [
      "data_file2308.json\n",
      "data_file237.json\n",
      "failed\n",
      "data_file2057.json\n",
      "failed\n",
      "data_file1546.json\n",
      "data_file2077.json\n",
      "failed\n",
      "data_file2536.json\n",
      "failed\n",
      "data_file2570.json\n",
      "data_file413.json\n",
      "data_file441.json\n",
      "data_file2857.json\n",
      "failed\n",
      "data_file2310.json\n",
      "failed\n",
      "data_file19.json\n",
      "data_file2794.json\n",
      "data_file2766.json\n",
      "failed\n",
      "data_file571.json\n",
      "failed\n",
      "data_file1005.json\n",
      "data_file2963.json\n",
      "data_file87.json\n"
     ]
    },
    {
     "name": "stderr",
     "output_type": "stream",
     "text": [
      "PUT http://localhost:9200/kamervragen/kamervraag/850 [status:400 request:0.002s]\n",
      "PUT http://localhost:9200/kamervragen/kamervraag/852 [status:400 request:0.004s]\n",
      "PUT http://localhost:9200/kamervragen/kamervraag/854 [status:400 request:0.003s]\n",
      "PUT http://localhost:9200/kamervragen/kamervraag/861 [status:400 request:0.001s]\n"
     ]
    },
    {
     "name": "stdout",
     "output_type": "stream",
     "text": [
      "data_file54.json\n",
      "data_file2321.json\n",
      "data_file2268.json\n",
      "data_file314.json\n",
      "data_file1698.json\n",
      "data_file596.json\n",
      "data_file1171.json\n",
      "failed\n",
      "data_file2071.json\n",
      "data_file234.json\n",
      "failed\n",
      "data_file1442.json\n",
      "data_file1146.json\n",
      "failed\n",
      "data_file2222.json\n",
      "data_file2881.json\n",
      "data_file2711.json\n",
      "data_file2344.json\n",
      "data_file2365.json\n",
      "data_file1803.json\n",
      "data_file905.json\n",
      "failed\n",
      "data_file966.json\n"
     ]
    },
    {
     "name": "stderr",
     "output_type": "stream",
     "text": [
      "PUT http://localhost:9200/kamervragen/kamervraag/865 [status:400 request:0.001s]\n",
      "PUT http://localhost:9200/kamervragen/kamervraag/869 [status:400 request:0.008s]\n",
      "PUT http://localhost:9200/kamervragen/kamervraag/872 [status:400 request:0.010s]\n",
      "PUT http://localhost:9200/kamervragen/kamervraag/877 [status:400 request:0.002s]\n",
      "PUT http://localhost:9200/kamervragen/kamervraag/879 [status:400 request:0.004s]\n",
      "PUT http://localhost:9200/kamervragen/kamervraag/882 [status:400 request:0.005s]\n"
     ]
    },
    {
     "name": "stdout",
     "output_type": "stream",
     "text": [
      "data_file363.json\n",
      "data_file1236.json\n",
      "data_file2735.json\n",
      "failed\n",
      "data_file1885.json\n",
      "data_file514.json\n",
      "data_file2508.json\n",
      "data_file2851.json\n",
      "failed\n",
      "data_file1057.json\n",
      "data_file1123.json\n",
      "data_file2183.json\n",
      "failed\n",
      "data_file783.json\n",
      "data_file2538.json\n",
      "data_file448.json\n",
      "data_file1995.json\n",
      "data_file744.json\n",
      "failed\n",
      "data_file2516.json\n",
      "data_file887.json\n",
      "failed\n",
      "data_file1463.json\n",
      "data_file2797.json\n",
      "data_file2866.json\n",
      "failed\n",
      "data_file77.json\n"
     ]
    },
    {
     "name": "stderr",
     "output_type": "stream",
     "text": [
      "PUT http://localhost:9200/kamervragen/kamervraag/883 [status:400 request:0.009s]\n",
      "PUT http://localhost:9200/kamervragen/kamervraag/884 [status:400 request:0.009s]\n",
      "PUT http://localhost:9200/kamervragen/kamervraag/887 [status:400 request:0.002s]\n",
      "PUT http://localhost:9200/kamervragen/kamervraag/891 [status:400 request:0.002s]\n",
      "PUT http://localhost:9200/kamervragen/kamervraag/892 [status:400 request:0.010s]\n",
      "PUT http://localhost:9200/kamervragen/kamervraag/895 [status:400 request:0.002s]\n",
      "PUT http://localhost:9200/kamervragen/kamervraag/896 [status:400 request:0.015s]\n"
     ]
    },
    {
     "name": "stdout",
     "output_type": "stream",
     "text": [
      "failed\n",
      "data_file888.json\n",
      "failed\n",
      "data_file1888.json\n",
      "data_file1514.json\n",
      "data_file1251.json\n",
      "failed\n",
      "data_file2363.json\n",
      "data_file727.json\n",
      "data_file2762.json\n",
      "data_file1586.json\n",
      "failed\n",
      "data_file797.json\n",
      "failed\n",
      "data_file662.json\n",
      "data_file1135.json\n",
      "data_file2498.json\n",
      "failed\n",
      "data_file520.json\n",
      "failed\n",
      "data_file941.json\n",
      "data_file2514.json\n",
      "data_file387.json\n",
      "data_file1367.json\n",
      "data_file2199.json\n",
      "data_file2997.json\n",
      "data_file1257.json\n",
      "data_file1411.json\n"
     ]
    },
    {
     "name": "stderr",
     "output_type": "stream",
     "text": [
      "PUT http://localhost:9200/kamervragen/kamervraag/905 [status:400 request:0.008s]\n",
      "PUT http://localhost:9200/kamervragen/kamervraag/907 [status:400 request:0.009s]\n",
      "PUT http://localhost:9200/kamervragen/kamervraag/908 [status:400 request:0.003s]\n",
      "PUT http://localhost:9200/kamervragen/kamervraag/909 [status:400 request:0.008s]\n",
      "PUT http://localhost:9200/kamervragen/kamervraag/910 [status:400 request:0.006s]\n",
      "PUT http://localhost:9200/kamervragen/kamervraag/914 [status:400 request:0.002s]\n",
      "PUT http://localhost:9200/kamervragen/kamervraag/918 [status:400 request:0.002s]\n"
     ]
    },
    {
     "name": "stdout",
     "output_type": "stream",
     "text": [
      "data_file2827.json\n",
      "failed\n",
      "data_file1216.json\n",
      "data_file152.json\n",
      "failed\n",
      "data_file841.json\n",
      "failed\n",
      "data_file706.json\n",
      "failed\n",
      "data_file351.json\n",
      "failed\n",
      "data_file821.json\n",
      "data_file2258.json\n",
      "data_file1436.json\n",
      "data_file1182.json\n",
      "failed\n",
      "data_file1352.json\n",
      "data_file1740.json\n",
      "data_file2112.json\n",
      "data_file2059.json\n",
      "failed\n",
      "data_file1630.json\n"
     ]
    },
    {
     "name": "stderr",
     "output_type": "stream",
     "text": [
      "PUT http://localhost:9200/kamervragen/kamervraag/920 [status:400 request:0.005s]\n",
      "PUT http://localhost:9200/kamervragen/kamervraag/925 [status:400 request:0.011s]\n",
      "PUT http://localhost:9200/kamervragen/kamervraag/926 [status:400 request:0.002s]\n",
      "PUT http://localhost:9200/kamervragen/kamervraag/927 [status:400 request:0.008s]\n",
      "PUT http://localhost:9200/kamervragen/kamervraag/929 [status:400 request:0.002s]\n"
     ]
    },
    {
     "name": "stdout",
     "output_type": "stream",
     "text": [
      "data_file178.json\n",
      "failed\n",
      "data_file1767.json\n",
      "data_file1264.json\n",
      "data_file2197.json\n",
      "data_file2239.json\n",
      "data_file2084.json\n",
      "failed\n",
      "data_file2038.json\n",
      "failed\n",
      "data_file2463.json\n",
      "failed\n",
      "data_file2669.json\n",
      "data_file2431.json\n",
      "failed\n",
      "data_file201.json\n",
      "data_file1587.json\n",
      "data_file2704.json\n",
      "data_file535.json\n",
      "data_file2213.json\n"
     ]
    },
    {
     "name": "stderr",
     "output_type": "stream",
     "text": [
      "PUT http://localhost:9200/kamervragen/kamervraag/940 [status:400 request:0.003s]\n",
      "PUT http://localhost:9200/kamervragen/kamervraag/941 [status:400 request:0.008s]\n",
      "PUT http://localhost:9200/kamervragen/kamervraag/942 [status:400 request:0.063s]\n",
      "PUT http://localhost:9200/kamervragen/kamervraag/943 [status:400 request:0.009s]\n",
      "PUT http://localhost:9200/kamervragen/kamervraag/944 [status:400 request:0.002s]\n",
      "PUT http://localhost:9200/kamervragen/kamervraag/947 [status:400 request:0.002s]\n",
      "PUT http://localhost:9200/kamervragen/kamervraag/948 [status:400 request:0.009s]\n",
      "PUT http://localhost:9200/kamervragen/kamervraag/949 [status:400 request:0.001s]\n"
     ]
    },
    {
     "name": "stdout",
     "output_type": "stream",
     "text": [
      "data_file2179.json\n",
      "data_file82.json\n",
      "data_file1407.json\n",
      "data_file2725.json\n",
      "data_file134.json\n",
      "data_file814.json\n",
      "failed\n",
      "data_file2739.json\n",
      "failed\n",
      "data_file2510.json\n",
      "failed\n",
      "data_file961.json\n",
      "failed\n",
      "data_file804.json\n",
      "failed\n",
      "data_file2731.json\n",
      "data_file1560.json\n",
      "data_file91.json\n",
      "failed\n",
      "data_file1302.json\n",
      "failed\n",
      "data_file382.json\n",
      "failed\n",
      "data_file1650.json\n",
      "data_file1314.json\n"
     ]
    },
    {
     "name": "stderr",
     "output_type": "stream",
     "text": [
      "PUT http://localhost:9200/kamervragen/kamervraag/951 [status:400 request:0.010s]\n",
      "PUT http://localhost:9200/kamervragen/kamervraag/955 [status:400 request:0.009s]\n",
      "PUT http://localhost:9200/kamervragen/kamervraag/957 [status:400 request:0.006s]\n",
      "PUT http://localhost:9200/kamervragen/kamervraag/958 [status:400 request:0.007s]\n",
      "PUT http://localhost:9200/kamervragen/kamervraag/960 [status:400 request:0.008s]\n",
      "PUT http://localhost:9200/kamervragen/kamervraag/963 [status:400 request:0.006s]\n",
      "PUT http://localhost:9200/kamervragen/kamervraag/968 [status:400 request:0.002s]\n",
      "PUT http://localhost:9200/kamervragen/kamervraag/969 [status:400 request:0.003s]\n"
     ]
    },
    {
     "name": "stdout",
     "output_type": "stream",
     "text": [
      "failed\n",
      "data_file976.json\n",
      "data_file834.json\n",
      "data_file1036.json\n",
      "data_file2533.json\n",
      "failed\n",
      "data_file1018.json\n",
      "data_file1058.json\n",
      "failed\n",
      "data_file1990.json\n",
      "failed\n",
      "data_file2768.json\n",
      "data_file1186.json\n",
      "failed\n",
      "data_file576.json\n",
      "data_file948.json\n",
      "data_file2409.json\n",
      "failed\n",
      "data_file620.json\n",
      "data_file956.json\n",
      "data_file2897.json\n",
      "data_file1912.json\n",
      "data_file2820.json\n",
      "failed\n",
      "data_file2732.json\n",
      "failed\n",
      "data_file628.json\n",
      "data_file1025.json\n",
      "data_file1235.json\n"
     ]
    },
    {
     "name": "stderr",
     "output_type": "stream",
     "text": [
      "PUT http://localhost:9200/kamervragen/kamervraag/972 [status:400 request:0.008s]\n",
      "PUT http://localhost:9200/kamervragen/kamervraag/975 [status:400 request:0.010s]\n",
      "PUT http://localhost:9200/kamervragen/kamervraag/979 [status:400 request:0.007s]\n",
      "PUT http://localhost:9200/kamervragen/kamervraag/980 [status:400 request:0.010s]\n",
      "PUT http://localhost:9200/kamervragen/kamervraag/984 [status:400 request:0.006s]\n",
      "PUT http://localhost:9200/kamervragen/kamervraag/985 [status:400 request:0.008s]\n",
      "PUT http://localhost:9200/kamervragen/kamervraag/986 [status:400 request:0.006s]\n",
      "PUT http://localhost:9200/kamervragen/kamervraag/987 [status:400 request:0.004s]\n",
      "PUT http://localhost:9200/kamervragen/kamervraag/988 [status:400 request:0.003s]\n",
      "PUT http://localhost:9200/kamervragen/kamervraag/989 [status:400 request:0.005s]\n"
     ]
    },
    {
     "name": "stdout",
     "output_type": "stream",
     "text": [
      "failed\n",
      "data_file2626.json\n",
      "data_file2620.json\n",
      "data_file610.json\n",
      "failed\n",
      "data_file2217.json\n",
      "data_file542.json\n",
      "data_file1956.json\n",
      "data_file2925.json\n",
      "failed\n",
      "data_file283.json\n",
      "failed\n",
      "data_file456.json\n",
      "data_file354.json\n",
      "data_file2494.json\n",
      "data_file1907.json\n",
      "failed\n",
      "data_file2726.json\n",
      "failed\n",
      "data_file1337.json\n",
      "failed\n",
      "data_file295.json\n",
      "failed\n",
      "data_file352.json\n",
      "failed\n",
      "data_file1679.json\n",
      "failed\n",
      "data_file582.json\n"
     ]
    },
    {
     "name": "stderr",
     "output_type": "stream",
     "text": [
      "PUT http://localhost:9200/kamervragen/kamervraag/997 [status:400 request:0.002s]\n",
      "PUT http://localhost:9200/kamervragen/kamervraag/998 [status:400 request:0.009s]\n",
      "PUT http://localhost:9200/kamervragen/kamervraag/999 [status:400 request:0.008s]\n",
      "PUT http://localhost:9200/kamervragen/kamervraag/1000 [status:400 request:0.007s]\n",
      "PUT http://localhost:9200/kamervragen/kamervraag/1002 [status:400 request:0.003s]\n",
      "PUT http://localhost:9200/kamervragen/kamervraag/1006 [status:400 request:0.002s]\n",
      "PUT http://localhost:9200/kamervragen/kamervraag/1009 [status:400 request:0.011s]\n",
      "PUT http://localhost:9200/kamervragen/kamervraag/1010 [status:400 request:0.002s]\n"
     ]
    },
    {
     "name": "stdout",
     "output_type": "stream",
     "text": [
      "data_file481.json\n",
      "data_file1290.json\n",
      "data_file2784.json\n",
      "data_file1656.json\n",
      "data_file2227.json\n",
      "data_file1972.json\n",
      "data_file2675.json\n",
      "failed\n",
      "data_file49.json\n",
      "failed\n",
      "data_file1794.json\n",
      "failed\n",
      "data_file2398.json\n",
      "failed\n",
      "data_file251.json\n",
      "data_file2833.json\n",
      "failed\n",
      "data_file108.json\n",
      "data_file2621.json\n",
      "data_file979.json\n",
      "data_file2132.json\n",
      "failed\n",
      "data_file1813.json\n",
      "data_file1648.json\n",
      "data_file310.json\n",
      "failed\n",
      "data_file2082.json\n",
      "failed\n",
      "data_file2021.json\n",
      "data_file1279.json"
     ]
    },
    {
     "name": "stderr",
     "output_type": "stream",
     "text": [
      "PUT http://localhost:9200/kamervragen/kamervraag/1017 [status:400 request:0.001s]\n",
      "PUT http://localhost:9200/kamervragen/kamervraag/1018 [status:400 request:0.002s]\n",
      "PUT http://localhost:9200/kamervragen/kamervraag/1019 [status:400 request:0.003s]\n",
      "PUT http://localhost:9200/kamervragen/kamervraag/1022 [status:400 request:0.006s]\n",
      "PUT http://localhost:9200/kamervragen/kamervraag/1024 [status:400 request:0.007s]\n",
      "PUT http://localhost:9200/kamervragen/kamervraag/1025 [status:400 request:0.005s]\n",
      "PUT http://localhost:9200/kamervragen/kamervraag/1026 [status:400 request:0.001s]\n",
      "PUT http://localhost:9200/kamervragen/kamervraag/1029 [status:400 request:0.009s]\n",
      "PUT http://localhost:9200/kamervragen/kamervraag/1031 [status:400 request:0.005s]\n"
     ]
    },
    {
     "name": "stdout",
     "output_type": "stream",
     "text": [
      "\n",
      "data_file484.json\n",
      "data_file1751.json\n",
      "data_file84.json\n",
      "data_file454.json\n",
      "data_file2853.json\n",
      "failed\n",
      "data_file827.json\n",
      "failed\n",
      "data_file2444.json\n",
      "failed\n",
      "data_file1925.json\n",
      "data_file2988.json\n",
      "data_file115.json\n",
      "failed\n",
      "data_file158.json\n",
      "data_file1460.json\n",
      "failed\n",
      "data_file1194.json\n",
      "failed\n",
      "data_file155.json\n",
      "failed\n",
      "data_file2696.json\n",
      "data_file1346.json\n",
      "data_file1472.json\n",
      "failed\n",
      "data_file212.json\n",
      "data_file358.json\n",
      "failed\n",
      "data_file461.json\n"
     ]
    },
    {
     "name": "stderr",
     "output_type": "stream",
     "text": [
      "PUT http://localhost:9200/kamervragen/kamervraag/1033 [status:400 request:0.002s]\n",
      "PUT http://localhost:9200/kamervragen/kamervraag/1034 [status:400 request:0.001s]\n",
      "PUT http://localhost:9200/kamervragen/kamervraag/1035 [status:400 request:0.001s]\n",
      "PUT http://localhost:9200/kamervragen/kamervraag/1037 [status:400 request:0.001s]\n",
      "PUT http://localhost:9200/kamervragen/kamervraag/1038 [status:400 request:0.001s]\n",
      "PUT http://localhost:9200/kamervragen/kamervraag/1039 [status:400 request:0.004s]\n",
      "PUT http://localhost:9200/kamervragen/kamervraag/1045 [status:400 request:0.017s]\n"
     ]
    },
    {
     "name": "stdout",
     "output_type": "stream",
     "text": [
      "data_file1538.json\n",
      "failed\n",
      "data_file2205.json\n",
      "failed\n",
      "data_file160.json\n",
      "failed\n",
      "data_file1649.json\n",
      "data_file2856.json\n",
      "failed\n",
      "data_file1743.json\n",
      "failed\n",
      "data_file2525.json\n",
      "failed\n",
      "data_file2203.json\n",
      "data_file1144.json\n",
      "data_file722.json\n",
      "data_file1547.json\n",
      "data_file892.json\n",
      "data_file364.json\n",
      "failed\n",
      "data_file772.json\n",
      "data_file2983.json\n",
      "data_file626.json\n",
      "data_file822.json\n",
      "data_file263.json"
     ]
    },
    {
     "name": "stderr",
     "output_type": "stream",
     "text": [
      "PUT http://localhost:9200/kamervragen/kamervraag/1050 [status:400 request:0.004s]\n",
      "PUT http://localhost:9200/kamervragen/kamervraag/1053 [status:400 request:0.003s]\n",
      "PUT http://localhost:9200/kamervragen/kamervraag/1055 [status:400 request:0.009s]\n",
      "PUT http://localhost:9200/kamervragen/kamervraag/1062 [status:400 request:0.006s]\n",
      "PUT http://localhost:9200/kamervragen/kamervraag/1063 [status:400 request:0.009s]\n"
     ]
    },
    {
     "name": "stdout",
     "output_type": "stream",
     "text": [
      "\n",
      "failed\n",
      "data_file975.json\n",
      "data_file1344.json\n",
      "data_file1336.json\n",
      "failed\n",
      "data_file205.json\n",
      "data_file451.json\n",
      "failed\n",
      "data_file2341.json\n",
      "data_file1846.json\n",
      "data_file407.json\n",
      "data_file147.json\n",
      "data_file228.json\n",
      "data_file2713.json\n",
      "data_file2216.json\n",
      "failed\n",
      "data_file2078.json\n",
      "failed\n",
      "data_file1982.json\n",
      "data_file2417.json\n"
     ]
    },
    {
     "name": "stderr",
     "output_type": "stream",
     "text": [
      "PUT http://localhost:9200/kamervragen/kamervraag/1069 [status:400 request:0.003s]\n",
      "PUT http://localhost:9200/kamervragen/kamervraag/1071 [status:400 request:0.002s]\n",
      "PUT http://localhost:9200/kamervragen/kamervraag/1074 [status:400 request:0.014s]\n",
      "PUT http://localhost:9200/kamervragen/kamervraag/1078 [status:400 request:0.006s]\n",
      "PUT http://localhost:9200/kamervragen/kamervraag/1080 [status:400 request:0.004s]\n",
      "PUT http://localhost:9200/kamervragen/kamervraag/1081 [status:400 request:0.006s]\n",
      "PUT http://localhost:9200/kamervragen/kamervraag/1083 [status:400 request:0.001s]\n",
      "PUT http://localhost:9200/kamervragen/kamervraag/1086 [status:400 request:0.005s]\n"
     ]
    },
    {
     "name": "stdout",
     "output_type": "stream",
     "text": [
      "data_file1185.json\n",
      "data_file2530.json\n",
      "data_file2798.json\n",
      "data_file230.json\n",
      "failed\n",
      "data_file2828.json\n",
      "data_file1282.json\n",
      "failed\n",
      "data_file2937.json\n",
      "data_file1486.json\n",
      "data_file225.json\n",
      "failed\n",
      "data_file704.json\n",
      "data_file131.json\n",
      "data_file1652.json\n",
      "data_file1228.json\n",
      "failed\n",
      "data_file1041.json\n",
      "data_file1898.json\n",
      "failed\n",
      "data_file2303.json\n",
      "failed\n",
      "data_file528.json\n",
      "data_file2353.json\n",
      "failed\n",
      "data_file2445.json\n",
      "data_file2397.json\n",
      "data_file2279.json\n",
      "failed\n",
      "data_file1669.json\n",
      "data_file851.json\n",
      "data_file1569.json\n",
      "data_file2076.json\n"
     ]
    },
    {
     "name": "stderr",
     "output_type": "stream",
     "text": [
      "PUT http://localhost:9200/kamervragen/kamervraag/1090 [status:400 request:0.019s]\n",
      "PUT http://localhost:9200/kamervragen/kamervraag/1091 [status:400 request:0.002s]\n",
      "PUT http://localhost:9200/kamervragen/kamervraag/1092 [status:400 request:0.002s]\n",
      "PUT http://localhost:9200/kamervragen/kamervraag/1093 [status:400 request:0.003s]\n",
      "PUT http://localhost:9200/kamervragen/kamervraag/1095 [status:400 request:0.001s]\n",
      "PUT http://localhost:9200/kamervragen/kamervraag/1096 [status:400 request:0.002s]\n",
      "PUT http://localhost:9200/kamervragen/kamervraag/1097 [status:400 request:0.016s]\n",
      "PUT http://localhost:9200/kamervragen/kamervraag/1101 [status:400 request:0.022s]\n"
     ]
    },
    {
     "name": "stdout",
     "output_type": "stream",
     "text": [
      "failed\n",
      "data_file1550.json\n",
      "failed\n",
      "data_file2910.json\n",
      "failed\n",
      "data_file150.json\n",
      "failed\n",
      "data_file2416.json\n",
      "data_file538.json\n",
      "failed\n",
      "data_file2920.json\n",
      "failed\n",
      "data_file1775.json\n",
      "failed\n",
      "data_file1757.json\n",
      "data_file2166.json\n",
      "data_file132.json\n",
      "data_file2169.json\n",
      "failed\n",
      "data_file2231.json\n",
      "data_file897.json\n"
     ]
    },
    {
     "name": "stderr",
     "output_type": "stream",
     "text": [
      "PUT http://localhost:9200/kamervragen/kamervraag/1103 [status:400 request:0.004s]\n",
      "PUT http://localhost:9200/kamervragen/kamervraag/1110 [status:400 request:0.003s]\n",
      "PUT http://localhost:9200/kamervragen/kamervraag/1111 [status:400 request:0.006s]\n",
      "PUT http://localhost:9200/kamervragen/kamervraag/1112 [status:400 request:0.007s]\n",
      "PUT http://localhost:9200/kamervragen/kamervraag/1113 [status:400 request:0.003s]\n"
     ]
    },
    {
     "name": "stdout",
     "output_type": "stream",
     "text": [
      "failed\n",
      "data_file2002.json\n",
      "data_file1149.json\n",
      "data_file818.json\n",
      "data_file541.json\n",
      "data_file2678.json\n",
      "data_file2991.json\n",
      "data_file1076.json\n",
      "failed\n",
      "data_file135.json\n",
      "failed\n",
      "data_file2892.json\n",
      "failed\n",
      "data_file562.json\n",
      "failed\n",
      "data_file2358.json\n",
      "data_file2356.json\n"
     ]
    },
    {
     "name": "stderr",
     "output_type": "stream",
     "text": [
      "PUT http://localhost:9200/kamervragen/kamervraag/1118 [status:400 request:0.003s]\n",
      "PUT http://localhost:9200/kamervragen/kamervraag/1122 [status:400 request:0.003s]\n",
      "PUT http://localhost:9200/kamervragen/kamervraag/1124 [status:400 request:0.011s]\n"
     ]
    },
    {
     "name": "stdout",
     "output_type": "stream",
     "text": [
      "data_file1098.json\n",
      "data_file952.json\n",
      "data_file287.json\n",
      "failed\n",
      "data_file2571.json\n",
      "data_file233.json\n",
      "data_file1691.json\n",
      "data_file2003.json\n",
      "failed\n",
      "data_file244.json\n",
      "data_file1342.json\n",
      "failed\n",
      "data_file1801.json\n",
      "data_file1625.json\n",
      "data_file1102.json\n"
     ]
    },
    {
     "name": "stderr",
     "output_type": "stream",
     "text": [
      "PUT http://localhost:9200/kamervragen/kamervraag/1133 [status:400 request:0.013s]\n",
      "PUT http://localhost:9200/kamervragen/kamervraag/1134 [status:400 request:0.003s]\n",
      "PUT http://localhost:9200/kamervragen/kamervraag/1137 [status:400 request:0.009s]\n"
     ]
    },
    {
     "name": "stdout",
     "output_type": "stream",
     "text": [
      "data_file1321.json\n",
      "data_file1176.json\n",
      "data_file2524.json\n",
      "data_file2371.json\n",
      "data_file1745.json\n",
      "data_file510.json\n",
      "failed\n",
      "data_file2585.json\n",
      "failed\n",
      "data_file1245.json\n",
      "data_file1959.json\n",
      "data_file1253.json\n",
      "failed\n",
      "data_file2697.json\n",
      "data_file1776.json\n",
      "data_file1974.json\n"
     ]
    },
    {
     "name": "stderr",
     "output_type": "stream",
     "text": [
      "PUT http://localhost:9200/kamervragen/kamervraag/1142 [status:400 request:0.002s]\n",
      "PUT http://localhost:9200/kamervragen/kamervraag/1143 [status:400 request:0.005s]\n",
      "PUT http://localhost:9200/kamervragen/kamervraag/1144 [status:400 request:0.011s]\n",
      "PUT http://localhost:9200/kamervragen/kamervraag/1145 [status:400 request:0.044s]\n",
      "PUT http://localhost:9200/kamervragen/kamervraag/1147 [status:400 request:0.003s]\n"
     ]
    },
    {
     "name": "stdout",
     "output_type": "stream",
     "text": [
      "data_file83.json\n",
      "data_file1860.json\n",
      "failed\n",
      "data_file2160.json\n",
      "failed\n",
      "data_file2312.json\n",
      "failed\n",
      "data_file1297.json\n",
      "failed\n",
      "data_file2392.json\n",
      "data_file2247.json\n",
      "failed\n",
      "data_file1495.json\n",
      "data_file2295.json\n",
      "data_file685.json\n",
      "data_file1829.json\n",
      "data_file910.json\n"
     ]
    },
    {
     "name": "stderr",
     "output_type": "stream",
     "text": [
      "PUT http://localhost:9200/kamervragen/kamervraag/1155 [status:400 request:0.004s]\n",
      "PUT http://localhost:9200/kamervragen/kamervraag/1156 [status:400 request:0.005s]\n",
      "PUT http://localhost:9200/kamervragen/kamervraag/1157 [status:400 request:0.010s]\n",
      "PUT http://localhost:9200/kamervragen/kamervraag/1159 [status:400 request:0.003s]\n",
      "PUT http://localhost:9200/kamervragen/kamervraag/1163 [status:400 request:0.015s]\n"
     ]
    },
    {
     "name": "stdout",
     "output_type": "stream",
     "text": [
      "data_file2129.json\n",
      "data_file555.json\n",
      "data_file672.json\n",
      "failed\n",
      "data_file31.json\n",
      "failed\n",
      "data_file2861.json\n",
      "failed\n",
      "data_file2173.json\n",
      "data_file261.json\n",
      "failed\n",
      "data_file2847.json\n",
      "data_file532.json\n",
      "data_file1562.json\n",
      "data_file1518.json\n",
      "failed\n",
      "data_file67.json\n"
     ]
    },
    {
     "name": "stderr",
     "output_type": "stream",
     "text": [
      "PUT http://localhost:9200/kamervragen/kamervraag/1166 [status:400 request:0.014s]\n",
      "PUT http://localhost:9200/kamervragen/kamervraag/1170 [status:400 request:0.006s]\n",
      "PUT http://localhost:9200/kamervragen/kamervraag/1172 [status:400 request:0.004s]\n",
      "PUT http://localhost:9200/kamervragen/kamervraag/1173 [status:400 request:0.012s]\n"
     ]
    },
    {
     "name": "stdout",
     "output_type": "stream",
     "text": [
      "data_file254.json\n",
      "data_file2915.json\n",
      "failed\n",
      "data_file10.json\n",
      "data_file176.json\n",
      "data_file733.json\n",
      "data_file1085.json\n",
      "failed\n",
      "data_file2957.json\n",
      "data_file171.json\n",
      "failed\n",
      "data_file112.json\n",
      "failed\n",
      "data_file2748.json\n",
      "data_file347.json\n",
      "data_file1894.json\n",
      "data_file2260.json\n",
      "data_file2466.json\n"
     ]
    },
    {
     "name": "stderr",
     "output_type": "stream",
     "text": [
      "PUT http://localhost:9200/kamervragen/kamervraag/1178 [status:400 request:0.007s]\n",
      "PUT http://localhost:9200/kamervragen/kamervraag/1180 [status:400 request:0.003s]\n",
      "PUT http://localhost:9200/kamervragen/kamervraag/1181 [status:400 request:0.032s]\n",
      "PUT http://localhost:9200/kamervragen/kamervraag/1182 [status:400 request:0.015s]\n",
      "PUT http://localhost:9200/kamervragen/kamervraag/1184 [status:400 request:0.004s]\n",
      "PUT http://localhost:9200/kamervragen/kamervraag/1186 [status:400 request:0.002s]\n",
      "PUT http://localhost:9200/kamervragen/kamervraag/1187 [status:400 request:0.011s]\n"
     ]
    },
    {
     "name": "stdout",
     "output_type": "stream",
     "text": [
      "failed\n",
      "data_file274.json\n",
      "data_file126.json\n",
      "failed\n",
      "data_file2342.json\n",
      "failed\n",
      "data_file2763.json\n",
      "failed\n",
      "data_file51.json\n",
      "data_file485.json\n",
      "failed\n",
      "data_file1658.json\n",
      "data_file2262.json\n",
      "failed\n",
      "data_file239.json\n",
      "failed\n",
      "data_file1141.json\n",
      "data_file2210.json\n",
      "data_file1850.json\n"
     ]
    },
    {
     "name": "stderr",
     "output_type": "stream",
     "text": [
      "PUT http://localhost:9200/kamervragen/kamervraag/1192 [status:400 request:0.006s]\n",
      "PUT http://localhost:9200/kamervragen/kamervraag/1195 [status:400 request:0.003s]\n",
      "PUT http://localhost:9200/kamervragen/kamervraag/1196 [status:400 request:0.003s]\n",
      "PUT http://localhost:9200/kamervragen/kamervraag/1197 [status:400 request:0.005s]\n",
      "PUT http://localhost:9200/kamervragen/kamervraag/1202 [status:400 request:0.003s]\n"
     ]
    },
    {
     "name": "stdout",
     "output_type": "stream",
     "text": [
      "data_file735.json\n",
      "data_file616.json\n",
      "failed\n",
      "data_file459.json\n",
      "data_file1788.json\n",
      "data_file1738.json\n",
      "failed\n",
      "data_file2362.json\n",
      "failed\n",
      "data_file2676.json\n",
      "failed\n",
      "data_file1119.json\n",
      "data_file2936.json\n",
      "data_file1050.json\n",
      "data_file1213.json\n",
      "data_file2792.json\n",
      "failed\n",
      "data_file2522.json\n",
      "data_file123.json\n",
      "data_file759.json\n"
     ]
    },
    {
     "name": "stderr",
     "output_type": "stream",
     "text": [
      "PUT http://localhost:9200/kamervragen/kamervraag/1206 [status:400 request:0.002s]\n",
      "PUT http://localhost:9200/kamervragen/kamervraag/1207 [status:400 request:0.002s]\n",
      "PUT http://localhost:9200/kamervragen/kamervraag/1209 [status:400 request:0.004s]\n",
      "PUT http://localhost:9200/kamervragen/kamervraag/1211 [status:400 request:0.005s]\n",
      "PUT http://localhost:9200/kamervragen/kamervraag/1212 [status:400 request:0.002s]\n",
      "PUT http://localhost:9200/kamervragen/kamervraag/1213 [status:400 request:0.002s]\n",
      "PUT http://localhost:9200/kamervragen/kamervraag/1214 [status:400 request:0.004s]\n",
      "PUT http://localhost:9200/kamervragen/kamervraag/1215 [status:400 request:0.005s]\n"
     ]
    },
    {
     "name": "stdout",
     "output_type": "stream",
     "text": [
      "data_file2253.json\n",
      "failed\n",
      "data_file2599.json\n",
      "failed\n",
      "data_file446.json\n",
      "data_file1255.json\n",
      "failed\n",
      "data_file1421.json\n",
      "data_file1470.json\n",
      "failed\n",
      "data_file260.json\n",
      "failed\n",
      "data_file2871.json\n",
      "failed\n",
      "data_file1834.json\n",
      "failed\n",
      "data_file1674.json\n",
      "failed\n",
      "data_file637.json\n",
      "data_file42.json\n"
     ]
    },
    {
     "name": "stderr",
     "output_type": "stream",
     "text": [
      "PUT http://localhost:9200/kamervragen/kamervraag/1219 [status:400 request:0.004s]\n",
      "PUT http://localhost:9200/kamervragen/kamervraag/1221 [status:400 request:0.002s]\n",
      "PUT http://localhost:9200/kamervragen/kamervraag/1222 [status:400 request:0.002s]\n",
      "PUT http://localhost:9200/kamervragen/kamervraag/1224 [status:400 request:0.002s]\n",
      "PUT http://localhost:9200/kamervragen/kamervraag/1225 [status:400 request:0.004s]\n"
     ]
    },
    {
     "name": "stdout",
     "output_type": "stream",
     "text": [
      "data_file868.json\n",
      "data_file1160.json\n",
      "failed\n",
      "data_file198.json\n",
      "data_file2916.json\n",
      "failed\n",
      "data_file2657.json\n",
      "failed\n",
      "data_file2246.json\n",
      "data_file122.json\n",
      "failed\n",
      "data_file2782.json\n",
      "failed\n",
      "data_file1060.json\n",
      "data_file544.json\n",
      "data_file1798.json\n"
     ]
    },
    {
     "name": "stderr",
     "output_type": "stream",
     "text": [
      "PUT http://localhost:9200/kamervragen/kamervraag/1231 [status:400 request:0.003s]\n",
      "PUT http://localhost:9200/kamervragen/kamervraag/1234 [status:400 request:0.002s]\n"
     ]
    },
    {
     "name": "stdout",
     "output_type": "stream",
     "text": [
      "data_file2145.json\n",
      "data_file1506.json\n",
      "data_file2883.json\n",
      "failed\n",
      "data_file1945.json\n",
      "data_file622.json\n",
      "data_file2301.json\n",
      "failed\n",
      "data_file2579.json\n",
      "data_file779.json\n",
      "data_file1796.json\n",
      "data_file831.json\n",
      "data_file2066.json\n"
     ]
    },
    {
     "name": "stderr",
     "output_type": "stream",
     "text": [
      "PUT http://localhost:9200/kamervragen/kamervraag/1241 [status:400 request:0.005s]\n",
      "PUT http://localhost:9200/kamervragen/kamervraag/1243 [status:400 request:0.038s]\n",
      "PUT http://localhost:9200/kamervragen/kamervraag/1245 [status:400 request:0.008s]\n"
     ]
    },
    {
     "name": "stdout",
     "output_type": "stream",
     "text": [
      "data_file2944.json\n",
      "data_file1103.json\n",
      "failed\n",
      "data_file2605.json\n",
      "data_file1287.json\n",
      "failed\n",
      "data_file1758.json\n",
      "data_file1395.json\n",
      "failed\n",
      "data_file730.json\n",
      "data_file2212.json\n",
      "data_file656.json\n"
     ]
    },
    {
     "name": "stderr",
     "output_type": "stream",
     "text": [
      "PUT http://localhost:9200/kamervragen/kamervraag/1250 [status:400 request:0.014s]\n",
      "PUT http://localhost:9200/kamervragen/kamervraag/1251 [status:400 request:0.016s]\n",
      "PUT http://localhost:9200/kamervragen/kamervraag/1259 [status:400 request:0.007s]\n",
      "PUT http://localhost:9200/kamervragen/kamervraag/1260 [status:400 request:0.009s]\n"
     ]
    },
    {
     "name": "stdout",
     "output_type": "stream",
     "text": [
      "data_file486.json\n",
      "data_file1383.json\n",
      "failed\n",
      "data_file1989.json\n",
      "failed\n",
      "data_file256.json\n",
      "data_file669.json\n",
      "data_file2842.json\n",
      "data_file1191.json\n",
      "data_file285.json\n",
      "data_file1732.json\n",
      "data_file996.json\n",
      "data_file763.json\n",
      "failed\n",
      "data_file2673.json\n"
     ]
    },
    {
     "name": "stderr",
     "output_type": "stream",
     "text": [
      "PUT http://localhost:9200/kamervragen/kamervraag/1262 [status:400 request:0.002s]\n",
      "PUT http://localhost:9200/kamervragen/kamervraag/1263 [status:400 request:0.006s]\n",
      "PUT http://localhost:9200/kamervragen/kamervraag/1269 [status:400 request:0.002s]\n"
     ]
    },
    {
     "name": "stdout",
     "output_type": "stream",
     "text": [
      "failed\n",
      "data_file202.json\n",
      "data_file1220.json\n",
      "failed\n",
      "data_file324.json\n",
      "failed\n",
      "data_file998.json\n",
      "data_file1444.json\n",
      "data_file180.json\n",
      "data_file587.json\n",
      "data_file63.json\n",
      "data_file1589.json\n",
      "failed\n",
      "data_file1892.json\n",
      "data_file677.json\n"
     ]
    },
    {
     "name": "stderr",
     "output_type": "stream",
     "text": [
      "PUT http://localhost:9200/kamervragen/kamervraag/1274 [status:400 request:0.002s]\n",
      "PUT http://localhost:9200/kamervragen/kamervraag/1275 [status:400 request:0.013s]\n",
      "PUT http://localhost:9200/kamervragen/kamervraag/1278 [status:400 request:0.033s]\n",
      "PUT http://localhost:9200/kamervragen/kamervraag/1279 [status:400 request:0.002s]\n",
      "PUT http://localhost:9200/kamervragen/kamervraag/1282 [status:400 request:0.007s]\n",
      "PUT http://localhost:9200/kamervragen/kamervraag/1283 [status:400 request:0.006s]\n"
     ]
    },
    {
     "name": "stdout",
     "output_type": "stream",
     "text": [
      "data_file2427.json\n",
      "data_file2613.json\n",
      "data_file2085.json\n",
      "failed\n",
      "data_file2004.json\n",
      "failed\n",
      "data_file1157.json\n",
      "data_file8.json\n",
      "data_file2647.json\n",
      "failed\n",
      "data_file386.json\n",
      "failed\n",
      "data_file2016.json\n",
      "data_file1086.json\n",
      "data_file1325.json\n",
      "failed\n",
      "data_file1591.json\n",
      "failed\n",
      "data_file391.json\n",
      "data_file815.json\n",
      "data_file410.json\n",
      "data_file2230.json\n",
      "data_file88.json\n",
      "data_file2015.json\n",
      "data_file2379.json\n",
      "data_file1443.json\n",
      "data_file2825.json\n"
     ]
    },
    {
     "name": "stderr",
     "output_type": "stream",
     "text": [
      "PUT http://localhost:9200/kamervragen/kamervraag/1293 [status:400 request:0.005s]\n",
      "PUT http://localhost:9200/kamervragen/kamervraag/1294 [status:400 request:0.025s]\n",
      "PUT http://localhost:9200/kamervragen/kamervraag/1299 [status:400 request:0.005s]\n"
     ]
    },
    {
     "name": "stdout",
     "output_type": "stream",
     "text": [
      "data_file2660.json\n",
      "failed\n",
      "data_file2472.json\n",
      "failed\n",
      "data_file1790.json\n",
      "data_file2574.json\n",
      "data_file1015.json\n",
      "data_file1011.json\n",
      "data_file554.json\n",
      "failed\n",
      "data_file701.json\n"
     ]
    },
    {
     "name": "stderr",
     "output_type": "stream",
     "text": [
      "PUT http://localhost:9200/kamervragen/kamervraag/1302 [status:400 request:0.008s]\n",
      "PUT http://localhost:9200/kamervragen/kamervraag/1308 [status:400 request:0.014s]\n",
      "PUT http://localhost:9200/kamervragen/kamervraag/1310 [status:400 request:0.024s]\n",
      "PUT http://localhost:9200/kamervragen/kamervraag/1313 [status:400 request:0.012s]\n",
      "PUT http://localhost:9200/kamervragen/kamervraag/1315 [status:400 request:0.012s]\n"
     ]
    },
    {
     "name": "stdout",
     "output_type": "stream",
     "text": [
      "data_file1778.json\n",
      "data_file787.json\n",
      "failed\n",
      "data_file173.json\n",
      "data_file110.json\n",
      "data_file21.json\n",
      "data_file2949.json\n",
      "data_file1162.json\n",
      "data_file1116.json\n",
      "failed\n",
      "data_file1481.json\n",
      "data_file1087.json\n",
      "failed\n",
      "data_file2170.json\n",
      "data_file1884.json\n",
      "data_file45.json\n",
      "failed\n",
      "data_file1489.json\n",
      "data_file1446.json\n",
      "failed\n",
      "data_file2340.json\n"
     ]
    },
    {
     "name": "stderr",
     "output_type": "stream",
     "text": [
      "PUT http://localhost:9200/kamervragen/kamervraag/1322 [status:400 request:0.007s]\n",
      "PUT http://localhost:9200/kamervragen/kamervraag/1323 [status:400 request:0.020s]\n",
      "PUT http://localhost:9200/kamervragen/kamervraag/1324 [status:400 request:0.002s]\n",
      "PUT http://localhost:9200/kamervragen/kamervraag/1327 [status:400 request:0.012s]\n",
      "PUT http://localhost:9200/kamervragen/kamervraag/1329 [status:400 request:0.009s]\n",
      "PUT http://localhost:9200/kamervragen/kamervraag/1330 [status:400 request:0.003s]\n"
     ]
    },
    {
     "name": "stdout",
     "output_type": "stream",
     "text": [
      "data_file2128.json\n",
      "data_file1598.json\n",
      "data_file2521.json\n",
      "data_file1879.json\n",
      "data_file2796.json\n",
      "data_file1072.json\n",
      "failed\n",
      "data_file1097.json\n",
      "failed\n",
      "data_file395.json\n",
      "failed\n",
      "data_file2225.json\n",
      "data_file1304.json\n",
      "data_file1014.json\n",
      "failed\n",
      "data_file2297.json\n",
      "data_file1724.json\n",
      "failed\n",
      "data_file1542.json\n",
      "failed\n",
      "data_file2190.json\n",
      "data_file194.json\n",
      "data_file1173.json\n"
     ]
    },
    {
     "name": "stderr",
     "output_type": "stream",
     "text": [
      "PUT http://localhost:9200/kamervragen/kamervraag/1338 [status:400 request:0.002s]\n",
      "PUT http://localhost:9200/kamervragen/kamervraag/1345 [status:400 request:0.006s]\n",
      "PUT http://localhost:9200/kamervragen/kamervraag/1347 [status:400 request:0.017s]\n"
     ]
    },
    {
     "name": "stdout",
     "output_type": "stream",
     "text": [
      "data_file2656.json\n",
      "data_file2674.json\n",
      "data_file516.json\n",
      "data_file1164.json\n",
      "data_file1046.json\n",
      "failed\n",
      "data_file462.json\n",
      "data_file575.json\n",
      "data_file2385.json\n",
      "data_file1882.json\n",
      "data_file398.json\n",
      "data_file1608.json\n",
      "data_file741.json\n",
      "failed\n",
      "data_file1566.json\n",
      "data_file765.json\n",
      "failed"
     ]
    },
    {
     "name": "stderr",
     "output_type": "stream",
     "text": [
      "PUT http://localhost:9200/kamervragen/kamervraag/1349 [status:400 request:0.003s]\n",
      "PUT http://localhost:9200/kamervragen/kamervraag/1350 [status:400 request:0.002s]\n",
      "PUT http://localhost:9200/kamervragen/kamervraag/1352 [status:400 request:0.003s]\n",
      "PUT http://localhost:9200/kamervragen/kamervraag/1354 [status:400 request:0.002s]\n"
     ]
    },
    {
     "name": "stdout",
     "output_type": "stream",
     "text": [
      "\n",
      "data_file1661.json\n",
      "data_file68.json\n",
      "failed\n",
      "data_file1810.json\n",
      "failed\n",
      "data_file2977.json\n",
      "data_file2280.json\n",
      "failed\n",
      "data_file301.json\n",
      "data_file2115.json\n",
      "failed\n",
      "data_file2065.json\n"
     ]
    },
    {
     "name": "stderr",
     "output_type": "stream",
     "text": [
      "PUT http://localhost:9200/kamervragen/kamervraag/1356 [status:400 request:0.005s]\n",
      "PUT http://localhost:9200/kamervragen/kamervraag/1357 [status:400 request:0.008s]\n",
      "PUT http://localhost:9200/kamervragen/kamervraag/1360 [status:400 request:0.002s]\n",
      "PUT http://localhost:9200/kamervragen/kamervraag/1364 [status:400 request:0.002s]\n"
     ]
    },
    {
     "name": "stdout",
     "output_type": "stream",
     "text": [
      "data_file2743.json\n",
      "failed\n",
      "data_file2619.json\n",
      "failed\n",
      "data_file2889.json\n",
      "data_file675.json\n",
      "data_file1363.json\n",
      "failed\n",
      "data_file2818.json\n",
      "data_file2852.json\n",
      "data_file2815.json\n",
      "data_file496.json\n",
      "failed\n",
      "data_file1329.json\n",
      "data_file1420.json\n"
     ]
    },
    {
     "name": "stderr",
     "output_type": "stream",
     "text": [
      "PUT http://localhost:9200/kamervragen/kamervraag/1368 [status:400 request:0.005s]\n",
      "PUT http://localhost:9200/kamervragen/kamervraag/1373 [status:400 request:0.033s]\n"
     ]
    },
    {
     "name": "stdout",
     "output_type": "stream",
     "text": [
      "data_file156.json\n",
      "data_file2020.json\n",
      "failed\n",
      "data_file786.json\n",
      "data_file791.json\n",
      "data_file2958.json\n",
      "data_file2928.json\n",
      "data_file1313.json\n",
      "failed\n",
      "data_file1969.json\n",
      "data_file1494.json\n"
     ]
    },
    {
     "name": "stderr",
     "output_type": "stream",
     "text": [
      "PUT http://localhost:9200/kamervragen/kamervraag/1376 [status:400 request:0.015s]\n",
      "PUT http://localhost:9200/kamervragen/kamervraag/1378 [status:400 request:0.012s]\n",
      "PUT http://localhost:9200/kamervragen/kamervraag/1382 [status:400 request:0.007s]\n"
     ]
    },
    {
     "name": "stdout",
     "output_type": "stream",
     "text": [
      "data_file97.json\n",
      "failed\n",
      "data_file103.json\n",
      "data_file2018.json\n",
      "failed\n",
      "data_file1605.json\n",
      "data_file2801.json\n",
      "data_file2800.json\n",
      "data_file385.json\n",
      "failed\n",
      "data_file2263.json\n",
      "data_file2393.json\n"
     ]
    },
    {
     "name": "stderr",
     "output_type": "stream",
     "text": [
      "PUT http://localhost:9200/kamervragen/kamervraag/1385 [status:400 request:0.006s]\n",
      "PUT http://localhost:9200/kamervragen/kamervraag/1387 [status:400 request:0.022s]\n",
      "PUT http://localhost:9200/kamervragen/kamervraag/1388 [status:400 request:0.031s]\n",
      "PUT http://localhost:9200/kamervragen/kamervraag/1391 [status:400 request:0.003s]\n"
     ]
    },
    {
     "name": "stdout",
     "output_type": "stream",
     "text": [
      "data_file2783.json\n",
      "failed\n",
      "data_file2154.json\n",
      "data_file1121.json\n",
      "failed\n",
      "data_file119.json\n",
      "failed\n",
      "data_file566.json\n",
      "data_file2968.json\n",
      "data_file1389.json\n",
      "failed\n",
      "data_file2551.json\n",
      "data_file40.json\n"
     ]
    },
    {
     "name": "stderr",
     "output_type": "stream",
     "text": [
      "PUT http://localhost:9200/kamervragen/kamervraag/1395 [status:400 request:0.014s]\n",
      "PUT http://localhost:9200/kamervragen/kamervraag/1399 [status:400 request:0.014s]\n",
      "PUT http://localhost:9200/kamervragen/kamervraag/1400 [status:400 request:0.005s]\n",
      "PUT http://localhost:9200/kamervragen/kamervraag/1401 [status:400 request:0.012s]\n"
     ]
    },
    {
     "name": "stdout",
     "output_type": "stream",
     "text": [
      "data_file2760.json\n",
      "data_file2859.json\n",
      "failed\n",
      "data_file2327.json\n",
      "data_file73.json\n",
      "data_file2489.json\n",
      "data_file1427.json\n",
      "failed\n",
      "data_file1805.json\n",
      "failed\n",
      "data_file1588.json\n",
      "failed\n",
      "data_file912.json\n",
      "data_file913.json\n",
      "data_file1441.json\n",
      "data_file1089.json\n"
     ]
    },
    {
     "name": "stderr",
     "output_type": "stream",
     "text": [
      "PUT http://localhost:9200/kamervragen/kamervraag/1406 [status:400 request:0.007s]\n",
      "PUT http://localhost:9200/kamervragen/kamervraag/1407 [status:400 request:0.026s]\n",
      "PUT http://localhost:9200/kamervragen/kamervraag/1412 [status:400 request:0.006s]\n",
      "PUT http://localhost:9200/kamervragen/kamervraag/1418 [status:400 request:0.003s]\n"
     ]
    },
    {
     "name": "stdout",
     "output_type": "stream",
     "text": [
      "data_file204.json\n",
      "failed\n",
      "data_file26.json\n",
      "failed\n",
      "data_file1872.json\n",
      "data_file2942.json\n",
      "data_file858.json\n",
      "data_file1924.json\n",
      "data_file262.json\n",
      "failed\n",
      "data_file55.json\n",
      "data_file2027.json\n",
      "data_file1635.json\n",
      "data_file1203.json\n",
      "data_file2914.json\n",
      "data_file2581.json\n",
      "failed\n",
      "data_file2935.json\n"
     ]
    },
    {
     "name": "stderr",
     "output_type": "stream",
     "text": [
      "PUT http://localhost:9200/kamervragen/kamervraag/1424 [status:400 request:0.006s]\n",
      "PUT http://localhost:9200/kamervragen/kamervraag/1426 [status:400 request:0.017s]\n",
      "PUT http://localhost:9200/kamervragen/kamervraag/1427 [status:400 request:0.022s]\n",
      "PUT http://localhost:9200/kamervragen/kamervraag/1429 [status:400 request:0.022s]\n",
      "PUT http://localhost:9200/kamervragen/kamervraag/1430 [status:400 request:0.012s]\n"
     ]
    },
    {
     "name": "stdout",
     "output_type": "stream",
     "text": [
      "data_file1750.json\n",
      "data_file1333.json\n",
      "data_file1166.json\n",
      "data_file2757.json\n",
      "data_file743.json\n",
      "failed\n",
      "data_file2442.json\n",
      "data_file1031.json\n",
      "failed\n",
      "data_file2481.json\n",
      "failed\n",
      "data_file1109.json\n",
      "data_file2165.json\n",
      "failed\n",
      "data_file981.json\n",
      "failed\n",
      "data_file2036.json\n"
     ]
    },
    {
     "name": "stderr",
     "output_type": "stream",
     "text": [
      "PUT http://localhost:9200/kamervragen/kamervraag/1432 [status:400 request:0.012s]\n",
      "PUT http://localhost:9200/kamervragen/kamervraag/1435 [status:400 request:0.007s]\n",
      "PUT http://localhost:9200/kamervragen/kamervraag/1436 [status:400 request:0.016s]\n",
      "PUT http://localhost:9200/kamervragen/kamervraag/1438 [status:400 request:0.008s]\n",
      "PUT http://localhost:9200/kamervragen/kamervraag/1439 [status:400 request:0.005s]\n"
     ]
    },
    {
     "name": "stdout",
     "output_type": "stream",
     "text": [
      "data_file1246.json\n",
      "failed\n",
      "data_file1177.json\n",
      "data_file2479.json\n",
      "data_file25.json\n",
      "failed\n",
      "data_file643.json\n",
      "failed\n",
      "data_file2923.json\n",
      "data_file1301.json\n",
      "failed\n",
      "data_file93.json\n",
      "failed\n",
      "data_file2715.json\n"
     ]
    },
    {
     "name": "stderr",
     "output_type": "stream",
     "text": [
      "PUT http://localhost:9200/kamervragen/kamervraag/1440 [status:400 request:0.022s]\n",
      "PUT http://localhost:9200/kamervragen/kamervraag/1442 [status:400 request:0.004s]\n",
      "PUT http://localhost:9200/kamervragen/kamervraag/1443 [status:400 request:0.015s]\n",
      "PUT http://localhost:9200/kamervragen/kamervraag/1447 [status:400 request:0.016s]\n"
     ]
    },
    {
     "name": "stdout",
     "output_type": "stream",
     "text": [
      "failed\n",
      "data_file2931.json\n",
      "data_file258.json\n",
      "failed\n",
      "data_file882.json\n",
      "failed\n",
      "data_file2126.json\n",
      "data_file412.json\n",
      "data_file889.json\n",
      "data_file35.json\n",
      "failed\n",
      "data_file2603.json\n"
     ]
    },
    {
     "name": "stderr",
     "output_type": "stream",
     "text": [
      "PUT http://localhost:9200/kamervragen/kamervraag/1455 [status:400 request:0.004s]\n",
      "PUT http://localhost:9200/kamervragen/kamervraag/1457 [status:400 request:0.002s]\n"
     ]
    },
    {
     "name": "stdout",
     "output_type": "stream",
     "text": [
      "data_file1936.json\n",
      "data_file857.json\n",
      "data_file2414.json\n",
      "data_file2081.json\n",
      "data_file1585.json\n",
      "data_file775.json\n",
      "data_file2182.json\n",
      "failed\n",
      "data_file2244.json\n",
      "data_file1836.json\n",
      "failed\n",
      "data_file455.json\n"
     ]
    },
    {
     "name": "stderr",
     "output_type": "stream",
     "text": [
      "PUT http://localhost:9200/kamervragen/kamervraag/1463 [status:400 request:0.006s]\n",
      "PUT http://localhost:9200/kamervragen/kamervraag/1464 [status:400 request:0.019s]\n"
     ]
    },
    {
     "name": "stdout",
     "output_type": "stream",
     "text": [
      "data_file1353.json\n",
      "data_file226.json\n",
      "data_file938.json\n",
      "data_file1676.json\n",
      "data_file473.json\n",
      "failed\n",
      "data_file2832.json\n",
      "failed\n",
      "data_file619.json\n"
     ]
    },
    {
     "name": "stderr",
     "output_type": "stream",
     "text": [
      "PUT http://localhost:9200/kamervragen/kamervraag/1469 [status:400 request:0.002s]\n",
      "PUT http://localhost:9200/kamervragen/kamervraag/1470 [status:400 request:0.012s]\n",
      "PUT http://localhost:9200/kamervragen/kamervraag/1471 [status:400 request:0.008s]\n",
      "PUT http://localhost:9200/kamervragen/kamervraag/1472 [status:400 request:0.093s]\n"
     ]
    },
    {
     "name": "stdout",
     "output_type": "stream",
     "text": [
      "data_file668.json\n",
      "data_file32.json\n",
      "data_file1718.json\n",
      "data_file65.json\n",
      "failed\n",
      "data_file2249.json\n",
      "failed\n",
      "data_file629.json\n",
      "failed\n",
      "data_file193.json\n",
      "failed\n",
      "data_file2200.json\n"
     ]
    },
    {
     "name": "stderr",
     "output_type": "stream",
     "text": [
      "PUT http://localhost:9200/kamervragen/kamervraag/1474 [status:400 request:0.013s]\n",
      "PUT http://localhost:9200/kamervragen/kamervraag/1478 [status:400 request:0.002s]\n",
      "PUT http://localhost:9200/kamervragen/kamervraag/1481 [status:400 request:0.010s]\n",
      "PUT http://localhost:9200/kamervragen/kamervraag/1482 [status:400 request:0.011s]\n"
     ]
    },
    {
     "name": "stdout",
     "output_type": "stream",
     "text": [
      "data_file2447.json\n",
      "failed\n",
      "data_file1696.json\n",
      "data_file1063.json\n",
      "data_file2913.json\n",
      "data_file2161.json\n",
      "failed\n",
      "data_file2484.json\n",
      "data_file362.json\n",
      "data_file1539.json\n",
      "failed\n",
      "data_file1779.json\n",
      "failed\n",
      "data_file1239.json\n"
     ]
    },
    {
     "name": "stderr",
     "output_type": "stream",
     "text": [
      "PUT http://localhost:9200/kamervragen/kamervraag/1485 [status:400 request:0.002s]\n",
      "PUT http://localhost:9200/kamervragen/kamervraag/1491 [status:400 request:0.003s]\n"
     ]
    },
    {
     "name": "stdout",
     "output_type": "stream",
     "text": [
      "data_file2047.json\n",
      "data_file936.json\n",
      "failed\n",
      "data_file2067.json\n",
      "data_file1013.json\n",
      "data_file2499.json\n",
      "data_file2177.json\n",
      "data_file2453.json\n",
      "data_file2838.json\n",
      "failed\n",
      "data_file2290.json\n",
      "data_file1384.json\n"
     ]
    },
    {
     "name": "stderr",
     "output_type": "stream",
     "text": [
      "PUT http://localhost:9200/kamervragen/kamervraag/1494 [status:400 request:0.006s]\n",
      "PUT http://localhost:9200/kamervragen/kamervraag/1495 [status:400 request:0.005s]\n",
      "PUT http://localhost:9200/kamervragen/kamervraag/1496 [status:400 request:0.004s]\n",
      "PUT http://localhost:9200/kamervragen/kamervraag/1497 [status:400 request:0.006s]\n",
      "PUT http://localhost:9200/kamervragen/kamervraag/1500 [status:400 request:0.002s]\n"
     ]
    },
    {
     "name": "stdout",
     "output_type": "stream",
     "text": [
      "data_file1040.json\n",
      "failed\n",
      "data_file1249.json\n",
      "failed\n",
      "data_file217.json\n",
      "failed\n",
      "data_file41.json\n",
      "failed\n",
      "data_file157.json\n",
      "data_file559.json\n",
      "data_file558.json\n",
      "failed\n",
      "data_file2051.json\n",
      "data_file2072.json\n",
      "data_file2023.json\n",
      "data_file2419.json\n",
      "data_file1964.json\n"
     ]
    },
    {
     "name": "stderr",
     "output_type": "stream",
     "text": [
      "PUT http://localhost:9200/kamervragen/kamervraag/1505 [status:400 request:0.005s]\n",
      "PUT http://localhost:9200/kamervragen/kamervraag/1506 [status:400 request:0.005s]\n",
      "PUT http://localhost:9200/kamervragen/kamervraag/1507 [status:400 request:0.006s]\n",
      "PUT http://localhost:9200/kamervragen/kamervraag/1509 [status:400 request:0.002s]\n",
      "PUT http://localhost:9200/kamervragen/kamervraag/1513 [status:400 request:0.002s]\n",
      "PUT http://localhost:9200/kamervragen/kamervraag/1516 [status:400 request:0.002s]\n",
      "PUT http://localhost:9200/kamervragen/kamervraag/1517 [status:400 request:0.006s]\n",
      "PUT http://localhost:9200/kamervragen/kamervraag/1519 [status:400 request:0.003s]\n"
     ]
    },
    {
     "name": "stdout",
     "output_type": "stream",
     "text": [
      "failed\n",
      "data_file255.json\n",
      "failed\n",
      "data_file2701.json\n",
      "failed\n",
      "data_file1954.json\n",
      "data_file2324.json\n",
      "failed\n",
      "data_file2572.json\n",
      "data_file208.json\n",
      "data_file1104.json\n",
      "data_file2564.json\n",
      "failed\n",
      "data_file1685.json\n",
      "data_file1951.json\n",
      "data_file557.json\n",
      "failed\n",
      "data_file824.json\n",
      "failed\n",
      "data_file2639.json\n",
      "data_file1126.json\n",
      "failed\n",
      "data_file578.json\n"
     ]
    },
    {
     "name": "stderr",
     "output_type": "stream",
     "text": [
      "PUT http://localhost:9200/kamervragen/kamervraag/1520 [status:400 request:0.013s]\n",
      "PUT http://localhost:9200/kamervragen/kamervraag/1521 [status:400 request:0.003s]\n",
      "PUT http://localhost:9200/kamervragen/kamervraag/1522 [status:400 request:0.002s]\n",
      "PUT http://localhost:9200/kamervragen/kamervraag/1525 [status:400 request:0.002s]\n",
      "PUT http://localhost:9200/kamervragen/kamervraag/1526 [status:400 request:0.003s]\n",
      "PUT http://localhost:9200/kamervragen/kamervraag/1527 [status:400 request:0.002s]\n",
      "PUT http://localhost:9200/kamervragen/kamervraag/1530 [status:400 request:0.003s]\n",
      "PUT http://localhost:9200/kamervragen/kamervraag/1532 [status:400 request:0.002s]\n",
      "PUT http://localhost:9200/kamervragen/kamervraag/1535 [status:400 request:0.002s]\n",
      "PUT http://localhost:9200/kamervragen/kamervraag/1539 [status:400 request:0.003s]\n",
      "PUT http://localhost:9200/kamervragen/kamervraag/1540 [status:400 request:0.002s]\n",
      "PUT http://localhost:9200/kamervragen/kamervraag/1541 [status:400 request:0.001s]\n",
      "PUT http://localhost:9200/kamervragen/kamervraag/1542 [status:400 request:0.002s]\n",
      "PUT http://localhost:9200/kamervragen/kamervraag/1543 [status:400 request:0.003s]\n",
      "PUT http://localhost:9200/kamervragen/kamervraag/1544 [status:400 request:0.011s]\n"
     ]
    },
    {
     "name": "stdout",
     "output_type": "stream",
     "text": [
      "failed\n",
      "data_file2855.json\n",
      "failed\n",
      "data_file1564.json\n",
      "failed\n",
      "data_file306.json\n",
      "data_file682.json\n",
      "data_file2946.json\n",
      "failed\n",
      "data_file2846.json\n",
      "failed\n",
      "data_file2738.json\n",
      "failed\n",
      "data_file531.json\n",
      "data_file689.json\n",
      "data_file724.json\n",
      "failed\n",
      "data_file866.json\n",
      "data_file1742.json\n",
      "failed\n",
      "data_file850.json\n",
      "data_file2933.json\n",
      "data_file2186.json\n",
      "failed\n",
      "data_file2597.json\n",
      "data_file721.json\n",
      "data_file2174.json\n",
      "data_file2804.json\n",
      "failed\n",
      "data_file757.json\n",
      "failed\n",
      "data_file583.json\n",
      "failed\n",
      "data_file2822.json\n",
      "failed\n",
      "data_file332.json\n",
      "failed\n",
      "data_file2046.json\n",
      "failed\n",
      "data_file1817.json\n"
     ]
    },
    {
     "name": "stderr",
     "output_type": "stream",
     "text": [
      "PUT http://localhost:9200/kamervragen/kamervraag/1545 [status:400 request:0.005s]\n",
      "PUT http://localhost:9200/kamervragen/kamervraag/1547 [status:400 request:0.024s]\n",
      "PUT http://localhost:9200/kamervragen/kamervraag/1553 [status:400 request:0.014s]\n"
     ]
    },
    {
     "name": "stdout",
     "output_type": "stream",
     "text": [
      "failed\n",
      "data_file2843.json\n",
      "data_file1111.json\n",
      "failed\n",
      "data_file297.json\n",
      "data_file1001.json\n",
      "data_file796.json\n",
      "data_file46.json\n",
      "data_file914.json\n",
      "data_file282.json\n",
      "failed\n",
      "data_file2400.json\n"
     ]
    },
    {
     "name": "stderr",
     "output_type": "stream",
     "text": [
      "PUT http://localhost:9200/kamervragen/kamervraag/1560 [status:400 request:0.002s]\n"
     ]
    },
    {
     "name": "stdout",
     "output_type": "stream",
     "text": [
      "data_file1478.json\n",
      "data_file394.json\n",
      "data_file1129.json\n",
      "data_file2807.json\n",
      "data_file1155.json\n",
      "data_file967.json\n",
      "failed\n",
      "data_file2740.json\n",
      "data_file1847.json\n",
      "data_file127.json\n",
      "data_file2383.json\n"
     ]
    },
    {
     "name": "stderr",
     "output_type": "stream",
     "text": [
      "PUT http://localhost:9200/kamervragen/kamervraag/1567 [status:400 request:0.006s]\n",
      "PUT http://localhost:9200/kamervragen/kamervraag/1568 [status:400 request:0.019s]\n"
     ]
    },
    {
     "name": "stdout",
     "output_type": "stream",
     "text": [
      "data_file2679.json\n",
      "data_file1440.json\n",
      "data_file1941.json\n",
      "failed\n",
      "data_file895.json\n",
      "failed\n",
      "data_file2563.json\n",
      "data_file2741.json\n",
      "data_file2311.json\n"
     ]
    },
    {
     "name": "stderr",
     "output_type": "stream",
     "text": [
      "PUT http://localhost:9200/kamervragen/kamervraag/1576 [status:400 request:0.005s]\n",
      "PUT http://localhost:9200/kamervragen/kamervraag/1579 [status:400 request:0.002s]\n",
      "PUT http://localhost:9200/kamervragen/kamervraag/1581 [status:400 request:0.003s]\n"
     ]
    },
    {
     "name": "stdout",
     "output_type": "stream",
     "text": [
      "data_file1418.json\n",
      "data_file2086.json\n",
      "data_file745.json\n",
      "data_file561.json\n",
      "data_file2012.json\n",
      "failed\n",
      "data_file2666.json\n",
      "data_file1950.json\n",
      "data_file876.json\n",
      "failed\n",
      "data_file530.json\n",
      "data_file1331.json\n",
      "failed\n",
      "data_file2000.json\n",
      "data_file2685.json\n",
      "data_file71.json\n"
     ]
    },
    {
     "name": "stderr",
     "output_type": "stream",
     "text": [
      "PUT http://localhost:9200/kamervragen/kamervraag/1586 [status:400 request:0.002s]\n",
      "PUT http://localhost:9200/kamervragen/kamervraag/1589 [status:400 request:0.012s]\n",
      "PUT http://localhost:9200/kamervragen/kamervraag/1591 [status:400 request:0.004s]\n",
      "PUT http://localhost:9200/kamervragen/kamervraag/1596 [status:400 request:0.002s]\n"
     ]
    },
    {
     "name": "stdout",
     "output_type": "stream",
     "text": [
      "data_file313.json\n",
      "data_file399.json\n",
      "failed\n",
      "data_file403.json\n",
      "data_file2723.json\n",
      "data_file2224.json\n",
      "failed\n",
      "data_file693.json\n",
      "data_file880.json\n",
      "failed\n",
      "data_file2867.json\n",
      "data_file2233.json\n",
      "data_file2408.json\n",
      "data_file2149.json\n",
      "data_file2813.json\n"
     ]
    },
    {
     "name": "stderr",
     "output_type": "stream",
     "text": [
      "PUT http://localhost:9200/kamervragen/kamervraag/1598 [status:400 request:0.005s]\n",
      "PUT http://localhost:9200/kamervragen/kamervraag/1601 [status:400 request:0.017s]\n",
      "PUT http://localhost:9200/kamervragen/kamervraag/1603 [status:400 request:0.008s]\n",
      "PUT http://localhost:9200/kamervragen/kamervraag/1605 [status:400 request:0.006s]\n",
      "PUT http://localhost:9200/kamervragen/kamervraag/1606 [status:400 request:0.007s]\n"
     ]
    },
    {
     "name": "stdout",
     "output_type": "stream",
     "text": [
      "failed\n",
      "data_file2587.json\n",
      "data_file248.json\n",
      "failed\n",
      "data_file1852.json\n",
      "data_file2317.json\n",
      "data_file636.json\n",
      "failed\n",
      "data_file70.json\n",
      "data_file2588.json\n",
      "failed\n",
      "data_file259.json\n",
      "data_file2266.json\n",
      "failed\n",
      "data_file529.json\n",
      "failed\n",
      "data_file1960.json\n",
      "data_file2234.json\n",
      "data_file2617.json\n"
     ]
    },
    {
     "name": "stderr",
     "output_type": "stream",
     "text": [
      "PUT http://localhost:9200/kamervragen/kamervraag/1611 [status:400 request:0.017s]\n",
      "PUT http://localhost:9200/kamervragen/kamervraag/1614 [status:400 request:0.003s]\n",
      "PUT http://localhost:9200/kamervragen/kamervraag/1615 [status:400 request:0.008s]\n",
      "PUT http://localhost:9200/kamervragen/kamervraag/1617 [status:400 request:0.002s]\n",
      "PUT http://localhost:9200/kamervragen/kamervraag/1618 [status:400 request:0.004s]\n",
      "PUT http://localhost:9200/kamervragen/kamervraag/1621 [status:400 request:0.003s]\n"
     ]
    },
    {
     "name": "stdout",
     "output_type": "stream",
     "text": [
      "data_file96.json\n",
      "data_file898.json\n",
      "failed\n",
      "data_file547.json\n",
      "data_file2911.json\n",
      "data_file523.json\n",
      "failed\n",
      "data_file917.json\n",
      "failed\n",
      "data_file2865.json\n",
      "data_file1200.json\n",
      "failed\n",
      "data_file1823.json\n",
      "failed\n",
      "data_file2924.json\n",
      "data_file1234.json\n",
      "data_file1386.json\n",
      "failed\n"
     ]
    },
    {
     "name": "stderr",
     "output_type": "stream",
     "text": [
      "PUT http://localhost:9200/kamervragen/kamervraag/1622 [status:400 request:0.012s]\n",
      "PUT http://localhost:9200/kamervragen/kamervraag/1629 [status:400 request:0.003s]\n",
      "PUT http://localhost:9200/kamervragen/kamervraag/1631 [status:400 request:0.006s]\n",
      "PUT http://localhost:9200/kamervragen/kamervraag/1633 [status:400 request:0.006s]\n",
      "PUT http://localhost:9200/kamervragen/kamervraag/1634 [status:400 request:0.003s]\n"
     ]
    },
    {
     "name": "stdout",
     "output_type": "stream",
     "text": [
      "data_file2415.json\n",
      "failed\n",
      "data_file1711.json\n",
      "data_file1541.json\n",
      "data_file490.json\n",
      "data_file2554.json\n",
      "data_file2527.json\n",
      "data_file849.json\n",
      "data_file870.json\n",
      "failed\n",
      "data_file2870.json\n",
      "data_file99.json\n",
      "failed\n",
      "data_file2055.json\n",
      "data_file526.json\n",
      "failed\n",
      "data_file2270.json\n",
      "failed\n",
      "data_file1787.json\n"
     ]
    },
    {
     "name": "stderr",
     "output_type": "stream",
     "text": [
      "PUT http://localhost:9200/kamervragen/kamervraag/1636 [status:400 request:0.007s]\n",
      "PUT http://localhost:9200/kamervragen/kamervraag/1639 [status:400 request:0.004s]\n",
      "PUT http://localhost:9200/kamervragen/kamervraag/1640 [status:400 request:0.004s]\n",
      "PUT http://localhost:9200/kamervragen/kamervraag/1641 [status:400 request:0.005s]\n",
      "PUT http://localhost:9200/kamervragen/kamervraag/1642 [status:400 request:0.005s]\n",
      "PUT http://localhost:9200/kamervragen/kamervraag/1644 [status:400 request:0.014s]\n",
      "PUT http://localhost:9200/kamervragen/kamervraag/1647 [status:400 request:0.005s]\n",
      "PUT http://localhost:9200/kamervragen/kamervraag/1648 [status:400 request:0.002s]\n",
      "PUT http://localhost:9200/kamervragen/kamervraag/1649 [status:400 request:0.025s]\n"
     ]
    },
    {
     "name": "stdout",
     "output_type": "stream",
     "text": [
      "data_file1659.json\n",
      "failed\n",
      "data_file1468.json\n",
      "data_file414.json\n",
      "data_file2142.json\n",
      "failed\n",
      "data_file276.json\n",
      "failed\n",
      "data_file1741.json\n",
      "failed\n",
      "data_file1731.json\n",
      "failed\n",
      "data_file1554.json\n",
      "data_file2005.json\n",
      "failed\n",
      "data_file2918.json\n",
      "data_file702.json\n",
      "data_file2191.json\n",
      "failed\n",
      "data_file861.json\n",
      "failed\n",
      "data_file847.json\n",
      "failed\n",
      "data_file252.json\n"
     ]
    },
    {
     "name": "stderr",
     "output_type": "stream",
     "text": [
      "PUT http://localhost:9200/kamervragen/kamervraag/1650 [status:400 request:0.019s]\n",
      "PUT http://localhost:9200/kamervragen/kamervraag/1652 [status:400 request:0.003s]\n",
      "PUT http://localhost:9200/kamervragen/kamervraag/1655 [status:400 request:0.002s]\n"
     ]
    },
    {
     "name": "stdout",
     "output_type": "stream",
     "text": [
      "failed\n",
      "data_file1406.json\n",
      "data_file1137.json\n",
      "failed\n",
      "data_file1979.json\n",
      "data_file1143.json\n",
      "data_file1752.json\n",
      "failed\n",
      "data_file959.json\n",
      "data_file307.json\n",
      "data_file359.json\n",
      "data_file773.json\n",
      "data_file881.json\n",
      "data_file1023.json\n"
     ]
    },
    {
     "name": "stderr",
     "output_type": "stream",
     "text": [
      "PUT http://localhost:9200/kamervragen/kamervraag/1662 [status:400 request:0.011s]\n",
      "PUT http://localhost:9200/kamervragen/kamervraag/1663 [status:400 request:0.003s]\n",
      "PUT http://localhost:9200/kamervragen/kamervraag/1670 [status:400 request:0.008s]\n"
     ]
    },
    {
     "name": "stdout",
     "output_type": "stream",
     "text": [
      "data_file2716.json\n",
      "failed\n",
      "data_file1484.json\n",
      "failed\n",
      "data_file1356.json\n",
      "data_file2950.json\n",
      "data_file1997.json\n",
      "data_file624.json\n",
      "data_file883.json\n",
      "data_file915.json\n",
      "data_file795.json\n",
      "failed\n",
      "data_file2464.json\n",
      "data_file2097.json\n"
     ]
    },
    {
     "name": "stderr",
     "output_type": "stream",
     "text": [
      "PUT http://localhost:9200/kamervragen/kamervraag/1673 [status:400 request:0.009s]\n",
      "PUT http://localhost:9200/kamervragen/kamervraag/1674 [status:400 request:0.002s]\n",
      "PUT http://localhost:9200/kamervragen/kamervraag/1676 [status:400 request:0.012s]\n",
      "PUT http://localhost:9200/kamervragen/kamervraag/1678 [status:400 request:0.003s]\n",
      "PUT http://localhost:9200/kamervragen/kamervraag/1679 [status:400 request:0.002s]\n",
      "PUT http://localhost:9200/kamervragen/kamervraag/1680 [status:400 request:0.014s]\n",
      "PUT http://localhost:9200/kamervragen/kamervraag/1685 [status:400 request:0.015s]\n"
     ]
    },
    {
     "name": "stdout",
     "output_type": "stream",
     "text": [
      "data_file949.json\n",
      "failed\n",
      "data_file2778.json\n",
      "failed\n",
      "data_file2967.json\n",
      "data_file1218.json\n",
      "failed\n",
      "data_file2767.json\n",
      "data_file832.json\n",
      "failed\n",
      "data_file350.json\n",
      "failed\n",
      "data_file2785.json\n",
      "failed\n",
      "data_file2347.json\n",
      "data_file2238.json\n",
      "data_file726.json\n",
      "data_file184.json\n",
      "data_file931.json\n",
      "failed\n",
      "data_file1722.json\n"
     ]
    },
    {
     "name": "stderr",
     "output_type": "stream",
     "text": [
      "PUT http://localhost:9200/kamervragen/kamervraag/1687 [status:400 request:0.007s]\n",
      "PUT http://localhost:9200/kamervragen/kamervraag/1689 [status:400 request:0.006s]\n",
      "PUT http://localhost:9200/kamervragen/kamervraag/1690 [status:400 request:0.004s]\n",
      "PUT http://localhost:9200/kamervragen/kamervraag/1691 [status:400 request:0.004s]\n",
      "PUT http://localhost:9200/kamervragen/kamervraag/1692 [status:400 request:0.002s]\n",
      "PUT http://localhost:9200/kamervragen/kamervraag/1693 [status:400 request:0.003s]\n"
     ]
    },
    {
     "name": "stdout",
     "output_type": "stream",
     "text": [
      "data_file2985.json\n",
      "failed\n",
      "data_file1557.json\n",
      "data_file580.json\n",
      "failed\n",
      "data_file1278.json\n",
      "failed\n",
      "data_file2219.json\n",
      "failed\n",
      "data_file1875.json\n",
      "failed\n",
      "data_file2751.json\n",
      "failed\n",
      "data_file983.json\n",
      "data_file1915.json\n",
      "data_file1748.json\n",
      "data_file1284.json\n",
      "data_file1603.json\n",
      "data_file311.json\n"
     ]
    },
    {
     "name": "stderr",
     "output_type": "stream",
     "text": [
      "PUT http://localhost:9200/kamervragen/kamervraag/1701 [status:400 request:0.010s]\n",
      "PUT http://localhost:9200/kamervragen/kamervraag/1703 [status:400 request:0.017s]\n"
     ]
    },
    {
     "name": "stdout",
     "output_type": "stream",
     "text": [
      "data_file2837.json\n",
      "data_file2576.json\n",
      "failed\n",
      "data_file1078.json\n",
      "data_file148.json\n",
      "failed\n",
      "data_file106.json\n",
      "data_file737.json\n"
     ]
    },
    {
     "name": "stderr",
     "output_type": "stream",
     "text": [
      "PUT http://localhost:9200/kamervragen/kamervraag/1712 [status:400 request:0.004s]\n",
      "PUT http://localhost:9200/kamervragen/kamervraag/1716 [status:400 request:0.002s]\n",
      "PUT http://localhost:9200/kamervragen/kamervraag/1717 [status:400 request:0.011s]\n",
      "PUT http://localhost:9200/kamervragen/kamervraag/1718 [status:400 request:0.005s]\n",
      "PUT http://localhost:9200/kamervragen/kamervraag/1720 [status:400 request:0.002s]\n"
     ]
    },
    {
     "name": "stdout",
     "output_type": "stream",
     "text": [
      "data_file2331.json\n",
      "data_file185.json\n",
      "data_file2802.json\n",
      "data_file1571.json\n",
      "data_file928.json\n",
      "data_file2394.json\n",
      "data_file2586.json\n",
      "failed\n",
      "data_file34.json\n",
      "data_file2030.json\n",
      "data_file116.json\n",
      "data_file939.json\n",
      "failed\n",
      "data_file2364.json\n",
      "failed\n",
      "data_file2566.json\n",
      "failed\n",
      "data_file1401.json\n",
      "data_file1814.json\n",
      "failed\n",
      "data_file2970.json\n"
     ]
    },
    {
     "name": "stderr",
     "output_type": "stream",
     "text": [
      "PUT http://localhost:9200/kamervragen/kamervraag/1724 [status:400 request:0.003s]\n",
      "PUT http://localhost:9200/kamervragen/kamervraag/1725 [status:400 request:0.003s]\n",
      "PUT http://localhost:9200/kamervragen/kamervraag/1726 [status:400 request:0.005s]\n",
      "PUT http://localhost:9200/kamervragen/kamervraag/1729 [status:400 request:0.005s]\n",
      "PUT http://localhost:9200/kamervragen/kamervraag/1731 [status:400 request:0.004s]\n"
     ]
    },
    {
     "name": "stdout",
     "output_type": "stream",
     "text": [
      "data_file2104.json\n",
      "data_file2354.json\n",
      "data_file2845.json\n",
      "failed\n",
      "data_file2658.json\n",
      "failed\n",
      "data_file505.json\n",
      "failed\n",
      "data_file1008.json\n",
      "data_file2467.json\n",
      "data_file1938.json\n",
      "failed\n",
      "data_file2781.json\n",
      "data_file1877.json\n",
      "failed\n",
      "data_file2430.json\n"
     ]
    },
    {
     "name": "stderr",
     "output_type": "stream",
     "text": [
      "PUT http://localhost:9200/kamervragen/kamervraag/1733 [status:400 request:0.007s]\n",
      "PUT http://localhost:9200/kamervragen/kamervraag/1734 [status:400 request:0.003s]\n",
      "PUT http://localhost:9200/kamervragen/kamervraag/1736 [status:400 request:0.004s]\n",
      "PUT http://localhost:9200/kamervragen/kamervraag/1741 [status:400 request:0.002s]\n"
     ]
    },
    {
     "name": "stdout",
     "output_type": "stream",
     "text": [
      "data_file978.json\n",
      "failed\n",
      "data_file1263.json\n",
      "failed\n",
      "data_file1665.json\n",
      "data_file2850.json\n",
      "failed\n",
      "data_file344.json\n",
      "data_file1221.json\n",
      "data_file2456.json\n",
      "data_file14.json\n",
      "data_file1935.json\n",
      "failed\n",
      "data_file1866.json\n"
     ]
    },
    {
     "name": "stderr",
     "output_type": "stream",
     "text": [
      "PUT http://localhost:9200/kamervragen/kamervraag/1750 [status:400 request:0.002s]\n",
      "PUT http://localhost:9200/kamervragen/kamervraag/1754 [status:400 request:0.007s]\n"
     ]
    },
    {
     "name": "stdout",
     "output_type": "stream",
     "text": [
      "data_file2410.json\n",
      "data_file768.json\n",
      "data_file2848.json\n",
      "data_file2882.json\n",
      "data_file62.json\n",
      "data_file1619.json\n",
      "data_file574.json\n",
      "data_file2272.json\n",
      "failed\n",
      "data_file2031.json\n",
      "data_file2106.json\n",
      "data_file2461.json\n",
      "data_file1037.json\n",
      "failed\n",
      "data_file368.json\n",
      "data_file1873.json\n"
     ]
    },
    {
     "name": "stderr",
     "output_type": "stream",
     "text": [
      "PUT http://localhost:9200/kamervragen/kamervraag/1762 [status:400 request:0.003s]\n",
      "PUT http://localhost:9200/kamervragen/kamervraag/1765 [status:400 request:0.002s]\n",
      "PUT http://localhost:9200/kamervragen/kamervraag/1768 [status:400 request:0.010s]\n"
     ]
    },
    {
     "name": "stdout",
     "output_type": "stream",
     "text": [
      "data_file1370.json\n",
      "data_file275.json\n",
      "data_file825.json\n",
      "data_file1862.json\n",
      "data_file699.json\n",
      "data_file1365.json\n",
      "failed\n",
      "data_file437.json\n",
      "data_file2638.json\n",
      "data_file1749.json\n",
      "failed\n",
      "data_file1114.json\n",
      "data_file2426.json\n",
      "data_file890.json\n",
      "failed\n",
      "data_file2480.json\n",
      "data_file296.json\n"
     ]
    },
    {
     "name": "stderr",
     "output_type": "stream",
     "text": [
      "PUT http://localhost:9200/kamervragen/kamervraag/1770 [status:400 request:0.010s]\n",
      "PUT http://localhost:9200/kamervragen/kamervraag/1777 [status:400 request:0.003s]\n",
      "PUT http://localhost:9200/kamervragen/kamervraag/1778 [status:400 request:0.010s]\n",
      "PUT http://localhost:9200/kamervragen/kamervraag/1780 [status:400 request:0.008s]\n"
     ]
    },
    {
     "name": "stdout",
     "output_type": "stream",
     "text": [
      "failed\n",
      "data_file1391.json\n",
      "data_file548.json\n",
      "data_file778.json\n",
      "data_file1747.json\n",
      "data_file1223.json\n",
      "data_file828.json\n",
      "data_file1575.json\n",
      "failed\n",
      "data_file1326.json\n",
      "failed\n",
      "data_file2780.json\n",
      "data_file2544.json\n",
      "failed\n",
      "data_file2672.json\n",
      "data_file1704.json\n"
     ]
    },
    {
     "name": "stderr",
     "output_type": "stream",
     "text": [
      "PUT http://localhost:9200/kamervragen/kamervraag/1782 [status:400 request:0.012s]\n"
     ]
    },
    {
     "name": "stdout",
     "output_type": "stream",
     "text": [
      "failed\n",
      "data_file214.json\n",
      "data_file1622.json\n"
     ]
    },
    {
     "name": "stderr",
     "output_type": "stream",
     "text": [
      "PUT http://localhost:9200/kamervragen/kamervraag/1791 [status:400 request:0.002s]\n",
      "PUT http://localhost:9200/kamervragen/kamervraag/1792 [status:400 request:0.016s]\n"
     ]
    },
    {
     "name": "stdout",
     "output_type": "stream",
     "text": [
      "data_file327.json\n",
      "data_file2729.json\n",
      "data_file793.json\n",
      "data_file404.json\n",
      "data_file479.json\n",
      "data_file762.json\n",
      "data_file118.json\n",
      "failed\n",
      "data_file2878.json\n",
      "failed\n",
      "data_file1980.json\n",
      "data_file2927.json\n"
     ]
    },
    {
     "name": "stderr",
     "output_type": "stream",
     "text": [
      "PUT http://localhost:9200/kamervragen/kamervraag/1795 [status:400 request:0.007s]\n",
      "PUT http://localhost:9200/kamervragen/kamervraag/1797 [status:400 request:0.002s]\n",
      "PUT http://localhost:9200/kamervragen/kamervraag/1799 [status:400 request:0.009s]\n",
      "PUT http://localhost:9200/kamervragen/kamervraag/1802 [status:400 request:0.017s]\n",
      "PUT http://localhost:9200/kamervragen/kamervraag/1804 [status:400 request:0.011s]\n",
      "PUT http://localhost:9200/kamervragen/kamervraag/1807 [status:400 request:0.016s]\n"
     ]
    },
    {
     "name": "stdout",
     "output_type": "stream",
     "text": [
      "data_file1529.json\n",
      "failed\n",
      "data_file435.json\n",
      "data_file1131.json\n",
      "failed\n",
      "data_file1726.json\n",
      "data_file1248.json\n",
      "failed\n",
      "data_file586.json\n",
      "data_file2325.json\n",
      "data_file1334.json\n",
      "failed\n",
      "data_file1660.json\n",
      "data_file1515.json\n",
      "failed\n",
      "data_file1022.json\n",
      "data_file518.json\n",
      "data_file525.json\n",
      "failed\n",
      "data_file1897.json\n",
      "data_file980.json"
     ]
    },
    {
     "name": "stderr",
     "output_type": "stream",
     "text": [
      "PUT http://localhost:9200/kamervragen/kamervraag/1809 [status:400 request:0.006s]\n",
      "PUT http://localhost:9200/kamervragen/kamervraag/1810 [status:400 request:0.018s]\n",
      "PUT http://localhost:9200/kamervragen/kamervraag/1812 [status:400 request:0.005s]\n"
     ]
    },
    {
     "name": "stdout",
     "output_type": "stream",
     "text": [
      "\n",
      "failed\n",
      "data_file1777.json\n",
      "failed\n",
      "data_file2903.json\n",
      "data_file927.json\n",
      "failed\n",
      "data_file2636.json\n"
     ]
    },
    {
     "name": "stderr",
     "output_type": "stream",
     "text": [
      "PUT http://localhost:9200/kamervragen/kamervraag/1820 [status:400 request:0.002s]\n"
     ]
    },
    {
     "name": "stdout",
     "output_type": "stream",
     "text": [
      "data_file187.json\n",
      "data_file1400.json\n",
      "data_file1886.json\n",
      "data_file1637.json\n",
      "data_file1020.json\n",
      "data_file2328.json\n",
      "data_file2667.json\n",
      "failed\n",
      "data_file2929.json\n"
     ]
    },
    {
     "name": "stderr",
     "output_type": "stream",
     "text": [
      "PUT http://localhost:9200/kamervragen/kamervraag/1824 [status:400 request:0.006s]\n",
      "PUT http://localhost:9200/kamervragen/kamervraag/1826 [status:400 request:0.009s]\n",
      "PUT http://localhost:9200/kamervragen/kamervraag/1829 [status:400 request:0.002s]\n",
      "PUT http://localhost:9200/kamervragen/kamervraag/1830 [status:400 request:0.012s]\n",
      "PUT http://localhost:9200/kamervragen/kamervraag/1832 [status:400 request:0.007s]\n",
      "PUT http://localhost:9200/kamervragen/kamervraag/1835 [status:400 request:0.007s]\n",
      "PUT http://localhost:9200/kamervragen/kamervraag/1836 [status:400 request:0.005s]\n",
      "PUT http://localhost:9200/kamervragen/kamervraag/1838 [status:400 request:0.003s]\n",
      "PUT http://localhost:9200/kamervragen/kamervraag/1839 [status:400 request:0.012s]\n",
      "PUT http://localhost:9200/kamervragen/kamervraag/1840 [status:400 request:0.006s]\n"
     ]
    },
    {
     "name": "stdout",
     "output_type": "stream",
     "text": [
      "data_file409.json\n",
      "data_file1590.json\n",
      "data_file2787.json\n",
      "failed\n",
      "data_file1916.json\n",
      "data_file1753.json\n",
      "failed\n",
      "data_file1422.json\n",
      "data_file2424.json\n",
      "data_file2965.json\n",
      "failed\n",
      "data_file1697.json\n",
      "failed\n",
      "data_file790.json\n",
      "data_file2316.json\n",
      "failed\n",
      "data_file2080.json\n",
      "data_file2215.json\n",
      "data_file1845.json\n",
      "failed\n",
      "data_file867.json\n",
      "failed\n",
      "data_file1693.json\n",
      "data_file1154.json\n",
      "failed\n",
      "data_file1528.json\n",
      "failed\n",
      "data_file2922.json\n",
      "failed\n",
      "data_file2130.json\n"
     ]
    },
    {
     "name": "stderr",
     "output_type": "stream",
     "text": [
      "PUT http://localhost:9200/kamervragen/kamervraag/1844 [status:400 request:0.022s]\n",
      "PUT http://localhost:9200/kamervragen/kamervraag/1849 [status:400 request:0.005s]\n",
      "PUT http://localhost:9200/kamervragen/kamervraag/1853 [status:400 request:0.008s]\n"
     ]
    },
    {
     "name": "stdout",
     "output_type": "stream",
     "text": [
      "data_file1664.json\n",
      "data_file2094.json\n",
      "data_file1181.json\n",
      "failed\n",
      "data_file2733.json\n",
      "data_file860.json\n",
      "data_file1957.json\n",
      "data_file2791.json\n",
      "data_file361.json\n",
      "failed\n",
      "data_file753.json\n",
      "data_file2806.json\n",
      "data_file143.json\n",
      "data_file1501.json\n",
      "failed\n",
      "data_file993.json\n"
     ]
    },
    {
     "name": "stderr",
     "output_type": "stream",
     "text": [
      "PUT http://localhost:9200/kamervragen/kamervraag/1857 [status:400 request:0.012s]\n",
      "PUT http://localhost:9200/kamervragen/kamervraag/1861 [status:400 request:0.014s]\n",
      "PUT http://localhost:9200/kamervragen/kamervraag/1862 [status:400 request:0.011s]\n"
     ]
    },
    {
     "name": "stdout",
     "output_type": "stream",
     "text": [
      "data_file281.json\n",
      "data_file1059.json\n",
      "data_file317.json\n",
      "failed\n",
      "data_file1629.json\n",
      "data_file291.json\n",
      "data_file1233.json\n",
      "data_file708.json\n",
      "failed\n",
      "data_file731.json\n",
      "failed\n",
      "data_file445.json\n",
      "data_file1626.json\n",
      "data_file2256.json\n",
      "data_file2810.json\n",
      "data_file2087.json\n",
      "data_file885.json\n"
     ]
    },
    {
     "name": "stderr",
     "output_type": "stream",
     "text": [
      "PUT http://localhost:9200/kamervragen/kamervraag/1871 [status:400 request:0.007s]\n",
      "PUT http://localhost:9200/kamervragen/kamervraag/1872 [status:400 request:0.014s]\n",
      "PUT http://localhost:9200/kamervragen/kamervraag/1873 [status:400 request:0.010s]\n",
      "PUT http://localhost:9200/kamervragen/kamervraag/1874 [status:400 request:0.010s]\n",
      "PUT http://localhost:9200/kamervragen/kamervraag/1876 [status:400 request:0.021s]\n",
      "PUT http://localhost:9200/kamervragen/kamervraag/1878 [status:400 request:0.002s]\n"
     ]
    },
    {
     "name": "stdout",
     "output_type": "stream",
     "text": [
      "data_file603.json\n",
      "data_file75.json\n",
      "data_file886.json\n",
      "failed\n",
      "data_file209.json\n",
      "failed\n",
      "data_file2488.json\n",
      "failed\n",
      "data_file2987.json\n",
      "failed\n",
      "data_file2496.json\n",
      "data_file1079.json\n",
      "failed\n",
      "data_file280.json\n",
      "data_file1799.json\n",
      "failed\n",
      "data_file1240.json\n",
      "data_file2608.json\n",
      "data_file1733.json\n"
     ]
    },
    {
     "name": "stderr",
     "output_type": "stream",
     "text": [
      "PUT http://localhost:9200/kamervragen/kamervraag/1882 [status:400 request:0.010s]\n",
      "PUT http://localhost:9200/kamervragen/kamervraag/1888 [status:400 request:0.006s]\n",
      "PUT http://localhost:9200/kamervragen/kamervraag/1890 [status:400 request:0.007s]\n"
     ]
    },
    {
     "name": "stdout",
     "output_type": "stream",
     "text": [
      "data_file2505.json\n",
      "failed\n",
      "data_file2515.json\n",
      "data_file1702.json\n",
      "data_file837.json\n",
      "data_file2245.json\n",
      "data_file2598.json\n",
      "data_file278.json\n",
      "failed\n",
      "data_file321.json\n",
      "data_file1703.json\n",
      "failed\n",
      "data_file471.json\n"
     ]
    },
    {
     "name": "stderr",
     "output_type": "stream",
     "text": [
      "PUT http://localhost:9200/kamervragen/kamervraag/1891 [status:400 request:0.019s]\n",
      "PUT http://localhost:9200/kamervragen/kamervraag/1892 [status:400 request:0.001s]\n",
      "PUT http://localhost:9200/kamervragen/kamervraag/1894 [status:400 request:0.017s]\n",
      "PUT http://localhost:9200/kamervragen/kamervraag/1895 [status:400 request:0.006s]\n",
      "PUT http://localhost:9200/kamervragen/kamervraag/1896 [status:400 request:0.013s]\n",
      "PUT http://localhost:9200/kamervragen/kamervraag/1898 [status:400 request:0.010s]\n",
      "PUT http://localhost:9200/kamervragen/kamervraag/1899 [status:400 request:0.013s]\n",
      "PUT http://localhost:9200/kamervragen/kamervraag/1900 [status:400 request:0.009s]\n",
      "PUT http://localhost:9200/kamervragen/kamervraag/1901 [status:400 request:0.006s]\n"
     ]
    },
    {
     "name": "stdout",
     "output_type": "stream",
     "text": [
      "failed\n",
      "data_file1797.json\n",
      "failed\n",
      "data_file161.json\n",
      "data_file284.json\n",
      "failed\n",
      "data_file1920.json\n",
      "failed\n",
      "data_file1303.json\n",
      "failed\n",
      "data_file1044.json\n",
      "data_file660.json\n",
      "failed\n",
      "data_file2790.json\n",
      "failed\n",
      "data_file2502.json\n",
      "failed\n",
      "data_file2650.json\n",
      "failed\n",
      "data_file53.json\n",
      "data_file630.json\n",
      "data_file12.json\n",
      "data_file2984.json\n"
     ]
    },
    {
     "name": "stderr",
     "output_type": "stream",
     "text": [
      "PUT http://localhost:9200/kamervragen/kamervraag/1905 [status:400 request:0.010s]\n",
      "PUT http://localhost:9200/kamervragen/kamervraag/1907 [status:400 request:0.008s]\n",
      "PUT http://localhost:9200/kamervragen/kamervraag/1910 [status:400 request:0.011s]\n",
      "PUT http://localhost:9200/kamervragen/kamervraag/1912 [status:400 request:0.016s]\n",
      "PUT http://localhost:9200/kamervragen/kamervraag/1913 [status:400 request:0.011s]\n",
      "PUT http://localhost:9200/kamervragen/kamervraag/1916 [status:400 request:0.016s]\n"
     ]
    },
    {
     "name": "stdout",
     "output_type": "stream",
     "text": [
      "failed\n",
      "data_file1250.json\n",
      "data_file2381.json\n",
      "failed\n",
      "data_file390.json\n",
      "data_file470.json\n",
      "data_file2118.json\n",
      "failed\n",
      "data_file1148.json\n",
      "data_file930.json\n",
      "failed\n",
      "data_file1466.json\n",
      "failed\n",
      "data_file309.json\n",
      "data_file2996.json\n",
      "data_file1379.json\n",
      "failed\n",
      "data_file2939.json\n"
     ]
    },
    {
     "name": "stderr",
     "output_type": "stream",
     "text": [
      "PUT http://localhost:9200/kamervragen/kamervraag/1920 [status:400 request:0.010s]\n",
      "PUT http://localhost:9200/kamervragen/kamervraag/1921 [status:400 request:0.011s]\n",
      "PUT http://localhost:9200/kamervragen/kamervraag/1922 [status:400 request:0.012s]\n",
      "PUT http://localhost:9200/kamervragen/kamervraag/1926 [status:400 request:0.019s]\n",
      "PUT http://localhost:9200/kamervragen/kamervraag/1927 [status:400 request:0.042s]\n"
     ]
    },
    {
     "name": "stdout",
     "output_type": "stream",
     "text": [
      "data_file2045.json\n",
      "data_file1919.json\n",
      "data_file2523.json\n",
      "failed\n",
      "data_file1759.json\n",
      "failed\n",
      "data_file1705.json\n",
      "failed\n",
      "data_file1896.json\n",
      "data_file916.json\n",
      "data_file294.json\n",
      "data_file807.json\n",
      "failed\n",
      "data_file2899.json\n",
      "failed\n",
      "data_file1772.json\n"
     ]
    },
    {
     "name": "stderr",
     "output_type": "stream",
     "text": [
      "PUT http://localhost:9200/kamervragen/kamervraag/1931 [status:400 request:0.002s]\n",
      "PUT http://localhost:9200/kamervragen/kamervraag/1939 [status:400 request:0.003s]\n",
      "PUT http://localhost:9200/kamervragen/kamervraag/1941 [status:400 request:0.006s]\n"
     ]
    },
    {
     "name": "stdout",
     "output_type": "stream",
     "text": [
      "data_file2737.json\n",
      "data_file1675.json\n",
      "data_file694.json\n",
      "failed\n",
      "data_file78.json\n",
      "data_file1944.json\n",
      "data_file2487.json\n",
      "data_file869.json\n",
      "data_file27.json\n",
      "data_file2267.json\n",
      "data_file2378.json\n",
      "data_file1890.json\n",
      "failed\n",
      "data_file2631.json\n",
      "data_file2099.json\n",
      "failed\n",
      "data_file1350.json\n"
     ]
    },
    {
     "name": "stderr",
     "output_type": "stream",
     "text": [
      "PUT http://localhost:9200/kamervragen/kamervraag/1943 [status:400 request:0.005s]\n",
      "PUT http://localhost:9200/kamervragen/kamervraag/1949 [status:400 request:0.003s]\n"
     ]
    },
    {
     "name": "stdout",
     "output_type": "stream",
     "text": [
      "data_file2305.json\n",
      "failed\n",
      "data_file2951.json\n",
      "data_file1632.json\n",
      "data_file4.json\n",
      "data_file1802.json\n",
      "data_file2063.json\n",
      "data_file1500.json\n",
      "failed\n",
      "data_file2462.json\n",
      "data_file342.json\n",
      "data_file1190.json\n",
      "data_file813.json\n"
     ]
    },
    {
     "name": "stderr",
     "output_type": "stream",
     "text": [
      "PUT http://localhost:9200/kamervragen/kamervraag/1954 [status:400 request:0.021s]\n",
      "PUT http://localhost:9200/kamervragen/kamervraag/1955 [status:400 request:0.005s]\n",
      "PUT http://localhost:9200/kamervragen/kamervraag/1957 [status:400 request:0.004s]\n",
      "PUT http://localhost:9200/kamervragen/kamervraag/1961 [status:400 request:0.010s]\n"
     ]
    },
    {
     "name": "stdout",
     "output_type": "stream",
     "text": [
      "data_file2436.json\n",
      "failed\n",
      "data_file2237.json\n",
      "failed\n",
      "data_file1324.json\n",
      "data_file540.json\n",
      "failed\n",
      "data_file1294.json\n",
      "data_file1880.json\n",
      "data_file2543.json\n",
      "data_file539.json\n",
      "failed\n",
      "data_file2345.json\n"
     ]
    },
    {
     "name": "stderr",
     "output_type": "stream",
     "text": [
      "PUT http://localhost:9200/kamervragen/kamervraag/1967 [status:400 request:0.002s]\n",
      "PUT http://localhost:9200/kamervragen/kamervraag/1972 [status:400 request:0.002s]\n",
      "PUT http://localhost:9200/kamervragen/kamervraag/1976 [status:400 request:0.007s]\n"
     ]
    },
    {
     "name": "stdout",
     "output_type": "stream",
     "text": [
      "data_file2158.json\n",
      "data_file2007.json\n",
      "data_file1567.json\n",
      "data_file902.json\n",
      "data_file2812.json\n",
      "failed\n",
      "data_file1483.json\n",
      "data_file1690.json\n",
      "data_file2858.json\n",
      "data_file1807.json\n",
      "data_file692.json\n",
      "failed\n",
      "data_file2437.json\n",
      "data_file2752.json\n",
      "data_file1299.json\n",
      "data_file2070.json\n",
      "failed\n",
      "data_file2634.json\n"
     ]
    },
    {
     "name": "stderr",
     "output_type": "stream",
     "text": [
      "PUT http://localhost:9200/kamervragen/kamervraag/1978 [status:400 request:0.008s]\n",
      "PUT http://localhost:9200/kamervragen/kamervraag/1979 [status:400 request:0.010s]\n",
      "PUT http://localhost:9200/kamervragen/kamervraag/1980 [status:400 request:0.011s]\n",
      "PUT http://localhost:9200/kamervragen/kamervraag/1984 [status:400 request:0.003s]\n",
      "PUT http://localhost:9200/kamervragen/kamervraag/1985 [status:400 request:0.009s]\n",
      "PUT http://localhost:9200/kamervragen/kamervraag/1986 [status:400 request:0.012s]\n",
      "PUT http://localhost:9200/kamervragen/kamervraag/1987 [status:400 request:0.003s]\n",
      "PUT http://localhost:9200/kamervragen/kamervraag/1988 [status:400 request:0.004s]\n",
      "PUT http://localhost:9200/kamervragen/kamervraag/1989 [status:400 request:0.005s]\n"
     ]
    },
    {
     "name": "stdout",
     "output_type": "stream",
     "text": [
      "data_file1042.json\n",
      "failed\n",
      "data_file2192.json\n",
      "failed\n",
      "data_file2088.json\n",
      "failed\n",
      "data_file2389.json\n",
      "data_file2250.json\n",
      "data_file1318.json\n",
      "data_file2504.json\n",
      "failed\n",
      "data_file871.json\n",
      "failed\n",
      "data_file770.json\n",
      "failed\n",
      "data_file183.json\n",
      "failed\n",
      "data_file2661.json\n",
      "failed\n",
      "data_file1988.json\n",
      "failed\n",
      "data_file1142.json\n",
      "data_file2093.json\n"
     ]
    },
    {
     "name": "stderr",
     "output_type": "stream",
     "text": [
      "PUT http://localhost:9200/kamervragen/kamervraag/1991 [status:400 request:0.007s]\n",
      "PUT http://localhost:9200/kamervragen/kamervraag/1993 [status:400 request:0.031s]\n",
      "PUT http://localhost:9200/kamervragen/kamervraag/1994 [status:400 request:0.008s]\n",
      "PUT http://localhost:9200/kamervragen/kamervraag/1995 [status:400 request:0.019s]\n",
      "PUT http://localhost:9200/kamervragen/kamervraag/1997 [status:400 request:0.018s]\n",
      "PUT http://localhost:9200/kamervragen/kamervraag/1999 [status:400 request:0.005s]\n",
      "PUT http://localhost:9200/kamervragen/kamervraag/2000 [status:400 request:0.011s]\n"
     ]
    },
    {
     "name": "stdout",
     "output_type": "stream",
     "text": [
      "failed\n",
      "data_file289.json\n",
      "data_file425.json\n",
      "failed\n",
      "data_file792.json\n",
      "failed\n",
      "data_file2730.json\n",
      "failed\n",
      "data_file302.json\n",
      "data_file739.json\n",
      "failed\n",
      "data_file2319.json\n",
      "data_file1663.json\n",
      "failed\n",
      "data_file1581.json\n",
      "failed"
     ]
    },
    {
     "name": "stderr",
     "output_type": "stream",
     "text": [
      "PUT http://localhost:9200/kamervragen/kamervraag/2001 [status:400 request:0.012s]\n",
      "PUT http://localhost:9200/kamervragen/kamervraag/2005 [status:400 request:0.006s]\n",
      "PUT http://localhost:9200/kamervragen/kamervraag/2006 [status:400 request:0.016s]\n",
      "PUT http://localhost:9200/kamervragen/kamervraag/2010 [status:400 request:0.014s]\n"
     ]
    },
    {
     "name": "stdout",
     "output_type": "stream",
     "text": [
      "\n",
      "data_file1899.json\n",
      "failed\n",
      "data_file2959.json\n",
      "data_file2662.json\n",
      "data_file1720.json\n",
      "data_file1130.json\n",
      "failed\n",
      "data_file249.json\n",
      "failed\n",
      "data_file277.json\n",
      "data_file1.json\n",
      "data_file20.json\n",
      "data_file2206.json\n",
      "failed\n",
      "data_file2589.json\n"
     ]
    },
    {
     "name": "stderr",
     "output_type": "stream",
     "text": [
      "PUT http://localhost:9200/kamervragen/kamervraag/2012 [status:400 request:0.015s]\n",
      "PUT http://localhost:9200/kamervragen/kamervraag/2013 [status:400 request:0.002s]\n",
      "PUT http://localhost:9200/kamervragen/kamervraag/2014 [status:400 request:0.012s]\n",
      "PUT http://localhost:9200/kamervragen/kamervraag/2016 [status:400 request:0.009s]\n",
      "PUT http://localhost:9200/kamervragen/kamervraag/2017 [status:400 request:0.009s]\n",
      "PUT http://localhost:9200/kamervragen/kamervraag/2019 [status:400 request:0.002s]\n",
      "PUT http://localhost:9200/kamervragen/kamervraag/2021 [status:400 request:0.004s]\n",
      "PUT http://localhost:9200/kamervragen/kamervraag/2022 [status:400 request:0.013s]\n",
      "PUT http://localhost:9200/kamervragen/kamervraag/2024 [status:400 request:0.002s]\n"
     ]
    },
    {
     "name": "stdout",
     "output_type": "stream",
     "text": [
      "data_file906.json\n",
      "failed\n",
      "data_file2278.json\n",
      "failed\n",
      "data_file703.json\n",
      "failed\n",
      "data_file2689.json\n",
      "data_file375.json\n",
      "failed\n",
      "data_file935.json\n",
      "failed\n",
      "data_file433.json\n",
      "data_file1844.json\n",
      "failed\n",
      "data_file348.json\n",
      "data_file2336.json\n",
      "failed\n",
      "data_file175.json\n",
      "failed\n",
      "data_file1792.json\n",
      "data_file2391.json\n",
      "failed\n",
      "data_file2226.json\n",
      "data_file2214.json\n"
     ]
    },
    {
     "name": "stderr",
     "output_type": "stream",
     "text": [
      "PUT http://localhost:9200/kamervragen/kamervraag/2026 [status:400 request:0.025s]\n",
      "PUT http://localhost:9200/kamervragen/kamervraag/2032 [status:400 request:0.002s]\n"
     ]
    },
    {
     "name": "stdout",
     "output_type": "stream",
     "text": [
      "failed\n",
      "data_file569.json\n",
      "data_file1601.json\n",
      "data_file1499.json\n",
      "data_file1256.json\n",
      "data_file2652.json\n",
      "data_file250.json\n",
      "failed\n",
      "data_file925.json\n",
      "data_file1341.json\n",
      "data_file1893.json\n"
     ]
    },
    {
     "name": "stderr",
     "output_type": "stream",
     "text": [
      "PUT http://localhost:9200/kamervragen/kamervraag/2036 [status:400 request:0.004s]\n",
      "PUT http://localhost:9200/kamervragen/kamervraag/2041 [status:400 request:0.003s]\n",
      "PUT http://localhost:9200/kamervragen/kamervraag/2043 [status:400 request:0.002s]\n",
      "PUT http://localhost:9200/kamervragen/kamervraag/2045 [status:400 request:0.006s]\n",
      "PUT http://localhost:9200/kamervragen/kamervraag/2046 [status:400 request:0.013s]\n"
     ]
    },
    {
     "name": "stdout",
     "output_type": "stream",
     "text": [
      "data_file606.json\n",
      "failed\n",
      "data_file1380.json\n",
      "data_file2690.json\n",
      "data_file2471.json\n",
      "data_file2367.json\n",
      "data_file2590.json\n",
      "failed\n",
      "data_file709.json\n",
      "data_file749.json\n",
      "failed\n",
      "data_file2294.json\n",
      "data_file2156.json\n",
      "failed\n",
      "data_file2350.json\n",
      "failed\n",
      "data_file1180.json\n"
     ]
    },
    {
     "name": "stderr",
     "output_type": "stream",
     "text": [
      "PUT http://localhost:9200/kamervragen/kamervraag/2048 [status:400 request:0.003s]\n",
      "PUT http://localhost:9200/kamervragen/kamervraag/2050 [status:400 request:0.002s]\n",
      "PUT http://localhost:9200/kamervragen/kamervraag/2054 [status:400 request:0.003s]\n",
      "PUT http://localhost:9200/kamervragen/kamervraag/2056 [status:400 request:0.003s]\n",
      "PUT http://localhost:9200/kamervragen/kamervraag/2058 [status:400 request:0.002s]\n"
     ]
    },
    {
     "name": "stdout",
     "output_type": "stream",
     "text": [
      "data_file2632.json\n",
      "failed\n",
      "data_file2058.json\n",
      "data_file1408.json\n",
      "failed\n",
      "data_file2534.json\n",
      "data_file1994.json\n",
      "data_file1505.json\n",
      "data_file1113.json\n",
      "failed\n",
      "data_file1824.json\n",
      "data_file877.json\n",
      "failed\n",
      "data_file1268.json\n",
      "data_file2531.json\n",
      "failed\n",
      "data_file1695.json\n",
      "data_file856.json\n",
      "data_file2982.json\n"
     ]
    },
    {
     "name": "stderr",
     "output_type": "stream",
     "text": [
      "PUT http://localhost:9200/kamervragen/kamervraag/2061 [status:400 request:0.002s]\n",
      "PUT http://localhost:9200/kamervragen/kamervraag/2062 [status:400 request:0.005s]\n",
      "PUT http://localhost:9200/kamervragen/kamervraag/2063 [status:400 request:0.012s]\n",
      "PUT http://localhost:9200/kamervragen/kamervraag/2065 [status:400 request:0.002s]\n",
      "PUT http://localhost:9200/kamervragen/kamervraag/2067 [status:400 request:0.002s]\n",
      "PUT http://localhost:9200/kamervragen/kamervraag/2071 [status:400 request:0.007s]\n",
      "PUT http://localhost:9200/kamervragen/kamervraag/2072 [status:400 request:0.007s]\n",
      "PUT http://localhost:9200/kamervragen/kamervraag/2073 [status:400 request:0.002s]\n"
     ]
    },
    {
     "name": "stdout",
     "output_type": "stream",
     "text": [
      "failed\n",
      "data_file2786.json\n",
      "failed\n",
      "data_file2759.json\n",
      "failed\n",
      "data_file1843.json\n",
      "data_file1628.json\n",
      "failed\n",
      "data_file1335.json\n",
      "data_file502.json\n",
      "failed\n",
      "data_file2893.json\n",
      "data_file2187.json\n",
      "data_file2293.json\n",
      "data_file1966.json\n",
      "failed\n",
      "data_file826.json\n",
      "failed\n",
      "data_file1254.json\n",
      "failed\n",
      "data_file911.json\n"
     ]
    },
    {
     "name": "stderr",
     "output_type": "stream",
     "text": [
      "PUT http://localhost:9200/kamervragen/kamervraag/2074 [status:400 request:0.087s]\n",
      "PUT http://localhost:9200/kamervragen/kamervraag/2076 [status:400 request:0.019s]\n",
      "PUT http://localhost:9200/kamervragen/kamervraag/2078 [status:400 request:0.006s]\n"
     ]
    },
    {
     "name": "stdout",
     "output_type": "stream",
     "text": [
      "failed\n",
      "data_file466.json\n",
      "data_file1952.json\n",
      "failed\n",
      "data_file1867.json\n",
      "data_file2044.json\n",
      "failed\n",
      "data_file639.json\n",
      "data_file33.json\n",
      "data_file1205.json\n",
      "data_file268.json\n"
     ]
    },
    {
     "name": "stderr",
     "output_type": "stream",
     "text": [
      "PUT http://localhost:9200/kamervragen/kamervraag/2083 [status:400 request:0.002s]\n",
      "PUT http://localhost:9200/kamervragen/kamervraag/2084 [status:400 request:0.026s]\n",
      "PUT http://localhost:9200/kamervragen/kamervraag/2085 [status:400 request:0.002s]\n",
      "PUT http://localhost:9200/kamervragen/kamervraag/2087 [status:400 request:0.004s]\n",
      "PUT http://localhost:9200/kamervragen/kamervraag/2089 [status:400 request:0.009s]\n"
     ]
    },
    {
     "name": "stdout",
     "output_type": "stream",
     "text": [
      "data_file859.json\n",
      "failed\n",
      "data_file1908.json\n",
      "failed\n",
      "data_file2612.json\n",
      "failed\n",
      "data_file120.json\n",
      "data_file2388.json\n",
      "failed\n",
      "data_file1611.json\n",
      "data_file2022.json\n"
     ]
    },
    {
     "name": "stderr",
     "output_type": "stream",
     "text": [
      "PUT http://localhost:9200/kamervragen/kamervraag/2095 [status:400 request:0.002s]\n",
      "PUT http://localhost:9200/kamervragen/kamervraag/2096 [status:400 request:0.013s]\n"
     ]
    },
    {
     "name": "stdout",
     "output_type": "stream",
     "text": [
      "failed\n",
      "data_file597.json\n",
      "data_file1348.json\n",
      "data_file1987.json\n",
      "data_file854.json\n",
      "data_file1713.json\n",
      "data_file974.json\n",
      "failed\n",
      "data_file1394.json\n",
      "failed\n",
      "data_file604.json\n",
      "data_file1765.json\n",
      "data_file756.json\n",
      "data_file1503.json\n",
      "data_file1721.json\n"
     ]
    },
    {
     "name": "stderr",
     "output_type": "stream",
     "text": [
      "PUT http://localhost:9200/kamervragen/kamervraag/2103 [status:400 request:0.006s]\n",
      "PUT http://localhost:9200/kamervragen/kamervraag/2112 [status:400 request:0.004s]\n",
      "PUT http://localhost:9200/kamervragen/kamervraag/2115 [status:400 request:0.004s]\n"
     ]
    },
    {
     "name": "stdout",
     "output_type": "stream",
     "text": [
      "data_file2413.json\n",
      "data_file901.json\n",
      "failed\n",
      "data_file2703.json\n",
      "data_file1688.json\n",
      "data_file965.json\n",
      "data_file61.json\n",
      "data_file537.json\n",
      "data_file1033.json\n",
      "data_file865.json\n",
      "data_file812.json\n",
      "data_file1651.json\n",
      "failed\n",
      "data_file357.json\n",
      "data_file457.json\n",
      "data_file1469.json\n",
      "failed\n",
      "data_file684.json\n"
     ]
    },
    {
     "name": "stderr",
     "output_type": "stream",
     "text": [
      "PUT http://localhost:9200/kamervragen/kamervraag/2116 [status:400 request:0.016s]\n",
      "PUT http://localhost:9200/kamervragen/kamervraag/2119 [status:400 request:0.004s]\n",
      "PUT http://localhost:9200/kamervragen/kamervraag/2120 [status:400 request:0.002s]\n",
      "PUT http://localhost:9200/kamervragen/kamervraag/2121 [status:400 request:0.011s]\n",
      "PUT http://localhost:9200/kamervragen/kamervraag/2125 [status:400 request:0.031s]\n",
      "PUT http://localhost:9200/kamervragen/kamervraag/2126 [status:400 request:0.011s]\n"
     ]
    },
    {
     "name": "stdout",
     "output_type": "stream",
     "text": [
      "failed\n",
      "data_file1039.json\n",
      "data_file1934.json\n",
      "data_file1686.json\n",
      "failed\n",
      "data_file1763.json\n",
      "failed\n",
      "data_file1848.json\n",
      "failed\n",
      "data_file76.json\n",
      "data_file2905.json\n",
      "data_file1088.json\n",
      "data_file2332.json\n",
      "failed\n",
      "data_file2770.json\n",
      "failed\n",
      "data_file1926.json\n",
      "data_file2582.json\n",
      "data_file379.json\n",
      "data_file1595.json\n"
     ]
    },
    {
     "name": "stderr",
     "output_type": "stream",
     "text": [
      "PUT http://localhost:9200/kamervragen/kamervraag/2132 [status:400 request:0.002s]\n",
      "PUT http://localhost:9200/kamervragen/kamervraag/2134 [status:400 request:0.009s]\n",
      "PUT http://localhost:9200/kamervragen/kamervraag/2135 [status:400 request:0.005s]\n"
     ]
    },
    {
     "name": "stdout",
     "output_type": "stream",
     "text": [
      "data_file1347.json\n",
      "data_file2096.json\n",
      "failed\n",
      "data_file1504.json\n",
      "data_file1199.json\n",
      "failed\n",
      "data_file2163.json\n",
      "failed\n",
      "data_file1769.json\n",
      "data_file788.json\n",
      "data_file1360.json\n"
     ]
    },
    {
     "name": "stderr",
     "output_type": "stream",
     "text": [
      "PUT http://localhost:9200/kamervragen/kamervraag/2146 [status:400 request:0.003s]\n",
      "PUT http://localhost:9200/kamervragen/kamervraag/2148 [status:400 request:0.002s]\n"
     ]
    },
    {
     "name": "stdout",
     "output_type": "stream",
     "text": [
      "data_file2864.json\n",
      "data_file2602.json\n",
      "data_file2335.json\n",
      "data_file2604.json\n",
      "data_file130.json\n",
      "data_file1670.json\n",
      "data_file149.json\n",
      "data_file1010.json\n",
      "failed\n",
      "data_file2875.json\n",
      "data_file272.json\n",
      "failed\n",
      "data_file2992.json\n"
     ]
    },
    {
     "name": "stderr",
     "output_type": "stream",
     "text": [
      "PUT http://localhost:9200/kamervragen/kamervraag/2151 [status:400 request:0.002s]\n",
      "PUT http://localhost:9200/kamervragen/kamervraag/2152 [status:400 request:0.002s]\n",
      "PUT http://localhost:9200/kamervragen/kamervraag/2153 [status:400 request:0.010s]\n",
      "PUT http://localhost:9200/kamervragen/kamervraag/2154 [status:400 request:0.002s]\n"
     ]
    },
    {
     "name": "stdout",
     "output_type": "stream",
     "text": [
      "data_file1937.json\n",
      "data_file1996.json\n",
      "failed\n",
      "data_file2961.json\n",
      "failed\n",
      "data_file1242.json\n",
      "failed\n",
      "data_file2655.json\n",
      "failed\n",
      "data_file2180.json\n",
      "data_file725.json\n",
      "data_file52.json\n"
     ]
    },
    {
     "name": "stderr",
     "output_type": "stream",
     "text": [
      "PUT http://localhost:9200/kamervragen/kamervraag/2158 [status:400 request:0.003s]\n",
      "PUT http://localhost:9200/kamervragen/kamervraag/2159 [status:400 request:0.008s]\n",
      "PUT http://localhost:9200/kamervragen/kamervraag/2163 [status:400 request:0.007s]\n",
      "PUT http://localhost:9200/kamervragen/kamervraag/2164 [status:400 request:0.004s]\n",
      "PUT http://localhost:9200/kamervragen/kamervraag/2168 [status:400 request:0.002s]\n",
      "PUT http://localhost:9200/kamervragen/kamervraag/2170 [status:400 request:0.004s]\n"
     ]
    },
    {
     "name": "stdout",
     "output_type": "stream",
     "text": [
      "data_file1616.json\n",
      "failed\n",
      "data_file1874.json\n",
      "failed\n",
      "data_file2243.json\n",
      "data_file2469.json\n",
      "data_file418.json\n",
      "data_file638.json\n",
      "failed\n",
      "data_file1833.json\n",
      "failed\n",
      "data_file2904.json\n",
      "data_file1868.json\n",
      "data_file371.json\n",
      "data_file1291.json\n",
      "failed\n",
      "data_file1859.json\n",
      "data_file2113.json\n",
      "failed\n",
      "data_file957.json\n"
     ]
    },
    {
     "name": "stderr",
     "output_type": "stream",
     "text": [
      "PUT http://localhost:9200/kamervragen/kamervraag/2172 [status:400 request:0.002s]\n",
      "PUT http://localhost:9200/kamervragen/kamervraag/2174 [status:400 request:0.003s]\n",
      "PUT http://localhost:9200/kamervragen/kamervraag/2177 [status:400 request:0.002s]\n",
      "PUT http://localhost:9200/kamervragen/kamervraag/2181 [status:400 request:0.044s]\n",
      "PUT http://localhost:9200/kamervragen/kamervraag/2184 [status:400 request:0.001s]\n"
     ]
    },
    {
     "name": "stdout",
     "output_type": "stream",
     "text": [
      "data_file2919.json\n",
      "failed\n",
      "data_file139.json\n",
      "data_file166.json\n",
      "failed\n",
      "data_file215.json\n",
      "data_file1307.json\n",
      "data_file1793.json\n",
      "failed\n",
      "data_file1985.json\n",
      "data_file18.json\n",
      "data_file2717.json\n",
      "data_file647.json\n",
      "failed\n",
      "data_file1477.json\n",
      "data_file2503.json\n",
      "data_file2009.json\n",
      "failed\n",
      "data_file2633.json\n",
      "data_file2912.json\n",
      "data_file524.json\n"
     ]
    },
    {
     "name": "stderr",
     "output_type": "stream",
     "text": [
      "PUT http://localhost:9200/kamervragen/kamervraag/2188 [status:400 request:0.002s]\n",
      "PUT http://localhost:9200/kamervragen/kamervraag/2189 [status:400 request:0.189s]\n"
     ]
    },
    {
     "name": "stdout",
     "output_type": "stream",
     "text": [
      "data_file2592.json\n",
      "failed\n",
      "data_file2960.json\n"
     ]
    },
    {
     "name": "stderr",
     "output_type": "stream",
     "text": [
      "PUT http://localhost:9200/kamervragen/kamervraag/2190 [status:400 request:0.002s]\n",
      "PUT http://localhost:9200/kamervragen/kamervraag/2193 [status:400 request:0.035s]\n",
      "PUT http://localhost:9200/kamervragen/kamervraag/2194 [status:400 request:0.003s]\n"
     ]
    },
    {
     "name": "stdout",
     "output_type": "stream",
     "text": [
      "failed\n",
      "data_file1094.json\n",
      "failed\n",
      "data_file2140.json\n",
      "data_file1017.json\n",
      "data_file2313.json\n",
      "failed\n",
      "data_file924.json\n",
      "failed\n",
      "data_file1271.json\n",
      "data_file875.json\n",
      "data_file2962.json\n",
      "data_file1108.json\n"
     ]
    },
    {
     "name": "stderr",
     "output_type": "stream",
     "text": [
      "PUT http://localhost:9200/kamervragen/kamervraag/2202 [status:400 request:0.004s]\n",
      "PUT http://localhost:9200/kamervragen/kamervraag/2205 [status:400 request:0.002s]\n",
      "PUT http://localhost:9200/kamervragen/kamervraag/2206 [status:400 request:0.002s]\n"
     ]
    },
    {
     "name": "stdout",
     "output_type": "stream",
     "text": [
      "data_file1900.json\n",
      "data_file2189.json\n",
      "data_file2688.json\n",
      "data_file145.json\n",
      "failed\n",
      "data_file2894.json\n",
      "data_file1435.json\n",
      "data_file715.json\n",
      "failed\n",
      "data_file577.json\n",
      "failed\n",
      "data_file2075.json\n"
     ]
    },
    {
     "name": "stderr",
     "output_type": "stream",
     "text": [
      "PUT http://localhost:9200/kamervragen/kamervraag/2209 [status:400 request:0.003s]\n",
      "PUT http://localhost:9200/kamervragen/kamervraag/2210 [status:400 request:0.001s]\n",
      "PUT http://localhost:9200/kamervragen/kamervraag/2211 [status:400 request:0.009s]\n",
      "PUT http://localhost:9200/kamervragen/kamervraag/2213 [status:400 request:0.002s]\n",
      "PUT http://localhost:9200/kamervragen/kamervraag/2216 [status:400 request:0.017s]\n",
      "PUT http://localhost:9200/kamervragen/kamervraag/2219 [status:400 request:0.008s]\n",
      "PUT http://localhost:9200/kamervragen/kamervraag/2221 [status:400 request:0.002s]\n"
     ]
    },
    {
     "name": "stdout",
     "output_type": "stream",
     "text": [
      "data_file755.json\n",
      "data_file2435.json\n",
      "failed\n",
      "data_file1473.json\n",
      "failed\n",
      "data_file443.json\n",
      "failed\n",
      "data_file1153.json\n",
      "data_file1857.json\n",
      "failed\n",
      "data_file1345.json\n",
      "data_file2423.json\n",
      "data_file377.json\n",
      "failed\n",
      "data_file203.json\n",
      "data_file1854.json\n",
      "data_file165.json\n",
      "failed\n",
      "data_file2630.json\n",
      "data_file1277.json\n",
      "failed\n",
      "data_file1754.json\n"
     ]
    },
    {
     "name": "stderr",
     "output_type": "stream",
     "text": [
      "PUT http://localhost:9200/kamervragen/kamervraag/2223 [status:400 request:0.006s]\n",
      "PUT http://localhost:9200/kamervragen/kamervraag/2229 [status:400 request:0.003s]\n"
     ]
    },
    {
     "name": "stdout",
     "output_type": "stream",
     "text": [
      "data_file1976.json\n",
      "failed\n",
      "data_file392.json\n",
      "data_file811.json\n",
      "data_file1789.json\n",
      "data_file2557.json\n",
      "data_file1864.json\n",
      "data_file2956.json\n",
      "failed\n",
      "data_file2284.json\n",
      "data_file1706.json\n",
      "data_file2138.json\n",
      "data_file1071.json\n"
     ]
    },
    {
     "name": "stderr",
     "output_type": "stream",
     "text": [
      "PUT http://localhost:9200/kamervragen/kamervraag/2233 [status:400 request:0.274s]\n",
      "PUT http://localhost:9200/kamervragen/kamervraag/2235 [status:400 request:0.005s]\n",
      "PUT http://localhost:9200/kamervragen/kamervraag/2237 [status:400 request:0.002s]\n",
      "PUT http://localhost:9200/kamervragen/kamervraag/2239 [status:400 request:0.003s]\n"
     ]
    },
    {
     "name": "stdout",
     "output_type": "stream",
     "text": [
      "failed\n",
      "data_file2547.json\n",
      "data_file2155.json\n",
      "failed\n",
      "data_file1069.json\n",
      "data_file373.json\n",
      "failed\n",
      "data_file1947.json\n",
      "data_file2251.json\n",
      "failed\n",
      "data_file2359.json\n",
      "data_file2980.json\n",
      "data_file318.json\n"
     ]
    },
    {
     "name": "stderr",
     "output_type": "stream",
     "text": [
      "PUT http://localhost:9200/kamervragen/kamervraag/2243 [status:400 request:0.008s]\n",
      "PUT http://localhost:9200/kamervragen/kamervraag/2247 [status:400 request:0.006s]\n",
      "PUT http://localhost:9200/kamervragen/kamervraag/2248 [status:400 request:0.002s]\n",
      "PUT http://localhost:9200/kamervragen/kamervraag/2251 [status:400 request:0.006s]\n"
     ]
    },
    {
     "name": "stdout",
     "output_type": "stream",
     "text": [
      "data_file427.json\n",
      "failed\n",
      "data_file1178.json\n",
      "data_file920.json\n",
      "data_file2241.json\n",
      "data_file899.json\n",
      "failed\n",
      "data_file1127.json\n",
      "failed\n",
      "data_file181.json\n",
      "data_file2395.json\n",
      "data_file774.json\n",
      "failed\n",
      "data_file2102.json\n",
      "data_file121.json\n",
      "data_file2646.json\n"
     ]
    },
    {
     "name": "stderr",
     "output_type": "stream",
     "text": [
      "PUT http://localhost:9200/kamervragen/kamervraag/2257 [status:400 request:0.002s]\n",
      "PUT http://localhost:9200/kamervragen/kamervraag/2261 [status:400 request:0.003s]\n",
      "PUT http://localhost:9200/kamervragen/kamervraag/2262 [status:400 request:0.002s]\n",
      "PUT http://localhost:9200/kamervragen/kamervraag/2267 [status:400 request:0.002s]\n"
     ]
    },
    {
     "name": "stdout",
     "output_type": "stream",
     "text": [
      "data_file2578.json\n",
      "data_file1432.json\n",
      "data_file940.json\n",
      "failed\n",
      "data_file1614.json\n",
      "data_file92.json\n",
      "data_file151.json\n",
      "data_file1507.json\n",
      "failed\n",
      "data_file56.json\n",
      "failed\n",
      "data_file2500.json\n",
      "data_file1756.json\n",
      "data_file1410.json\n",
      "data_file1351.json\n",
      "data_file641.json\n",
      "failed\n",
      "data_file1962.json\n"
     ]
    },
    {
     "name": "stderr",
     "output_type": "stream",
     "text": [
      "PUT http://localhost:9200/kamervragen/kamervraag/2268 [status:400 request:0.012s]\n",
      "PUT http://localhost:9200/kamervragen/kamervraag/2272 [status:400 request:0.006s]\n",
      "PUT http://localhost:9200/kamervragen/kamervraag/2273 [status:400 request:0.007s]\n"
     ]
    },
    {
     "name": "stdout",
     "output_type": "stream",
     "text": [
      "failed\n",
      "data_file615.json\n",
      "data_file1918.json\n",
      "data_file2824.json\n",
      "data_file599.json\n",
      "failed\n",
      "data_file2254.json\n",
      "failed\n",
      "data_file2558.json\n",
      "data_file1662.json\n",
      "data_file2101.json\n",
      "data_file820.json\n",
      "data_file1412.json\n",
      "data_file1009.json\n",
      "data_file2799.json\n",
      "data_file179.json\n",
      "data_file1968.json\n"
     ]
    },
    {
     "name": "stderr",
     "output_type": "stream",
     "text": [
      "PUT http://localhost:9200/kamervragen/kamervraag/2282 [status:400 request:0.004s]\n",
      "PUT http://localhost:9200/kamervragen/kamervraag/2283 [status:400 request:0.014s]\n",
      "PUT http://localhost:9200/kamervragen/kamervraag/2289 [status:400 request:0.016s]\n",
      "PUT http://localhost:9200/kamervragen/kamervraag/2290 [status:400 request:0.014s]\n",
      "PUT http://localhost:9200/kamervragen/kamervraag/2291 [status:400 request:0.005s]\n"
     ]
    },
    {
     "name": "stdout",
     "output_type": "stream",
     "text": [
      "failed\n",
      "data_file1948.json\n",
      "failed\n",
      "data_file257.json\n",
      "data_file1273.json\n",
      "data_file1786.json\n",
      "data_file2761.json\n",
      "data_file2614.json\n",
      "data_file2428.json\n",
      "failed\n",
      "data_file449.json\n",
      "failed\n",
      "data_file1716.json\n",
      "failed\n",
      "data_file2819.json\n"
     ]
    },
    {
     "name": "stderr",
     "output_type": "stream",
     "text": [
      "PUT http://localhost:9200/kamervragen/kamervraag/2295 [status:400 request:0.006s]\n",
      "PUT http://localhost:9200/kamervragen/kamervraag/2296 [status:400 request:0.003s]\n",
      "PUT http://localhost:9200/kamervragen/kamervraag/2298 [status:400 request:0.009s]\n",
      "PUT http://localhost:9200/kamervragen/kamervraag/2300 [status:400 request:0.002s]\n",
      "PUT http://localhost:9200/kamervragen/kamervraag/2301 [status:400 request:0.002s]\n",
      "PUT http://localhost:9200/kamervragen/kamervraag/2302 [status:400 request:0.021s]\n",
      "PUT http://localhost:9200/kamervragen/kamervraag/2304 [status:400 request:0.003s]\n"
     ]
    },
    {
     "name": "stdout",
     "output_type": "stream",
     "text": [
      "data_file1091.json\n",
      "data_file2375.json\n",
      "data_file2351.json\n",
      "failed\n",
      "data_file776.json\n",
      "failed\n",
      "data_file2172.json\n",
      "data_file2037.json\n",
      "failed\n",
      "data_file2841.json\n",
      "data_file1417.json\n",
      "failed\n",
      "data_file2830.json\n",
      "failed\n",
      "data_file549.json\n",
      "failed\n",
      "data_file1374.json\n",
      "data_file2360.json\n",
      "failed\n",
      "data_file634.json\n"
     ]
    },
    {
     "name": "stderr",
     "output_type": "stream",
     "text": [
      "PUT http://localhost:9200/kamervragen/kamervraag/2305 [status:400 request:0.026s]\n",
      "PUT http://localhost:9200/kamervragen/kamervraag/2307 [status:400 request:0.003s]\n",
      "PUT http://localhost:9200/kamervragen/kamervraag/2311 [status:400 request:0.005s]\n",
      "PUT http://localhost:9200/kamervragen/kamervraag/2312 [status:400 request:0.004s]\n",
      "PUT http://localhost:9200/kamervragen/kamervraag/2314 [status:400 request:0.009s]\n",
      "PUT http://localhost:9200/kamervragen/kamervraag/2316 [status:400 request:0.002s]\n",
      "PUT http://localhost:9200/kamervragen/kamervraag/2317 [status:400 request:0.005s]\n",
      "PUT http://localhost:9200/kamervragen/kamervraag/2318 [status:400 request:0.002s]\n",
      "PUT http://localhost:9200/kamervragen/kamervraag/2320 [status:400 request:0.002s]\n",
      "PUT http://localhost:9200/kamervragen/kamervraag/2322 [status:400 request:0.005s]\n"
     ]
    },
    {
     "name": "stdout",
     "output_type": "stream",
     "text": [
      "failed\n",
      "data_file945.json\n",
      "data_file1439.json\n",
      "failed\n",
      "data_file1167.json\n",
      "data_file2906.json\n",
      "data_file2591.json\n",
      "data_file2361.json\n",
      "failed\n",
      "data_file1247.json\n",
      "failed\n",
      "data_file1596.json\n",
      "data_file2539.json\n",
      "failed\n",
      "data_file458.json\n",
      "data_file402.json\n",
      "failed\n",
      "data_file1210.json\n",
      "failed\n",
      "data_file809.json\n",
      "failed\n",
      "data_file1901.json\n",
      "data_file592.json\n",
      "failed\n",
      "data_file17.json\n",
      "data_file1038.json\n",
      "failed\n",
      "data_file2420.json\n"
     ]
    },
    {
     "name": "stderr",
     "output_type": "stream",
     "text": [
      "PUT http://localhost:9200/kamervragen/kamervraag/2325 [status:400 request:0.004s]\n",
      "PUT http://localhost:9200/kamervragen/kamervraag/2327 [status:400 request:0.013s]\n",
      "PUT http://localhost:9200/kamervragen/kamervraag/2333 [status:400 request:0.008s]\n",
      "PUT http://localhost:9200/kamervragen/kamervraag/2334 [status:400 request:0.011s]\n",
      "PUT http://localhost:9200/kamervragen/kamervraag/2336 [status:400 request:0.002s]\n",
      "PUT http://localhost:9200/kamervragen/kamervraag/2337 [status:400 request:0.016s]\n"
     ]
    },
    {
     "name": "stdout",
     "output_type": "stream",
     "text": [
      "data_file2422.json\n",
      "data_file1714.json\n",
      "failed\n",
      "data_file700.json\n",
      "data_file2876.json\n",
      "failed\n",
      "data_file1928.json\n",
      "data_file1430.json\n",
      "data_file1641.json\n",
      "data_file1761.json\n",
      "data_file2693.json\n",
      "data_file872.json\n",
      "failed\n",
      "data_file1905.json\n",
      "failed\n",
      "data_file1002.json\n",
      "data_file1232.json\n",
      "failed\n",
      "data_file1052.json\n",
      "failed\n",
      "data_file341.json\n"
     ]
    },
    {
     "name": "stderr",
     "output_type": "stream",
     "text": [
      "PUT http://localhost:9200/kamervragen/kamervraag/2338 [status:400 request:0.006s]\n",
      "PUT http://localhost:9200/kamervragen/kamervraag/2344 [status:400 request:0.002s]\n"
     ]
    },
    {
     "name": "stdout",
     "output_type": "stream",
     "text": [
      "failed\n",
      "data_file674.json\n",
      "data_file493.json\n",
      "data_file878.json\n",
      "data_file1977.json\n",
      "data_file1096.json\n",
      "data_file513.json\n",
      "failed\n",
      "data_file2601.json\n",
      "data_file2178.json\n",
      "data_file325.json\n",
      "data_file2150.json\n",
      "data_file2817.json\n",
      "data_file2885.json"
     ]
    },
    {
     "name": "stderr",
     "output_type": "stream",
     "text": [
      "PUT http://localhost:9200/kamervragen/kamervraag/2351 [status:400 request:0.003s]\n",
      "PUT http://localhost:9200/kamervragen/kamervraag/2357 [status:400 request:0.004s]\n"
     ]
    },
    {
     "name": "stdout",
     "output_type": "stream",
     "text": [
      "\n",
      "data_file943.json\n",
      "failed\n",
      "data_file1680.json\n",
      "data_file1532.json\n",
      "data_file1095.json\n",
      "data_file937.json\n",
      "data_file1624.json\n",
      "data_file891.json\n",
      "failed\n",
      "data_file1451.json\n"
     ]
    },
    {
     "name": "stderr",
     "output_type": "stream",
     "text": [
      "PUT http://localhost:9200/kamervragen/kamervraag/2362 [status:400 request:0.008s]\n",
      "PUT http://localhost:9200/kamervragen/kamervraag/2363 [status:400 request:0.009s]\n",
      "PUT http://localhost:9200/kamervragen/kamervraag/2366 [status:400 request:0.003s]\n",
      "PUT http://localhost:9200/kamervragen/kamervraag/2367 [status:400 request:0.006s]\n",
      "PUT http://localhost:9200/kamervragen/kamervraag/2368 [status:400 request:0.004s]\n"
     ]
    },
    {
     "name": "stdout",
     "output_type": "stream",
     "text": [
      "data_file303.json\n",
      "data_file1231.json\n",
      "data_file2670.json\n",
      "data_file221.json\n",
      "failed\n",
      "data_file2073.json\n",
      "failed\n",
      "data_file2507.json\n",
      "data_file504.json\n",
      "data_file2468.json\n",
      "failed\n",
      "data_file1837.json\n",
      "failed\n",
      "data_file2136.json\n",
      "failed\n",
      "data_file2289.json\n",
      "data_file838.json\n",
      "data_file2989.json\n"
     ]
    },
    {
     "name": "stderr",
     "output_type": "stream",
     "text": [
      "PUT http://localhost:9200/kamervragen/kamervraag/2372 [status:400 request:0.002s]\n",
      "PUT http://localhost:9200/kamervragen/kamervraag/2374 [status:400 request:0.010s]\n",
      "PUT http://localhost:9200/kamervragen/kamervraag/2377 [status:400 request:0.002s]\n",
      "PUT http://localhost:9200/kamervragen/kamervraag/2378 [status:400 request:0.002s]\n",
      "PUT http://localhost:9200/kamervragen/kamervraag/2380 [status:400 request:0.002s]\n",
      "PUT http://localhost:9200/kamervragen/kamervraag/2381 [status:400 request:0.006s]\n",
      "PUT http://localhost:9200/kamervragen/kamervraag/2384 [status:400 request:0.002s]\n",
      "PUT http://localhost:9200/kamervragen/kamervraag/2388 [status:400 request:0.005s]\n"
     ]
    },
    {
     "name": "stdout",
     "output_type": "stream",
     "text": [
      "data_file1032.json\n",
      "failed\n",
      "data_file1809.json\n",
      "data_file1259.json\n",
      "failed\n",
      "data_file2765.json\n",
      "data_file1863.json\n",
      "data_file2276.json\n",
      "failed\n",
      "data_file2823.json\n",
      "failed\n",
      "data_file346.json\n",
      "data_file2721.json\n",
      "failed\n",
      "data_file243.json\n",
      "failed\n",
      "data_file2459.json\n",
      "data_file1075.json\n",
      "data_file432.json\n",
      "failed\n",
      "data_file236.json\n",
      "data_file1929.json\n",
      "data_file608.json\n",
      "data_file766.json\n",
      "failed\n",
      "data_file2803.json\n"
     ]
    },
    {
     "name": "stderr",
     "output_type": "stream",
     "text": [
      "PUT http://localhost:9200/kamervragen/kamervraag/2390 [status:400 request:0.003s]\n",
      "PUT http://localhost:9200/kamervragen/kamervraag/2391 [status:400 request:0.005s]\n",
      "PUT http://localhost:9200/kamervragen/kamervraag/2393 [status:400 request:0.002s]\n",
      "PUT http://localhost:9200/kamervragen/kamervraag/2397 [status:400 request:0.005s]\n",
      "PUT http://localhost:9200/kamervragen/kamervraag/2400 [status:400 request:0.003s]\n",
      "PUT http://localhost:9200/kamervragen/kamervraag/2403 [status:400 request:0.011s]\n"
     ]
    },
    {
     "name": "stdout",
     "output_type": "stream",
     "text": [
      "data_file190.json\n",
      "failed\n",
      "data_file2485.json\n",
      "failed\n",
      "data_file37.json\n",
      "data_file2013.json\n",
      "failed\n",
      "data_file2334.json\n",
      "data_file2092.json\n",
      "data_file2640.json\n",
      "data_file2877.json\n",
      "failed\n",
      "data_file182.json\n",
      "data_file2495.json\n",
      "data_file264.json\n",
      "failed\n",
      "data_file1480.json\n",
      "data_file909.json\n",
      "data_file2895.json\n",
      "failed\n",
      "data_file2744.json\n"
     ]
    },
    {
     "name": "stderr",
     "output_type": "stream",
     "text": [
      "PUT http://localhost:9200/kamervragen/kamervraag/2407 [status:400 request:0.002s]\n",
      "PUT http://localhost:9200/kamervragen/kamervraag/2408 [status:400 request:0.003s]\n",
      "PUT http://localhost:9200/kamervragen/kamervraag/2410 [status:400 request:0.002s]\n",
      "PUT http://localhost:9200/kamervragen/kamervraag/2413 [status:400 request:0.002s]\n"
     ]
    },
    {
     "name": "stdout",
     "output_type": "stream",
     "text": [
      "data_file2665.json\n",
      "data_file1804.json\n",
      "data_file560.json\n",
      "failed\n",
      "data_file1943.json\n",
      "failed\n",
      "data_file292.json\n",
      "data_file1241.json\n",
      "failed\n",
      "data_file623.json\n",
      "data_file767.json\n",
      "data_file2517.json\n",
      "failed\n",
      "data_file1543.json\n",
      "data_file431.json\n"
     ]
    },
    {
     "name": "stderr",
     "output_type": "stream",
     "text": [
      "PUT http://localhost:9200/kamervragen/kamervraag/2417 [status:400 request:0.004s]\n",
      "PUT http://localhost:9200/kamervragen/kamervraag/2418 [status:400 request:0.005s]\n",
      "PUT http://localhost:9200/kamervragen/kamervraag/2419 [status:400 request:0.013s]\n",
      "PUT http://localhost:9200/kamervragen/kamervraag/2420 [status:400 request:0.003s]\n",
      "PUT http://localhost:9200/kamervragen/kamervraag/2421 [status:400 request:0.002s]\n",
      "PUT http://localhost:9200/kamervragen/kamervraag/2422 [status:400 request:0.002s]\n",
      "PUT http://localhost:9200/kamervragen/kamervraag/2423 [status:400 request:0.050s]\n",
      "PUT http://localhost:9200/kamervragen/kamervraag/2428 [status:400 request:0.003s]\n",
      "PUT http://localhost:9200/kamervragen/kamervraag/2430 [status:400 request:0.012s]\n",
      "PUT http://localhost:9200/kamervragen/kamervraag/2433 [status:400 request:0.002s]\n"
     ]
    },
    {
     "name": "stdout",
     "output_type": "stream",
     "text": [
      "data_file488.json\n",
      "data_file1118.json\n",
      "failed\n",
      "data_file2643.json\n",
      "failed\n",
      "data_file2164.json\n",
      "failed\n",
      "data_file475.json\n",
      "failed\n",
      "data_file785.json\n",
      "failed\n",
      "data_file241.json\n",
      "failed\n",
      "data_file2207.json\n",
      "failed\n",
      "data_file543.json\n",
      "data_file408.json\n",
      "data_file430.json\n",
      "data_file680.json\n",
      "data_file654.json\n",
      "failed\n",
      "data_file855.json\n",
      "data_file1285.json\n",
      "failed\n",
      "data_file816.json\n",
      "data_file1375.json\n",
      "data_file2493.json\n"
     ]
    },
    {
     "name": "stderr",
     "output_type": "stream",
     "text": [
      "PUT http://localhost:9200/kamervragen/kamervraag/2438 [status:400 request:0.005s]\n",
      "PUT http://localhost:9200/kamervragen/kamervraag/2442 [status:400 request:0.001s]\n",
      "PUT http://localhost:9200/kamervragen/kamervraag/2443 [status:400 request:0.023s]\n",
      "PUT http://localhost:9200/kamervragen/kamervraag/2444 [status:400 request:0.007s]\n",
      "PUT http://localhost:9200/kamervragen/kamervraag/2445 [status:400 request:0.003s]\n"
     ]
    },
    {
     "name": "stdout",
     "output_type": "stream",
     "text": [
      "failed\n",
      "data_file2793.json\n",
      "data_file738.json\n",
      "data_file712.json\n",
      "data_file1784.json\n",
      "data_file15.json\n",
      "failed\n",
      "data_file335.json\n",
      "data_file1715.json\n",
      "data_file428.json\n",
      "data_file584.json\n",
      "failed\n",
      "data_file2202.json\n",
      "failed\n",
      "data_file1781.json\n",
      "failed\n",
      "data_file137.json\n",
      "failed\n",
      "data_file2123.json\n",
      "data_file1202.json\n",
      "data_file923.json\n",
      "data_file2412.json\n",
      "data_file1358.json\n"
     ]
    },
    {
     "name": "stderr",
     "output_type": "stream",
     "text": [
      "PUT http://localhost:9200/kamervragen/kamervraag/2450 [status:400 request:0.002s]\n",
      "PUT http://localhost:9200/kamervragen/kamervraag/2451 [status:400 request:0.003s]\n",
      "PUT http://localhost:9200/kamervragen/kamervraag/2454 [status:400 request:0.013s]\n",
      "PUT http://localhost:9200/kamervragen/kamervraag/2459 [status:400 request:0.013s]\n",
      "PUT http://localhost:9200/kamervragen/kamervraag/2461 [status:400 request:0.032s]\n"
     ]
    },
    {
     "name": "stdout",
     "output_type": "stream",
     "text": [
      "failed\n",
      "data_file2921.json\n",
      "failed\n",
      "data_file1174.json\n",
      "data_file353.json\n",
      "data_file2390.json\n",
      "failed\n",
      "data_file2930.json\n",
      "data_file2271.json\n",
      "data_file2952.json\n",
      "data_file94.json\n",
      "data_file1403.json\n",
      "failed\n",
      "data_file1939.json\n",
      "data_file2907.json\n"
     ]
    },
    {
     "name": "stderr",
     "output_type": "stream",
     "text": [
      "PUT http://localhost:9200/kamervragen/kamervraag/2471 [status:400 request:0.003s]\n",
      "PUT http://localhost:9200/kamervragen/kamervraag/2474 [status:400 request:0.033s]\n",
      "PUT http://localhost:9200/kamervragen/kamervraag/2476 [status:400 request:0.002s]\n"
     ]
    },
    {
     "name": "stdout",
     "output_type": "stream",
     "text": [
      "failed\n",
      "data_file2710.json\n",
      "data_file465.json\n",
      "data_file2971.json\n",
      "data_file220.json\n",
      "data_file1084.json\n",
      "data_file591.json\n",
      "data_file2938.json\n",
      "data_file2637.json\n",
      "data_file2369.json\n",
      "data_file522.json\n",
      "failed\n",
      "data_file124.json\n",
      "data_file447.json\n",
      "data_file1049.json\n",
      "failed\n",
      "data_file1606.json\n",
      "data_file2403.json\n",
      "failed\n",
      "data_file1509.json\n",
      "data_file1438.json\n",
      "data_file1609.json\n"
     ]
    },
    {
     "name": "stderr",
     "output_type": "stream",
     "text": [
      "PUT http://localhost:9200/kamervragen/kamervraag/2481 [status:400 request:0.002s]\n",
      "PUT http://localhost:9200/kamervragen/kamervraag/2483 [status:400 request:0.023s]\n"
     ]
    },
    {
     "name": "stdout",
     "output_type": "stream",
     "text": [
      "data_file2560.json\n",
      "data_file2648.json\n",
      "failed\n",
      "data_file2121.json\n",
      "data_file2623.json\n",
      "failed\n",
      "data_file687.json\n",
      "data_file1858.json\n",
      "data_file2594.json\n",
      "data_file365.json\n",
      "data_file1455.json\n"
     ]
    },
    {
     "name": "stderr",
     "output_type": "stream",
     "text": [
      "PUT http://localhost:9200/kamervragen/kamervraag/2489 [status:400 request:0.004s]\n",
      "PUT http://localhost:9200/kamervragen/kamervraag/2490 [status:400 request:0.010s]\n",
      "PUT http://localhost:9200/kamervragen/kamervraag/2491 [status:400 request:0.003s]\n",
      "PUT http://localhost:9200/kamervragen/kamervraag/2495 [status:400 request:0.002s]\n",
      "PUT http://localhost:9200/kamervragen/kamervraag/2497 [status:400 request:0.003s]\n"
     ]
    },
    {
     "name": "stdout",
     "output_type": "stream",
     "text": [
      "data_file536.json\n",
      "failed\n",
      "data_file2282.json\n",
      "failed\n",
      "data_file2014.json\n",
      "failed\n",
      "data_file245.json\n",
      "data_file489.json\n",
      "data_file835.json\n",
      "data_file1883.json\n",
      "failed\n",
      "data_file2506.json\n",
      "data_file2568.json\n",
      "failed\n",
      "data_file695.json\n",
      "data_file2891.json\n",
      "data_file1940.json\n"
     ]
    },
    {
     "name": "stderr",
     "output_type": "stream",
     "text": [
      "PUT http://localhost:9200/kamervragen/kamervraag/2500 [status:400 request:0.159s]\n",
      "PUT http://localhost:9200/kamervragen/kamervraag/2502 [status:400 request:0.007s]\n",
      "PUT http://localhost:9200/kamervragen/kamervraag/2506 [status:400 request:0.002s]\n",
      "PUT http://localhost:9200/kamervragen/kamervraag/2507 [status:400 request:0.002s]\n",
      "PUT http://localhost:9200/kamervragen/kamervraag/2510 [status:400 request:0.003s]\n",
      "PUT http://localhost:9200/kamervragen/kamervraag/2511 [status:400 request:0.002s]\n"
     ]
    },
    {
     "name": "stdout",
     "output_type": "stream",
     "text": [
      "failed\n",
      "data_file1768.json\n",
      "data_file450.json\n",
      "failed\n",
      "data_file1578.json\n",
      "data_file1198.json\n",
      "data_file1188.json\n",
      "data_file2185.json\n",
      "failed\n",
      "data_file515.json\n",
      "failed\n",
      "data_file2228.json\n",
      "data_file1323.json\n",
      "data_file2053.json\n",
      "failed\n",
      "data_file2974.json\n",
      "failed\n",
      "data_file2198.json\n",
      "data_file1729.json\n"
     ]
    },
    {
     "name": "stderr",
     "output_type": "stream",
     "text": [
      "PUT http://localhost:9200/kamervragen/kamervraag/2516 [status:400 request:0.002s]\n",
      "PUT http://localhost:9200/kamervragen/kamervraag/2520 [status:400 request:0.002s]\n",
      "PUT http://localhost:9200/kamervragen/kamervraag/2521 [status:400 request:0.003s]\n",
      "PUT http://localhost:9200/kamervragen/kamervraag/2522 [status:400 request:0.003s]\n",
      "PUT http://localhost:9200/kamervragen/kamervraag/2526 [status:400 request:0.008s]\n",
      "PUT http://localhost:9200/kamervragen/kamervraag/2531 [status:400 request:0.002s]\n",
      "PUT http://localhost:9200/kamervragen/kamervraag/2533 [status:400 request:0.002s]\n"
     ]
    },
    {
     "name": "stdout",
     "output_type": "stream",
     "text": [
      "data_file2629.json\n",
      "data_file1376.json\n",
      "data_file2540.json\n",
      "failed\n",
      "data_file625.json\n",
      "data_file1112.json\n",
      "data_file2491.json\n",
      "data_file1364.json\n",
      "failed\n",
      "data_file782.json\n",
      "failed\n",
      "data_file1666.json\n",
      "failed\n",
      "data_file1415.json\n",
      "data_file2509.json\n",
      "data_file2758.json\n",
      "data_file338.json\n",
      "failed\n",
      "data_file1597.json\n",
      "data_file2418.json\n",
      "data_file2450.json\n",
      "data_file642.json\n",
      "data_file146.json\n",
      "failed\n",
      "data_file2772.json\n",
      "data_file2545.json\n",
      "failed\n",
      "data_file74.json\n",
      "data_file613.json\n",
      "data_file2616.json"
     ]
    },
    {
     "name": "stderr",
     "output_type": "stream",
     "text": [
      "PUT http://localhost:9200/kamervragen/kamervraag/2537 [status:400 request:0.002s]\n",
      "PUT http://localhost:9200/kamervragen/kamervraag/2538 [status:400 request:0.006s]\n",
      "PUT http://localhost:9200/kamervragen/kamervraag/2540 [status:400 request:0.015s]\n",
      "PUT http://localhost:9200/kamervragen/kamervraag/2541 [status:400 request:0.003s]\n",
      "PUT http://localhost:9200/kamervragen/kamervraag/2542 [status:400 request:0.007s]\n",
      "PUT http://localhost:9200/kamervragen/kamervraag/2543 [status:400 request:0.009s]\n",
      "PUT http://localhost:9200/kamervragen/kamervraag/2544 [status:400 request:0.002s]\n",
      "PUT http://localhost:9200/kamervragen/kamervraag/2545 [status:400 request:0.002s]\n"
     ]
    },
    {
     "name": "stdout",
     "output_type": "stream",
     "text": [
      "\n",
      "data_file501.json\n",
      "failed\n",
      "data_file2285.json\n",
      "failed\n",
      "data_file2064.json\n",
      "data_file60.json\n",
      "failed\n",
      "data_file2131.json\n",
      "failed\n",
      "data_file2854.json\n",
      "failed\n",
      "data_file90.json\n",
      "failed\n",
      "data_file969.json\n",
      "failed\n",
      "data_file2831.json\n",
      "failed\n",
      "data_file2746.json\n",
      "data_file2528.json\n",
      "data_file713.json\n",
      "data_file2695.json\n",
      "data_file2869.json\n",
      "data_file267.json\n"
     ]
    },
    {
     "name": "stderr",
     "output_type": "stream",
     "text": [
      "PUT http://localhost:9200/kamervragen/kamervraag/2551 [status:400 request:0.180s]\n",
      "PUT http://localhost:9200/kamervragen/kamervraag/2554 [status:400 request:0.005s]\n",
      "PUT http://localhost:9200/kamervragen/kamervraag/2557 [status:400 request:0.002s]\n",
      "PUT http://localhost:9200/kamervragen/kamervraag/2558 [status:400 request:0.008s]\n",
      "PUT http://localhost:9200/kamervragen/kamervraag/2559 [status:400 request:0.008s]\n"
     ]
    },
    {
     "name": "stdout",
     "output_type": "stream",
     "text": [
      "failed\n",
      "data_file1921.json\n",
      "data_file89.json\n",
      "data_file2043.json\n",
      "failed\n",
      "data_file72.json\n",
      "data_file1437.json\n",
      "data_file1175.json\n",
      "failed\n",
      "data_file1795.json\n",
      "failed\n",
      "data_file1152.json\n",
      "failed\n",
      "data_file2060.json\n",
      "data_file474.json\n",
      "data_file644.json\n",
      "data_file2706.json\n",
      "data_file482.json"
     ]
    },
    {
     "name": "stderr",
     "output_type": "stream",
     "text": [
      "PUT http://localhost:9200/kamervragen/kamervraag/2564 [status:400 request:0.002s]\n",
      "PUT http://localhost:9200/kamervragen/kamervraag/2571 [status:400 request:0.004s]\n",
      "PUT http://localhost:9200/kamervragen/kamervraag/2573 [status:400 request:0.003s]\n"
     ]
    },
    {
     "name": "stdout",
     "output_type": "stream",
     "text": [
      "\n",
      "failed\n",
      "data_file723.json\n",
      "data_file1636.json\n",
      "data_file388.json\n",
      "data_file406.json\n",
      "data_file113.json\n",
      "data_file1425.json\n",
      "data_file609.json\n",
      "failed\n",
      "data_file1783.json\n",
      "data_file476.json\n",
      "failed\n",
      "data_file1372.json\n",
      "data_file2777.json\n"
     ]
    },
    {
     "name": "stderr",
     "output_type": "stream",
     "text": [
      "PUT http://localhost:9200/kamervragen/kamervraag/2581 [status:400 request:0.003s]\n",
      "PUT http://localhost:9200/kamervragen/kamervraag/2584 [status:400 request:0.003s]\n",
      "PUT http://localhost:9200/kamervragen/kamervraag/2585 [status:400 request:0.011s]\n"
     ]
    },
    {
     "name": "stdout",
     "output_type": "stream",
     "text": [
      "data_file1140.json\n",
      "data_file977.json\n",
      "data_file2269.json\n",
      "data_file1189.json\n",
      "data_file312.json\n",
      "data_file2386.json\n",
      "failed\n",
      "data_file848.json\n",
      "data_file1878.json\n",
      "data_file2565.json\n",
      "failed\n",
      "data_file2074.json\n",
      "failed\n",
      "data_file594.json\n",
      "data_file663.json\n",
      "data_file1138.json\n"
     ]
    },
    {
     "name": "stderr",
     "output_type": "stream",
     "text": [
      "PUT http://localhost:9200/kamervragen/kamervraag/2594 [status:400 request:0.002s]\n",
      "PUT http://localhost:9200/kamervragen/kamervraag/2595 [status:400 request:0.010s]\n"
     ]
    },
    {
     "name": "stdout",
     "output_type": "stream",
     "text": [
      "data_file1600.json\n",
      "data_file1396.json\n",
      "data_file300.json\n",
      "data_file500.json\n",
      "data_file2826.json\n",
      "data_file1687.json\n",
      "failed\n",
      "data_file823.json\n",
      "failed\n",
      "data_file2457.json\n",
      "data_file1156.json\n",
      "data_file1551.json\n",
      "data_file509.json\n",
      "data_file265.json\n"
     ]
    },
    {
     "name": "stderr",
     "output_type": "stream",
     "text": [
      "PUT http://localhost:9200/kamervragen/kamervraag/2601 [status:400 request:0.005s]\n",
      "PUT http://localhost:9200/kamervragen/kamervraag/2602 [status:400 request:0.014s]\n",
      "PUT http://localhost:9200/kamervragen/kamervraag/2603 [status:400 request:0.004s]\n"
     ]
    },
    {
     "name": "stdout",
     "output_type": "stream",
     "text": [
      "data_file605.json\n",
      "failed\n",
      "data_file2090.json\n",
      "failed\n",
      "data_file1269.json\n",
      "failed\n",
      "data_file1252.json\n",
      "data_file1682.json\n",
      "data_file1549.json\n",
      "data_file907.json\n",
      "data_file232.json\n"
     ]
    },
    {
     "name": "stderr",
     "output_type": "stream",
     "text": [
      "PUT http://localhost:9200/kamervragen/kamervraag/2609 [status:400 request:0.003s]\n",
      "PUT http://localhost:9200/kamervragen/kamervraag/2610 [status:400 request:0.010s]\n",
      "PUT http://localhost:9200/kamervragen/kamervraag/2611 [status:400 request:0.002s]\n",
      "PUT http://localhost:9200/kamervragen/kamervraag/2615 [status:400 request:0.002s]\n",
      "PUT http://localhost:9200/kamervragen/kamervraag/2617 [status:400 request:0.002s]\n",
      "PUT http://localhost:9200/kamervragen/kamervraag/2620 [status:400 request:0.014s]\n",
      "PUT http://localhost:9200/kamervragen/kamervraag/2621 [status:400 request:0.007s]\n",
      "PUT http://localhost:9200/kamervragen/kamervraag/2622 [status:400 request:0.004s]\n"
     ]
    },
    {
     "name": "stdout",
     "output_type": "stream",
     "text": [
      "data_file1707.json\n",
      "failed\n",
      "data_file440.json\n",
      "failed\n",
      "data_file38.json\n",
      "failed\n",
      "data_file2.json\n",
      "data_file452.json\n",
      "data_file420.json\n",
      "data_file670.json\n",
      "failed\n",
      "data_file2432.json\n",
      "data_file2947.json\n",
      "failed\n",
      "data_file553.json\n",
      "data_file2349.json\n",
      "data_file1225.json\n",
      "failed\n",
      "data_file1497.json\n",
      "failed\n",
      "data_file2700.json\n",
      "failed\n",
      "data_file754.json\n",
      "data_file2712.json\n"
     ]
    },
    {
     "name": "stderr",
     "output_type": "stream",
     "text": [
      "PUT http://localhost:9200/kamervragen/kamervraag/2625 [status:400 request:0.005s]\n",
      "PUT http://localhost:9200/kamervragen/kamervraag/2628 [status:400 request:0.018s]\n",
      "PUT http://localhost:9200/kamervragen/kamervraag/2636 [status:400 request:0.003s]\n",
      "PUT http://localhost:9200/kamervragen/kamervraag/2638 [status:400 request:0.006s]\n"
     ]
    },
    {
     "name": "stdout",
     "output_type": "stream",
     "text": [
      "data_file2519.json\n",
      "failed\n",
      "data_file2624.json\n",
      "data_file7.json\n",
      "data_file2868.json\n",
      "failed\n",
      "data_file1623.json\n",
      "data_file378.json\n",
      "data_file2532.json\n",
      "data_file2157.json\n",
      "data_file2926.json\n",
      "data_file1378.json\n",
      "data_file1593.json\n",
      "data_file1045.json\n",
      "failed\n",
      "data_file467.json\n",
      "data_file1975.json\n"
     ]
    },
    {
     "name": "stderr",
     "output_type": "stream",
     "text": [
      "PUT http://localhost:9200/kamervragen/kamervraag/2640 [status:400 request:0.013s]\n",
      "PUT http://localhost:9200/kamervragen/kamervraag/2641 [status:400 request:0.012s]\n",
      "PUT http://localhost:9200/kamervragen/kamervraag/2642 [status:400 request:0.009s]\n",
      "PUT http://localhost:9200/kamervragen/kamervraag/2649 [status:400 request:0.008s]\n"
     ]
    },
    {
     "name": "stdout",
     "output_type": "stream",
     "text": [
      "failed\n",
      "data_file1276.json\n",
      "data_file1261.json\n",
      "failed\n",
      "data_file1835.json\n",
      "failed\n",
      "data_file2147.json\n",
      "failed\n",
      "data_file370.json\n",
      "data_file546.json\n",
      "data_file100.json\n",
      "data_file2719.json\n",
      "data_file734.json\n",
      "data_file829.json\n",
      "data_file2549.json\n",
      "failed\n",
      "data_file2438.json\n",
      "data_file1821.json\n"
     ]
    },
    {
     "name": "stderr",
     "output_type": "stream",
     "text": [
      "PUT http://localhost:9200/kamervragen/kamervraag/2652 [status:400 request:0.007s]\n",
      "PUT http://localhost:9200/kamervragen/kamervraag/2653 [status:400 request:0.003s]\n",
      "PUT http://localhost:9200/kamervragen/kamervraag/2655 [status:400 request:0.002s]\n",
      "PUT http://localhost:9200/kamervragen/kamervraag/2656 [status:400 request:0.009s]\n",
      "PUT http://localhost:9200/kamervragen/kamervraag/2657 [status:400 request:0.008s]\n",
      "PUT http://localhost:9200/kamervragen/kamervraag/2659 [status:400 request:0.002s]\n",
      "PUT http://localhost:9200/kamervragen/kamervraag/2662 [status:400 request:0.010s]\n"
     ]
    },
    {
     "name": "stdout",
     "output_type": "stream",
     "text": [
      "data_file1816.json\n",
      "failed\n",
      "data_file1559.json\n",
      "failed\n",
      "data_file2387.json\n",
      "data_file1066.json\n",
      "failed\n",
      "data_file2355.json\n",
      "failed\n",
      "data_file2434.json\n",
      "failed\n",
      "data_file1853.json\n",
      "data_file98.json\n",
      "failed\n",
      "data_file1043.json\n",
      "data_file1293.json\n",
      "data_file2458.json\n",
      "failed\n",
      "data_file1949.json\n",
      "data_file2396.json\n"
     ]
    },
    {
     "name": "stderr",
     "output_type": "stream",
     "text": [
      "PUT http://localhost:9200/kamervragen/kamervraag/2665 [status:400 request:0.006s]\n",
      "PUT http://localhost:9200/kamervragen/kamervraag/2666 [status:400 request:0.002s]\n",
      "PUT http://localhost:9200/kamervragen/kamervraag/2671 [status:400 request:0.010s]\n",
      "PUT http://localhost:9200/kamervragen/kamervraag/2675 [status:400 request:0.002s]\n",
      "PUT http://localhost:9200/kamervragen/kamervraag/2676 [status:400 request:0.005s]\n",
      "PUT http://localhost:9200/kamervragen/kamervraag/2677 [status:400 request:0.002s]\n",
      "PUT http://localhost:9200/kamervragen/kamervraag/2679 [status:400 request:0.002s]\n"
     ]
    },
    {
     "name": "stdout",
     "output_type": "stream",
     "text": [
      "data_file640.json\n",
      "failed\n",
      "data_file1295.json\n",
      "failed\n",
      "data_file879.json\n",
      "data_file2242.json\n",
      "data_file1744.json\n",
      "data_file1283.json\n",
      "data_file492.json\n",
      "failed\n",
      "data_file2255.json\n",
      "data_file224.json\n",
      "data_file2452.json\n",
      "data_file1224.json\n",
      "failed\n",
      "data_file2708.json\n",
      "failed\n",
      "data_file1942.json\n",
      "failed\n",
      "data_file521.json\n",
      "data_file499.json\n",
      "failed\n",
      "data_file1646.json\n",
      "data_file802.json\n",
      "data_file1558.json"
     ]
    },
    {
     "name": "stderr",
     "output_type": "stream",
     "text": [
      "PUT http://localhost:9200/kamervragen/kamervraag/2683 [status:400 request:0.002s]\n",
      "PUT http://localhost:9200/kamervragen/kamervraag/2684 [status:400 request:0.002s]\n",
      "PUT http://localhost:9200/kamervragen/kamervraag/2685 [status:400 request:0.006s]\n",
      "PUT http://localhost:9200/kamervragen/kamervraag/2686 [status:400 request:0.003s]\n",
      "PUT http://localhost:9200/kamervragen/kamervraag/2688 [status:400 request:0.004s]\n",
      "PUT http://localhost:9200/kamervragen/kamervraag/2692 [status:400 request:0.010s]\n"
     ]
    },
    {
     "name": "stdout",
     "output_type": "stream",
     "text": [
      "\n",
      "data_file2707.json\n",
      "failed\n",
      "data_file581.json\n",
      "failed\n",
      "data_file477.json\n",
      "failed\n",
      "data_file1610.json\n",
      "failed\n",
      "data_file1457.json\n",
      "data_file172.json\n",
      "failed\n",
      "data_file1568.json\n",
      "data_file1397.json\n",
      "data_file169.json\n",
      "data_file1673.json\n",
      "failed\n",
      "data_file565.json\n",
      "data_file2380.json\n",
      "data_file2874.json\n",
      "data_file1390.json\n",
      "data_file2775.json\n"
     ]
    },
    {
     "name": "stderr",
     "output_type": "stream",
     "text": [
      "PUT http://localhost:9200/kamervragen/kamervraag/2700 [status:400 request:0.004s]\n",
      "PUT http://localhost:9200/kamervragen/kamervraag/2701 [status:400 request:0.009s]\n",
      "PUT http://localhost:9200/kamervragen/kamervraag/2702 [status:400 request:0.005s]\n",
      "PUT http://localhost:9200/kamervragen/kamervraag/2703 [status:400 request:0.003s]\n",
      "PUT http://localhost:9200/kamervragen/kamervraag/2707 [status:400 request:0.002s]\n"
     ]
    },
    {
     "name": "stdout",
     "output_type": "stream",
     "text": [
      "data_file235.json\n",
      "data_file968.json\n",
      "data_file671.json\n",
      "failed\n",
      "data_file1208.json\n",
      "failed\n",
      "data_file1827.json\n",
      "failed\n",
      "data_file1523.json\n",
      "failed\n",
      "data_file2201.json\n",
      "data_file564.json\n",
      "data_file1903.json\n",
      "data_file761.json\n",
      "failed\n",
      "data_file270.json\n",
      "data_file2292.json\n",
      "data_file2513.json\n",
      "data_file1535.json\n",
      "data_file2133.json\n"
     ]
    },
    {
     "name": "stderr",
     "output_type": "stream",
     "text": [
      "PUT http://localhost:9200/kamervragen/kamervraag/2720 [status:400 request:0.012s]\n",
      "PUT http://localhost:9200/kamervragen/kamervraag/2722 [status:400 request:0.002s]\n",
      "PUT http://localhost:9200/kamervragen/kamervraag/2725 [status:400 request:0.002s]\n"
     ]
    },
    {
     "name": "stdout",
     "output_type": "stream",
     "text": [
      "data_file2025.json\n",
      "data_file2972.json\n",
      "data_file1870.json\n",
      "data_file999.json\n",
      "data_file908.json\n",
      "data_file80.json\n",
      "data_file2512.json\n",
      "data_file2300.json\n",
      "failed\n",
      "data_file1785.json\n",
      "data_file2680.json\n",
      "failed\n",
      "data_file1452.json\n",
      "data_file588.json\n",
      "data_file2948.json\n",
      "failed\n",
      "data_file716.json\n"
     ]
    },
    {
     "name": "stderr",
     "output_type": "stream",
     "text": [
      "PUT http://localhost:9200/kamervragen/kamervraag/2727 [status:400 request:0.002s]\n",
      "PUT http://localhost:9200/kamervragen/kamervraag/2729 [status:400 request:0.004s]\n",
      "PUT http://localhost:9200/kamervragen/kamervraag/2733 [status:400 request:0.002s]\n",
      "PUT http://localhost:9200/kamervragen/kamervraag/2734 [status:400 request:0.001s]\n",
      "PUT http://localhost:9200/kamervragen/kamervraag/2736 [status:400 request:0.001s]\n",
      "PUT http://localhost:9200/kamervragen/kamervraag/2738 [status:400 request:0.002s]\n",
      "PUT http://localhost:9200/kamervragen/kamervraag/2741 [status:400 request:0.018s]\n",
      "PUT http://localhost:9200/kamervragen/kamervraag/2743 [status:400 request:0.005s]\n",
      "PUT http://localhost:9200/kamervragen/kamervraag/2747 [status:400 request:0.002s]\n"
     ]
    },
    {
     "name": "stdout",
     "output_type": "stream",
     "text": [
      "data_file2556.json\n",
      "failed\n",
      "data_file417.json\n",
      "data_file2490.json\n",
      "failed\n",
      "data_file1746.json\n",
      "data_file1612.json\n",
      "data_file992.json\n",
      "data_file200.json\n",
      "failed\n",
      "data_file719.json\n",
      "failed\n",
      "data_file2872.json\n",
      "data_file2896.json\n",
      "failed\n",
      "data_file2322.json\n",
      "data_file3.json\n",
      "failed\n",
      "data_file2734.json\n",
      "data_file487.json\n",
      "data_file1158.json\n",
      "failed\n",
      "data_file1631.json\n",
      "data_file1822.json\n",
      "failed\n",
      "data_file1101.json\n",
      "data_file2559.json\n",
      "data_file2035.json\n",
      "data_file2651.json\n",
      "failed\n",
      "data_file2306.json\n",
      "data_file1219.json\n",
      "data_file864.json\n"
     ]
    },
    {
     "name": "stderr",
     "output_type": "stream",
     "text": [
      "PUT http://localhost:9200/kamervragen/kamervraag/2750 [status:400 request:0.010s]\n",
      "PUT http://localhost:9200/kamervragen/kamervraag/2752 [status:400 request:0.003s]\n",
      "PUT http://localhost:9200/kamervragen/kamervraag/2754 [status:400 request:0.002s]\n",
      "PUT http://localhost:9200/kamervragen/kamervraag/2756 [status:400 request:0.002s]\n",
      "PUT http://localhost:9200/kamervragen/kamervraag/2764 [status:400 request:0.002s]\n",
      "PUT http://localhost:9200/kamervragen/kamervraag/2765 [status:400 request:0.002s]\n"
     ]
    },
    {
     "name": "stdout",
     "output_type": "stream",
     "text": [
      "failed\n",
      "data_file2211.json\n",
      "data_file1556.json\n",
      "failed\n",
      "data_file2483.json\n",
      "data_file2229.json\n",
      "failed\n",
      "data_file2346.json\n",
      "data_file1172.json\n",
      "failed\n",
      "data_file1453.json\n",
      "data_file2595.json\n",
      "data_file1904.json\n",
      "data_file2749.json\n",
      "data_file1151.json\n",
      "data_file840.json\n",
      "data_file934.json\n",
      "data_file691.json\n",
      "failed\n",
      "data_file970.json\n",
      "failed\n",
      "data_file2622.json\n"
     ]
    },
    {
     "name": "stderr",
     "output_type": "stream",
     "text": [
      "PUT http://localhost:9200/kamervragen/kamervraag/2768 [status:400 request:0.044s]\n",
      "PUT http://localhost:9200/kamervragen/kamervraag/2769 [status:400 request:0.002s]\n",
      "PUT http://localhost:9200/kamervragen/kamervraag/2770 [status:400 request:0.006s]\n",
      "PUT http://localhost:9200/kamervragen/kamervraag/2773 [status:400 request:0.015s]\n",
      "PUT http://localhost:9200/kamervragen/kamervraag/2776 [status:400 request:0.002s]\n"
     ]
    },
    {
     "name": "stdout",
     "output_type": "stream",
     "text": [
      "data_file2898.json\n",
      "data_file497.json\n",
      "failed\n",
      "data_file1124.json\n",
      "failed\n",
      "data_file929.json\n",
      "failed\n",
      "data_file138.json\n",
      "data_file1755.json\n",
      "data_file1281.json\n",
      "failed\n",
      "data_file1719.json\n",
      "data_file1226.json\n",
      "data_file3000.json\n",
      "failed\n",
      "data_file1454.json\n"
     ]
    },
    {
     "name": "stderr",
     "output_type": "stream",
     "text": [
      "PUT http://localhost:9200/kamervragen/kamervraag/2778 [status:400 request:0.002s]\n",
      "PUT http://localhost:9200/kamervragen/kamervraag/2780 [status:400 request:0.003s]\n",
      "PUT http://localhost:9200/kamervragen/kamervraag/2782 [status:400 request:0.003s]\n",
      "PUT http://localhost:9200/kamervragen/kamervraag/2788 [status:400 request:0.002s]\n",
      "PUT http://localhost:9200/kamervragen/kamervraag/2789 [status:400 request:0.008s]\n",
      "PUT http://localhost:9200/kamervragen/kamervraag/2790 [status:400 request:0.002s]\n",
      "PUT http://localhost:9200/kamervragen/kamervraag/2794 [status:400 request:0.004s]\n",
      "PUT http://localhost:9200/kamervragen/kamervraag/2796 [status:400 request:0.005s]\n",
      "PUT http://localhost:9200/kamervragen/kamervraag/2797 [status:400 request:0.010s]\n"
     ]
    },
    {
     "name": "stdout",
     "output_type": "stream",
     "text": [
      "data_file210.json\n",
      "failed\n",
      "data_file1855.json\n",
      "data_file2839.json\n",
      "failed\n",
      "data_file1998.json\n",
      "data_file1019.json\n",
      "failed\n",
      "data_file843.json\n",
      "data_file2439.json\n",
      "data_file1526.json\n",
      "data_file947.json\n",
      "data_file1946.json\n",
      "data_file2720.json\n",
      "failed\n",
      "data_file298.json\n",
      "failed\n",
      "data_file1012.json\n",
      "failed\n",
      "data_file2873.json\n",
      "data_file987.json\n",
      "data_file1700.json\n",
      "data_file2146.json\n",
      "failed\n",
      "data_file366.json\n",
      "data_file2492.json\n",
      "failed\n",
      "data_file1561.json\n"
     ]
    },
    {
     "name": "stderr",
     "output_type": "stream",
     "text": [
      "PUT http://localhost:9200/kamervragen/kamervraag/2801 [status:400 request:0.002s]\n"
     ]
    },
    {
     "name": "stdout",
     "output_type": "stream",
     "text": [
      "failed\n",
      "data_file2273.json\n",
      "data_file1576.json\n",
      "data_file2692.json\n",
      "data_file2236.json\n",
      "failed\n",
      "data_file2208.json\n",
      "data_file2235.json\n",
      "data_file2193.json\n",
      "data_file498.json\n",
      "data_file253.json\n"
     ]
    },
    {
     "name": "stderr",
     "output_type": "stream",
     "text": [
      "PUT http://localhost:9200/kamervragen/kamervraag/2806 [status:400 request:0.025s]\n",
      "PUT http://localhost:9200/kamervragen/kamervraag/2810 [status:400 request:0.006s]\n",
      "PUT http://localhost:9200/kamervragen/kamervraag/2811 [status:400 request:0.006s]\n"
     ]
    },
    {
     "name": "stdout",
     "output_type": "stream",
     "text": [
      "failed\n",
      "data_file2098.json\n",
      "data_file1764.json\n",
      "data_file2625.json\n",
      "data_file2969.json\n",
      "failed\n",
      "data_file1552.json\n",
      "failed\n",
      "data_file2940.json\n",
      "data_file1006.json\n",
      "data_file222.json\n",
      "data_file389.json\n",
      "data_file1286.json\n",
      "data_file2404.json\n",
      "data_file545.json\n",
      "data_file1545.json\n"
     ]
    },
    {
     "name": "stderr",
     "output_type": "stream",
     "text": [
      "PUT http://localhost:9200/kamervragen/kamervraag/2820 [status:400 request:0.013s]\n",
      "PUT http://localhost:9200/kamervragen/kamervraag/2821 [status:400 request:0.008s]\n",
      "PUT http://localhost:9200/kamervragen/kamervraag/2822 [status:400 request:0.004s]\n",
      "PUT http://localhost:9200/kamervragen/kamervraag/2823 [status:400 request:0.007s]\n",
      "PUT http://localhost:9200/kamervragen/kamervraag/2825 [status:400 request:0.009s]\n"
     ]
    },
    {
     "name": "stdout",
     "output_type": "stream",
     "text": [
      "data_file1465.json\n",
      "failed\n",
      "data_file1274.json\n",
      "failed\n",
      "data_file2141.json\n",
      "failed\n",
      "data_file422.json\n",
      "failed\n",
      "data_file972.json\n",
      "data_file2196.json\n",
      "failed\n",
      "data_file1090.json\n",
      "data_file2384.json\n",
      "data_file2994.json\n",
      "data_file1832.json\n",
      "data_file315.json\n"
     ]
    },
    {
     "name": "stderr",
     "output_type": "stream",
     "text": [
      "PUT http://localhost:9200/kamervragen/kamervraag/2831 [status:400 request:0.004s]\n",
      "PUT http://localhost:9200/kamervragen/kamervraag/2836 [status:400 request:0.002s]\n",
      "PUT http://localhost:9200/kamervragen/kamervraag/2837 [status:400 request:0.007s]\n",
      "PUT http://localhost:9200/kamervragen/kamervraag/2839 [status:400 request:0.004s]\n"
     ]
    },
    {
     "name": "stdout",
     "output_type": "stream",
     "text": [
      "data_file271.json\n",
      "failed\n",
      "data_file601.json\n",
      "data_file1292.json\n",
      "data_file1371.json\n",
      "data_file2232.json\n",
      "data_file1563.json\n",
      "failed\n",
      "data_file2105.json\n",
      "failed\n",
      "data_file667.json\n",
      "data_file2764.json\n",
      "failed\n",
      "data_file1540.json\n",
      "data_file1955.json\n",
      "data_file2750.json\n"
     ]
    },
    {
     "name": "stderr",
     "output_type": "stream",
     "text": [
      "PUT http://localhost:9200/kamervragen/kamervraag/2842 [status:400 request:0.028s]\n",
      "PUT http://localhost:9200/kamervragen/kamervraag/2843 [status:400 request:0.003s]\n",
      "PUT http://localhost:9200/kamervragen/kamervraag/2846 [status:400 request:0.016s]\n",
      "PUT http://localhost:9200/kamervragen/kamervraag/2849 [status:400 request:0.002s]\n",
      "PUT http://localhost:9200/kamervragen/kamervraag/2852 [status:400 request:0.008s]\n"
     ]
    },
    {
     "name": "stdout",
     "output_type": "stream",
     "text": [
      "failed\n",
      "data_file2569.json\n",
      "failed\n",
      "data_file1689.json\n",
      "data_file1163.json\n",
      "data_file2406.json\n",
      "failed\n",
      "data_file1922.json\n",
      "data_file1309.json\n",
      "data_file1512.json\n",
      "failed\n",
      "data_file1065.json\n",
      "data_file506.json\n",
      "data_file2455.json\n",
      "failed\n",
      "data_file1645.json\n",
      "data_file218.json\n",
      "data_file216.json\n",
      "data_file1677.json\n",
      "data_file1970.json\n"
     ]
    },
    {
     "name": "stderr",
     "output_type": "stream",
     "text": [
      "PUT http://localhost:9200/kamervragen/kamervraag/2860 [status:400 request:0.005s]\n",
      "PUT http://localhost:9200/kamervragen/kamervraag/2863 [status:400 request:0.002s]\n",
      "PUT http://localhost:9200/kamervragen/kamervraag/2866 [status:400 request:0.007s]\n",
      "PUT http://localhost:9200/kamervragen/kamervraag/2869 [status:400 request:0.002s]\n"
     ]
    },
    {
     "name": "stdout",
     "output_type": "stream",
     "text": [
      "data_file661.json\n",
      "data_file1288.json\n",
      "data_file833.json\n",
      "failed\n",
      "data_file316.json\n",
      "data_file1366.json\n",
      "data_file2593.json\n",
      "failed\n",
      "data_file279.json\n",
      "data_file676.json\n",
      "data_file266.json\n",
      "failed\n",
      "data_file2628.json\n",
      "data_file1984.json\n",
      "data_file1511.json\n",
      "failed\n",
      "data_file2976.json\n"
     ]
    },
    {
     "name": "stderr",
     "output_type": "stream",
     "text": [
      "PUT http://localhost:9200/kamervragen/kamervraag/2871 [status:400 request:0.011s]\n",
      "PUT http://localhost:9200/kamervragen/kamervraag/2872 [status:400 request:0.034s]\n"
     ]
    },
    {
     "name": "stdout",
     "output_type": "stream",
     "text": [
      "data_file1537.json\n",
      "failed\n",
      "data_file2011.json\n",
      "failed\n",
      "data_file1445.json\n",
      "data_file1993.json\n",
      "data_file491.json\n",
      "data_file2683.json\n",
      "data_file2771.json"
     ]
    },
    {
     "name": "stderr",
     "output_type": "stream",
     "text": [
      "PUT http://localhost:9200/kamervragen/kamervraag/2877 [status:400 request:0.011s]\n",
      "PUT http://localhost:9200/kamervragen/kamervraag/2878 [status:400 request:0.006s]\n",
      "PUT http://localhost:9200/kamervragen/kamervraag/2884 [status:400 request:0.009s]\n",
      "PUT http://localhost:9200/kamervragen/kamervraag/2886 [status:400 request:0.006s]\n",
      "PUT http://localhost:9200/kamervragen/kamervraag/2888 [status:400 request:0.011s]\n"
     ]
    },
    {
     "name": "stdout",
     "output_type": "stream",
     "text": [
      "\n",
      "failed\n",
      "data_file780.json\n",
      "failed\n",
      "data_file1806.json\n",
      "data_file556.json\n",
      "data_file1308.json\n",
      "data_file396.json\n",
      "data_file2029.json\n",
      "data_file1434.json\n",
      "failed\n",
      "data_file1727.json\n",
      "data_file1077.json\n",
      "failed\n",
      "data_file2352.json\n",
      "data_file2019.json\n",
      "failed\n",
      "data_file495.json\n",
      "data_file469.json\n",
      "data_file69.json\n"
     ]
    },
    {
     "name": "stderr",
     "output_type": "stream",
     "text": [
      "PUT http://localhost:9200/kamervragen/kamervraag/2894 [status:400 request:0.005s]\n",
      "PUT http://localhost:9200/kamervragen/kamervraag/2896 [status:400 request:0.008s]\n",
      "PUT http://localhost:9200/kamervragen/kamervraag/2898 [status:400 request:0.005s]\n",
      "PUT http://localhost:9200/kamervragen/kamervraag/2899 [status:400 request:0.004s]\n",
      "PUT http://localhost:9200/kamervragen/kamervraag/2900 [status:400 request:0.006s]\n",
      "PUT http://localhost:9200/kamervragen/kamervraag/2901 [status:400 request:0.007s]\n",
      "PUT http://localhost:9200/kamervragen/kamervraag/2903 [status:400 request:0.006s]\n"
     ]
    },
    {
     "name": "stdout",
     "output_type": "stream",
     "text": [
      "data_file2062.json\n",
      "data_file806.json\n",
      "data_file2374.json\n",
      "failed\n",
      "data_file1582.json\n",
      "data_file163.json\n",
      "failed\n",
      "data_file1510.json\n",
      "data_file2024.json\n",
      "failed\n",
      "data_file2964.json\n",
      "failed\n",
      "data_file269.json\n",
      "failed\n",
      "data_file1531.json\n",
      "failed\n",
      "data_file380.json\n",
      "data_file2979.json\n",
      "failed\n",
      "data_file758.json\n"
     ]
    },
    {
     "name": "stderr",
     "output_type": "stream",
     "text": [
      "PUT http://localhost:9200/kamervragen/kamervraag/2904 [status:400 request:0.014s]\n",
      "PUT http://localhost:9200/kamervragen/kamervraag/2907 [status:400 request:0.007s]\n",
      "PUT http://localhost:9200/kamervragen/kamervraag/2911 [status:400 request:0.008s]\n",
      "PUT http://localhost:9200/kamervragen/kamervraag/2912 [status:400 request:0.015s]\n",
      "PUT http://localhost:9200/kamervragen/kamervraag/2913 [status:400 request:0.007s]\n",
      "PUT http://localhost:9200/kamervragen/kamervraag/2914 [status:400 request:0.004s]\n"
     ]
    },
    {
     "name": "stdout",
     "output_type": "stream",
     "text": [
      "failed\n",
      "data_file2148.json\n",
      "data_file1448.json\n",
      "data_file1474.json\n",
      "failed\n",
      "data_file1668.json\n",
      "data_file932.json\n",
      "data_file2054.json\n",
      "data_file1657.json\n",
      "failed\n",
      "data_file2257.json\n",
      "failed\n",
      "data_file356.json\n",
      "failed\n",
      "data_file697.json\n",
      "failed\n",
      "data_file1800.json\n",
      "data_file22.json\n"
     ]
    },
    {
     "name": "stderr",
     "output_type": "stream",
     "text": [
      "PUT http://localhost:9200/kamervragen/kamervraag/2919 [status:400 request:0.007s]\n",
      "PUT http://localhost:9200/kamervragen/kamervraag/2922 [status:400 request:0.014s]\n",
      "PUT http://localhost:9200/kamervragen/kamervraag/2925 [status:400 request:0.032s]\n",
      "PUT http://localhost:9200/kamervragen/kamervraag/2926 [status:400 request:0.009s]\n"
     ]
    },
    {
     "name": "stdout",
     "output_type": "stream",
     "text": [
      "data_file1316.json\n",
      "data_file101.json\n",
      "data_file1961.json\n",
      "failed\n",
      "data_file1388.json\n",
      "data_file2109.json\n",
      "data_file229.json\n",
      "failed\n",
      "data_file2124.json\n",
      "data_file2153.json\n",
      "data_file1035.json\n",
      "failed\n",
      "data_file1343.json\n",
      "failed\n",
      "data_file1640.json\n",
      "data_file585.json\n",
      "data_file114.json\n"
     ]
    },
    {
     "name": "stderr",
     "output_type": "stream",
     "text": [
      "PUT http://localhost:9200/kamervragen/kamervraag/2931 [status:400 request:0.015s]\n"
     ]
    },
    {
     "name": "stdout",
     "output_type": "stream",
     "text": [
      "data_file2069.json\n",
      "data_file23.json\n",
      "failed\n",
      "data_file1895.json\n",
      "data_file1577.json\n",
      "data_file105.json\n",
      "data_file2789.json\n"
     ]
    },
    {
     "name": "stderr",
     "output_type": "stream",
     "text": [
      "PUT http://localhost:9200/kamervragen/kamervraag/2943 [status:400 request:0.002s]\n",
      "PUT http://localhost:9200/kamervragen/kamervraag/2944 [status:400 request:0.011s]\n",
      "PUT http://localhost:9200/kamervragen/kamervraag/2946 [status:400 request:0.002s]\n"
     ]
    },
    {
     "name": "stdout",
     "output_type": "stream",
     "text": [
      "data_file2399.json\n",
      "data_file2122.json\n",
      "data_file2377.json\n",
      "data_file2323.json\n",
      "data_file1524.json\n",
      "data_file1683.json\n",
      "data_file830.json\n",
      "data_file1953.json\n",
      "failed\n",
      "data_file1080.json\n",
      "failed\n",
      "data_file2902.json\n",
      "data_file2995.json\n",
      "failed\n",
      "data_file1357.json\n"
     ]
    },
    {
     "name": "stderr",
     "output_type": "stream",
     "text": [
      "PUT http://localhost:9200/kamervragen/kamervraag/2949 [status:400 request:0.002s]\n",
      "PUT http://localhost:9200/kamervragen/kamervraag/2950 [status:400 request:0.015s]\n",
      "PUT http://localhost:9200/kamervragen/kamervraag/2951 [status:400 request:0.008s]\n"
     ]
    },
    {
     "name": "stdout",
     "output_type": "stream",
     "text": [
      "data_file679.json\n",
      "data_file2107.json\n",
      "failed\n",
      "data_file2773.json\n",
      "failed\n",
      "data_file1485.json\n",
      "failed\n",
      "data_file2298.json\n"
     ]
    },
    {
     "name": "stderr",
     "output_type": "stream",
     "text": [
      "PUT http://localhost:9200/kamervragen/kamervraag/2954 [status:400 request:0.004s]\n",
      "PUT http://localhost:9200/kamervragen/kamervraag/2957 [status:400 request:0.012s]\n",
      "PUT http://localhost:9200/kamervragen/kamervraag/2960 [status:400 request:0.011s]\n",
      "PUT http://localhost:9200/kamervragen/kamervraag/2961 [status:400 request:0.004s]\n"
     ]
    },
    {
     "name": "stdout",
     "output_type": "stream",
     "text": [
      "data_file954.json\n",
      "data_file308.json\n",
      "failed\n",
      "data_file1317.json\n",
      "data_file2162.json\n",
      "data_file853.json\n",
      "failed\n",
      "data_file2006.json\n",
      "data_file751.json\n",
      "data_file5.json\n",
      "failed\n",
      "data_file167.json\n",
      "failed\n",
      "data_file1492.json\n"
     ]
    },
    {
     "name": "stderr",
     "output_type": "stream",
     "text": [
      "PUT http://localhost:9200/kamervragen/kamervraag/2962 [status:400 request:0.006s]\n",
      "PUT http://localhost:9200/kamervragen/kamervraag/2963 [status:400 request:0.014s]\n",
      "PUT http://localhost:9200/kamervragen/kamervraag/2964 [status:400 request:0.011s]\n",
      "PUT http://localhost:9200/kamervragen/kamervraag/2965 [status:400 request:0.019s]\n",
      "PUT http://localhost:9200/kamervragen/kamervraag/2968 [status:400 request:0.029s]\n",
      "PUT http://localhost:9200/kamervragen/kamervraag/2969 [status:400 request:0.007s]\n"
     ]
    },
    {
     "name": "stdout",
     "output_type": "stream",
     "text": [
      "failed\n",
      "data_file572.json\n",
      "failed\n",
      "data_file1280.json\n",
      "failed\n",
      "data_file1275.json\n",
      "failed\n",
      "data_file1003.json\n",
      "data_file903.json\n",
      "data_file136.json\n",
      "failed\n",
      "data_file784.json\n",
      "failed\n",
      "data_file817.json\n",
      "data_file340.json\n",
      "data_file2745.json\n"
     ]
    },
    {
     "name": "stderr",
     "output_type": "stream",
     "text": [
      "PUT http://localhost:9200/kamervragen/kamervraag/2975 [status:400 request:0.002s]\n",
      "PUT http://localhost:9200/kamervragen/kamervraag/2979 [status:400 request:0.007s]\n",
      "PUT http://localhost:9200/kamervragen/kamervraag/2981 [status:400 request:0.019s]\n"
     ]
    },
    {
     "name": "stdout",
     "output_type": "stream",
     "text": [
      "data_file2714.json\n",
      "data_file2583.json\n",
      "data_file657.json\n",
      "failed\n",
      "data_file1464.json\n",
      "data_file2654.json\n",
      "data_file2039.json\n",
      "data_file973.json\n",
      "failed\n",
      "data_file2615.json\n",
      "data_file985.json\n",
      "failed\n",
      "data_file2900.json\n",
      "data_file1054.json\n"
     ]
    },
    {
     "name": "stderr",
     "output_type": "stream",
     "text": [
      "PUT http://localhost:9200/kamervragen/kamervraag/2983 [status:400 request:0.023s]\n",
      "PUT http://localhost:9200/kamervragen/kamervraag/2989 [status:400 request:0.001s]\n",
      "PUT http://localhost:9200/kamervragen/kamervraag/2990 [status:400 request:0.017s]\n"
     ]
    },
    {
     "name": "stdout",
     "output_type": "stream",
     "text": [
      "failed\n",
      "data_file164.json\n",
      "data_file2779.json\n",
      "data_file468.json\n",
      "data_file678.json\n",
      "data_file1068.json\n",
      "data_file2116.json\n",
      "failed\n",
      "data_file1193.json\n",
      "failed\n",
      "data_file419.json\n"
     ]
    },
    {
     "name": "stderr",
     "output_type": "stream",
     "text": [
      "PUT http://localhost:9200/kamervragen/kamervraag/2992 [status:400 request:0.012s]\n",
      "PUT http://localhost:9200/kamervragen/kamervraag/2993 [status:400 request:0.006s]\n",
      "PUT http://localhost:9200/kamervragen/kamervraag/2994 [status:400 request:0.006s]\n",
      "PUT http://localhost:9200/kamervragen/kamervraag/2997 [status:400 request:0.014s]\n"
     ]
    },
    {
     "name": "stdout",
     "output_type": "stream",
     "text": [
      "data_file1265.json\n",
      "failed\n",
      "data_file799.json\n",
      "failed\n",
      "data_file1471.json\n",
      "failed\n",
      "data_file1359.json\n",
      "data_file1349.json\n",
      "data_file1548.json\n",
      "failed\n",
      "data_file2079.json\n"
     ]
    },
    {
     "name": "stderr",
     "output_type": "stream",
     "text": [
      "PUT http://localhost:9200/kamervragen/kamervraag/2998 [status:400 request:0.067s]\n"
     ]
    },
    {
     "name": "stdout",
     "output_type": "stream",
     "text": [
      "failed\n",
      "data_file1490.json\n",
      "data_file1739.json\n"
     ]
    }
   ],
   "source": [
    "import json\n",
    "import os\n",
    "from collections import Counter,defaultdict\n",
    "from bs4 import BeautifulSoup\n",
    "import os\n",
    "import glob\n",
    "import nltk\n",
    "import math\n",
    "import sys\n",
    "from __future__ import division\n",
    "from pprint import pprint\n",
    "from elasticsearch import Elasticsearch\n",
    "counter = 0\n",
    "#This function loads in all the json files\n",
    "d = os.getcwd() \n",
    "\n",
    "#text = open(path.join(d, 'KVR/data')).read()\n",
    "files_dir = d + '/data'\n",
    "#files_dir = \"/home/student/Documents/Zoekmachines/elasticsearch-1.7.1/KVR/data\"\n",
    "for f in os.listdir(files_dir):\n",
    "    if f.endswith(\".json\"):\n",
    "        print(f)\n",
    "        cur_filename = os.path.join(files_dir, f)\n",
    "        file = open(cur_filename)\n",
    "        counter += 1\n",
    "        data = json.loads(file.read())\n",
    "        try:\n",
    "            es.index(index='kamervragen', doc_type='kamervraag', id=counter, body=data)\n",
    "        except:\n",
    "            print(\"failed\")\n",
    "            \n",
    "#es.index(index='megacorp', doc_type='employee', id=3, body=employee3)\n",
    "#es.index(index='kamervragen', doc_type='kamervraag', id=1, body=data)"
   ]
  },
  {
   "cell_type": "code",
   "execution_count": null,
   "metadata": {
    "collapsed": false
   },
   "outputs": [],
   "source": [
    "#Standard query search, searches for all words in the query and returns questions that contain either word\n",
    "def querysearch(query):\n",
    "    allResults = []\n",
    "    for vraagNummer in range(1, 8):\n",
    "        res = es.search(index='kamervragen', body={\"query\": {\"match\": {\"vraag \" + str(vraagNummer) : query}}})\n",
    "        counter = 1\n",
    "        if res['hits']['total'] > 0:\n",
    "            for hit in res['hits']['hits']:\n",
    "                allResults.append(hit)\n",
    "    print(\"Got \" + str(len(allResults)) + \" Hits:\")\n",
    "    print(\"Here are the first \" + str(min(10, len(allResults))))\n",
    "    for hit in allResults:\n",
    "        if(counter > 10):\n",
    "            break\n",
    "        print(\"Vraag \" + str(counter) + \": \" + hit[\"_source\"][\"vraag 1\"])\n",
    "        print(hit[\"_source\"][\"Permalink\"])\n",
    "        counter += 1\n",
    "    if len(allResults) == 0:\n",
    "        print(\"There are no results\")\n",
    "    return allResults\n"
   ]
  },
  {
   "cell_type": "code",
   "execution_count": null,
   "metadata": {
    "collapsed": false
   },
   "outputs": [],
   "source": [
    "#Execute the query search\n",
    "query = input()\n",
    "results = querysearch(query)\n"
   ]
  },
  {
   "cell_type": "code",
   "execution_count": null,
   "metadata": {
    "collapsed": false
   },
   "outputs": [],
   "source": [
    "#This function allows the user to search for questions which contain 2 words. Only 2 words can currently be asked\n",
    "def BoolSearch(query):\n",
    "    allResults = []\n",
    "    query1, query2 = query.split(\" \")\n",
    "    for vraagNummer in range(1, 8):\n",
    "        res = es.search(index='kamervragen', body = { \"query\": { \"bool\": { \"must\": [ { \"term\": { \"vraag \" + str(vraagNummer): query1 } }, { \"term\": { \"vraag 1\": query2 } } ] } } } )\n",
    "        counter = 1\n",
    "        if res['hits']['total'] > 0:\n",
    "            for hit in res['hits']['hits']:\n",
    "                allResults.append(hit)\n",
    "    print(\"Got \" + str(len(allResults)) + \" Hits:\")\n",
    "    print(\"Here are the first \" + str(min(10, len(allResults))))\n",
    "    for hit in allResults:\n",
    "        if(counter > 10):\n",
    "            break\n",
    "        print(\"Vraag \" + str(counter) + \": \" + hit[\"_source\"][\"vraag 1\"])\n",
    "        print(hit[\"_source\"][\"Permalink\"])\n",
    "        counter += 1\n",
    "    if len(allResults) == 0:\n",
    "        print(\"There are no results\")\n",
    "    return allResults"
   ]
  },
  {
   "cell_type": "code",
   "execution_count": null,
   "metadata": {
    "collapsed": false
   },
   "outputs": [],
   "source": [
    "#Returns results where both words need to be present in the result\n",
    "query = input(\"Boolean search here: \")\n",
    "BoolSearch(query)"
   ]
  },
  {
   "cell_type": "code",
   "execution_count": null,
   "metadata": {
    "collapsed": false
   },
   "outputs": [],
   "source": [
    "def makeTimeline(results):\n",
    "    time_line = {}\n",
    "    for hit in results:\n",
    "        date = hit[\"_source\"][\"Datum_indiening\"]\n",
    "        split_date = date.split(\"-\")\n",
    "        if split_date[0] in time_line:\n",
    "            time_line[split_date[0]] +=1\n",
    "        else:\n",
    "            time_line[split_date[0]] = 1\n",
    "\n",
    "    dates = []\n",
    "    frequencies = []\n",
    "    for date in time_line:\n",
    "        dates.append(int(date))\n",
    "        frequencies.append(int(time_line[date]))\n",
    "    plt.bar(dates, frequencies, 0.5)\n",
    "    plt.show()"
   ]
  },
  {
   "cell_type": "code",
   "execution_count": null,
   "metadata": {
    "collapsed": false
   },
   "outputs": [],
   "source": [
    "#Execute the query search\n",
    "query = input()\n",
    "results = querysearch(query)\n",
    "print(\"Here is a timeline of all results: \")\n",
    "makeTimeline(results)"
   ]
  },
  {
   "cell_type": "code",
   "execution_count": null,
   "metadata": {
    "collapsed": false
   },
   "outputs": [],
   "source": [
    "import os\n",
    "from os import path\n",
    "from wordcloud import WordCloud, STOPWORDS, ImageColorGenerator\n",
    "import matplotlib.pyplot as plt\n",
    "\n",
    "def makeWordweb(hit):\n",
    "    text = \"\"\n",
    "    for category in hit[\"_source\"]:\n",
    "        text += hit[\"_source\"][category]    \n",
    "    stopwords = set(STOPWORDS)\n",
    "    stopwords.update([\"de\", \"het\", \"een\", \"vraag\", \"betreft\", \"van\", \"antwoord\", \"en\", \"op\", \"door\", \"item\"])\n",
    "    wordcloud = WordCloud(width=480, height=480, background_color=\"white\", stopwords=stopwords).generate(text)\n",
    "    plt.imshow(wordcloud, interpolation='bilinear')\n",
    "    plt.axis(\"off\")\n",
    "    plt.margins(x=0, y=0)\n",
    "    plt.show()"
   ]
  },
  {
   "cell_type": "code",
   "execution_count": null,
   "metadata": {
    "collapsed": false
   },
   "outputs": [],
   "source": [
    "#Execute the query search\n",
    "query = input()\n",
    "results = querysearch(query)\n",
    "print(\"Here is a wordweb of each results: \")\n",
    "for hit in range(1, 10):\n",
    "    makeWordweb(results[hit])"
   ]
  },
  {
   "cell_type": "code",
   "execution_count": null,
   "metadata": {
    "collapsed": false
   },
   "outputs": [],
   "source": [
    "def advancedSearch(vraag, onderwerp, ministerie):\n",
    "    res = es.search(index='kamervragen', body = { \"query\": { \"bool\": { \"must\": [ { \"term\": { \"vraag 1\": vraag } }, { \"term\": { \"Bibliografische_omschrijving\": onderwerp } }, { \"term\": { \"Indiener\": ministerie } } ] } } } )\n",
    "    counter = 1\n",
    "    print(vraag, onderwerp, ministerie)\n",
    "    print(\"Got %d Hits:\" % res['hits']['total'])\n",
    "    print(\"Here are the first \" + str(min(10, res['hits']['total'])))\n",
    "    for hit in res['hits']['hits']:\n",
    "        #print(json.dumps(hit, indent=4, sort_keys=True))\n",
    "        print(\"Vraag \" + str(counter) + \": \" + hit[\"_source\"][\"vraag 1\"])\n",
    "        print(hit[\"_source\"][\"Permalink\"])\n",
    "        counter += 1\n",
    "        "
   ]
  },
  {
   "cell_type": "code",
   "execution_count": null,
   "metadata": {
    "collapsed": false
   },
   "outputs": [],
   "source": [
    "# Example from https://www.elastic.co/guide/en/elasticsearch/guide/current/_search_lite.html\n",
    "# GET /megacorp/employee/_search?q=last_name:Smith\n",
    "# View the query in sense to see the specific JSON way of writing it\n",
    "\n",
    "q= {\n",
    "  \"query\": {\n",
    "    \"match\": {\n",
    "      \"last_name\": \"smith\"\n",
    "    }\n",
    "  }\n",
    "}\n",
    "res = es.search(index=\"megacorp\", body=q)\n",
    "res"
   ]
  },
  {
   "cell_type": "code",
   "execution_count": null,
   "metadata": {
    "collapsed": false
   },
   "outputs": [],
   "source": [
    "# res is a dict\n",
    "res['hits']['hits']"
   ]
  },
  {
   "cell_type": "code",
   "execution_count": null,
   "metadata": {
    "collapsed": false
   },
   "outputs": [],
   "source": [
    "# score of first hit \n",
    "res['hits']['hits'][0]['_score']"
   ]
  },
  {
   "cell_type": "markdown",
   "metadata": {},
   "source": [
    "# Bulk indexing\n",
    "\n",
    "If you index a lot of documents you need to use the bulk index methods.\n",
    "\n",
    "See \n",
    "* <https://www.elastic.co/guide/en/elasticsearch/guide/current/bulk.html> for the explanation in the guide\n",
    "* <http://unroutable.blogspot.nl/2015/03/quick-example-elasticsearch-bulk-index.html> for the Python way"
   ]
  },
  {
   "cell_type": "code",
   "execution_count": null,
   "metadata": {
    "collapsed": false
   },
   "outputs": [],
   "source": [
    ">>> import itertools\n",
    ">>> import string\n",
    ">>> from elasticsearch import  helpers\n",
    " \n",
    ">>> # k is a generator expression that produces\n",
    "... # a series of dictionaries containing test data.\n",
    "... # The test data are just letter permutations\n",
    "... # created with itertools.permutations.\n",
    "... #\n",
    "... # We then reference k as the iterator that's\n",
    "... # consumed by the elasticsearch.helpers.bulk method.\n",
    ">>> k = ({'_type':'foo', '_index':'test2','letters':''.join(letters)}\n",
    "...      for letters in itertools.permutations(string.letters,2))\n",
    "\n",
    ">>> # calling k.next() shows examples\n",
    "... # (while consuming the generator, of course)\n",
    ">>> # each dict contains a doc type, index, and data (at minimum)\n",
    ">>> k.next()"
   ]
  },
  {
   "cell_type": "code",
   "execution_count": null,
   "metadata": {
    "collapsed": false
   },
   "outputs": [],
   "source": [
    "# What is this k generator?\n",
    "\n",
    "letters=  [letters for letters in itertools.permutations(string.letters,4)]\n",
    "\n",
    "len(letters),letters[:5]"
   ]
  },
  {
   "cell_type": "code",
   "execution_count": null,
   "metadata": {
    "collapsed": false
   },
   "outputs": [],
   "source": [
    "k.next()"
   ]
  },
  {
   "cell_type": "code",
   "execution_count": null,
   "metadata": {
    "collapsed": false
   },
   "outputs": [],
   "source": [
    ">>> # create our test index\n",
    ">>> es.indices.create('test2')"
   ]
  },
  {
   "cell_type": "code",
   "execution_count": null,
   "metadata": {
    "collapsed": false
   },
   "outputs": [],
   "source": [
    "\n",
    ">>> helpers.bulk(es,k)"
   ]
  },
  {
   "cell_type": "code",
   "execution_count": null,
   "metadata": {
    "collapsed": false
   },
   "outputs": [],
   "source": [
    ">>> # check to make sure we got what we expected...\n",
    ">>> es.count(index='test')"
   ]
  },
  {
   "cell_type": "markdown",
   "metadata": {},
   "source": [
    "# Your turn\n",
    "* Make quite a bit more documents by changing the 2 in the definition of k to 3, or 4...\n",
    "* index them again and query, and notice performance\n",
    "* find out how you can delete an index ;-)"
   ]
  },
  {
   "cell_type": "code",
   "execution_count": null,
   "metadata": {
    "collapsed": true
   },
   "outputs": [],
   "source": []
  },
  {
   "cell_type": "code",
   "execution_count": null,
   "metadata": {
    "collapsed": true
   },
   "outputs": [],
   "source": []
  }
 ],
 "metadata": {
  "kernelspec": {
   "display_name": "Python 3",
   "language": "python",
   "name": "python3"
  },
  "language_info": {
   "codemirror_mode": {
    "name": "ipython",
    "version": 3
   },
   "file_extension": ".py",
   "mimetype": "text/x-python",
   "name": "python",
   "nbconvert_exporter": "python",
   "pygments_lexer": "ipython3",
   "version": "3.6.0"
  }
 },
 "nbformat": 4,
 "nbformat_minor": 0
}
