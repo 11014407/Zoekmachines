{
 "cells": [
  {
   "cell_type": "code",
   "execution_count": 4,
   "metadata": {
    "collapsed": true
   },
   "outputs": [],
   "source": [
    "import json\n",
    "import numpy\n",
    "import pandas as pd\n",
    "from bs4 import BeautifulSoup\n",
    "import os\n",
    "import re"
   ]
  },
  {
   "cell_type": "code",
   "execution_count": null,
   "metadata": {},
   "outputs": [],
   "source": [
    "def create_json():\n",
    "    counter = 1\n",
    "    for file in os.listdir():\n",
    "        filename = os.fsdecode(file)\n",
    "        if filename.endswith(\".xml\"):\n",
    "            file = open(filename, 'r')\n",
    "            try:\n",
    "                soup = BeautifulSoup(file, 'lxml')\n",
    "                info = soup.findAll('item')\n",
    "                vraagen = soup.findAll('vraag')\n",
    "                antwoorden = soup.findAll('antwoord')\n",
    "                antwoorden = str(antwoorden)\n",
    "                antwoorden = re.sub('<[^>]+>', '', antwoorden)\n",
    "                data_list = []\n",
    "                for item in info:\n",
    "                    for word in item:\n",
    "                        data_list.append(word)\n",
    "                data_list.remove('\\n')\n",
    "                data = {}\n",
    "                data ={\n",
    "                    \"Bibliografische_omschrijving\" : str(data_list[0]),\n",
    "                    \"Bestand\":str(data_list[1]),\n",
    "                    \"Permalink\":str(data_list[2]),\n",
    "                    \"Inhoud\":str(data_list[3]),\n",
    "                    \"Rubriek\":str(data_list[4]),\n",
    "                    \"Trefwoorden\": str(data_list[5]),\n",
    "                    \"Vindplaats\" : str(data_list[6]),\n",
    "                    \"Afkomstig van\":str(data_list[7]),\n",
    "                    \"Indiener\":str(data_list[8]),\n",
    "                    \"Partij vertegenwoordiger\":str(data_list[9]),\n",
    "                    \"Datum_reaktie\":str(data_list[10]),\n",
    "                    \"Datum_indiening\": str(data_list[11])\n",
    "                }\n",
    "                vraag_lijst = []\n",
    "                for tag in vraagen:\n",
    "                    for vraag in tag:\n",
    "                        vraag_lijst.append(vraag)\n",
    "                for i in range(len(vraag_lijst)):\n",
    "                    data['vraag '+str(i+1)] = vraag_lijst[i]\n",
    "                antwoord_lijst = []\n",
    "                antwoorden = antwoorden.split('. , ')\n",
    "                for antwoord in antwoorden:\n",
    "                    antwoord_lijst.append(antwoord)\n",
    "                for j in range(len(antwoord_lijst)):\n",
    "                    data['antwoord '+str(j+1)] = antwoord_lijst[j]\n",
    "                with open(\"data_file\"+str(counter)+\".json\", \"w\") as write_file:\n",
    "                    json.dump(data, write_file)\n",
    "                counter = counter + 1\n",
    "                file.close()\n",
    "            except:\n",
    "                \"This file is faulty\""
   ]
  },
  {
   "cell_type": "code",
   "execution_count": null,
   "metadata": {
    "collapsed": true
   },
   "outputs": [],
   "source": []
  }
 ],
 "metadata": {
  "kernelspec": {
   "display_name": "Python 3",
   "language": "python",
   "name": "python3"
  },
  "language_info": {
   "codemirror_mode": {
    "name": "ipython",
    "version": 3
   },
   "file_extension": ".py",
   "mimetype": "text/x-python",
   "name": "python",
   "nbconvert_exporter": "python",
   "pygments_lexer": "ipython3",
   "version": "3.6.1"
  }
 },
 "nbformat": 4,
 "nbformat_minor": 2
}
